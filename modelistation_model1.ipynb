{
 "cells": [
  {
   "cell_type": "markdown",
   "metadata": {},
   "source": [
    "A réaliser : \n",
    "- Une analyse descriptive des données, y compris une explication du sens des colonnes gardées, des arguments derrière la suppression de lignes ou de colonnes, des statistiques descriptives et des visualisations pertinentes."
   ]
  },
  {
   "cell_type": "markdown",
   "metadata": {},
   "source": [
    "## Import des modules"
   ]
  },
  {
   "cell_type": "code",
   "execution_count": 324,
   "metadata": {},
   "outputs": [],
   "source": [
    "import pandas as pd\n",
    "import numpy as np\n",
    "import matplotlib.pyplot as plt\n",
    "import seaborn as sns \n",
    "import warnings\n",
    "warnings.filterwarnings(\"ignore\", category=UserWarning)"
   ]
  },
  {
   "cell_type": "code",
   "execution_count": 343,
   "metadata": {},
   "outputs": [
    {
     "data": {
      "application/vnd.microsoft.datawrangler.viewer.v0+json": {
       "columns": [
        {
         "name": "index",
         "rawType": "int64",
         "type": "integer"
        },
        {
         "name": "3LargestGFA",
         "rawType": "float64",
         "type": "float"
        },
        {
         "name": "ListOfAllPropertyUseTypes",
         "rawType": "object",
         "type": "string"
        },
        {
         "name": "FirstUseType",
         "rawType": "object",
         "type": "string"
        },
        {
         "name": "SecondLargestPropertyUseType",
         "rawType": "object",
         "type": "unknown"
        },
        {
         "name": "YearBuilt",
         "rawType": "int64",
         "type": "integer"
        },
        {
         "name": "NumberofFloors",
         "rawType": "int64",
         "type": "integer"
        },
        {
         "name": "NumberofBuildings",
         "rawType": "float64",
         "type": "float"
        },
        {
         "name": "Latitude",
         "rawType": "float64",
         "type": "float"
        },
        {
         "name": "Longitude",
         "rawType": "float64",
         "type": "float"
        },
        {
         "name": "Neighborhood",
         "rawType": "object",
         "type": "string"
        },
        {
         "name": "SiteEnergyUse(kBtu)",
         "rawType": "float64",
         "type": "float"
        },
        {
         "name": "Electricity(kBtu)",
         "rawType": "float64",
         "type": "float"
        },
        {
         "name": "NaturalGas(kBtu)",
         "rawType": "float64",
         "type": "float"
        },
        {
         "name": "SteamUse(kBtu)",
         "rawType": "float64",
         "type": "float"
        },
        {
         "name": "SiteEUI(kBtu/sf)",
         "rawType": "float64",
         "type": "float"
        }
       ],
       "ref": "9b85dab2-2800-4d5b-a479-6db055f1ce5e",
       "rows": [
        [
         "0",
         "88434.0",
         "Hotel",
         "Hotel",
         null,
         "1927",
         "12",
         "1.0",
         "47.6122",
         "-122.33799",
         "DOWNTOWN",
         "7226362.5",
         "3946027.0",
         "1276453.0",
         "2003882.0",
         "81.69999695"
        ],
        [
         "1",
         "103566.0",
         "Hotel, Parking, Restaurant",
         "Hotel",
         "Parking",
         "1996",
         "11",
         "1.0",
         "47.61317",
         "-122.33393",
         "DOWNTOWN",
         "8387933.0",
         "3242851.0",
         "5145082.0",
         "0.0",
         "94.80000305"
        ],
        [
         "2",
         "756493.0",
         "Hotel",
         "Hotel",
         null,
         "1969",
         "41",
         "1.0",
         "47.61393",
         "-122.3381",
         "DOWNTOWN",
         "72587024.0",
         "49526664.0",
         "1493800.0",
         "21566554.0",
         "96.0"
        ],
        [
         "3",
         "61320.0",
         "Hotel",
         "Hotel",
         null,
         "1926",
         "10",
         "1.0",
         "47.61412",
         "-122.33664",
         "DOWNTOWN",
         "6794584.0",
         "2768924.0",
         "1811213.0",
         "2214446.25",
         "110.8000031"
        ],
        [
         "4",
         "191454.0",
         "Hotel, Parking, Swimming Pool",
         "Hotel",
         "Parking",
         "1980",
         "18",
         "1.0",
         "47.61375",
         "-122.34047",
         "DOWNTOWN",
         "14172606.0",
         "5368607.0",
         "8803998.0",
         "0.0",
         "114.8000031"
        ],
        [
         "5",
         "88830.0",
         "Police Station",
         "Police Station",
         null,
         "1999",
         "2",
         "1.0",
         "47.61623",
         "-122.33657",
         "DOWNTOWN",
         "12086616.0",
         "7371434.0",
         "4715182.0",
         "0.0",
         "136.1000061"
        ],
        [
         "6",
         "81352.0",
         "Hotel",
         "Hotel",
         null,
         "1926",
         "11",
         "1.0",
         "47.6139",
         "-122.33283",
         "DOWNTOWN",
         "5758795.0",
         "2811215.0",
         "2947580.0",
         "0.0",
         "70.80000305"
        ],
        [
         "7",
         "102761.0",
         "Other - Entertainment/Public Assembly",
         "Other",
         null,
         "1926",
         "8",
         "1.0",
         "47.61327",
         "-122.33136",
         "DOWNTOWN",
         "6298131.5",
         "3636655.0",
         "385189.0",
         "2276286.5",
         "61.29999924"
        ],
        [
         "8",
         "163984.0",
         "Hotel",
         "Hotel",
         null,
         "1904",
         "15",
         "1.0",
         "47.60294",
         "-122.33263",
         "DOWNTOWN",
         "13723820.0",
         "7297919.0",
         "6425900.0",
         "0.0",
         "83.69999695"
        ],
        [
         "10",
         "133884.0",
         "Hotel",
         "Hotel",
         null,
         "1969",
         "11",
         "1.0",
         "47.60695",
         "-122.33414",
         "DOWNTOWN",
         "16016644.0",
         "6187627.0",
         "4591850.0",
         "5237165.5",
         "119.5999985"
        ],
        [
         "11",
         "336640.0",
         "Hotel",
         "Hotel",
         null,
         "1998",
         "25",
         "1.0",
         "47.60713",
         "-122.33323",
         "DOWNTOWN",
         "26941110.0",
         "18083049.0",
         "2858700.0",
         "5999360.5",
         "80.0"
        ],
        [
         "12",
         "65009.0",
         "Hotel",
         "Hotel",
         null,
         "1928",
         "9",
         "1.0",
         "47.60699",
         "-122.33346",
         "DOWNTOWN",
         "6596057.5",
         "1343000.0",
         "3596705.0",
         "1656352.5",
         "101.5"
        ],
        [
         "13",
         "353111.0",
         "Hotel, Parking",
         "Hotel",
         "Parking",
         "1980",
         "33",
         "1.0",
         "47.60809",
         "-122.33212",
         "DOWNTOWN",
         "22325364.0",
         "13904183.0",
         "4083440.0",
         "4337738.5",
         "75.5"
        ],
        [
         "14",
         "92590.0",
         "Hotel, Parking",
         "Hotel",
         "Parking",
         "1922",
         "11",
         "1.0",
         "47.60755",
         "-122.33244",
         "DOWNTOWN",
         "10750010.0",
         "3832369.0",
         "2046793.0",
         "4870847.5",
         "159.5"
        ],
        [
         "15",
         "414987.0",
         "Data Center, Library, Parking",
         "Library",
         "Parking",
         "2004",
         "11",
         "1.0",
         "47.60649",
         "-122.33297",
         "DOWNTOWN",
         "18588860.0",
         "17851297.0",
         "0.0",
         "737559.5",
         "50.79999924"
        ],
        [
         "16",
         "130000.0",
         "Fitness Center/Health Club/Gym, Office, Swimming Pool",
         "Fitness Center/Health Club/Gym",
         "Office",
         "1930",
         "6",
         "1.0",
         "47.60546",
         "-122.33279",
         "DOWNTOWN",
         "9956396.0",
         "4453868.0",
         "910180.0",
         "4592347.5",
         "76.59999847"
        ],
        [
         "17",
         "433329.0",
         "Hotel, Parking",
         "Hotel",
         "Parking",
         "1983",
         "28",
         "1.0",
         "47.60681",
         "-122.33078",
         "DOWNTOWN",
         "33556756.0",
         "21225277.0",
         "12331475.0",
         "0.0",
         "96.30000305"
        ],
        [
         "18",
         "41688.0",
         "Office, Other, Other - Lodging/Residential, Restaurant, Social/Meeting Hall",
         "Mixed Use Property",
         "Restaurant",
         "1907",
         "5",
         "1.0",
         "47.60515",
         "-122.33159",
         "DOWNTOWN",
         "7606084.5",
         "3764791.0",
         "2065091.0",
         "1776201.875",
         "132.3999939"
        ],
        [
         "19",
         "104352.0",
         "Hotel",
         "Hotel",
         null,
         "1916",
         "10",
         "1.0",
         "47.60376",
         "-122.33194",
         "DOWNTOWN",
         "10154608.0",
         "5908370.0",
         "815376.0",
         "3430862.0",
         "97.30000305"
        ],
        [
         "20",
         "537150.0",
         "Courthouse",
         "Courthouse",
         null,
         "1916",
         "10",
         "1.0",
         "47.60265",
         "-122.33051",
         "DOWNTOWN",
         "44984468.0",
         "24357833.0",
         "20626631.0",
         "0.0",
         "83.69999695"
        ],
        [
         "21",
         "385274.0",
         "Other",
         "Other",
         null,
         "1985",
         "19",
         "1.0",
         "47.60378",
         "-122.32842",
         "DOWNTOWN",
         "47859812.0",
         "18257661.0",
         "29602150.0",
         "0.0",
         "124.1999969"
        ],
        [
         "22",
         "58916.0",
         "K-12 School",
         "K-12 School",
         null,
         "1961",
         "2",
         "1.0",
         "47.54576",
         "-122.26853",
         "SOUTHEAST",
         "1539478.5",
         "936955.0",
         "602523.0",
         "0.0",
         "26.10000038"
        ],
        [
         "23",
         "88592.0",
         "Hotel, Parking",
         "Hotel",
         "Parking",
         "2001",
         "6",
         "1.0",
         "47.65959",
         "-122.31755",
         "NORTHEAST",
         "3663534.5",
         "2266231.0",
         "1397303.0",
         "0.0",
         "63.20000076"
        ],
        [
         "24",
         "125000.0",
         "College/University",
         "University",
         null,
         "1928",
         "7",
         "1.0",
         "47.61816",
         "-122.33629",
         "DOWNTOWN",
         "11343686.0",
         "4647474.0",
         "6696211.0",
         "0.0",
         "90.69999695"
        ],
        [
         "25",
         "67224.0",
         "Automobile Dealership",
         "Automobile Dealership",
         null,
         "1930",
         "2",
         "1.0",
         "47.615",
         "-122.33081",
         "DOWNTOWN",
         "1310236.625",
         "1310236.0",
         "0.0",
         "0.0",
         "19.5"
        ],
        [
         "26",
         "159176.0",
         "Hotel, Parking, Retail Store, Swimming Pool",
         "Hotel",
         "Parking",
         "1991",
         "8",
         "1.0",
         "47.61301",
         "-122.32929",
         "EAST",
         "5328051.5",
         "572307.0",
         "4755745.0",
         "0.0",
         "45.5"
        ],
        [
         "27",
         "128909.0",
         "Hotel",
         "Hotel",
         null,
         "2001",
         "10",
         "1.0",
         "47.61784",
         "-122.32966",
         "DOWNTOWN",
         "11061916.0",
         "5610706.0",
         "5451210.0",
         "0.0",
         "85.80000305"
        ],
        [
         "29",
         "47994.0",
         "Hotel",
         "Hotel",
         null,
         "1978",
         "5",
         "1.0",
         "47.61558",
         "-122.34186",
         "DOWNTOWN",
         "4456714.5",
         "2346349.0",
         "2110365.0",
         "0.0",
         "92.90000153"
        ],
        [
         "30",
         "164229.0",
         "K-12 School",
         "K-12 School",
         null,
         "1949",
         "2",
         "1.0",
         "47.70994",
         "-122.29301",
         "NORTH",
         "6779173.0",
         "1947601.0",
         "4831572.0",
         "0.0",
         "41.29999924"
        ],
        [
         "31",
         "55166.0",
         "K-12 School",
         "K-12 School",
         null,
         "1989",
         "2",
         "1.0",
         "47.6329",
         "-122.35172",
         "MAGNOLIA / QUEEN ANNE",
         "1496816.0",
         "1496816.0",
         "0.0",
         "0.0",
         "0.0"
        ],
        [
         "32",
         "63403.0",
         "K-12 School, Multifamily Housing, Office, Other - Entertainment/Public Assembly",
         "Small- and Mid-Sized Office",
         "K-12 School",
         "1906",
         "3",
         "1.0",
         "47.6641",
         "-122.33118",
         "LAKE UNION",
         "4145920.5",
         "1352843.0",
         "2793077.0",
         "0.0",
         "61.5"
        ],
        [
         "33",
         "81871.0",
         "Hotel",
         "Hotel",
         null,
         "1994",
         "4",
         "1.0",
         "47.66583",
         "-122.29965",
         "NORTHEAST",
         "6668568.5",
         "3016399.0",
         "3652169.0",
         "0.0",
         "81.5"
        ],
        [
         "34",
         "26225.0",
         "Self-Storage Facility",
         "Self-Storage Facility",
         null,
         "1955",
         "2",
         "1.0",
         "47.66172",
         "-122.29598",
         "NORTHEAST",
         "318364.8125",
         "281265.0",
         "37100.0",
         "0.0",
         "12.10000038"
        ],
        [
         "35",
         "1856706.0",
         "Energy/Power Station, Laboratory, Manufacturing/Industrial Plant, Non-Refrigerated Warehouse, Office",
         "Mixed Use Property",
         "Laboratory",
         "1992",
         "3",
         "1.0",
         "47.53493",
         "-122.31788",
         "GREATER DUWAMISH",
         "448385312.0",
         "150476283.0",
         "297909000.0",
         "0.0",
         "221.6999969"
        ],
        [
         "36",
         "963000.0",
         "Non-Refrigerated Warehouse, Office, Refrigerated Warehouse",
         "Warehouse",
         "Refrigerated Warehouse",
         "1961",
         "2",
         "3.0",
         "47.51138",
         "-122.28875",
         "GREATER DUWAMISH",
         "44731160.0",
         "44731153.0",
         "0.0",
         "0.0",
         "46.40000153"
        ],
        [
         "37",
         "54986.0",
         "K-12 School",
         "K-12 School",
         null,
         "1990",
         "2",
         "1.0",
         "47.65671",
         "-122.39047",
         "MAGNOLIA / QUEEN ANNE",
         "1650279.25",
         "1217589.0",
         "432690.0",
         "0.0",
         "30.0"
        ],
        [
         "38",
         "182861.0",
         "K-12 School",
         "K-12 School",
         null,
         "1950",
         "2",
         "1.0",
         "47.68252",
         "-122.29498",
         "NORTHEAST",
         "6399127.5",
         "1599684.0",
         "4799443.0",
         "0.0",
         "35.0"
        ],
        [
         "39",
         "94900.0",
         "Non-Refrigerated Warehouse, Office",
         "Small- and Mid-Sized Office",
         "Non-Refrigerated Warehouse",
         "1961",
         "2",
         "1.0",
         "47.66587",
         "-122.38476",
         "BALLARD",
         "6186461.5",
         "4291585.0",
         "1894876.0",
         "0.0",
         "65.19999695"
        ],
        [
         "40",
         "58878.0",
         "Office, Other - Education",
         "Small- and Mid-Sized Office",
         "Other - Education",
         "1900",
         "2",
         "1.0",
         "47.58034",
         "-122.31132",
         "GREATER DUWAMISH",
         "2951331.25",
         "1579749.0",
         "1371582.0",
         "0.0",
         "50.09999847"
        ],
        [
         "41",
         "175015.0",
         "K-12 School",
         "K-12 School",
         null,
         "1954",
         "3",
         "1.0",
         "47.68891",
         "-122.33553",
         "NORTHWEST",
         "6994740.5",
         "2679739.0",
         "4315001.0",
         "0.0",
         "40.0"
        ],
        [
         "42",
         "70495.0",
         "Office, Self-Storage Facility, Vocational School",
         "Self-Storage Facility",
         "Vocational School",
         "1911",
         "3",
         "1.0",
         "47.61351",
         "-122.35129",
         "DOWNTOWN",
         "2158629.0",
         "1500229.0",
         "658400.0",
         "0.0",
         "30.60000038"
        ],
        [
         "43",
         "348630.0",
         "Hotel",
         "Hotel",
         null,
         "1969",
         "24",
         "1.0",
         "47.60946",
         "-122.33337",
         "DOWNTOWN",
         "16163194.0",
         "12204406.0",
         "3958787.0",
         "0.0",
         "46.40000153"
        ],
        [
         "44",
         "169531.0",
         "Data Center, Office, Retail Store",
         "Large Office",
         "Retail Store",
         "1973",
         "5",
         "1.0",
         "47.6113",
         "-122.33659",
         "DOWNTOWN",
         "9536161.0",
         "9536160.0",
         "0.0",
         "0.0",
         "56.29999924"
        ],
        [
         "45",
         "57428.0",
         "Other - Mall, Personal Services (Health/Beauty, Dry Cleaning, etc)",
         "Other",
         "Personal Services (Health/Beauty, Dry Cleaning, etc)",
         "1920",
         "2",
         "1.0",
         "47.61076",
         "-122.33765",
         "DOWNTOWN",
         "1247362.0",
         "714939.0",
         "532423.0",
         "0.0",
         "21.70000076"
        ],
        [
         "46",
         "39940.0",
         "Office, Retail Store",
         "Small- and Mid-Sized Office",
         "Retail Store",
         "1910",
         "8",
         "1.0",
         "47.61048",
         "-122.33794",
         "DOWNTOWN",
         "5071974.0",
         "5071973.0",
         "0.0",
         "0.0",
         "85.40000153"
        ],
        [
         "47",
         "52459.0",
         "Office, Other - Entertainment/Public Assembly, Restaurant",
         "Mixed Use Property",
         "Restaurant",
         "1926",
         "2",
         "1.0",
         "47.60886",
         "-122.33744",
         "DOWNTOWN",
         "15026196.0",
         "4632459.0",
         "10393737.0",
         "0.0",
         "286.3999939"
        ],
        [
         "48",
         "98634.0",
         "Hotel, Parking, Restaurant",
         "Hotel",
         "Parking",
         "1930",
         "20",
         "1.0",
         "47.61233",
         "-122.33432",
         "DOWNTOWN",
         "4841347.5",
         "4290059.0",
         "551288.0",
         "0.0",
         "54.59999847"
        ],
        [
         "49",
         "1111880.0",
         "Hotel, Parking, Swimming Pool",
         "Hotel",
         "Parking",
         "1982",
         "34",
         "1.0",
         "47.61087",
         "-122.33339",
         "DOWNTOWN",
         "80469216.0",
         "45545529.0",
         "23324992.0",
         "11598686.0",
         "80.90000153"
        ],
        [
         "50",
         "64674.0",
         "Hotel, Parking, Restaurant, Retail Store",
         "Hotel",
         "Parking",
         "1985",
         "7",
         "1.0",
         "47.60997",
         "-122.34138",
         "DOWNTOWN",
         "5348309.0",
         "3243900.0",
         "2104408.0",
         "0.0",
         "93.09999847"
        ],
        [
         "51",
         "122810.0",
         "Hotel, Other - Entertainment/Public Assembly, Retail Store",
         "Hotel",
         "Other - Entertainment/Public Assembly",
         "1908",
         "7",
         "1.0",
         "47.61155",
         "-122.34114",
         "DOWNTOWN",
         "5401277.5",
         "1293561.0",
         "4107716.0",
         "0.0",
         "44.0"
        ]
       ],
       "shape": {
        "columns": 15,
        "rows": 1641
       }
      },
      "text/html": [
       "<div>\n",
       "<style scoped>\n",
       "    .dataframe tbody tr th:only-of-type {\n",
       "        vertical-align: middle;\n",
       "    }\n",
       "\n",
       "    .dataframe tbody tr th {\n",
       "        vertical-align: top;\n",
       "    }\n",
       "\n",
       "    .dataframe thead th {\n",
       "        text-align: right;\n",
       "    }\n",
       "</style>\n",
       "<table border=\"1\" class=\"dataframe\">\n",
       "  <thead>\n",
       "    <tr style=\"text-align: right;\">\n",
       "      <th></th>\n",
       "      <th>3LargestGFA</th>\n",
       "      <th>ListOfAllPropertyUseTypes</th>\n",
       "      <th>FirstUseType</th>\n",
       "      <th>SecondLargestPropertyUseType</th>\n",
       "      <th>YearBuilt</th>\n",
       "      <th>NumberofFloors</th>\n",
       "      <th>NumberofBuildings</th>\n",
       "      <th>Latitude</th>\n",
       "      <th>Longitude</th>\n",
       "      <th>Neighborhood</th>\n",
       "      <th>SiteEnergyUse(kBtu)</th>\n",
       "      <th>Electricity(kBtu)</th>\n",
       "      <th>NaturalGas(kBtu)</th>\n",
       "      <th>SteamUse(kBtu)</th>\n",
       "      <th>SiteEUI(kBtu/sf)</th>\n",
       "    </tr>\n",
       "  </thead>\n",
       "  <tbody>\n",
       "    <tr>\n",
       "      <th>0</th>\n",
       "      <td>88434.0</td>\n",
       "      <td>Hotel</td>\n",
       "      <td>Hotel</td>\n",
       "      <td>NaN</td>\n",
       "      <td>1927</td>\n",
       "      <td>12</td>\n",
       "      <td>1.0</td>\n",
       "      <td>47.61220</td>\n",
       "      <td>-122.33799</td>\n",
       "      <td>DOWNTOWN</td>\n",
       "      <td>7.226362e+06</td>\n",
       "      <td>3.946027e+06</td>\n",
       "      <td>1.276453e+06</td>\n",
       "      <td>2003882.00</td>\n",
       "      <td>81.699997</td>\n",
       "    </tr>\n",
       "    <tr>\n",
       "      <th>1</th>\n",
       "      <td>103566.0</td>\n",
       "      <td>Hotel, Parking, Restaurant</td>\n",
       "      <td>Hotel</td>\n",
       "      <td>Parking</td>\n",
       "      <td>1996</td>\n",
       "      <td>11</td>\n",
       "      <td>1.0</td>\n",
       "      <td>47.61317</td>\n",
       "      <td>-122.33393</td>\n",
       "      <td>DOWNTOWN</td>\n",
       "      <td>8.387933e+06</td>\n",
       "      <td>3.242851e+06</td>\n",
       "      <td>5.145082e+06</td>\n",
       "      <td>0.00</td>\n",
       "      <td>94.800003</td>\n",
       "    </tr>\n",
       "    <tr>\n",
       "      <th>2</th>\n",
       "      <td>756493.0</td>\n",
       "      <td>Hotel</td>\n",
       "      <td>Hotel</td>\n",
       "      <td>NaN</td>\n",
       "      <td>1969</td>\n",
       "      <td>41</td>\n",
       "      <td>1.0</td>\n",
       "      <td>47.61393</td>\n",
       "      <td>-122.33810</td>\n",
       "      <td>DOWNTOWN</td>\n",
       "      <td>7.258702e+07</td>\n",
       "      <td>4.952666e+07</td>\n",
       "      <td>1.493800e+06</td>\n",
       "      <td>21566554.00</td>\n",
       "      <td>96.000000</td>\n",
       "    </tr>\n",
       "    <tr>\n",
       "      <th>3</th>\n",
       "      <td>61320.0</td>\n",
       "      <td>Hotel</td>\n",
       "      <td>Hotel</td>\n",
       "      <td>NaN</td>\n",
       "      <td>1926</td>\n",
       "      <td>10</td>\n",
       "      <td>1.0</td>\n",
       "      <td>47.61412</td>\n",
       "      <td>-122.33664</td>\n",
       "      <td>DOWNTOWN</td>\n",
       "      <td>6.794584e+06</td>\n",
       "      <td>2.768924e+06</td>\n",
       "      <td>1.811213e+06</td>\n",
       "      <td>2214446.25</td>\n",
       "      <td>110.800003</td>\n",
       "    </tr>\n",
       "    <tr>\n",
       "      <th>4</th>\n",
       "      <td>191454.0</td>\n",
       "      <td>Hotel, Parking, Swimming Pool</td>\n",
       "      <td>Hotel</td>\n",
       "      <td>Parking</td>\n",
       "      <td>1980</td>\n",
       "      <td>18</td>\n",
       "      <td>1.0</td>\n",
       "      <td>47.61375</td>\n",
       "      <td>-122.34047</td>\n",
       "      <td>DOWNTOWN</td>\n",
       "      <td>1.417261e+07</td>\n",
       "      <td>5.368607e+06</td>\n",
       "      <td>8.803998e+06</td>\n",
       "      <td>0.00</td>\n",
       "      <td>114.800003</td>\n",
       "    </tr>\n",
       "    <tr>\n",
       "      <th>...</th>\n",
       "      <td>...</td>\n",
       "      <td>...</td>\n",
       "      <td>...</td>\n",
       "      <td>...</td>\n",
       "      <td>...</td>\n",
       "      <td>...</td>\n",
       "      <td>...</td>\n",
       "      <td>...</td>\n",
       "      <td>...</td>\n",
       "      <td>...</td>\n",
       "      <td>...</td>\n",
       "      <td>...</td>\n",
       "      <td>...</td>\n",
       "      <td>...</td>\n",
       "      <td>...</td>\n",
       "    </tr>\n",
       "    <tr>\n",
       "      <th>3371</th>\n",
       "      <td>12294.0</td>\n",
       "      <td>Office</td>\n",
       "      <td>Office</td>\n",
       "      <td>NaN</td>\n",
       "      <td>1990</td>\n",
       "      <td>1</td>\n",
       "      <td>1.0</td>\n",
       "      <td>47.56722</td>\n",
       "      <td>-122.31154</td>\n",
       "      <td>GREATER DUWAMISH</td>\n",
       "      <td>8.497457e+05</td>\n",
       "      <td>5.242709e+05</td>\n",
       "      <td>3.254750e+05</td>\n",
       "      <td>0.00</td>\n",
       "      <td>69.099998</td>\n",
       "    </tr>\n",
       "    <tr>\n",
       "      <th>3372</th>\n",
       "      <td>16000.0</td>\n",
       "      <td>Other - Recreation</td>\n",
       "      <td>Other</td>\n",
       "      <td>NaN</td>\n",
       "      <td>2004</td>\n",
       "      <td>1</td>\n",
       "      <td>1.0</td>\n",
       "      <td>47.59625</td>\n",
       "      <td>-122.32283</td>\n",
       "      <td>DOWNTOWN</td>\n",
       "      <td>9.502762e+05</td>\n",
       "      <td>3.965461e+05</td>\n",
       "      <td>5.537300e+05</td>\n",
       "      <td>0.00</td>\n",
       "      <td>59.400002</td>\n",
       "    </tr>\n",
       "    <tr>\n",
       "      <th>3373</th>\n",
       "      <td>13157.0</td>\n",
       "      <td>Fitness Center/Health Club/Gym, Other - Recrea...</td>\n",
       "      <td>Other</td>\n",
       "      <td>Fitness Center/Health Club/Gym</td>\n",
       "      <td>1974</td>\n",
       "      <td>1</td>\n",
       "      <td>1.0</td>\n",
       "      <td>47.63644</td>\n",
       "      <td>-122.35784</td>\n",
       "      <td>MAGNOLIA / QUEEN ANNE</td>\n",
       "      <td>5.765898e+06</td>\n",
       "      <td>1.792159e+06</td>\n",
       "      <td>3.973739e+06</td>\n",
       "      <td>0.00</td>\n",
       "      <td>438.200012</td>\n",
       "    </tr>\n",
       "    <tr>\n",
       "      <th>3374</th>\n",
       "      <td>13586.0</td>\n",
       "      <td>Fitness Center/Health Club/Gym, Food Service, ...</td>\n",
       "      <td>Mixed Use Property</td>\n",
       "      <td>Fitness Center/Health Club/Gym</td>\n",
       "      <td>1989</td>\n",
       "      <td>1</td>\n",
       "      <td>1.0</td>\n",
       "      <td>47.52832</td>\n",
       "      <td>-122.32431</td>\n",
       "      <td>GREATER DUWAMISH</td>\n",
       "      <td>7.194712e+05</td>\n",
       "      <td>3.488702e+05</td>\n",
       "      <td>3.706010e+05</td>\n",
       "      <td>0.00</td>\n",
       "      <td>51.000000</td>\n",
       "    </tr>\n",
       "    <tr>\n",
       "      <th>3375</th>\n",
       "      <td>17379.0</td>\n",
       "      <td>Fitness Center/Health Club/Gym, Food Service, ...</td>\n",
       "      <td>Mixed Use Property</td>\n",
       "      <td>Fitness Center/Health Club/Gym</td>\n",
       "      <td>1938</td>\n",
       "      <td>1</td>\n",
       "      <td>1.0</td>\n",
       "      <td>47.53939</td>\n",
       "      <td>-122.29536</td>\n",
       "      <td>GREATER DUWAMISH</td>\n",
       "      <td>1.152896e+06</td>\n",
       "      <td>4.325542e+05</td>\n",
       "      <td>7.203420e+05</td>\n",
       "      <td>0.00</td>\n",
       "      <td>63.099998</td>\n",
       "    </tr>\n",
       "  </tbody>\n",
       "</table>\n",
       "<p>1641 rows × 15 columns</p>\n",
       "</div>"
      ],
      "text/plain": [
       "      3LargestGFA                          ListOfAllPropertyUseTypes  \\\n",
       "0         88434.0                                              Hotel   \n",
       "1        103566.0                         Hotel, Parking, Restaurant   \n",
       "2        756493.0                                              Hotel   \n",
       "3         61320.0                                              Hotel   \n",
       "4        191454.0                      Hotel, Parking, Swimming Pool   \n",
       "...           ...                                                ...   \n",
       "3371      12294.0                                             Office   \n",
       "3372      16000.0                                 Other - Recreation   \n",
       "3373      13157.0  Fitness Center/Health Club/Gym, Other - Recrea...   \n",
       "3374      13586.0  Fitness Center/Health Club/Gym, Food Service, ...   \n",
       "3375      17379.0  Fitness Center/Health Club/Gym, Food Service, ...   \n",
       "\n",
       "            FirstUseType    SecondLargestPropertyUseType  YearBuilt  \\\n",
       "0                  Hotel                             NaN       1927   \n",
       "1                  Hotel                         Parking       1996   \n",
       "2                  Hotel                             NaN       1969   \n",
       "3                  Hotel                             NaN       1926   \n",
       "4                  Hotel                         Parking       1980   \n",
       "...                  ...                             ...        ...   \n",
       "3371              Office                             NaN       1990   \n",
       "3372               Other                             NaN       2004   \n",
       "3373               Other  Fitness Center/Health Club/Gym       1974   \n",
       "3374  Mixed Use Property  Fitness Center/Health Club/Gym       1989   \n",
       "3375  Mixed Use Property  Fitness Center/Health Club/Gym       1938   \n",
       "\n",
       "      NumberofFloors  NumberofBuildings  Latitude  Longitude  \\\n",
       "0                 12                1.0  47.61220 -122.33799   \n",
       "1                 11                1.0  47.61317 -122.33393   \n",
       "2                 41                1.0  47.61393 -122.33810   \n",
       "3                 10                1.0  47.61412 -122.33664   \n",
       "4                 18                1.0  47.61375 -122.34047   \n",
       "...              ...                ...       ...        ...   \n",
       "3371               1                1.0  47.56722 -122.31154   \n",
       "3372               1                1.0  47.59625 -122.32283   \n",
       "3373               1                1.0  47.63644 -122.35784   \n",
       "3374               1                1.0  47.52832 -122.32431   \n",
       "3375               1                1.0  47.53939 -122.29536   \n",
       "\n",
       "               Neighborhood  SiteEnergyUse(kBtu)  Electricity(kBtu)  \\\n",
       "0                  DOWNTOWN         7.226362e+06       3.946027e+06   \n",
       "1                  DOWNTOWN         8.387933e+06       3.242851e+06   \n",
       "2                  DOWNTOWN         7.258702e+07       4.952666e+07   \n",
       "3                  DOWNTOWN         6.794584e+06       2.768924e+06   \n",
       "4                  DOWNTOWN         1.417261e+07       5.368607e+06   \n",
       "...                     ...                  ...                ...   \n",
       "3371       GREATER DUWAMISH         8.497457e+05       5.242709e+05   \n",
       "3372               DOWNTOWN         9.502762e+05       3.965461e+05   \n",
       "3373  MAGNOLIA / QUEEN ANNE         5.765898e+06       1.792159e+06   \n",
       "3374       GREATER DUWAMISH         7.194712e+05       3.488702e+05   \n",
       "3375       GREATER DUWAMISH         1.152896e+06       4.325542e+05   \n",
       "\n",
       "      NaturalGas(kBtu)  SteamUse(kBtu)  SiteEUI(kBtu/sf)  \n",
       "0         1.276453e+06      2003882.00         81.699997  \n",
       "1         5.145082e+06            0.00         94.800003  \n",
       "2         1.493800e+06     21566554.00         96.000000  \n",
       "3         1.811213e+06      2214446.25        110.800003  \n",
       "4         8.803998e+06            0.00        114.800003  \n",
       "...                ...             ...               ...  \n",
       "3371      3.254750e+05            0.00         69.099998  \n",
       "3372      5.537300e+05            0.00         59.400002  \n",
       "3373      3.973739e+06            0.00        438.200012  \n",
       "3374      3.706010e+05            0.00         51.000000  \n",
       "3375      7.203420e+05            0.00         63.099998  \n",
       "\n",
       "[1641 rows x 15 columns]"
      ]
     },
     "execution_count": 343,
     "metadata": {},
     "output_type": "execute_result"
    }
   ],
   "source": [
    "\n",
    "bc_after_eda = pd.read_csv(\"data/bc_after_eda.csv\", index_col='Unnamed: 0')\n",
    "select_columns = ['3LargestGFA', 'ListOfAllPropertyUseTypes', 'FirstUseType', 'SecondLargestPropertyUseType', 'YearBuilt', 'NumberofFloors', 'NumberofBuildings','Latitude', 'Longitude', 'Neighborhood',\n",
    "                                     'SiteEnergyUse(kBtu)', 'Electricity(kBtu)', 'NaturalGas(kBtu)', 'SteamUse(kBtu)','SiteEUI(kBtu/sf)']\n",
    "bc_after_eda = bc_after_eda[select_columns]\n",
    "bc_after_eda"
   ]
  },
  {
   "cell_type": "markdown",
   "metadata": {},
   "source": [
    "## Import des modules "
   ]
  },
  {
   "cell_type": "code",
   "execution_count": 344,
   "metadata": {},
   "outputs": [],
   "source": [
    "#Selection\n",
    "from sklearn.model_selection import (\n",
    "    train_test_split,\n",
    "    GridSearchCV, \n",
    "    cross_validate,\n",
    ")\n",
    "from sklearn.metrics import r2_score, mean_absolute_error , root_mean_squared_error, mean_absolute_percentage_error\n",
    "from sklearn.inspection import permutation_importance\n",
    "from sklearn.pipeline import Pipeline\n",
    "\n",
    "#Preprocess\n",
    "from sklearn.compose import ColumnTransformer\n",
    "from sklearn.preprocessing import LabelEncoder, OneHotEncoder, StandardScaler,FunctionTransformer\n",
    "\n",
    "#Modèles\n",
    "from sklearn.dummy import DummyRegressor\n",
    "from sklearn.linear_model import LinearRegression\n",
    "from sklearn.svm import SVR\n",
    "from sklearn.ensemble import RandomForestRegressor, GradientBoostingRegressor\n"
   ]
  },
  {
   "cell_type": "markdown",
   "metadata": {},
   "source": [
    "## Feature Engineering"
   ]
  },
  {
   "cell_type": "markdown",
   "metadata": {},
   "source": [
    "A réaliser : Enrichir le jeu de données actuel avec de nouvelles features issues de celles existantes. "
   ]
  },
  {
   "cell_type": "markdown",
   "metadata": {},
   "source": [
    "### Préparation des features pour la modélisation"
   ]
  },
  {
   "cell_type": "markdown",
   "metadata": {},
   "source": [
    "A réaliser :\n",
    "* Si ce n'est pas déjà fait, supprimer toutes les colonnes peu pertinentes pour la modélisation.\n",
    "* Tracer la distribution de la cible pour vous familiariser avec l'ordre de grandeur. En cas d'outliers, mettez en place une démarche pour les supprimer.\n",
    "* Débarrassez-vous des features redondantes en utilisant une matrice de corrélation.\n",
    "* Réalisez différents graphiques pour comprendre le lien entre vos features et la target (boxplots, scatterplots, pairplot si votre nombre de features numériques n'est pas très élevé).\n",
    "*  Séparez votre jeu de données en un Pandas DataFrame X (ensemble de feautures) et Pandas Series y (votre target).\n",
    "* Si vous avez des features catégorielles, il faut les encoder pour que votre modèle fonctionne."
   ]
  },
  {
   "cell_type": "markdown",
   "metadata": {},
   "source": [
    "#### Modes énergétiques"
   ]
  },
  {
   "cell_type": "code",
   "execution_count": 345,
   "metadata": {},
   "outputs": [],
   "source": [
    "bc_after_eda['UseGas'] = (bc_after_eda['NaturalGas(kBtu)'].notna()) & (bc_after_eda['NaturalGas(kBtu)'] != 0)\n",
    "bc_after_eda['UseSteam'] = (bc_after_eda['SteamUse(kBtu)'].notna()) & (bc_after_eda['SteamUse(kBtu)'] != 0)\n",
    "bc_after_eda['UseElectricity'] = (bc_after_eda['Electricity(kBtu)'].notna()) & (bc_after_eda['Electricity(kBtu)'] != 0)\n"
   ]
  },
  {
   "cell_type": "markdown",
   "metadata": {},
   "source": [
    "#### distance du centre ville"
   ]
  },
  {
   "cell_type": "code",
   "execution_count": 346,
   "metadata": {},
   "outputs": [],
   "source": [
    "def haversine(lat1, lon1, lat2, lon2):\n",
    "    # Entrées: Series -> conversion séparée\n",
    "    lat1 = np.radians(lat1)\n",
    "    lon1 = np.radians(lon1)\n",
    "    lat2 = np.radians(lat2)\n",
    "    lon2 = np.radians(lon2)\n",
    "    R = 3958.8\n",
    "    dlat = lat2 - lat1\n",
    "    dlon = lon2 - lon1\n",
    "    a = np.sin(dlat / 2) ** 2 + np.cos(lat1) * np.cos(lat2) * np.sin(dlon / 2) ** 2\n",
    "    c = 2 * np.arcsin(np.sqrt(a))\n",
    "    return R * c\n"
   ]
  },
  {
   "cell_type": "code",
   "execution_count": 347,
   "metadata": {},
   "outputs": [
    {
     "data": {
      "application/vnd.microsoft.datawrangler.viewer.v0+json": {
       "columns": [
        {
         "name": "index",
         "rawType": "object",
         "type": "string"
        },
        {
         "name": "CityDistance",
         "rawType": "float64",
         "type": "float"
        }
       ],
       "ref": "3aecb0cd-1d9a-4043-bece-e5701bf10ec8",
       "rows": [
        [
         "count",
         "1641.0"
        ],
        [
         "mean",
         "8.66498476538696"
        ],
        [
         "std",
         "1.4166954904186866"
        ],
        [
         "min",
         "4.96"
        ],
        [
         "25%",
         "7.8"
        ],
        [
         "50%",
         "8.36"
        ],
        [
         "75%",
         "9.43"
        ],
        [
         "max",
         "15.2"
        ]
       ],
       "shape": {
        "columns": 1,
        "rows": 8
       }
      },
      "text/plain": [
       "count    1641.000000\n",
       "mean        8.664985\n",
       "std         1.416695\n",
       "min         4.960000\n",
       "25%         7.800000\n",
       "50%         8.360000\n",
       "75%         9.430000\n",
       "max        15.200000\n",
       "Name: CityDistance, dtype: float64"
      ]
     },
     "execution_count": 347,
     "metadata": {},
     "output_type": "execute_result"
    }
   ],
   "source": [
    "seattle_lat, seattle_lon = 47.6085965, -122.5049456\n",
    "\n",
    "bc_after_eda['CityDistance'] = haversine(\n",
    "    bc_after_eda['Latitude'], bc_after_eda['Longitude'],\n",
    "    seattle_lat, seattle_lon\n",
    ").round(2)\n",
    "bc_after_eda['CityDistance'].describe()"
   ]
  },
  {
   "cell_type": "markdown",
   "metadata": {},
   "source": [
    "#### Utilisation multiple"
   ]
  },
  {
   "cell_type": "code",
   "execution_count": 348,
   "metadata": {},
   "outputs": [
    {
     "data": {
      "application/vnd.microsoft.datawrangler.viewer.v0+json": {
       "columns": [
        {
         "name": "MultipleUseType",
         "rawType": "int64",
         "type": "integer"
        },
        {
         "name": "count",
         "rawType": "int64",
         "type": "integer"
        }
       ],
       "ref": "e5e2227f-282e-4184-bc03-45090b537431",
       "rows": [
        [
         "1",
         "971"
        ],
        [
         "2",
         "537"
        ],
        [
         "3",
         "93"
        ],
        [
         "4",
         "32"
        ],
        [
         "6",
         "3"
        ],
        [
         "7",
         "2"
        ],
        [
         "5",
         "2"
        ],
        [
         "8",
         "1"
        ]
       ],
       "shape": {
        "columns": 1,
        "rows": 8
       }
      },
      "text/plain": [
       "MultipleUseType\n",
       "1    971\n",
       "2    537\n",
       "3     93\n",
       "4     32\n",
       "6      3\n",
       "7      2\n",
       "5      2\n",
       "8      1\n",
       "Name: count, dtype: int64"
      ]
     },
     "execution_count": 348,
     "metadata": {},
     "output_type": "execute_result"
    }
   ],
   "source": [
    "bc_after_eda['MultipleUseType'] = bc_after_eda['ListOfAllPropertyUseTypes'].str.count('s')+1\n",
    "bc_after_eda['MultipleUseType'].value_counts()"
   ]
  },
  {
   "cell_type": "code",
   "execution_count": 349,
   "metadata": {},
   "outputs": [
    {
     "data": {
      "text/plain": [
       "Index(['3LargestGFA', 'ListOfAllPropertyUseTypes', 'FirstUseType',\n",
       "       'SecondLargestPropertyUseType', 'YearBuilt', 'NumberofFloors',\n",
       "       'NumberofBuildings', 'Latitude', 'Longitude', 'Neighborhood',\n",
       "       'SiteEnergyUse(kBtu)', 'Electricity(kBtu)', 'NaturalGas(kBtu)',\n",
       "       'SteamUse(kBtu)', 'SiteEUI(kBtu/sf)', 'UseGas', 'UseSteam',\n",
       "       'UseElectricity', 'CityDistance', 'MultipleUseType'],\n",
       "      dtype='object')"
      ]
     },
     "execution_count": 349,
     "metadata": {},
     "output_type": "execute_result"
    }
   ],
   "source": [
    "bc_after_eda.columns"
   ]
  },
  {
   "cell_type": "markdown",
   "metadata": {},
   "source": [
    "## Split train/test"
   ]
  },
  {
   "cell_type": "code",
   "execution_count": 350,
   "metadata": {},
   "outputs": [],
   "source": [
    "predict_values = ['3LargestGFA', 'FirstUseType','SecondLargestPropertyUseType', 'MultipleUseType', 'UseSteam', 'UseElectricity', 'UseGas',\n",
    "       'NumberofFloors', 'NumberofBuildings', 'CityDistance', 'Neighborhood','YearBuilt']\n",
    "X = bc_after_eda[predict_values]\n",
    "target = 'SiteEnergyUse(kBtu)'\n",
    "y = bc_after_eda[target]\n",
    "X_train, X_test, y_train, y_test = train_test_split(X, y, test_size=0.2, random_state=42)"
   ]
  },
  {
   "cell_type": "code",
   "execution_count": 351,
   "metadata": {},
   "outputs": [
    {
     "name": "stdout",
     "output_type": "stream",
     "text": [
      "Index X_train avant pipeline : True\n"
     ]
    }
   ],
   "source": [
    "print(\"Index X_train avant pipeline :\", X_train.index.equals(y_train.index))\n"
   ]
  },
  {
   "cell_type": "markdown",
   "metadata": {},
   "source": [
    "## Finalisation des features"
   ]
  },
  {
   "cell_type": "code",
   "execution_count": 352,
   "metadata": {},
   "outputs": [
    {
     "name": "stdout",
     "output_type": "stream",
     "text": [
      "✅ Pipeline terminé!\n",
      "Shape finale: Train (1312, 122), Test (329, 122)\n"
     ]
    }
   ],
   "source": [
    "# ========================\n",
    "# ÉTAPE 1: PREPROCESSING PERSONNALISÉ \n",
    "# ========================\n",
    "\n",
    "def fix_floors_and_discretize(df):\n",
    "    \"\"\"Fonction qui fait tout votre preprocessing d'un coup\"\"\"\n",
    "    df = df.copy()\n",
    "    \n",
    "    # 1. Corriger NumberofFloors\n",
    "    mask = (df['NumberofFloors'] < 1)\n",
    "    OneBuildingMeanFloor = df[df['NumberofBuildings']==1][\"NumberofFloors\"].mean()\n",
    "    OneBuildingMeanFloor = int(OneBuildingMeanFloor.round(0))\n",
    "    df.loc[mask,'NumberofFloors'] = OneBuildingMeanFloor\n",
    "    \n",
    "    # 2. AgeProperty et AgeCategory\n",
    "    df['AgeProperty'] = 2016 - df['YearBuilt']\n",
    "    df['AgeCategory'] = pd.cut(df['AgeProperty'],\n",
    "                               bins=[0, 20, 40, 70, df['AgeProperty'].max()],\n",
    "                               labels=['Neuf', 'Récent', 'Ancien', 'Historique'],\n",
    "                               include_lowest=True)\n",
    "    \n",
    "    # 3. EnergyEra\n",
    "    df['EnergyEra'] = pd.cut(df['YearBuilt'],\n",
    "                             bins=[1900, 1980, 2000, 2016],\n",
    "                             labels=['Pre-Crisis', 'Modern', 'Contemporary'],\n",
    "                             include_lowest=True)\n",
    "    \n",
    "    \n",
    "    \n",
    "    # 4. PropertySize (3LargestGFA) – quantiles auto sur train\n",
    "    if not hasattr(fix_floors_and_discretize, 'size_bins'):\n",
    "        _, fix_floors_and_discretize.size_bins = pd.qcut(\n",
    "            df['3LargestGFA'], q=4, retbins=True, duplicates='drop'\n",
    "        )\n",
    "    df['PropertySize'] = pd.cut(df['3LargestGFA'],\n",
    "                                bins=fix_floors_and_discretize.size_bins,\n",
    "                                labels=['Small', 'Mid', 'Large', 'XLarge'],\n",
    "                                include_lowest=True)\n",
    "    \n",
    "    # 5. HeightCategory (NumberofFloors) – quantiles auto sur train\n",
    "    if not hasattr(fix_floors_and_discretize, 'floor_bins'):\n",
    "        _, fix_floors_and_discretize.floor_bins = pd.qcut(\n",
    "            df['NumberofFloors'], q=3, retbins=True, duplicates='drop'\n",
    "        )\n",
    "    df['HeightCategory'] = pd.cut(df['NumberofFloors'],\n",
    "                                  bins=fix_floors_and_discretize.floor_bins,\n",
    "                                  labels=['Low', 'Mid', 'High'],\n",
    "                                  include_lowest=True)\n",
    "    return df\n",
    "\n",
    "# ========================\n",
    "# ÉTAPE 2: PIPELINE COMPLET\n",
    "# ========================\n",
    "\n",
    "# Colonnes après votre preprocessing\n",
    "categorical_features = ['FirstUseType', 'SecondLargestPropertyUseType', 'PropertySize',\n",
    "                       'Neighborhood','AgeCategory','EnergyEra','HeightCategory']  # Ajoutez vos autres catégories ici\n",
    "\n",
    "numerical_features = ['3LargestGFA',\n",
    "                     'CityDistance', 'MultipleUseType', 'NumberofFloors','NumberofBuildings']\n",
    "\n",
    "# Pipeline complet\n",
    "full_pipeline = Pipeline([\n",
    "    # Étape 1: Preprocessing personnalisé\n",
    "    ('preprocessing', FunctionTransformer(fix_floors_and_discretize, validate=False)),\n",
    "    \n",
    "    # Étape 2: Encodage + Normalisation\n",
    "    ('encoder', ColumnTransformer([\n",
    "        ('cat', OneHotEncoder(drop='first', sparse_output=False, handle_unknown='ignore'), \n",
    "         categorical_features),\n",
    "        ('num', StandardScaler(), numerical_features)\n",
    "    ], remainder='passthrough'))\n",
    "])\n",
    "\n",
    "# ========================\n",
    "# ÉTAPE 3: APPLICATION \n",
    "# ========================\n",
    "\n",
    "# Fit sur train et transform train/test\n",
    "X_train_transformed = full_pipeline.fit_transform(X_train)\n",
    "X_test_transformed = full_pipeline.transform(X_test)\n",
    "\n",
    "# ========================\n",
    "# ÉTAPE 4: CRÉER VOS DataFrames _final\n",
    "# ========================\n",
    "\n",
    "# Récupérer les noms des colonnes\n",
    "onehot = full_pipeline.named_steps['encoder'].named_transformers_['cat']\n",
    "onehot_names = onehot.get_feature_names_out(categorical_features)\n",
    "num_names = [f\"scaled_{col}\" for col in numerical_features]\n",
    "\n",
    "# Colonnes restantes (passthrough)\n",
    "all_cols_after_preprocessing = fix_floors_and_discretize(X_train).columns\n",
    "remaining_cols = [col for col in all_cols_after_preprocessing \n",
    "                 if col not in categorical_features + numerical_features]\n",
    "\n",
    "# Noms finaux\n",
    "final_feature_names = list(onehot_names) + num_names + remaining_cols\n",
    "\n",
    "# Vos DataFrames finaux\n",
    "X_train_final = pd.DataFrame(X_train_transformed, columns=final_feature_names,index=X_train.index )\n",
    "X_test_final = pd.DataFrame(X_test_transformed, columns=final_feature_names,index=X_test.index)\n",
    "\n",
    "# Conversion en numérique\n",
    "for col in X_train_final.columns:\n",
    "    X_train_final[col] = pd.to_numeric(X_train_final[col], errors='coerce')\n",
    "    X_test_final[col] = pd.to_numeric(X_test_final[col], errors='coerce')\n",
    "\n",
    "X_train_final.drop(columns=['YearBuilt','AgeProperty'], inplace=True)\n",
    "X_test_final.drop(columns=['YearBuilt','AgeProperty'], inplace=True)\n",
    "\n",
    "print(f\"✅ Pipeline terminé!\")\n",
    "print(f\"Shape finale: Train {X_train_final.shape}, Test {X_test_final.shape}\")\n"
   ]
  },
  {
   "cell_type": "code",
   "execution_count": 353,
   "metadata": {},
   "outputs": [
    {
     "name": "stdout",
     "output_type": "stream",
     "text": [
      "Index X_train_final après pipeline : True\n"
     ]
    }
   ],
   "source": [
    "print(\"Index X_train_final après pipeline :\", X_train_final.index.equals(y_train.index))"
   ]
  },
  {
   "cell_type": "code",
   "execution_count": 354,
   "metadata": {},
   "outputs": [
    {
     "name": "stdout",
     "output_type": "stream",
     "text": [
      "<class 'pandas.core.frame.DataFrame'>\n",
      "Index: 1312 entries, 2338 to 1965\n",
      "Columns: 122 entries, FirstUseType_Automobile Dealership to UseGas\n",
      "dtypes: bool(3), float64(119)\n",
      "memory usage: 1.2 MB\n"
     ]
    }
   ],
   "source": [
    "X_train_final.info()"
   ]
  },
  {
   "cell_type": "code",
   "execution_count": 355,
   "metadata": {},
   "outputs": [
    {
     "name": "stdout",
     "output_type": "stream",
     "text": [
      "=== COMPARAISON MODÈLES AVEC PIPELINE COMPLET ===\n"
     ]
    },
    {
     "name": "stderr",
     "output_type": "stream",
     "text": [
      "/usr/lib/python3.13/multiprocessing/queues.py:120: UserWarning: pkg_resources is deprecated as an API. See https://setuptools.pypa.io/en/latest/pkg_resources.html. The pkg_resources package is slated for removal as early as 2025-11-30. Refrain from using this package or pin to Setuptools<81.\n",
      "  return _ForkingPickler.loads(res)\n",
      "/usr/lib/python3.13/multiprocessing/queues.py:120: UserWarning: pkg_resources is deprecated as an API. See https://setuptools.pypa.io/en/latest/pkg_resources.html. The pkg_resources package is slated for removal as early as 2025-11-30. Refrain from using this package or pin to Setuptools<81.\n",
      "  return _ForkingPickler.loads(res)\n",
      "/usr/lib/python3.13/multiprocessing/queues.py:120: UserWarning: pkg_resources is deprecated as an API. See https://setuptools.pypa.io/en/latest/pkg_resources.html. The pkg_resources package is slated for removal as early as 2025-11-30. Refrain from using this package or pin to Setuptools<81.\n",
      "  return _ForkingPickler.loads(res)\n",
      "/usr/lib/python3.13/multiprocessing/queues.py:120: UserWarning: pkg_resources is deprecated as an API. See https://setuptools.pypa.io/en/latest/pkg_resources.html. The pkg_resources package is slated for removal as early as 2025-11-30. Refrain from using this package or pin to Setuptools<81.\n",
      "  return _ForkingPickler.loads(res)\n",
      "/usr/lib/python3.13/multiprocessing/queues.py:120: UserWarning: pkg_resources is deprecated as an API. See https://setuptools.pypa.io/en/latest/pkg_resources.html. The pkg_resources package is slated for removal as early as 2025-11-30. Refrain from using this package or pin to Setuptools<81.\n",
      "  return _ForkingPickler.loads(res)\n"
     ]
    },
    {
     "name": "stdout",
     "output_type": "stream",
     "text": [
      "DummyRegressor → R²: -0.017, RMSE: 29013479, MAE: 9978119\n"
     ]
    },
    {
     "name": "stderr",
     "output_type": "stream",
     "text": [
      "/usr/lib/python3.13/multiprocessing/queues.py:120: UserWarning: pkg_resources is deprecated as an API. See https://setuptools.pypa.io/en/latest/pkg_resources.html. The pkg_resources package is slated for removal as early as 2025-11-30. Refrain from using this package or pin to Setuptools<81.\n",
      "  return _ForkingPickler.loads(res)\n"
     ]
    },
    {
     "name": "stdout",
     "output_type": "stream",
     "text": [
      "LinearRegression → R²: 0.427, RMSE: 16346264, MAE: 6121694\n",
      "SVR → R²: -0.067, RMSE: 29634028, MAE: 7630400\n",
      "GradientBoosting → R²: -0.462, RMSE: 30227638, MAE: 5801056\n",
      "RandomForest → R²: 0.188, RMSE: 24537236, MAE: 4987234\n"
     ]
    }
   ],
   "source": [
    "# CODE COMPARAISON DES MODELES\n",
    "import warnings\n",
    "warnings.filterwarnings(\"ignore\", category=UserWarning)\n",
    "models = {\n",
    "    'DummyRegressor': DummyRegressor(strategy='mean'),\n",
    "    'LinearRegression': LinearRegression(),\n",
    "    'SVR': SVR(),\n",
    "    'GradientBoosting': GradientBoostingRegressor(random_state=42),\n",
    "    'RandomForest': RandomForestRegressor(random_state=42, n_jobs=-1)\n",
    "}\n",
    "\n",
    "scoring = ['neg_root_mean_squared_error','r2','neg_mean_absolute_error']\n",
    "cv_results = {}\n",
    "\n",
    "print(\"=== COMPARAISON MODÈLES AVEC PIPELINE COMPLET ===\")\n",
    "for name, model in models.items():\n",
    "    # Pipeline complet + modèle final\n",
    "    full_estimator = Pipeline([\n",
    "        ('preprocess', full_pipeline.named_steps['preprocessing']),\n",
    "        ('encode_scale', full_pipeline.named_steps['encoder']),\n",
    "        ('model', model)\n",
    "    ])\n",
    "    scores = cross_validate(full_estimator, X_train, y_train, \n",
    "                            cv=5, scoring=scoring, n_jobs=-1)\n",
    "    cv_results[name] = {\n",
    "        'RMSE': -scores['test_neg_root_mean_squared_error'].mean(),\n",
    "        'R2': scores['test_r2'].mean(),\n",
    "        'MAE': -scores['test_neg_mean_absolute_error'].mean()\n",
    "    }\n",
    "    print(f\"{name} → R²: {cv_results[name]['R2']:.3f}, RMSE: {cv_results[name]['RMSE']:.0f}, MAE: {cv_results[name]['MAE']:.0f}\")\n",
    "    \n",
    "    "
   ]
  },
  {
   "cell_type": "code",
   "execution_count": 356,
   "metadata": {},
   "outputs": [
    {
     "name": "stdout",
     "output_type": "stream",
     "text": [
      "\n",
      "🏆 Meilleur modèle selon MAE: RandomForest\n"
     ]
    }
   ],
   "source": [
    "choice= \"MAE\"\n",
    "if choice == \"R2\":\n",
    "    best_model_name = max(cv_results.keys(), key=lambda x: cv_results[x][choice])\n",
    "else:\n",
    "    best_model_name = min(cv_results.keys(), key=lambda x: cv_results[x][choice])\n",
    "print(f\"\\n🏆 Meilleur modèle selon {choice}: {best_model_name}\")"
   ]
  },
  {
   "cell_type": "markdown",
   "metadata": {},
   "source": [
    "### Optimisation et interprétation du modèle"
   ]
  },
  {
   "cell_type": "markdown",
   "metadata": {},
   "source": [
    "A réaliser :\n",
    "* Reprennez le meilleur algorithme que vous avez sécurisé via l'étape précédente, et réalisez une GridSearch de petite taille sur au moins 3 hyperparamètres.\n",
    "* Si le meilleur modèle fait partie de la famille des modèles à arbres (RandomForest, GradientBoosting) alors utilisez la fonctionnalité feature importance pour identifier les features les plus impactantes sur la performance du modèle. Sinon, utilisez la méthode Permutation Importance de sklearn. "
   ]
  },
  {
   "cell_type": "code",
   "execution_count": 357,
   "metadata": {},
   "outputs": [
    {
     "name": "stdout",
     "output_type": "stream",
     "text": [
      "=== OPTIMISATION de RandomForest ===\n",
      "Fitting 5 folds for each of 81 candidates, totalling 405 fits\n",
      "Meilleurs paramètres : {'max_depth': 10, 'min_samples_leaf': 4, 'min_samples_split': 2, 'n_estimators': 100}\n",
      "Meilleur score CV (RMSE) : 22372748.528874315\n",
      "\n",
      "=== PERFORMANCE FINALE sur TEST ===\n",
      "RMSE: 8090671\n",
      "R²: 0.8068\n",
      "MAE: 3501067\n",
      "MAPE: 0.8726\n"
     ]
    }
   ],
   "source": [
    "# Supposons best_model_name défini précédemment\n",
    "#best_model_name = \"RandomForest\"\n",
    "print(f\"=== OPTIMISATION de {best_model_name} ===\")\n",
    "\n",
    "if best_model_name == 'RandomForest':\n",
    "    estimator = RandomForestRegressor(random_state=42, n_jobs=-1)\n",
    "    param_grid = {\n",
    "        'n_estimators': [100, 200, 300],\n",
    "        'max_depth': [10, 20, None],\n",
    "        'min_samples_split': [2, 5, 10],\n",
    "        'min_samples_leaf': [1, 2, 4]\n",
    "    }\n",
    "\n",
    "elif best_model_name == 'GradientBoosting':\n",
    "    estimator = GradientBoostingRegressor(random_state=42)\n",
    "    param_grid = {\n",
    "        'n_estimators': [100, 200],\n",
    "        'learning_rate': [0.1, 0.05, 0.01],\n",
    "        'max_depth': [3, 5, 7],\n",
    "        'subsample': [0.8, 1.0]\n",
    "    }\n",
    "\n",
    "elif best_model_name == 'LinearRegression':\n",
    "    estimator = LinearRegression()\n",
    "    param_grid = {\n",
    "        'fit_intercept': [True, False],\n",
    "        'positive': [False, True]\n",
    "    }\n",
    "\n",
    "elif best_model_name == 'SVR':\n",
    "    estimator = SVR()\n",
    "    param_grid = {\n",
    "        'kernel': ['rbf', 'linear', 'poly'],\n",
    "        'C': [0.1, 1, 10],\n",
    "        'gamma': ['scale', 'auto']\n",
    "    }\n",
    "\n",
    "else:\n",
    "    raise ValueError(f\"Modèle non supporté : {best_model_name}\")\n",
    "\n",
    "# Lancer GridSearchCV\n",
    "gs = GridSearchCV(\n",
    "    estimator=estimator,\n",
    "    param_grid=param_grid,\n",
    "    scoring='neg_root_mean_squared_error',\n",
    "    cv=5,\n",
    "    n_jobs=-1,\n",
    "    verbose=1\n",
    ")\n",
    "\n",
    "gs.fit(X_train_final, y_train)\n",
    "\n",
    "print(\"Meilleurs paramètres :\", gs.best_params_)\n",
    "print(\"Meilleur score CV (RMSE) :\", -gs.best_score_)\n",
    "\n",
    "# Évaluation finale\n",
    "final_model = gs.best_estimator_\n",
    "y_pred = final_model.predict(X_test_final)\n",
    "\n",
    "print(\"\\n=== PERFORMANCE FINALE sur TEST ===\")\n",
    "print(f\"RMSE: {root_mean_squared_error(y_test, y_pred):.0f}\")\n",
    "print(f\"R²: {r2_score(y_test, y_pred):.4f}\")\n",
    "print(f\"MAE: {mean_absolute_error(y_test, y_pred):.0f}\")\n",
    "print(f\"MAPE: {mean_absolute_percentage_error(y_test, y_pred):.4f}\")\n"
   ]
  },
  {
   "cell_type": "markdown",
   "metadata": {},
   "source": [
    "### Résultat avec Linear Regression  \n",
    "\n",
    "=== OPTIMISATION de LinearRegression ===  \n",
    "Fitting 5 folds for each of 4 candidates, totalling 20 fits  \n",
    "Meilleurs paramètres : {'fit_intercept': False, 'positive': True}  \n",
    "Meilleur score CV (RMSE) : 15216932.25998593  \n",
    "  \n",
    "=== PERFORMANCE FINALE sur TEST ===  \n",
    "RMSE: 9128882  \n",
    "R²: 0.7541  \n",
    "MAE: 4289626  \n",
    "MAPE: 1.4691  "
   ]
  },
  {
   "cell_type": "code",
   "execution_count": 358,
   "metadata": {},
   "outputs": [
    {
     "name": "stdout",
     "output_type": "stream",
     "text": [
      "Top 30 features by importance:\n",
      "- scaled_3LargestGFA: 0.8012\n",
      "- scaled_CityDistance: 0.0661\n",
      "- scaled_NumberofBuildings: 0.0473\n",
      "- FirstUseType_Hospital: 0.0304\n",
      "- scaled_NumberofFloors: 0.0159\n",
      "- FirstUseType_Large Office: 0.0047\n",
      "- FirstUseType_Mixed Use Property: 0.0037\n",
      "- FirstUseType_Other: 0.0029\n",
      "- SecondLargestPropertyUseType_Parking: 0.0028\n",
      "- scaled_MultipleUseType: 0.0027\n",
      "- EnergyEra_Modern: 0.0026\n",
      "- UseGas: 0.0024\n",
      "- AgeCategory_Récent: 0.0024\n",
      "- FirstUseType_Supermarket / Grocery Store: 0.0020\n",
      "- AgeCategory_Historique: 0.0016\n",
      "- SecondLargestPropertyUseType_nan: 0.0013\n",
      "- UseSteam: 0.0013\n",
      "- EnergyEra_Pre-Crisis: 0.0012\n",
      "- Neighborhood_DOWNTOWN: 0.0011\n",
      "- Neighborhood_EAST: 0.0011\n",
      "- Neighborhood_LAKE UNION: 0.0008\n",
      "- FirstUseType_Warehouse: 0.0007\n",
      "- AgeCategory_Neuf: 0.0006\n",
      "- Neighborhood_NORTHEAST: 0.0006\n",
      "- FirstUseType_Medical Office: 0.0004\n",
      "- FirstUseType_University: 0.0004\n",
      "- FirstUseType_Laboratory: 0.0002\n",
      "- Neighborhood_GREATER DUWAMISH: 0.0002\n",
      "- FirstUseType_Hotel: 0.0002\n",
      "- SecondLargestPropertyUseType_Office: 0.0001\n"
     ]
    }
   ],
   "source": [
    "best_model = gs.best_estimator_\n",
    "\n",
    "importances = best_model.feature_importances_\n",
    "feature_names = X_train_final.columns\n",
    "\n",
    "# Affichage du top 15 features les plus importantes\n",
    "sorted_idx = importances.argsort()[::-1]\n",
    "print(\"Top 30 features by importance:\")\n",
    "for idx in sorted_idx[:30]:\n",
    "    print(f\"- {feature_names[idx]}: {importances[idx]:.4f}\")"
   ]
  },
  {
   "cell_type": "markdown",
   "metadata": {},
   "source": [
    "# Sauvegarde BentoML"
   ]
  },
  {
   "cell_type": "code",
   "execution_count": 359,
   "metadata": {},
   "outputs": [
    {
     "data": {
      "text/plain": [
       "Model(tag=\"building_energy_rf_pipeline:fesz2hvji27zulhq\", path=\"/tmp/bentoml-model-building_energy_rf_pipeline-2hayi3a5\")"
      ]
     },
     "execution_count": 359,
     "metadata": {},
     "output_type": "execute_result"
    }
   ],
   "source": [
    "import bentoml\n",
    "bentoml.sklearn.save_model(\n",
    "    name=\"building_energy_rf_pipeline\",\n",
    "    model=full_pipeline,\n",
    "    signatures={\"predict\": {\"batchable\": True}},\n",
    "    metadata={\n",
    "        \"author\": \"day811\",\n",
    "        \"feature_names\": list(feature_names)\n",
    "    },\n",
    "    \n",
    ")"
   ]
  },
  {
   "cell_type": "code",
   "execution_count": 360,
   "metadata": {},
   "outputs": [
    {
     "name": "stdout",
     "output_type": "stream",
     "text": [
      "['FirstUseType_Automobile Dealership', 'FirstUseType_Bank Branch', 'FirstUseType_Courthouse', 'FirstUseType_Data Center', 'FirstUseType_Distribution Center', 'FirstUseType_Financial Office', 'FirstUseType_Fire Station', 'FirstUseType_Fitness Center/Health Club/Gym', 'FirstUseType_Food Service', 'FirstUseType_Hospital', 'FirstUseType_Hotel', 'FirstUseType_K-12 School', 'FirstUseType_Laboratory', 'FirstUseType_Large Office', 'FirstUseType_Library', 'FirstUseType_Lifestyle Center', 'FirstUseType_Manufacturing/Industrial Plant', 'FirstUseType_Medical Office', 'FirstUseType_Mixed Use Property', 'FirstUseType_Movie Theater', 'FirstUseType_Museum', 'FirstUseType_Office', 'FirstUseType_Other', 'FirstUseType_Parking', 'FirstUseType_Performing Arts', 'FirstUseType_Police Station', 'FirstUseType_Pre-school/Daycare', 'FirstUseType_Prison/Incarceration', 'FirstUseType_Refrigerated Warehouse', 'FirstUseType_Repair Services (Vehicle, Shoe, Locksmith, etc)', 'FirstUseType_Restaurant', 'FirstUseType_Retail Store', 'FirstUseType_Self-Storage Facility', 'FirstUseType_Senior Care Community', 'FirstUseType_Small- and Mid-Sized Office', 'FirstUseType_Social/Meeting Hall', 'FirstUseType_Strip Mall', 'FirstUseType_Supermarket / Grocery Store', 'FirstUseType_University', 'FirstUseType_Warehouse', 'FirstUseType_Worship Facility', 'SecondLargestPropertyUseType_Automobile Dealership', 'SecondLargestPropertyUseType_Bank Branch', 'SecondLargestPropertyUseType_Bar/Nightclub', 'SecondLargestPropertyUseType_College/University', 'SecondLargestPropertyUseType_Convenience Store without Gas Station', 'SecondLargestPropertyUseType_Courthouse', 'SecondLargestPropertyUseType_Data Center', 'SecondLargestPropertyUseType_Distribution Center', 'SecondLargestPropertyUseType_Enclosed Mall', 'SecondLargestPropertyUseType_Financial Office', 'SecondLargestPropertyUseType_Fitness Center/Health Club/Gym', 'SecondLargestPropertyUseType_Food Sales', 'SecondLargestPropertyUseType_Hospital (General Medical & Surgical)', 'SecondLargestPropertyUseType_Hotel', 'SecondLargestPropertyUseType_K-12 School', 'SecondLargestPropertyUseType_Laboratory', 'SecondLargestPropertyUseType_Manufacturing/Industrial Plant', 'SecondLargestPropertyUseType_Medical Office', 'SecondLargestPropertyUseType_Movie Theater', 'SecondLargestPropertyUseType_Multifamily Housing', 'SecondLargestPropertyUseType_Non-Refrigerated Warehouse', 'SecondLargestPropertyUseType_Office', 'SecondLargestPropertyUseType_Other', 'SecondLargestPropertyUseType_Other - Education', 'SecondLargestPropertyUseType_Other - Entertainment/Public Assembly', 'SecondLargestPropertyUseType_Other - Lodging/Residential', 'SecondLargestPropertyUseType_Other - Public Services', 'SecondLargestPropertyUseType_Other - Recreation', 'SecondLargestPropertyUseType_Other - Restaurant/Bar', 'SecondLargestPropertyUseType_Other - Services', 'SecondLargestPropertyUseType_Parking', 'SecondLargestPropertyUseType_Performing Arts', 'SecondLargestPropertyUseType_Pre-school/Daycare', 'SecondLargestPropertyUseType_Refrigerated Warehouse', 'SecondLargestPropertyUseType_Repair Services (Vehicle, Shoe, Locksmith, etc)', 'SecondLargestPropertyUseType_Residence Hall/Dormitory', 'SecondLargestPropertyUseType_Restaurant', 'SecondLargestPropertyUseType_Retail Store', 'SecondLargestPropertyUseType_Self-Storage Facility', 'SecondLargestPropertyUseType_Social/Meeting Hall', 'SecondLargestPropertyUseType_Supermarket/Grocery Store', 'SecondLargestPropertyUseType_Swimming Pool', 'SecondLargestPropertyUseType_Vocational School', 'SecondLargestPropertyUseType_Worship Facility', 'SecondLargestPropertyUseType_nan', 'PropertySize_Mid', 'PropertySize_Small', 'PropertySize_XLarge', 'Neighborhood_Ballard', 'Neighborhood_CENTRAL', 'Neighborhood_Central', 'Neighborhood_DELRIDGE', 'Neighborhood_DELRIDGE NEIGHBORHOODS', 'Neighborhood_DOWNTOWN', 'Neighborhood_Delridge', 'Neighborhood_EAST', 'Neighborhood_GREATER DUWAMISH', 'Neighborhood_LAKE UNION', 'Neighborhood_MAGNOLIA / QUEEN ANNE', 'Neighborhood_NORTH', 'Neighborhood_NORTHEAST', 'Neighborhood_NORTHWEST', 'Neighborhood_North', 'Neighborhood_Northwest', 'Neighborhood_SOUTHEAST', 'Neighborhood_SOUTHWEST', 'AgeCategory_Historique', 'AgeCategory_Neuf', 'AgeCategory_Récent', 'EnergyEra_Modern', 'EnergyEra_Pre-Crisis', 'HeightCategory_Low', 'HeightCategory_Mid', 'scaled_3LargestGFA', 'scaled_CityDistance', 'scaled_MultipleUseType', 'scaled_NumberofFloors', 'scaled_NumberofBuildings', 'UseSteam', 'UseElectricity', 'UseGas']\n"
     ]
    }
   ],
   "source": [
    "print(list(X_train_final.columns))"
   ]
  }
 ],
 "metadata": {
  "kernelspec": {
   "display_name": "ocde-p6-qTWNOnCB-py3.13",
   "language": "python",
   "name": "python3"
  },
  "language_info": {
   "codemirror_mode": {
    "name": "ipython",
    "version": 3
   },
   "file_extension": ".py",
   "mimetype": "text/x-python",
   "name": "python",
   "nbconvert_exporter": "python",
   "pygments_lexer": "ipython3",
   "version": "3.13.5"
  }
 },
 "nbformat": 4,
 "nbformat_minor": 2
}
