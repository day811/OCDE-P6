{
 "cells": [
  {
   "cell_type": "markdown",
   "metadata": {},
   "source": [
    "A réaliser : \n",
    "- Une analyse descriptive des données, y compris une explication du sens des colonnes gardées, des arguments derrière la suppression de lignes ou de colonnes, des statistiques descriptives et des visualisations pertinentes."
   ]
  },
  {
   "cell_type": "markdown",
   "metadata": {},
   "source": [
    "## Import des modules"
   ]
  },
  {
   "cell_type": "code",
   "execution_count": 1,
   "metadata": {},
   "outputs": [],
   "source": [
    "import pandas as pd\n",
    "import numpy as np\n",
    "import matplotlib.pyplot as plt\n",
    "import seaborn as sns "
   ]
  },
  {
   "cell_type": "code",
   "execution_count": 2,
   "metadata": {},
   "outputs": [
    {
     "data": {
      "application/vnd.microsoft.datawrangler.viewer.v0+json": {
       "columns": [
        {
         "name": "index",
         "rawType": "int64",
         "type": "integer"
        },
        {
         "name": "3LargestGFA",
         "rawType": "float64",
         "type": "float"
        },
        {
         "name": "ListOfAllPropertyUseTypes",
         "rawType": "object",
         "type": "string"
        },
        {
         "name": "FirstUseType",
         "rawType": "object",
         "type": "string"
        },
        {
         "name": "SecondLargestPropertyUseType",
         "rawType": "object",
         "type": "unknown"
        },
        {
         "name": "YearBuilt",
         "rawType": "int64",
         "type": "integer"
        },
        {
         "name": "NumberofFloors",
         "rawType": "int64",
         "type": "integer"
        },
        {
         "name": "NumberofBuildings",
         "rawType": "float64",
         "type": "float"
        },
        {
         "name": "Latitude",
         "rawType": "float64",
         "type": "float"
        },
        {
         "name": "Longitude",
         "rawType": "float64",
         "type": "float"
        },
        {
         "name": "Neighborhood",
         "rawType": "object",
         "type": "string"
        },
        {
         "name": "SiteEnergyUse(kBtu)",
         "rawType": "float64",
         "type": "float"
        },
        {
         "name": "Electricity(kBtu)",
         "rawType": "float64",
         "type": "float"
        },
        {
         "name": "NaturalGas(kBtu)",
         "rawType": "float64",
         "type": "float"
        },
        {
         "name": "SteamUse(kBtu)",
         "rawType": "float64",
         "type": "float"
        }
       ],
       "ref": "c0a7f64a-796b-4313-a152-a9040b177cbc",
       "rows": [
        [
         "0",
         "88434.0",
         "Hotel",
         "Hotel",
         null,
         "1927",
         "12",
         "1.0",
         "47.6122",
         "-122.33799",
         "DOWNTOWN",
         "7226362.5",
         "3946027.0",
         "1276453.0",
         "2003882.0"
        ],
        [
         "1",
         "103566.0",
         "Hotel, Parking, Restaurant",
         "Hotel",
         "Parking",
         "1996",
         "11",
         "1.0",
         "47.61317",
         "-122.33393",
         "DOWNTOWN",
         "8387933.0",
         "3242851.0",
         "5145082.0",
         "0.0"
        ],
        [
         "2",
         "756493.0",
         "Hotel",
         "Hotel",
         null,
         "1969",
         "41",
         "1.0",
         "47.61393",
         "-122.3381",
         "DOWNTOWN",
         "72587024.0",
         "49526664.0",
         "1493800.0",
         "21566554.0"
        ],
        [
         "3",
         "61320.0",
         "Hotel",
         "Hotel",
         null,
         "1926",
         "10",
         "1.0",
         "47.61412",
         "-122.33664",
         "DOWNTOWN",
         "6794584.0",
         "2768924.0",
         "1811213.0",
         "2214446.25"
        ],
        [
         "4",
         "191454.0",
         "Hotel, Parking, Swimming Pool",
         "Hotel",
         "Parking",
         "1980",
         "18",
         "1.0",
         "47.61375",
         "-122.34047",
         "DOWNTOWN",
         "14172606.0",
         "5368607.0",
         "8803998.0",
         "0.0"
        ],
        [
         "5",
         "88830.0",
         "Police Station",
         "Police Station",
         null,
         "1999",
         "2",
         "1.0",
         "47.61623",
         "-122.33657",
         "DOWNTOWN",
         "12086616.0",
         "7371434.0",
         "4715182.0",
         "0.0"
        ],
        [
         "6",
         "81352.0",
         "Hotel",
         "Hotel",
         null,
         "1926",
         "11",
         "1.0",
         "47.6139",
         "-122.33283",
         "DOWNTOWN",
         "5758795.0",
         "2811215.0",
         "2947580.0",
         "0.0"
        ],
        [
         "7",
         "102761.0",
         "Other - Entertainment/Public Assembly",
         "Other",
         null,
         "1926",
         "8",
         "1.0",
         "47.61327",
         "-122.33136",
         "DOWNTOWN",
         "6298131.5",
         "3636655.0",
         "385189.0",
         "2276286.5"
        ],
        [
         "8",
         "163984.0",
         "Hotel",
         "Hotel",
         null,
         "1904",
         "15",
         "1.0",
         "47.60294",
         "-122.33263",
         "DOWNTOWN",
         "13723820.0",
         "7297919.0",
         "6425900.0",
         "0.0"
        ],
        [
         "10",
         "133884.0",
         "Hotel",
         "Hotel",
         null,
         "1969",
         "11",
         "1.0",
         "47.60695",
         "-122.33414",
         "DOWNTOWN",
         "16016644.0",
         "6187627.0",
         "4591850.0",
         "5237165.5"
        ],
        [
         "11",
         "336640.0",
         "Hotel",
         "Hotel",
         null,
         "1998",
         "25",
         "1.0",
         "47.60713",
         "-122.33323",
         "DOWNTOWN",
         "26941110.0",
         "18083049.0",
         "2858700.0",
         "5999360.5"
        ],
        [
         "12",
         "65009.0",
         "Hotel",
         "Hotel",
         null,
         "1928",
         "9",
         "1.0",
         "47.60699",
         "-122.33346",
         "DOWNTOWN",
         "6596057.5",
         "1343000.0",
         "3596705.0",
         "1656352.5"
        ],
        [
         "13",
         "353111.0",
         "Hotel, Parking",
         "Hotel",
         "Parking",
         "1980",
         "33",
         "1.0",
         "47.60809",
         "-122.33212",
         "DOWNTOWN",
         "22325364.0",
         "13904183.0",
         "4083440.0",
         "4337738.5"
        ],
        [
         "14",
         "92590.0",
         "Hotel, Parking",
         "Hotel",
         "Parking",
         "1922",
         "11",
         "1.0",
         "47.60755",
         "-122.33244",
         "DOWNTOWN",
         "10750010.0",
         "3832369.0",
         "2046793.0",
         "4870847.5"
        ],
        [
         "15",
         "414987.0",
         "Data Center, Library, Parking",
         "Library",
         "Parking",
         "2004",
         "11",
         "1.0",
         "47.60649",
         "-122.33297",
         "DOWNTOWN",
         "18588860.0",
         "17851297.0",
         "0.0",
         "737559.5"
        ],
        [
         "16",
         "130000.0",
         "Fitness Center/Health Club/Gym, Office, Swimming Pool",
         "Fitness Center/Health Club/Gym",
         "Office",
         "1930",
         "6",
         "1.0",
         "47.60546",
         "-122.33279",
         "DOWNTOWN",
         "9956396.0",
         "4453868.0",
         "910180.0",
         "4592347.5"
        ],
        [
         "17",
         "433329.0",
         "Hotel, Parking",
         "Hotel",
         "Parking",
         "1983",
         "28",
         "1.0",
         "47.60681",
         "-122.33078",
         "DOWNTOWN",
         "33556756.0",
         "21225277.0",
         "12331475.0",
         "0.0"
        ],
        [
         "18",
         "41688.0",
         "Office, Other, Other - Lodging/Residential, Restaurant, Social/Meeting Hall",
         "Mixed Use Property",
         "Restaurant",
         "1907",
         "5",
         "1.0",
         "47.60515",
         "-122.33159",
         "DOWNTOWN",
         "7606084.5",
         "3764791.0",
         "2065091.0",
         "1776201.875"
        ],
        [
         "19",
         "104352.0",
         "Hotel",
         "Hotel",
         null,
         "1916",
         "10",
         "1.0",
         "47.60376",
         "-122.33194",
         "DOWNTOWN",
         "10154608.0",
         "5908370.0",
         "815376.0",
         "3430862.0"
        ],
        [
         "20",
         "537150.0",
         "Courthouse",
         "Courthouse",
         null,
         "1916",
         "10",
         "1.0",
         "47.60265",
         "-122.33051",
         "DOWNTOWN",
         "44984468.0",
         "24357833.0",
         "20626631.0",
         "0.0"
        ],
        [
         "21",
         "385274.0",
         "Other",
         "Other",
         null,
         "1985",
         "19",
         "1.0",
         "47.60378",
         "-122.32842",
         "DOWNTOWN",
         "47859812.0",
         "18257661.0",
         "29602150.0",
         "0.0"
        ],
        [
         "22",
         "58916.0",
         "K-12 School",
         "K-12 School",
         null,
         "1961",
         "2",
         "1.0",
         "47.54576",
         "-122.26853",
         "SOUTHEAST",
         "1539478.5",
         "936955.0",
         "602523.0",
         "0.0"
        ],
        [
         "23",
         "88592.0",
         "Hotel, Parking",
         "Hotel",
         "Parking",
         "2001",
         "6",
         "1.0",
         "47.65959",
         "-122.31755",
         "NORTHEAST",
         "3663534.5",
         "2266231.0",
         "1397303.0",
         "0.0"
        ],
        [
         "24",
         "125000.0",
         "College/University",
         "University",
         null,
         "1928",
         "7",
         "1.0",
         "47.61816",
         "-122.33629",
         "DOWNTOWN",
         "11343686.0",
         "4647474.0",
         "6696211.0",
         "0.0"
        ],
        [
         "25",
         "67224.0",
         "Automobile Dealership",
         "Automobile Dealership",
         null,
         "1930",
         "2",
         "1.0",
         "47.615",
         "-122.33081",
         "DOWNTOWN",
         "1310236.625",
         "1310236.0",
         "0.0",
         "0.0"
        ],
        [
         "26",
         "159176.0",
         "Hotel, Parking, Retail Store, Swimming Pool",
         "Hotel",
         "Parking",
         "1991",
         "8",
         "1.0",
         "47.61301",
         "-122.32929",
         "EAST",
         "5328051.5",
         "572307.0",
         "4755745.0",
         "0.0"
        ],
        [
         "27",
         "128909.0",
         "Hotel",
         "Hotel",
         null,
         "2001",
         "10",
         "1.0",
         "47.61784",
         "-122.32966",
         "DOWNTOWN",
         "11061916.0",
         "5610706.0",
         "5451210.0",
         "0.0"
        ],
        [
         "29",
         "47994.0",
         "Hotel",
         "Hotel",
         null,
         "1978",
         "5",
         "1.0",
         "47.61558",
         "-122.34186",
         "DOWNTOWN",
         "4456714.5",
         "2346349.0",
         "2110365.0",
         "0.0"
        ],
        [
         "30",
         "164229.0",
         "K-12 School",
         "K-12 School",
         null,
         "1949",
         "2",
         "1.0",
         "47.70994",
         "-122.29301",
         "NORTH",
         "6779173.0",
         "1947601.0",
         "4831572.0",
         "0.0"
        ],
        [
         "31",
         "55166.0",
         "K-12 School",
         "K-12 School",
         null,
         "1989",
         "2",
         "1.0",
         "47.6329",
         "-122.35172",
         "MAGNOLIA / QUEEN ANNE",
         "1496816.0",
         "1496816.0",
         "0.0",
         "0.0"
        ],
        [
         "32",
         "63403.0",
         "K-12 School, Multifamily Housing, Office, Other - Entertainment/Public Assembly",
         "Small- and Mid-Sized Office",
         "K-12 School",
         "1906",
         "3",
         "1.0",
         "47.6641",
         "-122.33118",
         "LAKE UNION",
         "4145920.5",
         "1352843.0",
         "2793077.0",
         "0.0"
        ],
        [
         "33",
         "81871.0",
         "Hotel",
         "Hotel",
         null,
         "1994",
         "4",
         "1.0",
         "47.66583",
         "-122.29965",
         "NORTHEAST",
         "6668568.5",
         "3016399.0",
         "3652169.0",
         "0.0"
        ],
        [
         "34",
         "26225.0",
         "Self-Storage Facility",
         "Self-Storage Facility",
         null,
         "1955",
         "2",
         "1.0",
         "47.66172",
         "-122.29598",
         "NORTHEAST",
         "318364.8125",
         "281265.0",
         "37100.0",
         "0.0"
        ],
        [
         "35",
         "1856706.0",
         "Energy/Power Station, Laboratory, Manufacturing/Industrial Plant, Non-Refrigerated Warehouse, Office",
         "Mixed Use Property",
         "Laboratory",
         "1992",
         "3",
         "1.0",
         "47.53493",
         "-122.31788",
         "GREATER DUWAMISH",
         "448385312.0",
         "150476283.0",
         "297909000.0",
         "0.0"
        ],
        [
         "36",
         "963000.0",
         "Non-Refrigerated Warehouse, Office, Refrigerated Warehouse",
         "Warehouse",
         "Refrigerated Warehouse",
         "1961",
         "2",
         "3.0",
         "47.51138",
         "-122.28875",
         "GREATER DUWAMISH",
         "44731160.0",
         "44731153.0",
         "0.0",
         "0.0"
        ],
        [
         "37",
         "54986.0",
         "K-12 School",
         "K-12 School",
         null,
         "1990",
         "2",
         "1.0",
         "47.65671",
         "-122.39047",
         "MAGNOLIA / QUEEN ANNE",
         "1650279.25",
         "1217589.0",
         "432690.0",
         "0.0"
        ],
        [
         "38",
         "182861.0",
         "K-12 School",
         "K-12 School",
         null,
         "1950",
         "2",
         "1.0",
         "47.68252",
         "-122.29498",
         "NORTHEAST",
         "6399127.5",
         "1599684.0",
         "4799443.0",
         "0.0"
        ],
        [
         "39",
         "94900.0",
         "Non-Refrigerated Warehouse, Office",
         "Small- and Mid-Sized Office",
         "Non-Refrigerated Warehouse",
         "1961",
         "2",
         "1.0",
         "47.66587",
         "-122.38476",
         "BALLARD",
         "6186461.5",
         "4291585.0",
         "1894876.0",
         "0.0"
        ],
        [
         "40",
         "58878.0",
         "Office, Other - Education",
         "Small- and Mid-Sized Office",
         "Other - Education",
         "1900",
         "2",
         "1.0",
         "47.58034",
         "-122.31132",
         "GREATER DUWAMISH",
         "2951331.25",
         "1579749.0",
         "1371582.0",
         "0.0"
        ],
        [
         "41",
         "175015.0",
         "K-12 School",
         "K-12 School",
         null,
         "1954",
         "3",
         "1.0",
         "47.68891",
         "-122.33553",
         "NORTHWEST",
         "6994740.5",
         "2679739.0",
         "4315001.0",
         "0.0"
        ],
        [
         "42",
         "70495.0",
         "Office, Self-Storage Facility, Vocational School",
         "Self-Storage Facility",
         "Vocational School",
         "1911",
         "3",
         "1.0",
         "47.61351",
         "-122.35129",
         "DOWNTOWN",
         "2158629.0",
         "1500229.0",
         "658400.0",
         "0.0"
        ],
        [
         "43",
         "348630.0",
         "Hotel",
         "Hotel",
         null,
         "1969",
         "24",
         "1.0",
         "47.60946",
         "-122.33337",
         "DOWNTOWN",
         "16163194.0",
         "12204406.0",
         "3958787.0",
         "0.0"
        ],
        [
         "44",
         "169531.0",
         "Data Center, Office, Retail Store",
         "Large Office",
         "Retail Store",
         "1973",
         "5",
         "1.0",
         "47.6113",
         "-122.33659",
         "DOWNTOWN",
         "9536161.0",
         "9536160.0",
         "0.0",
         "0.0"
        ],
        [
         "45",
         "57428.0",
         "Other - Mall, Personal Services (Health/Beauty, Dry Cleaning, etc)",
         "Other",
         "Personal Services (Health/Beauty, Dry Cleaning, etc)",
         "1920",
         "2",
         "1.0",
         "47.61076",
         "-122.33765",
         "DOWNTOWN",
         "1247362.0",
         "714939.0",
         "532423.0",
         "0.0"
        ],
        [
         "46",
         "39940.0",
         "Office, Retail Store",
         "Small- and Mid-Sized Office",
         "Retail Store",
         "1910",
         "8",
         "1.0",
         "47.61048",
         "-122.33794",
         "DOWNTOWN",
         "5071974.0",
         "5071973.0",
         "0.0",
         "0.0"
        ],
        [
         "47",
         "52459.0",
         "Office, Other - Entertainment/Public Assembly, Restaurant",
         "Mixed Use Property",
         "Restaurant",
         "1926",
         "2",
         "1.0",
         "47.60886",
         "-122.33744",
         "DOWNTOWN",
         "15026196.0",
         "4632459.0",
         "10393737.0",
         "0.0"
        ],
        [
         "48",
         "98634.0",
         "Hotel, Parking, Restaurant",
         "Hotel",
         "Parking",
         "1930",
         "20",
         "1.0",
         "47.61233",
         "-122.33432",
         "DOWNTOWN",
         "4841347.5",
         "4290059.0",
         "551288.0",
         "0.0"
        ],
        [
         "49",
         "1111880.0",
         "Hotel, Parking, Swimming Pool",
         "Hotel",
         "Parking",
         "1982",
         "34",
         "1.0",
         "47.61087",
         "-122.33339",
         "DOWNTOWN",
         "80469216.0",
         "45545529.0",
         "23324992.0",
         "11598686.0"
        ],
        [
         "50",
         "64674.0",
         "Hotel, Parking, Restaurant, Retail Store",
         "Hotel",
         "Parking",
         "1985",
         "7",
         "1.0",
         "47.60997",
         "-122.34138",
         "DOWNTOWN",
         "5348309.0",
         "3243900.0",
         "2104408.0",
         "0.0"
        ],
        [
         "51",
         "122810.0",
         "Hotel, Other - Entertainment/Public Assembly, Retail Store",
         "Hotel",
         "Other - Entertainment/Public Assembly",
         "1908",
         "7",
         "1.0",
         "47.61155",
         "-122.34114",
         "DOWNTOWN",
         "5401277.5",
         "1293561.0",
         "4107716.0",
         "0.0"
        ]
       ],
       "shape": {
        "columns": 14,
        "rows": 1641
       }
      },
      "text/html": [
       "<div>\n",
       "<style scoped>\n",
       "    .dataframe tbody tr th:only-of-type {\n",
       "        vertical-align: middle;\n",
       "    }\n",
       "\n",
       "    .dataframe tbody tr th {\n",
       "        vertical-align: top;\n",
       "    }\n",
       "\n",
       "    .dataframe thead th {\n",
       "        text-align: right;\n",
       "    }\n",
       "</style>\n",
       "<table border=\"1\" class=\"dataframe\">\n",
       "  <thead>\n",
       "    <tr style=\"text-align: right;\">\n",
       "      <th></th>\n",
       "      <th>3LargestGFA</th>\n",
       "      <th>ListOfAllPropertyUseTypes</th>\n",
       "      <th>FirstUseType</th>\n",
       "      <th>SecondLargestPropertyUseType</th>\n",
       "      <th>YearBuilt</th>\n",
       "      <th>NumberofFloors</th>\n",
       "      <th>NumberofBuildings</th>\n",
       "      <th>Latitude</th>\n",
       "      <th>Longitude</th>\n",
       "      <th>Neighborhood</th>\n",
       "      <th>SiteEnergyUse(kBtu)</th>\n",
       "      <th>Electricity(kBtu)</th>\n",
       "      <th>NaturalGas(kBtu)</th>\n",
       "      <th>SteamUse(kBtu)</th>\n",
       "    </tr>\n",
       "  </thead>\n",
       "  <tbody>\n",
       "    <tr>\n",
       "      <th>0</th>\n",
       "      <td>88434.0</td>\n",
       "      <td>Hotel</td>\n",
       "      <td>Hotel</td>\n",
       "      <td>NaN</td>\n",
       "      <td>1927</td>\n",
       "      <td>12</td>\n",
       "      <td>1.0</td>\n",
       "      <td>47.61220</td>\n",
       "      <td>-122.33799</td>\n",
       "      <td>DOWNTOWN</td>\n",
       "      <td>7.226362e+06</td>\n",
       "      <td>3.946027e+06</td>\n",
       "      <td>1.276453e+06</td>\n",
       "      <td>2003882.00</td>\n",
       "    </tr>\n",
       "    <tr>\n",
       "      <th>1</th>\n",
       "      <td>103566.0</td>\n",
       "      <td>Hotel, Parking, Restaurant</td>\n",
       "      <td>Hotel</td>\n",
       "      <td>Parking</td>\n",
       "      <td>1996</td>\n",
       "      <td>11</td>\n",
       "      <td>1.0</td>\n",
       "      <td>47.61317</td>\n",
       "      <td>-122.33393</td>\n",
       "      <td>DOWNTOWN</td>\n",
       "      <td>8.387933e+06</td>\n",
       "      <td>3.242851e+06</td>\n",
       "      <td>5.145082e+06</td>\n",
       "      <td>0.00</td>\n",
       "    </tr>\n",
       "    <tr>\n",
       "      <th>2</th>\n",
       "      <td>756493.0</td>\n",
       "      <td>Hotel</td>\n",
       "      <td>Hotel</td>\n",
       "      <td>NaN</td>\n",
       "      <td>1969</td>\n",
       "      <td>41</td>\n",
       "      <td>1.0</td>\n",
       "      <td>47.61393</td>\n",
       "      <td>-122.33810</td>\n",
       "      <td>DOWNTOWN</td>\n",
       "      <td>7.258702e+07</td>\n",
       "      <td>4.952666e+07</td>\n",
       "      <td>1.493800e+06</td>\n",
       "      <td>21566554.00</td>\n",
       "    </tr>\n",
       "    <tr>\n",
       "      <th>3</th>\n",
       "      <td>61320.0</td>\n",
       "      <td>Hotel</td>\n",
       "      <td>Hotel</td>\n",
       "      <td>NaN</td>\n",
       "      <td>1926</td>\n",
       "      <td>10</td>\n",
       "      <td>1.0</td>\n",
       "      <td>47.61412</td>\n",
       "      <td>-122.33664</td>\n",
       "      <td>DOWNTOWN</td>\n",
       "      <td>6.794584e+06</td>\n",
       "      <td>2.768924e+06</td>\n",
       "      <td>1.811213e+06</td>\n",
       "      <td>2214446.25</td>\n",
       "    </tr>\n",
       "    <tr>\n",
       "      <th>4</th>\n",
       "      <td>191454.0</td>\n",
       "      <td>Hotel, Parking, Swimming Pool</td>\n",
       "      <td>Hotel</td>\n",
       "      <td>Parking</td>\n",
       "      <td>1980</td>\n",
       "      <td>18</td>\n",
       "      <td>1.0</td>\n",
       "      <td>47.61375</td>\n",
       "      <td>-122.34047</td>\n",
       "      <td>DOWNTOWN</td>\n",
       "      <td>1.417261e+07</td>\n",
       "      <td>5.368607e+06</td>\n",
       "      <td>8.803998e+06</td>\n",
       "      <td>0.00</td>\n",
       "    </tr>\n",
       "    <tr>\n",
       "      <th>...</th>\n",
       "      <td>...</td>\n",
       "      <td>...</td>\n",
       "      <td>...</td>\n",
       "      <td>...</td>\n",
       "      <td>...</td>\n",
       "      <td>...</td>\n",
       "      <td>...</td>\n",
       "      <td>...</td>\n",
       "      <td>...</td>\n",
       "      <td>...</td>\n",
       "      <td>...</td>\n",
       "      <td>...</td>\n",
       "      <td>...</td>\n",
       "      <td>...</td>\n",
       "    </tr>\n",
       "    <tr>\n",
       "      <th>3371</th>\n",
       "      <td>12294.0</td>\n",
       "      <td>Office</td>\n",
       "      <td>Office</td>\n",
       "      <td>NaN</td>\n",
       "      <td>1990</td>\n",
       "      <td>1</td>\n",
       "      <td>1.0</td>\n",
       "      <td>47.56722</td>\n",
       "      <td>-122.31154</td>\n",
       "      <td>GREATER DUWAMISH</td>\n",
       "      <td>8.497457e+05</td>\n",
       "      <td>5.242709e+05</td>\n",
       "      <td>3.254750e+05</td>\n",
       "      <td>0.00</td>\n",
       "    </tr>\n",
       "    <tr>\n",
       "      <th>3372</th>\n",
       "      <td>16000.0</td>\n",
       "      <td>Other - Recreation</td>\n",
       "      <td>Other</td>\n",
       "      <td>NaN</td>\n",
       "      <td>2004</td>\n",
       "      <td>1</td>\n",
       "      <td>1.0</td>\n",
       "      <td>47.59625</td>\n",
       "      <td>-122.32283</td>\n",
       "      <td>DOWNTOWN</td>\n",
       "      <td>9.502762e+05</td>\n",
       "      <td>3.965461e+05</td>\n",
       "      <td>5.537300e+05</td>\n",
       "      <td>0.00</td>\n",
       "    </tr>\n",
       "    <tr>\n",
       "      <th>3373</th>\n",
       "      <td>13157.0</td>\n",
       "      <td>Fitness Center/Health Club/Gym, Other - Recrea...</td>\n",
       "      <td>Other</td>\n",
       "      <td>Fitness Center/Health Club/Gym</td>\n",
       "      <td>1974</td>\n",
       "      <td>1</td>\n",
       "      <td>1.0</td>\n",
       "      <td>47.63644</td>\n",
       "      <td>-122.35784</td>\n",
       "      <td>MAGNOLIA / QUEEN ANNE</td>\n",
       "      <td>5.765898e+06</td>\n",
       "      <td>1.792159e+06</td>\n",
       "      <td>3.973739e+06</td>\n",
       "      <td>0.00</td>\n",
       "    </tr>\n",
       "    <tr>\n",
       "      <th>3374</th>\n",
       "      <td>13586.0</td>\n",
       "      <td>Fitness Center/Health Club/Gym, Food Service, ...</td>\n",
       "      <td>Mixed Use Property</td>\n",
       "      <td>Fitness Center/Health Club/Gym</td>\n",
       "      <td>1989</td>\n",
       "      <td>1</td>\n",
       "      <td>1.0</td>\n",
       "      <td>47.52832</td>\n",
       "      <td>-122.32431</td>\n",
       "      <td>GREATER DUWAMISH</td>\n",
       "      <td>7.194712e+05</td>\n",
       "      <td>3.488702e+05</td>\n",
       "      <td>3.706010e+05</td>\n",
       "      <td>0.00</td>\n",
       "    </tr>\n",
       "    <tr>\n",
       "      <th>3375</th>\n",
       "      <td>17379.0</td>\n",
       "      <td>Fitness Center/Health Club/Gym, Food Service, ...</td>\n",
       "      <td>Mixed Use Property</td>\n",
       "      <td>Fitness Center/Health Club/Gym</td>\n",
       "      <td>1938</td>\n",
       "      <td>1</td>\n",
       "      <td>1.0</td>\n",
       "      <td>47.53939</td>\n",
       "      <td>-122.29536</td>\n",
       "      <td>GREATER DUWAMISH</td>\n",
       "      <td>1.152896e+06</td>\n",
       "      <td>4.325542e+05</td>\n",
       "      <td>7.203420e+05</td>\n",
       "      <td>0.00</td>\n",
       "    </tr>\n",
       "  </tbody>\n",
       "</table>\n",
       "<p>1641 rows × 14 columns</p>\n",
       "</div>"
      ],
      "text/plain": [
       "      3LargestGFA                          ListOfAllPropertyUseTypes  \\\n",
       "0         88434.0                                              Hotel   \n",
       "1        103566.0                         Hotel, Parking, Restaurant   \n",
       "2        756493.0                                              Hotel   \n",
       "3         61320.0                                              Hotel   \n",
       "4        191454.0                      Hotel, Parking, Swimming Pool   \n",
       "...           ...                                                ...   \n",
       "3371      12294.0                                             Office   \n",
       "3372      16000.0                                 Other - Recreation   \n",
       "3373      13157.0  Fitness Center/Health Club/Gym, Other - Recrea...   \n",
       "3374      13586.0  Fitness Center/Health Club/Gym, Food Service, ...   \n",
       "3375      17379.0  Fitness Center/Health Club/Gym, Food Service, ...   \n",
       "\n",
       "            FirstUseType    SecondLargestPropertyUseType  YearBuilt  \\\n",
       "0                  Hotel                             NaN       1927   \n",
       "1                  Hotel                         Parking       1996   \n",
       "2                  Hotel                             NaN       1969   \n",
       "3                  Hotel                             NaN       1926   \n",
       "4                  Hotel                         Parking       1980   \n",
       "...                  ...                             ...        ...   \n",
       "3371              Office                             NaN       1990   \n",
       "3372               Other                             NaN       2004   \n",
       "3373               Other  Fitness Center/Health Club/Gym       1974   \n",
       "3374  Mixed Use Property  Fitness Center/Health Club/Gym       1989   \n",
       "3375  Mixed Use Property  Fitness Center/Health Club/Gym       1938   \n",
       "\n",
       "      NumberofFloors  NumberofBuildings  Latitude  Longitude  \\\n",
       "0                 12                1.0  47.61220 -122.33799   \n",
       "1                 11                1.0  47.61317 -122.33393   \n",
       "2                 41                1.0  47.61393 -122.33810   \n",
       "3                 10                1.0  47.61412 -122.33664   \n",
       "4                 18                1.0  47.61375 -122.34047   \n",
       "...              ...                ...       ...        ...   \n",
       "3371               1                1.0  47.56722 -122.31154   \n",
       "3372               1                1.0  47.59625 -122.32283   \n",
       "3373               1                1.0  47.63644 -122.35784   \n",
       "3374               1                1.0  47.52832 -122.32431   \n",
       "3375               1                1.0  47.53939 -122.29536   \n",
       "\n",
       "               Neighborhood  SiteEnergyUse(kBtu)  Electricity(kBtu)  \\\n",
       "0                  DOWNTOWN         7.226362e+06       3.946027e+06   \n",
       "1                  DOWNTOWN         8.387933e+06       3.242851e+06   \n",
       "2                  DOWNTOWN         7.258702e+07       4.952666e+07   \n",
       "3                  DOWNTOWN         6.794584e+06       2.768924e+06   \n",
       "4                  DOWNTOWN         1.417261e+07       5.368607e+06   \n",
       "...                     ...                  ...                ...   \n",
       "3371       GREATER DUWAMISH         8.497457e+05       5.242709e+05   \n",
       "3372               DOWNTOWN         9.502762e+05       3.965461e+05   \n",
       "3373  MAGNOLIA / QUEEN ANNE         5.765898e+06       1.792159e+06   \n",
       "3374       GREATER DUWAMISH         7.194712e+05       3.488702e+05   \n",
       "3375       GREATER DUWAMISH         1.152896e+06       4.325542e+05   \n",
       "\n",
       "      NaturalGas(kBtu)  SteamUse(kBtu)  \n",
       "0         1.276453e+06      2003882.00  \n",
       "1         5.145082e+06            0.00  \n",
       "2         1.493800e+06     21566554.00  \n",
       "3         1.811213e+06      2214446.25  \n",
       "4         8.803998e+06            0.00  \n",
       "...                ...             ...  \n",
       "3371      3.254750e+05            0.00  \n",
       "3372      5.537300e+05            0.00  \n",
       "3373      3.973739e+06            0.00  \n",
       "3374      3.706010e+05            0.00  \n",
       "3375      7.203420e+05            0.00  \n",
       "\n",
       "[1641 rows x 14 columns]"
      ]
     },
     "execution_count": 2,
     "metadata": {},
     "output_type": "execute_result"
    }
   ],
   "source": [
    "\n",
    "bc_after_eda = pd.read_csv(\"data/bc_after_eda.csv\", index_col='Unnamed: 0')\n",
    "bc_after_eda"
   ]
  },
  {
   "cell_type": "markdown",
   "metadata": {},
   "source": [
    "## Import des modules "
   ]
  },
  {
   "cell_type": "code",
   "execution_count": 3,
   "metadata": {},
   "outputs": [],
   "source": [
    "#Selection\n",
    "from sklearn.model_selection import (\n",
    "    train_test_split,\n",
    "    GridSearchCV, \n",
    "    cross_validate,\n",
    ")\n",
    "from sklearn.metrics import r2_score, mean_absolute_error , root_mean_squared_error, mean_absolute_percentage_error\n",
    "from sklearn.inspection import permutation_importance\n",
    "from sklearn.pipeline import Pipeline\n",
    "\n",
    "#Preprocess\n",
    "from sklearn.compose import ColumnTransformer\n",
    "from sklearn.preprocessing import LabelEncoder, OneHotEncoder, StandardScaler,FunctionTransformer\n",
    "\n",
    "#Modèles\n",
    "from sklearn.dummy import DummyRegressor\n",
    "from sklearn.linear_model import LinearRegression\n",
    "from sklearn.svm import SVR\n",
    "from sklearn.ensemble import RandomForestRegressor, GradientBoostingRegressor\n"
   ]
  },
  {
   "cell_type": "markdown",
   "metadata": {},
   "source": [
    "## Feature Engineering"
   ]
  },
  {
   "cell_type": "markdown",
   "metadata": {},
   "source": [
    "A réaliser : Enrichir le jeu de données actuel avec de nouvelles features issues de celles existantes. "
   ]
  },
  {
   "cell_type": "markdown",
   "metadata": {},
   "source": [
    "### Préparation des features pour la modélisation"
   ]
  },
  {
   "cell_type": "markdown",
   "metadata": {},
   "source": [
    "A réaliser :\n",
    "* Si ce n'est pas déjà fait, supprimer toutes les colonnes peu pertinentes pour la modélisation.\n",
    "* Tracer la distribution de la cible pour vous familiariser avec l'ordre de grandeur. En cas d'outliers, mettez en place une démarche pour les supprimer.\n",
    "* Débarrassez-vous des features redondantes en utilisant une matrice de corrélation.\n",
    "* Réalisez différents graphiques pour comprendre le lien entre vos features et la target (boxplots, scatterplots, pairplot si votre nombre de features numériques n'est pas très élevé).\n",
    "*  Séparez votre jeu de données en un Pandas DataFrame X (ensemble de feautures) et Pandas Series y (votre target).\n",
    "* Si vous avez des features catégorielles, il faut les encoder pour que votre modèle fonctionne."
   ]
  },
  {
   "cell_type": "markdown",
   "metadata": {},
   "source": [
    "#### Modes énergétiques"
   ]
  },
  {
   "cell_type": "code",
   "execution_count": 4,
   "metadata": {},
   "outputs": [],
   "source": [
    "bc_after_eda['UseGas'] = (bc_after_eda['NaturalGas(kBtu)'].notna()) & (bc_after_eda['NaturalGas(kBtu)'] != 0)\n",
    "bc_after_eda['UseSteam'] = (bc_after_eda['SteamUse(kBtu)'].notna()) & (bc_after_eda['SteamUse(kBtu)'] != 0)\n",
    "bc_after_eda['UseElectricity'] = (bc_after_eda['Electricity(kBtu)'].notna()) & (bc_after_eda['Electricity(kBtu)'] != 0)\n"
   ]
  },
  {
   "cell_type": "markdown",
   "metadata": {},
   "source": [
    "#### Age de la propriété"
   ]
  },
  {
   "cell_type": "code",
   "execution_count": 5,
   "metadata": {},
   "outputs": [],
   "source": [
    "bc_after_eda['AgeProperty']= 2016 - bc_after_eda['YearBuilt']\n",
    "bc_after_eda['AgeCategory'] = pd.cut(bc_after_eda['AgeProperty'], \n",
    "                                  bins=[0, 20, 40, 70, 200], \n",
    "                                  labels=['New', 'Recent', 'Old', 'Historic'])\n"
   ]
  },
  {
   "cell_type": "markdown",
   "metadata": {},
   "source": [
    "#### Ere de  construction de la propriété"
   ]
  },
  {
   "cell_type": "code",
   "execution_count": 6,
   "metadata": {},
   "outputs": [],
   "source": [
    "bc_after_eda['EnergyEra'] = pd.cut(bc_after_eda['YearBuilt'], \n",
    "                                bins=[1800, 1980, 2000, 2025], \n",
    "                                labels=['Pre-Energy-Crisis', 'Modern', 'Contemporary'])"
   ]
  },
  {
   "cell_type": "markdown",
   "metadata": {},
   "source": [
    "#### distance du centre ville"
   ]
  },
  {
   "cell_type": "code",
   "execution_count": 7,
   "metadata": {},
   "outputs": [
    {
     "data": {
      "application/vnd.microsoft.datawrangler.viewer.v0+json": {
       "columns": [
        {
         "name": "index",
         "rawType": "object",
         "type": "string"
        },
        {
         "name": "CityDistance",
         "rawType": "float64",
         "type": "float"
        }
       ],
       "ref": "48648d75-3736-4610-8d91-c0d5fd001562",
       "rows": [
        [
         "count",
         "1641.0"
        ],
        [
         "mean",
         "0.1786640450421285"
        ],
        [
         "std",
         "0.026148787180853946"
        ],
        [
         "min",
         "0.09940015929367914"
        ],
        [
         "25%",
         "0.16479956578708044"
        ],
        [
         "50%",
         "0.17604690643578835"
        ],
        [
         "75%",
         "0.19252302408701963"
        ],
        [
         "max",
         "0.30381511041436543"
        ]
       ],
       "shape": {
        "columns": 1,
        "rows": 8
       }
      },
      "text/plain": [
       "count    1641.000000\n",
       "mean        0.178664\n",
       "std         0.026149\n",
       "min         0.099400\n",
       "25%         0.164800\n",
       "50%         0.176047\n",
       "75%         0.192523\n",
       "max         0.303815\n",
       "Name: CityDistance, dtype: float64"
      ]
     },
     "execution_count": 7,
     "metadata": {},
     "output_type": "execute_result"
    }
   ],
   "source": [
    "seattle_position = (47.6085965,-122.5049456)\n",
    "bc_after_eda['CityDistance'] = np.sqrt(\n",
    "    (bc_after_eda['Latitude'] - seattle_position[0])**2 + \n",
    "    (bc_after_eda['Longitude'] - seattle_position[1])**2)\n",
    "bc_after_eda['CityDistance'].describe()\n"
   ]
  },
  {
   "cell_type": "markdown",
   "metadata": {},
   "source": [
    "#### Utilisation multiple"
   ]
  },
  {
   "cell_type": "code",
   "execution_count": 8,
   "metadata": {},
   "outputs": [
    {
     "data": {
      "application/vnd.microsoft.datawrangler.viewer.v0+json": {
       "columns": [
        {
         "name": "MultipleUseType",
         "rawType": "int64",
         "type": "integer"
        },
        {
         "name": "count",
         "rawType": "int64",
         "type": "integer"
        }
       ],
       "ref": "7f686cb4-8413-41ac-bab6-f304b35ca8a3",
       "rows": [
        [
         "1",
         "971"
        ],
        [
         "2",
         "537"
        ],
        [
         "3",
         "93"
        ],
        [
         "4",
         "32"
        ],
        [
         "6",
         "3"
        ],
        [
         "7",
         "2"
        ],
        [
         "5",
         "2"
        ],
        [
         "8",
         "1"
        ]
       ],
       "shape": {
        "columns": 1,
        "rows": 8
       }
      },
      "text/plain": [
       "MultipleUseType\n",
       "1    971\n",
       "2    537\n",
       "3     93\n",
       "4     32\n",
       "6      3\n",
       "7      2\n",
       "5      2\n",
       "8      1\n",
       "Name: count, dtype: int64"
      ]
     },
     "execution_count": 8,
     "metadata": {},
     "output_type": "execute_result"
    }
   ],
   "source": [
    "bc_after_eda['MultipleUseType'] = bc_after_eda['ListOfAllPropertyUseTypes'].str.count('s')+1\n",
    "bc_after_eda['MultipleUseType'].value_counts()"
   ]
  },
  {
   "cell_type": "code",
   "execution_count": null,
   "metadata": {},
   "outputs": [
    {
     "data": {
      "text/plain": [
       "Index(['3LargestGFA', 'ListOfAllPropertyUseTypes', 'FirstUseType',\n",
       "       'SecondLargestPropertyUseType', 'YearBuilt', 'NumberofFloors',\n",
       "       'NumberofBuildings', 'Latitude', 'Longitude', 'Neighborhood',\n",
       "       'SiteEnergyUse(kBtu)', 'Electricity(kBtu)', 'NaturalGas(kBtu)',\n",
       "       'SteamUse(kBtu)', 'UseGas', 'UseSteam', 'UseElectricity', 'AgeProperty',\n",
       "       'AgeCategory', 'EnergyEra', 'CityDistance', 'MultipleUseType'],\n",
       "      dtype='object')"
      ]
     },
     "execution_count": 626,
     "metadata": {},
     "output_type": "execute_result"
    }
   ],
   "source": [
    "bc_after_eda.columns"
   ]
  },
  {
   "cell_type": "markdown",
   "metadata": {},
   "source": [
    "## Split train/test"
   ]
  },
  {
   "cell_type": "code",
   "execution_count": 9,
   "metadata": {},
   "outputs": [],
   "source": [
    "predict_values = ['3LargestGFA', 'MultipleUseType', 'UseSteam', 'UseElectricity', 'UseGas', 'EnergyEra',\n",
    "       'AgeCategory', 'NumberofFloors', 'NumberofBuildings', 'CityDistance', 'Neighborhood', 'FirstUseType']\n",
    "X = bc_after_eda[predict_values]\n",
    "y = bc_after_eda['SiteEnergyUse(kBtu)']\n",
    "X_train, X_test, y_train, y_test = train_test_split(X, y, test_size=0.2, random_state=42)"
   ]
  },
  {
   "cell_type": "code",
   "execution_count": 10,
   "metadata": {},
   "outputs": [
    {
     "name": "stdout",
     "output_type": "stream",
     "text": [
      "Index X_train avant pipeline : True\n"
     ]
    }
   ],
   "source": [
    "print(\"Index X_train avant pipeline :\", X_train.index.equals(y_train.index))\n"
   ]
  },
  {
   "cell_type": "markdown",
   "metadata": {},
   "source": [
    "## Finalisation des features"
   ]
  },
  {
   "cell_type": "code",
   "execution_count": 11,
   "metadata": {},
   "outputs": [
    {
     "name": "stdout",
     "output_type": "stream",
     "text": [
      "✅ Pipeline terminé!\n",
      "Shape finale: Train (1312, 72), Test (329, 72)\n"
     ]
    },
    {
     "name": "stderr",
     "output_type": "stream",
     "text": [
      "/home/yves/.cache/pypoetry/virtualenvs/ocde-p6-qTWNOnCB-py3.13/lib/python3.13/site-packages/sklearn/preprocessing/_encoders.py:246: UserWarning: Found unknown categories in columns [0] during transform. These unknown categories will be encoded as all zeros\n",
      "  warnings.warn(\n"
     ]
    }
   ],
   "source": [
    "# ========================\n",
    "# ÉTAPE 1: PREPROCESSING PERSONNALISÉ \n",
    "# ========================\n",
    "\n",
    "def fix_floors_and_discretize(df):\n",
    "    \"\"\"Fonction qui fait tout votre preprocessing d'un coup\"\"\"\n",
    "    df = df.copy()\n",
    "    \n",
    "    # 1. Corriger NumberofFloors\n",
    "    mask = (df['NumberofFloors'] < 1)\n",
    "    OneBuildingMeanFloor = df[df['NumberofBuildings']==1][\"NumberofFloors\"].mean()\n",
    "    OneBuildingMeanFloor = int(OneBuildingMeanFloor.round(0))\n",
    "    df.loc[mask,'NumberofFloors'] = OneBuildingMeanFloor\n",
    "    \n",
    "    # 2. Créer AvgFloor (comme vous faisiez)\n",
    "    #df['AvgFloor'] = df['NumberofFloors']/df['NumberofBuildings']\n",
    "    \n",
    "    \n",
    "    # 5. PropertySize (3LargestGFA) – quantiles auto sur train\n",
    "    if not hasattr(fix_floors_and_discretize, 'size_bins'):\n",
    "        _, fix_floors_and_discretize.size_bins = pd.qcut(\n",
    "            df['3LargestGFA'], q=4, retbins=True, duplicates='drop'\n",
    "        )\n",
    "    df['PropertySize'] = pd.cut(df['3LargestGFA'],\n",
    "                                bins=fix_floors_and_discretize.size_bins,\n",
    "                                labels=['Small', 'Mid', 'Large', 'XLarge'],\n",
    "                                include_lowest=True)\n",
    "    \n",
    "    # 6. HeightCategory (NumberofFloors) – quantiles auto sur train\n",
    "    if not hasattr(fix_floors_and_discretize, 'floor_bins'):\n",
    "        _, fix_floors_and_discretize.floor_bins = pd.qcut(\n",
    "            df['NumberofFloors'], q=3, retbins=True, duplicates='drop'\n",
    "        )\n",
    "    df['HeightCategory'] = pd.cut(df['NumberofFloors'],\n",
    "                                  bins=fix_floors_and_discretize.floor_bins,\n",
    "                                  labels=['Low', 'Mid', 'High'],\n",
    "                                  include_lowest=True)\n",
    "    return df\n",
    "\n",
    "# ========================\n",
    "# ÉTAPE 2: PIPELINE COMPLET\n",
    "# ========================\n",
    "\n",
    "# Colonnes après votre preprocessing\n",
    "categorical_features = ['FirstUseType', 'PropertySize',\n",
    "                       'Neighborhood','AgeCategory','EnergyEra','HeightCategory']  # Ajoutez vos autres catégories ici\n",
    "\n",
    "numerical_features = ['3LargestGFA',  \n",
    "                     'CityDistance', 'MultipleUseType', 'NumberofFloors','NumberofBuildings']\n",
    "\n",
    "# Pipeline complet\n",
    "full_pipeline = Pipeline([\n",
    "    # Étape 1: Preprocessing personnalisé\n",
    "    ('preprocessing', FunctionTransformer(fix_floors_and_discretize, validate=False)),\n",
    "    \n",
    "    # Étape 2: Encodage + Normalisation\n",
    "    ('encoder', ColumnTransformer([\n",
    "        ('cat', OneHotEncoder(drop='first', sparse_output=False, handle_unknown='ignore'), \n",
    "         categorical_features),\n",
    "        ('num', StandardScaler(), numerical_features)\n",
    "    ], remainder='passthrough'))\n",
    "])\n",
    "\n",
    "# ========================\n",
    "# ÉTAPE 3: APPLICATION \n",
    "# ========================\n",
    "\n",
    "# Fit sur train et transform train/test\n",
    "X_train_transformed = full_pipeline.fit_transform(X_train)\n",
    "X_test_transformed = full_pipeline.transform(X_test)\n",
    "\n",
    "# ========================\n",
    "# ÉTAPE 4: CRÉER VOS DataFrames _final\n",
    "# ========================\n",
    "\n",
    "# Récupérer les noms des colonnes\n",
    "onehot = full_pipeline.named_steps['encoder'].named_transformers_['cat']\n",
    "onehot_names = onehot.get_feature_names_out(categorical_features)\n",
    "num_names = [f\"scaled_{col}\" for col in numerical_features]\n",
    "\n",
    "# Colonnes restantes (passthrough)\n",
    "all_cols_after_preprocessing = fix_floors_and_discretize(X_train).columns\n",
    "remaining_cols = [col for col in all_cols_after_preprocessing \n",
    "                 if col not in categorical_features + numerical_features]\n",
    "\n",
    "# Noms finaux\n",
    "final_feature_names = list(onehot_names) + num_names + remaining_cols\n",
    "\n",
    "# Vos DataFrames finaux\n",
    "X_train_final = pd.DataFrame(X_train_transformed, columns=final_feature_names,index=X_train.index )\n",
    "X_test_final = pd.DataFrame(X_test_transformed, columns=final_feature_names,index=X_test.index)\n",
    "\n",
    "# Conversion en numérique\n",
    "for col in X_train_final.columns:\n",
    "    X_train_final[col] = pd.to_numeric(X_train_final[col], errors='coerce')\n",
    "    X_test_final[col] = pd.to_numeric(X_test_final[col], errors='coerce')\n",
    "\n",
    "#X_train_final.drop(columns=['NumberofFloors', 'NumberofBuildings'], inplace=True)\n",
    "#X_test_final.drop(columns=['NumberofFloors', 'NumberofBuildings'], inplace=True)\n",
    "\n",
    "print(f\"✅ Pipeline terminé!\")\n",
    "print(f\"Shape finale: Train {X_train_final.shape}, Test {X_test_final.shape}\")\n"
   ]
  },
  {
   "cell_type": "code",
   "execution_count": 12,
   "metadata": {},
   "outputs": [
    {
     "name": "stdout",
     "output_type": "stream",
     "text": [
      "Index X_train_final après pipeline : True\n"
     ]
    }
   ],
   "source": [
    "print(\"Index X_train_final après pipeline :\", X_train_final.index.equals(y_train.index))"
   ]
  },
  {
   "cell_type": "code",
   "execution_count": 13,
   "metadata": {},
   "outputs": [
    {
     "name": "stdout",
     "output_type": "stream",
     "text": [
      "<class 'pandas.core.frame.DataFrame'>\n",
      "Index: 1312 entries, 2338 to 1965\n",
      "Data columns (total 72 columns):\n",
      " #   Column                                                        Non-Null Count  Dtype  \n",
      "---  ------                                                        --------------  -----  \n",
      " 0   FirstUseType_Automobile Dealership                            1312 non-null   float64\n",
      " 1   FirstUseType_Bank Branch                                      1312 non-null   float64\n",
      " 2   FirstUseType_Courthouse                                       1312 non-null   float64\n",
      " 3   FirstUseType_Data Center                                      1312 non-null   float64\n",
      " 4   FirstUseType_Distribution Center                              1312 non-null   float64\n",
      " 5   FirstUseType_Financial Office                                 1312 non-null   float64\n",
      " 6   FirstUseType_Fire Station                                     1312 non-null   float64\n",
      " 7   FirstUseType_Fitness Center/Health Club/Gym                   1312 non-null   float64\n",
      " 8   FirstUseType_Food Service                                     1312 non-null   float64\n",
      " 9   FirstUseType_Hospital                                         1312 non-null   float64\n",
      " 10  FirstUseType_Hotel                                            1312 non-null   float64\n",
      " 11  FirstUseType_K-12 School                                      1312 non-null   float64\n",
      " 12  FirstUseType_Laboratory                                       1312 non-null   float64\n",
      " 13  FirstUseType_Large Office                                     1312 non-null   float64\n",
      " 14  FirstUseType_Library                                          1312 non-null   float64\n",
      " 15  FirstUseType_Lifestyle Center                                 1312 non-null   float64\n",
      " 16  FirstUseType_Manufacturing/Industrial Plant                   1312 non-null   float64\n",
      " 17  FirstUseType_Medical Office                                   1312 non-null   float64\n",
      " 18  FirstUseType_Mixed Use Property                               1312 non-null   float64\n",
      " 19  FirstUseType_Movie Theater                                    1312 non-null   float64\n",
      " 20  FirstUseType_Museum                                           1312 non-null   float64\n",
      " 21  FirstUseType_Office                                           1312 non-null   float64\n",
      " 22  FirstUseType_Other                                            1312 non-null   float64\n",
      " 23  FirstUseType_Parking                                          1312 non-null   float64\n",
      " 24  FirstUseType_Performing Arts                                  1312 non-null   float64\n",
      " 25  FirstUseType_Police Station                                   1312 non-null   float64\n",
      " 26  FirstUseType_Pre-school/Daycare                               1312 non-null   float64\n",
      " 27  FirstUseType_Prison/Incarceration                             1312 non-null   float64\n",
      " 28  FirstUseType_Refrigerated Warehouse                           1312 non-null   float64\n",
      " 29  FirstUseType_Repair Services (Vehicle, Shoe, Locksmith, etc)  1312 non-null   float64\n",
      " 30  FirstUseType_Restaurant                                       1312 non-null   float64\n",
      " 31  FirstUseType_Retail Store                                     1312 non-null   float64\n",
      " 32  FirstUseType_Self-Storage Facility                            1312 non-null   float64\n",
      " 33  FirstUseType_Senior Care Community                            1312 non-null   float64\n",
      " 34  FirstUseType_Small- and Mid-Sized Office                      1312 non-null   float64\n",
      " 35  FirstUseType_Social/Meeting Hall                              1312 non-null   float64\n",
      " 36  FirstUseType_Strip Mall                                       1312 non-null   float64\n",
      " 37  FirstUseType_Supermarket / Grocery Store                      1312 non-null   float64\n",
      " 38  FirstUseType_University                                       1312 non-null   float64\n",
      " 39  FirstUseType_Warehouse                                        1312 non-null   float64\n",
      " 40  FirstUseType_Worship Facility                                 1312 non-null   float64\n",
      " 41  PropertySize_Mid                                              1312 non-null   float64\n",
      " 42  PropertySize_Small                                            1312 non-null   float64\n",
      " 43  PropertySize_XLarge                                           1312 non-null   float64\n",
      " 44  Neighborhood_CENTRAL                                          1312 non-null   float64\n",
      " 45  Neighborhood_DELRIDGE                                         1312 non-null   float64\n",
      " 46  Neighborhood_DELRIDGE NEIGHBORHOODS                           1312 non-null   float64\n",
      " 47  Neighborhood_DOWNTOWN                                         1312 non-null   float64\n",
      " 48  Neighborhood_EAST                                             1312 non-null   float64\n",
      " 49  Neighborhood_GREATER DUWAMISH                                 1312 non-null   float64\n",
      " 50  Neighborhood_LAKE UNION                                       1312 non-null   float64\n",
      " 51  Neighborhood_MAGNOLIA / QUEEN ANNE                            1312 non-null   float64\n",
      " 52  Neighborhood_NORTH                                            1312 non-null   float64\n",
      " 53  Neighborhood_NORTHEAST                                        1312 non-null   float64\n",
      " 54  Neighborhood_NORTHWEST                                        1312 non-null   float64\n",
      " 55  Neighborhood_SOUTHEAST                                        1312 non-null   float64\n",
      " 56  Neighborhood_SOUTHWEST                                        1312 non-null   float64\n",
      " 57  AgeCategory_New                                               1312 non-null   float64\n",
      " 58  AgeCategory_Old                                               1312 non-null   float64\n",
      " 59  AgeCategory_Recent                                            1312 non-null   float64\n",
      " 60  EnergyEra_Modern                                              1312 non-null   float64\n",
      " 61  EnergyEra_Pre-Energy-Crisis                                   1312 non-null   float64\n",
      " 62  HeightCategory_Low                                            1312 non-null   float64\n",
      " 63  HeightCategory_Mid                                            1312 non-null   float64\n",
      " 64  scaled_3LargestGFA                                            1312 non-null   float64\n",
      " 65  scaled_CityDistance                                           1312 non-null   float64\n",
      " 66  scaled_MultipleUseType                                        1312 non-null   float64\n",
      " 67  scaled_NumberofFloors                                         1312 non-null   float64\n",
      " 68  scaled_NumberofBuildings                                      1312 non-null   float64\n",
      " 69  UseSteam                                                      1312 non-null   float64\n",
      " 70  UseElectricity                                                1312 non-null   float64\n",
      " 71  UseGas                                                        1312 non-null   float64\n",
      "dtypes: float64(72)\n",
      "memory usage: 748.2 KB\n"
     ]
    }
   ],
   "source": [
    "X_train_final.info()"
   ]
  },
  {
   "cell_type": "code",
   "execution_count": 16,
   "metadata": {},
   "outputs": [
    {
     "name": "stdout",
     "output_type": "stream",
     "text": [
      "=== COMPARAISON MODÈLES AVEC PIPELINE COMPLET ===\n"
     ]
    },
    {
     "name": "stderr",
     "output_type": "stream",
     "text": [
      "/home/yves/.cache/pypoetry/virtualenvs/ocde-p6-qTWNOnCB-py3.13/lib/python3.13/site-packages/sklearn/preprocessing/_encoders.py:246: UserWarning: Found unknown categories in columns [0] during transform. These unknown categories will be encoded as all zeros\n",
      "  warnings.warn(\n",
      "/home/yves/.cache/pypoetry/virtualenvs/ocde-p6-qTWNOnCB-py3.13/lib/python3.13/site-packages/sklearn/preprocessing/_encoders.py:246: UserWarning: Found unknown categories in columns [0, 2] during transform. These unknown categories will be encoded as all zeros\n",
      "  warnings.warn(\n",
      "/home/yves/.cache/pypoetry/virtualenvs/ocde-p6-qTWNOnCB-py3.13/lib/python3.13/site-packages/sklearn/preprocessing/_encoders.py:246: UserWarning: Found unknown categories in columns [0] during transform. These unknown categories will be encoded as all zeros\n",
      "  warnings.warn(\n",
      "/home/yves/.cache/pypoetry/virtualenvs/ocde-p6-qTWNOnCB-py3.13/lib/python3.13/site-packages/sklearn/preprocessing/_encoders.py:246: UserWarning: Found unknown categories in columns [0] during transform. These unknown categories will be encoded as all zeros\n",
      "  warnings.warn(\n",
      "/usr/lib/python3.13/multiprocessing/queues.py:120: UserWarning: pkg_resources is deprecated as an API. See https://setuptools.pypa.io/en/latest/pkg_resources.html. The pkg_resources package is slated for removal as early as 2025-11-30. Refrain from using this package or pin to Setuptools<81.\n",
      "  return _ForkingPickler.loads(res)\n",
      "/home/yves/.cache/pypoetry/virtualenvs/ocde-p6-qTWNOnCB-py3.13/lib/python3.13/site-packages/sklearn/preprocessing/_encoders.py:246: UserWarning: Found unknown categories in columns [0] during transform. These unknown categories will be encoded as all zeros\n",
      "  warnings.warn(\n",
      "/home/yves/.cache/pypoetry/virtualenvs/ocde-p6-qTWNOnCB-py3.13/lib/python3.13/site-packages/sklearn/preprocessing/_encoders.py:246: UserWarning: Found unknown categories in columns [0] during transform. These unknown categories will be encoded as all zeros\n",
      "  warnings.warn(\n",
      "/home/yves/.cache/pypoetry/virtualenvs/ocde-p6-qTWNOnCB-py3.13/lib/python3.13/site-packages/sklearn/preprocessing/_encoders.py:246: UserWarning: Found unknown categories in columns [0, 2] during transform. These unknown categories will be encoded as all zeros\n",
      "  warnings.warn(\n",
      "/home/yves/.cache/pypoetry/virtualenvs/ocde-p6-qTWNOnCB-py3.13/lib/python3.13/site-packages/sklearn/preprocessing/_encoders.py:246: UserWarning: Found unknown categories in columns [0] during transform. These unknown categories will be encoded as all zeros\n",
      "  warnings.warn(\n",
      "/home/yves/.cache/pypoetry/virtualenvs/ocde-p6-qTWNOnCB-py3.13/lib/python3.13/site-packages/sklearn/preprocessing/_encoders.py:246: UserWarning: Found unknown categories in columns [0] during transform. These unknown categories will be encoded as all zeros\n",
      "  warnings.warn(\n",
      "/home/yves/.cache/pypoetry/virtualenvs/ocde-p6-qTWNOnCB-py3.13/lib/python3.13/site-packages/sklearn/preprocessing/_encoders.py:246: UserWarning: Found unknown categories in columns [0] during transform. These unknown categories will be encoded as all zeros\n",
      "  warnings.warn(\n",
      "/home/yves/.cache/pypoetry/virtualenvs/ocde-p6-qTWNOnCB-py3.13/lib/python3.13/site-packages/sklearn/preprocessing/_encoders.py:246: UserWarning: Found unknown categories in columns [0] during transform. These unknown categories will be encoded as all zeros\n",
      "  warnings.warn(\n",
      "/home/yves/.cache/pypoetry/virtualenvs/ocde-p6-qTWNOnCB-py3.13/lib/python3.13/site-packages/sklearn/preprocessing/_encoders.py:246: UserWarning: Found unknown categories in columns [0, 2] during transform. These unknown categories will be encoded as all zeros\n",
      "  warnings.warn(\n",
      "/home/yves/.cache/pypoetry/virtualenvs/ocde-p6-qTWNOnCB-py3.13/lib/python3.13/site-packages/sklearn/preprocessing/_encoders.py:246: UserWarning: Found unknown categories in columns [0] during transform. These unknown categories will be encoded as all zeros\n",
      "  warnings.warn(\n",
      "/home/yves/.cache/pypoetry/virtualenvs/ocde-p6-qTWNOnCB-py3.13/lib/python3.13/site-packages/sklearn/preprocessing/_encoders.py:246: UserWarning: Found unknown categories in columns [0] during transform. These unknown categories will be encoded as all zeros\n",
      "  warnings.warn(\n",
      "/home/yves/.cache/pypoetry/virtualenvs/ocde-p6-qTWNOnCB-py3.13/lib/python3.13/site-packages/sklearn/preprocessing/_encoders.py:246: UserWarning: Found unknown categories in columns [0] during transform. These unknown categories will be encoded as all zeros\n",
      "  warnings.warn(\n"
     ]
    },
    {
     "name": "stdout",
     "output_type": "stream",
     "text": [
      "DummyRegressor → R²: -0.017, RMSE: 29013479\n",
      "LinearRegression → R²: 0.494, RMSE: 15320664\n",
      "SVR → R²: -0.067, RMSE: 29634019\n"
     ]
    },
    {
     "name": "stderr",
     "output_type": "stream",
     "text": [
      "/home/yves/.cache/pypoetry/virtualenvs/ocde-p6-qTWNOnCB-py3.13/lib/python3.13/site-packages/sklearn/preprocessing/_encoders.py:246: UserWarning: Found unknown categories in columns [0] during transform. These unknown categories will be encoded as all zeros\n",
      "  warnings.warn(\n",
      "/home/yves/.cache/pypoetry/virtualenvs/ocde-p6-qTWNOnCB-py3.13/lib/python3.13/site-packages/sklearn/preprocessing/_encoders.py:246: UserWarning: Found unknown categories in columns [0] during transform. These unknown categories will be encoded as all zeros\n",
      "  warnings.warn(\n",
      "/home/yves/.cache/pypoetry/virtualenvs/ocde-p6-qTWNOnCB-py3.13/lib/python3.13/site-packages/sklearn/preprocessing/_encoders.py:246: UserWarning: Found unknown categories in columns [0, 2] during transform. These unknown categories will be encoded as all zeros\n",
      "  warnings.warn(\n",
      "/home/yves/.cache/pypoetry/virtualenvs/ocde-p6-qTWNOnCB-py3.13/lib/python3.13/site-packages/sklearn/preprocessing/_encoders.py:246: UserWarning: Found unknown categories in columns [0] during transform. These unknown categories will be encoded as all zeros\n",
      "  warnings.warn(\n",
      "/home/yves/.cache/pypoetry/virtualenvs/ocde-p6-qTWNOnCB-py3.13/lib/python3.13/site-packages/sklearn/preprocessing/_encoders.py:246: UserWarning: Found unknown categories in columns [0] during transform. These unknown categories will be encoded as all zeros\n",
      "  warnings.warn(\n"
     ]
    },
    {
     "name": "stdout",
     "output_type": "stream",
     "text": [
      "GradientBoosting → R²: -0.424, RMSE: 28769810\n",
      "RandomForest → R²: 0.172, RMSE: 24054996\n"
     ]
    },
    {
     "name": "stderr",
     "output_type": "stream",
     "text": [
      "/home/yves/.cache/pypoetry/virtualenvs/ocde-p6-qTWNOnCB-py3.13/lib/python3.13/site-packages/sklearn/preprocessing/_encoders.py:246: UserWarning: Found unknown categories in columns [0, 2] during transform. These unknown categories will be encoded as all zeros\n",
      "  warnings.warn(\n",
      "/home/yves/.cache/pypoetry/virtualenvs/ocde-p6-qTWNOnCB-py3.13/lib/python3.13/site-packages/sklearn/preprocessing/_encoders.py:246: UserWarning: Found unknown categories in columns [0] during transform. These unknown categories will be encoded as all zeros\n",
      "  warnings.warn(\n",
      "/home/yves/.cache/pypoetry/virtualenvs/ocde-p6-qTWNOnCB-py3.13/lib/python3.13/site-packages/sklearn/preprocessing/_encoders.py:246: UserWarning: Found unknown categories in columns [0] during transform. These unknown categories will be encoded as all zeros\n",
      "  warnings.warn(\n",
      "/home/yves/.cache/pypoetry/virtualenvs/ocde-p6-qTWNOnCB-py3.13/lib/python3.13/site-packages/sklearn/preprocessing/_encoders.py:246: UserWarning: Found unknown categories in columns [0] during transform. These unknown categories will be encoded as all zeros\n",
      "  warnings.warn(\n",
      "/home/yves/.cache/pypoetry/virtualenvs/ocde-p6-qTWNOnCB-py3.13/lib/python3.13/site-packages/sklearn/preprocessing/_encoders.py:246: UserWarning: Found unknown categories in columns [0] during transform. These unknown categories will be encoded as all zeros\n",
      "  warnings.warn(\n"
     ]
    }
   ],
   "source": [
    "# CODE COMPARAISON DES MODELES\n",
    "\n",
    "models = {\n",
    "    'DummyRegressor': DummyRegressor(strategy='mean'),\n",
    "    'LinearRegression': LinearRegression(),\n",
    "    'SVR': SVR(),\n",
    "    'GradientBoosting': GradientBoostingRegressor(random_state=42),\n",
    "    'RandomForest': RandomForestRegressor(random_state=42, n_jobs=-1)\n",
    "}\n",
    "\n",
    "scoring = ['neg_root_mean_squared_error','r2','neg_mean_absolute_error']\n",
    "cv_results = {}\n",
    "\n",
    "print(\"=== COMPARAISON MODÈLES AVEC PIPELINE COMPLET ===\")\n",
    "for name, model in models.items():\n",
    "    # Pipeline complet + modèle final\n",
    "    full_estimator = Pipeline([\n",
    "        ('preprocess', full_pipeline.named_steps['preprocessing']),\n",
    "        ('encode_scale', full_pipeline.named_steps['encoder']),\n",
    "        ('model', model)\n",
    "    ])\n",
    "    scores = cross_validate(full_estimator, X_train, y_train, \n",
    "                            cv=5, scoring=scoring, n_jobs=-1)\n",
    "    cv_results[name] = {\n",
    "        'RMSE': -scores['test_neg_root_mean_squared_error'].mean(),\n",
    "        'R2': scores['test_r2'].mean(),\n",
    "        'MAE': -scores['test_neg_mean_absolute_error'].mean()\n",
    "    }\n",
    "    print(f\"{name} → R²: {cv_results[name]['R2']:.3f}, RMSE: {cv_results[name]['RMSE']:.0f}\")\n",
    "    \n",
    "    "
   ]
  },
  {
   "cell_type": "markdown",
   "metadata": {},
   "source": [
    "### Optimisation et interprétation du modèle"
   ]
  },
  {
   "cell_type": "markdown",
   "metadata": {},
   "source": [
    "A réaliser :\n",
    "* Reprennez le meilleur algorithme que vous avez sécurisé via l'étape précédente, et réalisez une GridSearch de petite taille sur au moins 3 hyperparamètres.\n",
    "* Si le meilleur modèle fait partie de la famille des modèles à arbres (RandomForest, GradientBoosting) alors utilisez la fonctionnalité feature importance pour identifier les features les plus impactantes sur la performance du modèle. Sinon, utilisez la méthode Permutation Importance de sklearn. "
   ]
  },
  {
   "cell_type": "code",
   "execution_count": 638,
   "metadata": {},
   "outputs": [
    {
     "name": "stdout",
     "output_type": "stream",
     "text": [
      "Fitting 3 folds for each of 12 candidates, totalling 36 fits\n",
      "Best parameters: {'max_depth': 20, 'min_samples_split': 2, 'n_estimators': 100}\n",
      "Best RMSE (neg): -22389105.06051686\n"
     ]
    }
   ],
   "source": [
    "# CODE OPTIMISATION ET INTERPRETATION DU MODELE\n",
    "import warnings\n",
    "warnings.filterwarnings(\"ignore\", category=UserWarning)\n",
    "# Définir une petite grille d’hyperparamètres à tester\n",
    "param_grid = {\n",
    "    'n_estimators': [100, 200],          # nombre d’arbres\n",
    "    'max_depth': [10, 20, None],         # profondeur max des arbres\n",
    "    'min_samples_split': [2, 5]          # nombre min d’échantillons pour split\n",
    "}\n",
    "\n",
    "# Créer et configurer la GridSearch\n",
    "gs = GridSearchCV(\n",
    "    estimator=RandomForestRegressor(random_state=42, n_jobs=-1),\n",
    "    param_grid=param_grid,\n",
    "    scoring='neg_root_mean_squared_error',  # RMSE négatif car maximisation par GridSearch\n",
    "    cv=3,                                  # validation croisée 3 folds pour rapidité\n",
    "    n_jobs=-1,\n",
    "    verbose=1\n",
    ")\n",
    "\n",
    "# Exécuter la recherche sur le train\n",
    "gs.fit(X_train_final, y_train)\n",
    "\n",
    "# Afficher les meilleurs paramètres et score\n",
    "print(\"Best parameters:\", gs.best_params_)\n",
    "print(\"Best RMSE (neg):\", gs.best_score_)"
   ]
  },
  {
   "cell_type": "markdown",
   "metadata": {},
   "source": [
    "### Résultat V1 'main'\n",
    "\n",
    "\n",
    "Recalculated RMSE: 8594300.258724326  \n",
    "Recalculated R2: 0.7820465641162211  \n",
    "Recalculated MAE: 3339004.45232972  \n",
    "Recalculated MAPE: 0.8307252249062986  \n",
    "\n"
   ]
  },
  {
   "cell_type": "code",
   "execution_count": 639,
   "metadata": {},
   "outputs": [
    {
     "name": "stdout",
     "output_type": "stream",
     "text": [
      "Top 10 features by importance:\n",
      "- scaled_3LargestGFA: 0.4418\n",
      "- scaled_NumberofBuildings: 0.3338\n",
      "- FirstUseType_Hospital: 0.0543\n",
      "- scaled_CityDistance: 0.0338\n",
      "- FirstUseType_Data Center: 0.0313\n",
      "- scaled_NumberofFloors: 0.0176\n",
      "- FirstUseType_Mixed Use Property: 0.0118\n",
      "- HeightCategory_Mid: 0.0115\n",
      "- Neighborhood_NORTHEAST: 0.0061\n",
      "- scaled_MultipleUseType: 0.0057\n",
      "- FirstUseType_University: 0.0048\n",
      "- UseGas: 0.0046\n",
      "- EnergyEra_Modern: 0.0046\n",
      "- FirstUseType_Other: 0.0045\n",
      "- AgeCategory_Recent: 0.0044\n",
      "- UseSteam: 0.0034\n",
      "- Neighborhood_EAST: 0.0030\n",
      "- FirstUseType_Laboratory: 0.0029\n",
      "- EnergyEra_Pre-Energy-Crisis: 0.0023\n",
      "- HeightCategory_Low: 0.0023\n",
      "- FirstUseType_Hotel: 0.0018\n",
      "- Neighborhood_LAKE UNION: 0.0016\n",
      "- FirstUseType_Supermarket / Grocery Store: 0.0014\n",
      "- Neighborhood_GREATER DUWAMISH: 0.0014\n",
      "- AgeCategory_Old: 0.0013\n",
      "- FirstUseType_Medical Office: 0.0011\n",
      "- AgeCategory_New: 0.0009\n",
      "- Neighborhood_DOWNTOWN: 0.0009\n",
      "- FirstUseType_Large Office: 0.0008\n",
      "- FirstUseType_Warehouse: 0.0005\n"
     ]
    }
   ],
   "source": [
    "best_model = gs.best_estimator_\n",
    "\n",
    "importances = best_model.feature_importances_\n",
    "feature_names = X_train_final.columns\n",
    "\n",
    "# Affichage du top 15 features les plus importantes\n",
    "sorted_idx = importances.argsort()[::-1]\n",
    "print(\"Top 10 features by importance:\")\n",
    "for idx in sorted_idx[:30]:\n",
    "    print(f\"- {feature_names[idx]}: {importances[idx]:.4f}\")"
   ]
  },
  {
   "cell_type": "code",
   "execution_count": 640,
   "metadata": {},
   "outputs": [
    {
     "name": "stdout",
     "output_type": "stream",
     "text": [
      "Recalculated RMSE: 8887739.117017826\n",
      "Recalculated R2: 0.7669091255711366\n",
      "Recalculated MAE: 3301680.4566533007\n",
      "Recalculated MAPE: 0.8048223870314912\n"
     ]
    }
   ],
   "source": [
    "y_pred = best_model.predict(X_test_final)\n",
    "rmse = root_mean_squared_error(y_test, y_pred)  \n",
    "r2 = r2_score(y_test, y_pred)\n",
    "mae = mean_absolute_error(y_test, y_pred)\n",
    "mape = mean_absolute_percentage_error(y_test, y_pred)\n",
    "\n",
    "print(f\"Recalculated RMSE: {rmse}\")\n",
    "print(f\"Recalculated R2: {r2}\")\n",
    "print(f\"Recalculated MAE: {mae}\")\n",
    "print(f\"Recalculated MAPE: {mape}\")"
   ]
  }
 ],
 "metadata": {
  "kernelspec": {
   "display_name": "ocde-p6-qTWNOnCB-py3.13",
   "language": "python",
   "name": "python3"
  },
  "language_info": {
   "codemirror_mode": {
    "name": "ipython",
    "version": 3
   },
   "file_extension": ".py",
   "mimetype": "text/x-python",
   "name": "python",
   "nbconvert_exporter": "python",
   "pygments_lexer": "ipython3",
   "version": "3.13.5"
  }
 },
 "nbformat": 4,
 "nbformat_minor": 2
}
