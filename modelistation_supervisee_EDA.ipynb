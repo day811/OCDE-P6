{
 "cells": [
  {
   "cell_type": "markdown",
   "metadata": {},
   "source": [
    "# Analyse Exploratoire"
   ]
  },
  {
   "cell_type": "markdown",
   "metadata": {},
   "source": [
    "A réaliser : \n",
    "- Une analyse descriptive des données, y compris une explication du sens des colonnes gardées, des arguments derrière la suppression de lignes ou de colonnes, des statistiques descriptives et des visualisations pertinentes."
   ]
  },
  {
   "cell_type": "markdown",
   "metadata": {},
   "source": [
    "## Import des modules"
   ]
  },
  {
   "cell_type": "code",
   "execution_count": 1,
   "metadata": {},
   "outputs": [],
   "source": [
    "import pandas as pd\n",
    "import numpy as np\n",
    "import matplotlib.pyplot as plt\n",
    "import seaborn as sns "
   ]
  },
  {
   "cell_type": "code",
   "execution_count": 2,
   "metadata": {},
   "outputs": [
    {
     "name": "stdout",
     "output_type": "stream",
     "text": [
      "Dataset initial : 3376 bâtiments, 46 colonnes\n"
     ]
    }
   ],
   "source": [
    "bc_csv = pd.read_csv(\"data/2016_Building_Energy_Benchmarking.csv\")\n",
    "print(f\"Dataset initial : {len(bc_csv)} bâtiments, {bc_csv.shape[1]} colonnes\")"
   ]
  },
  {
   "cell_type": "code",
   "execution_count": 3,
   "metadata": {},
   "outputs": [
    {
     "data": {
      "application/vnd.microsoft.datawrangler.viewer.v0+json": {
       "columns": [
        {
         "name": "index",
         "rawType": "int64",
         "type": "integer"
        },
        {
         "name": "OSEBuildingID",
         "rawType": "int64",
         "type": "integer"
        },
        {
         "name": "DataYear",
         "rawType": "int64",
         "type": "integer"
        },
        {
         "name": "BuildingType",
         "rawType": "object",
         "type": "string"
        },
        {
         "name": "PrimaryPropertyType",
         "rawType": "object",
         "type": "string"
        },
        {
         "name": "PropertyName",
         "rawType": "object",
         "type": "string"
        },
        {
         "name": "Address",
         "rawType": "object",
         "type": "string"
        },
        {
         "name": "City",
         "rawType": "object",
         "type": "string"
        },
        {
         "name": "State",
         "rawType": "object",
         "type": "string"
        },
        {
         "name": "ZipCode",
         "rawType": "float64",
         "type": "float"
        },
        {
         "name": "TaxParcelIdentificationNumber",
         "rawType": "object",
         "type": "string"
        },
        {
         "name": "CouncilDistrictCode",
         "rawType": "int64",
         "type": "integer"
        },
        {
         "name": "Neighborhood",
         "rawType": "object",
         "type": "string"
        },
        {
         "name": "Latitude",
         "rawType": "float64",
         "type": "float"
        },
        {
         "name": "Longitude",
         "rawType": "float64",
         "type": "float"
        },
        {
         "name": "YearBuilt",
         "rawType": "int64",
         "type": "integer"
        },
        {
         "name": "NumberofBuildings",
         "rawType": "float64",
         "type": "float"
        },
        {
         "name": "NumberofFloors",
         "rawType": "int64",
         "type": "integer"
        },
        {
         "name": "PropertyGFATotal",
         "rawType": "int64",
         "type": "integer"
        },
        {
         "name": "PropertyGFAParking",
         "rawType": "int64",
         "type": "integer"
        },
        {
         "name": "PropertyGFABuilding(s)",
         "rawType": "int64",
         "type": "integer"
        },
        {
         "name": "ListOfAllPropertyUseTypes",
         "rawType": "object",
         "type": "string"
        },
        {
         "name": "LargestPropertyUseType",
         "rawType": "object",
         "type": "string"
        },
        {
         "name": "LargestPropertyUseTypeGFA",
         "rawType": "float64",
         "type": "float"
        },
        {
         "name": "SecondLargestPropertyUseType",
         "rawType": "object",
         "type": "unknown"
        },
        {
         "name": "SecondLargestPropertyUseTypeGFA",
         "rawType": "float64",
         "type": "float"
        },
        {
         "name": "ThirdLargestPropertyUseType",
         "rawType": "object",
         "type": "unknown"
        },
        {
         "name": "ThirdLargestPropertyUseTypeGFA",
         "rawType": "float64",
         "type": "float"
        },
        {
         "name": "YearsENERGYSTARCertified",
         "rawType": "object",
         "type": "unknown"
        },
        {
         "name": "ENERGYSTARScore",
         "rawType": "float64",
         "type": "float"
        },
        {
         "name": "SiteEUI(kBtu/sf)",
         "rawType": "float64",
         "type": "float"
        },
        {
         "name": "SiteEUIWN(kBtu/sf)",
         "rawType": "float64",
         "type": "float"
        },
        {
         "name": "SourceEUI(kBtu/sf)",
         "rawType": "float64",
         "type": "float"
        },
        {
         "name": "SourceEUIWN(kBtu/sf)",
         "rawType": "float64",
         "type": "float"
        },
        {
         "name": "SiteEnergyUse(kBtu)",
         "rawType": "float64",
         "type": "float"
        },
        {
         "name": "SiteEnergyUseWN(kBtu)",
         "rawType": "float64",
         "type": "float"
        },
        {
         "name": "SteamUse(kBtu)",
         "rawType": "float64",
         "type": "float"
        },
        {
         "name": "Electricity(kWh)",
         "rawType": "float64",
         "type": "float"
        },
        {
         "name": "Electricity(kBtu)",
         "rawType": "float64",
         "type": "float"
        },
        {
         "name": "NaturalGas(therms)",
         "rawType": "float64",
         "type": "float"
        },
        {
         "name": "NaturalGas(kBtu)",
         "rawType": "float64",
         "type": "float"
        },
        {
         "name": "DefaultData",
         "rawType": "bool",
         "type": "boolean"
        },
        {
         "name": "Comments",
         "rawType": "float64",
         "type": "float"
        },
        {
         "name": "ComplianceStatus",
         "rawType": "object",
         "type": "string"
        },
        {
         "name": "Outlier",
         "rawType": "object",
         "type": "unknown"
        },
        {
         "name": "TotalGHGEmissions",
         "rawType": "float64",
         "type": "float"
        },
        {
         "name": "GHGEmissionsIntensity",
         "rawType": "float64",
         "type": "float"
        }
       ],
       "ref": "c65658b3-b58c-4d6a-beca-8262a6377e4f",
       "rows": [
        [
         "0",
         "1",
         "2016",
         "NonResidential",
         "Hotel",
         "Mayflower park hotel",
         "405 Olive way",
         "Seattle",
         "WA",
         "98101.0",
         "0659000030",
         "7",
         "DOWNTOWN",
         "47.6122",
         "-122.33799",
         "1927",
         "1.0",
         "12",
         "88434",
         "0",
         "88434",
         "Hotel",
         "Hotel",
         "88434.0",
         null,
         null,
         null,
         null,
         null,
         "60.0",
         "81.69999695",
         "84.30000305",
         "182.5",
         "189.0",
         "7226362.5",
         "7456910.0",
         "2003882.0",
         "1156514.25",
         "3946027.0",
         "12764.5293",
         "1276453.0",
         "False",
         null,
         "Compliant",
         null,
         "249.98",
         "2.83"
        ],
        [
         "1",
         "2",
         "2016",
         "NonResidential",
         "Hotel",
         "Paramount Hotel",
         "724 Pine street",
         "Seattle",
         "WA",
         "98101.0",
         "0659000220",
         "7",
         "DOWNTOWN",
         "47.61317",
         "-122.33393",
         "1996",
         "1.0",
         "11",
         "103566",
         "15064",
         "88502",
         "Hotel, Parking, Restaurant",
         "Hotel",
         "83880.0",
         "Parking",
         "15064.0",
         "Restaurant",
         "4622.0",
         null,
         "61.0",
         "94.80000305",
         "97.90000153",
         "176.1000061",
         "179.3999939",
         "8387933.0",
         "8664479.0",
         "0.0",
         "950425.1875",
         "3242851.0",
         "51450.81641",
         "5145082.0",
         "False",
         null,
         "Compliant",
         null,
         "295.86",
         "2.86"
        ],
        [
         "2",
         "3",
         "2016",
         "NonResidential",
         "Hotel",
         "5673-The Westin Seattle",
         "1900 5th Avenue",
         "Seattle",
         "WA",
         "98101.0",
         "0659000475",
         "7",
         "DOWNTOWN",
         "47.61393",
         "-122.3381",
         "1969",
         "1.0",
         "41",
         "956110",
         "196718",
         "759392",
         "Hotel",
         "Hotel",
         "756493.0",
         null,
         null,
         null,
         null,
         null,
         "43.0",
         "96.0",
         "97.69999695",
         "241.8999939",
         "244.1000061",
         "72587024.0",
         "73937112.0",
         "21566554.0",
         "14515435.0",
         "49526664.0",
         "14938.0",
         "1493800.0",
         "False",
         null,
         "Compliant",
         null,
         "2089.28",
         "2.19"
        ],
        [
         "3",
         "5",
         "2016",
         "NonResidential",
         "Hotel",
         "HOTEL MAX",
         "620 STEWART ST",
         "Seattle",
         "WA",
         "98101.0",
         "0659000640",
         "7",
         "DOWNTOWN",
         "47.61412",
         "-122.33664",
         "1926",
         "1.0",
         "10",
         "61320",
         "0",
         "61320",
         "Hotel",
         "Hotel",
         "61320.0",
         null,
         null,
         null,
         null,
         null,
         "56.0",
         "110.8000031",
         "113.3000031",
         "216.1999969",
         "224.0",
         "6794584.0",
         "6946800.5",
         "2214446.25",
         "811525.3125",
         "2768924.0",
         "18112.13086",
         "1811213.0",
         "False",
         null,
         "Compliant",
         null,
         "286.43",
         "4.67"
        ],
        [
         "4",
         "8",
         "2016",
         "NonResidential",
         "Hotel",
         "WARWICK SEATTLE HOTEL (ID8)",
         "401 LENORA ST",
         "Seattle",
         "WA",
         "98121.0",
         "0659000970",
         "7",
         "DOWNTOWN",
         "47.61375",
         "-122.34047",
         "1980",
         "1.0",
         "18",
         "175580",
         "62000",
         "113580",
         "Hotel, Parking, Swimming Pool",
         "Hotel",
         "123445.0",
         "Parking",
         "68009.0",
         "Swimming Pool",
         "0.0",
         null,
         "75.0",
         "114.8000031",
         "118.6999969",
         "211.3999939",
         "215.6000061",
         "14172606.0",
         "14656503.0",
         "0.0",
         "1573448.625",
         "5368607.0",
         "88039.98438",
         "8803998.0",
         "False",
         null,
         "Compliant",
         null,
         "505.01",
         "2.88"
        ]
       ],
       "shape": {
        "columns": 46,
        "rows": 5
       }
      },
      "text/html": [
       "<div>\n",
       "<style scoped>\n",
       "    .dataframe tbody tr th:only-of-type {\n",
       "        vertical-align: middle;\n",
       "    }\n",
       "\n",
       "    .dataframe tbody tr th {\n",
       "        vertical-align: top;\n",
       "    }\n",
       "\n",
       "    .dataframe thead th {\n",
       "        text-align: right;\n",
       "    }\n",
       "</style>\n",
       "<table border=\"1\" class=\"dataframe\">\n",
       "  <thead>\n",
       "    <tr style=\"text-align: right;\">\n",
       "      <th></th>\n",
       "      <th>OSEBuildingID</th>\n",
       "      <th>DataYear</th>\n",
       "      <th>BuildingType</th>\n",
       "      <th>PrimaryPropertyType</th>\n",
       "      <th>PropertyName</th>\n",
       "      <th>Address</th>\n",
       "      <th>City</th>\n",
       "      <th>State</th>\n",
       "      <th>ZipCode</th>\n",
       "      <th>TaxParcelIdentificationNumber</th>\n",
       "      <th>...</th>\n",
       "      <th>Electricity(kWh)</th>\n",
       "      <th>Electricity(kBtu)</th>\n",
       "      <th>NaturalGas(therms)</th>\n",
       "      <th>NaturalGas(kBtu)</th>\n",
       "      <th>DefaultData</th>\n",
       "      <th>Comments</th>\n",
       "      <th>ComplianceStatus</th>\n",
       "      <th>Outlier</th>\n",
       "      <th>TotalGHGEmissions</th>\n",
       "      <th>GHGEmissionsIntensity</th>\n",
       "    </tr>\n",
       "  </thead>\n",
       "  <tbody>\n",
       "    <tr>\n",
       "      <th>0</th>\n",
       "      <td>1</td>\n",
       "      <td>2016</td>\n",
       "      <td>NonResidential</td>\n",
       "      <td>Hotel</td>\n",
       "      <td>Mayflower park hotel</td>\n",
       "      <td>405 Olive way</td>\n",
       "      <td>Seattle</td>\n",
       "      <td>WA</td>\n",
       "      <td>98101.0</td>\n",
       "      <td>0659000030</td>\n",
       "      <td>...</td>\n",
       "      <td>1.156514e+06</td>\n",
       "      <td>3946027.0</td>\n",
       "      <td>12764.52930</td>\n",
       "      <td>1276453.0</td>\n",
       "      <td>False</td>\n",
       "      <td>NaN</td>\n",
       "      <td>Compliant</td>\n",
       "      <td>NaN</td>\n",
       "      <td>249.98</td>\n",
       "      <td>2.83</td>\n",
       "    </tr>\n",
       "    <tr>\n",
       "      <th>1</th>\n",
       "      <td>2</td>\n",
       "      <td>2016</td>\n",
       "      <td>NonResidential</td>\n",
       "      <td>Hotel</td>\n",
       "      <td>Paramount Hotel</td>\n",
       "      <td>724 Pine street</td>\n",
       "      <td>Seattle</td>\n",
       "      <td>WA</td>\n",
       "      <td>98101.0</td>\n",
       "      <td>0659000220</td>\n",
       "      <td>...</td>\n",
       "      <td>9.504252e+05</td>\n",
       "      <td>3242851.0</td>\n",
       "      <td>51450.81641</td>\n",
       "      <td>5145082.0</td>\n",
       "      <td>False</td>\n",
       "      <td>NaN</td>\n",
       "      <td>Compliant</td>\n",
       "      <td>NaN</td>\n",
       "      <td>295.86</td>\n",
       "      <td>2.86</td>\n",
       "    </tr>\n",
       "    <tr>\n",
       "      <th>2</th>\n",
       "      <td>3</td>\n",
       "      <td>2016</td>\n",
       "      <td>NonResidential</td>\n",
       "      <td>Hotel</td>\n",
       "      <td>5673-The Westin Seattle</td>\n",
       "      <td>1900 5th Avenue</td>\n",
       "      <td>Seattle</td>\n",
       "      <td>WA</td>\n",
       "      <td>98101.0</td>\n",
       "      <td>0659000475</td>\n",
       "      <td>...</td>\n",
       "      <td>1.451544e+07</td>\n",
       "      <td>49526664.0</td>\n",
       "      <td>14938.00000</td>\n",
       "      <td>1493800.0</td>\n",
       "      <td>False</td>\n",
       "      <td>NaN</td>\n",
       "      <td>Compliant</td>\n",
       "      <td>NaN</td>\n",
       "      <td>2089.28</td>\n",
       "      <td>2.19</td>\n",
       "    </tr>\n",
       "    <tr>\n",
       "      <th>3</th>\n",
       "      <td>5</td>\n",
       "      <td>2016</td>\n",
       "      <td>NonResidential</td>\n",
       "      <td>Hotel</td>\n",
       "      <td>HOTEL MAX</td>\n",
       "      <td>620 STEWART ST</td>\n",
       "      <td>Seattle</td>\n",
       "      <td>WA</td>\n",
       "      <td>98101.0</td>\n",
       "      <td>0659000640</td>\n",
       "      <td>...</td>\n",
       "      <td>8.115253e+05</td>\n",
       "      <td>2768924.0</td>\n",
       "      <td>18112.13086</td>\n",
       "      <td>1811213.0</td>\n",
       "      <td>False</td>\n",
       "      <td>NaN</td>\n",
       "      <td>Compliant</td>\n",
       "      <td>NaN</td>\n",
       "      <td>286.43</td>\n",
       "      <td>4.67</td>\n",
       "    </tr>\n",
       "    <tr>\n",
       "      <th>4</th>\n",
       "      <td>8</td>\n",
       "      <td>2016</td>\n",
       "      <td>NonResidential</td>\n",
       "      <td>Hotel</td>\n",
       "      <td>WARWICK SEATTLE HOTEL (ID8)</td>\n",
       "      <td>401 LENORA ST</td>\n",
       "      <td>Seattle</td>\n",
       "      <td>WA</td>\n",
       "      <td>98121.0</td>\n",
       "      <td>0659000970</td>\n",
       "      <td>...</td>\n",
       "      <td>1.573449e+06</td>\n",
       "      <td>5368607.0</td>\n",
       "      <td>88039.98438</td>\n",
       "      <td>8803998.0</td>\n",
       "      <td>False</td>\n",
       "      <td>NaN</td>\n",
       "      <td>Compliant</td>\n",
       "      <td>NaN</td>\n",
       "      <td>505.01</td>\n",
       "      <td>2.88</td>\n",
       "    </tr>\n",
       "  </tbody>\n",
       "</table>\n",
       "<p>5 rows × 46 columns</p>\n",
       "</div>"
      ],
      "text/plain": [
       "   OSEBuildingID  DataYear    BuildingType PrimaryPropertyType  \\\n",
       "0              1      2016  NonResidential               Hotel   \n",
       "1              2      2016  NonResidential               Hotel   \n",
       "2              3      2016  NonResidential               Hotel   \n",
       "3              5      2016  NonResidential               Hotel   \n",
       "4              8      2016  NonResidential               Hotel   \n",
       "\n",
       "                  PropertyName          Address     City State  ZipCode  \\\n",
       "0         Mayflower park hotel    405 Olive way  Seattle    WA  98101.0   \n",
       "1              Paramount Hotel  724 Pine street  Seattle    WA  98101.0   \n",
       "2      5673-The Westin Seattle  1900 5th Avenue  Seattle    WA  98101.0   \n",
       "3                    HOTEL MAX   620 STEWART ST  Seattle    WA  98101.0   \n",
       "4  WARWICK SEATTLE HOTEL (ID8)    401 LENORA ST  Seattle    WA  98121.0   \n",
       "\n",
       "  TaxParcelIdentificationNumber  ...  Electricity(kWh) Electricity(kBtu)  \\\n",
       "0                    0659000030  ...      1.156514e+06         3946027.0   \n",
       "1                    0659000220  ...      9.504252e+05         3242851.0   \n",
       "2                    0659000475  ...      1.451544e+07        49526664.0   \n",
       "3                    0659000640  ...      8.115253e+05         2768924.0   \n",
       "4                    0659000970  ...      1.573449e+06         5368607.0   \n",
       "\n",
       "   NaturalGas(therms)  NaturalGas(kBtu)  DefaultData  Comments  \\\n",
       "0         12764.52930         1276453.0        False       NaN   \n",
       "1         51450.81641         5145082.0        False       NaN   \n",
       "2         14938.00000         1493800.0        False       NaN   \n",
       "3         18112.13086         1811213.0        False       NaN   \n",
       "4         88039.98438         8803998.0        False       NaN   \n",
       "\n",
       "   ComplianceStatus  Outlier  TotalGHGEmissions  GHGEmissionsIntensity  \n",
       "0         Compliant      NaN             249.98                   2.83  \n",
       "1         Compliant      NaN             295.86                   2.86  \n",
       "2         Compliant      NaN            2089.28                   2.19  \n",
       "3         Compliant      NaN             286.43                   4.67  \n",
       "4         Compliant      NaN             505.01                   2.88  \n",
       "\n",
       "[5 rows x 46 columns]"
      ]
     },
     "execution_count": 3,
     "metadata": {},
     "output_type": "execute_result"
    }
   ],
   "source": [
    "# On regarde comment un batiment est défini dans ce jeu de données \n",
    "bc_csv.head()"
   ]
  },
  {
   "cell_type": "markdown",
   "metadata": {},
   "source": [
    "Variables identifiées par catégories :  \n",
    "- Identification :  \n",
    "    OSEBuildingID, PropertyName, Address, City, State, ZipCode, TaxParcelIdentificationNumber\n",
    "- Géolocalisation :   \n",
    "    Latitude, Longitude, Neighborhood, CouncilDistrictCode  \n",
    "- Caractéristiques physiques :   \n",
    "    YearBuilt, NumberofFloors, NumberofBuildings,PropertyGFATotal, PropertyGFABuilding(s),PropertyGFAParking, LargestPropertyUseTypeGFA, SecondLargestPropertyUseTypeGFA, ThirdLargestPropertyUseTypeGFA\n",
    "- Usage :   \n",
    "    BuildingType, PrimaryPropertyType, ListOfAllPropertyUseTypes, LargestPropertyUseType, SecondLargestPropertyUseType, ThirdLargestPropertyUseType, ComplianceStatus, Outlier\n",
    "- Performance énergétique :   \n",
    "    YearsENERGYSTARCertified, ENERGYSTARScore, SiteEUI(kBtu/sf), SiteEUIWN(kBtu/sf), SourceEUI(kBtu/sf), SourceEUIWN(kBtu/sf)\n",
    "- Consommation :   \n",
    "    DataYear, SiteEnergyUse(kBtu), SiteEnergyUseWN(kBtu), Electricity(kWh) , Electricity(kBtu), NaturalGas(therms), NaturalGas(kBtu), SteamUse(kBtu)  \n",
    "- Émissions :   \n",
    "    TotalGHGEmissions, GHGEmissionsIntensity \n",
    "- Autres"
   ]
  },
  {
   "cell_type": "markdown",
   "metadata": {},
   "source": [
    "## Suppression de champs inutiles"
   ]
  },
  {
   "cell_type": "code",
   "execution_count": 4,
   "metadata": {},
   "outputs": [],
   "source": [
    "bc_csv.drop(columns=['OSEBuildingID', 'PropertyName', 'Address', 'City', 'State', 'ZipCode', 'TaxParcelIdentificationNumber'], inplace=True)"
   ]
  },
  {
   "cell_type": "markdown",
   "metadata": {},
   "source": [
    "## Traitements des outliers déclarés"
   ]
  },
  {
   "cell_type": "code",
   "execution_count": 5,
   "metadata": {},
   "outputs": [
    {
     "data": {
      "application/vnd.microsoft.datawrangler.viewer.v0+json": {
       "columns": [
        {
         "name": "index",
         "rawType": "int64",
         "type": "integer"
        },
        {
         "name": "DataYear",
         "rawType": "int64",
         "type": "integer"
        },
        {
         "name": "BuildingType",
         "rawType": "object",
         "type": "string"
        },
        {
         "name": "PrimaryPropertyType",
         "rawType": "object",
         "type": "string"
        },
        {
         "name": "CouncilDistrictCode",
         "rawType": "int64",
         "type": "integer"
        },
        {
         "name": "Neighborhood",
         "rawType": "object",
         "type": "string"
        },
        {
         "name": "Latitude",
         "rawType": "float64",
         "type": "float"
        },
        {
         "name": "Longitude",
         "rawType": "float64",
         "type": "float"
        },
        {
         "name": "YearBuilt",
         "rawType": "int64",
         "type": "integer"
        },
        {
         "name": "NumberofBuildings",
         "rawType": "float64",
         "type": "float"
        },
        {
         "name": "NumberofFloors",
         "rawType": "int64",
         "type": "integer"
        },
        {
         "name": "PropertyGFATotal",
         "rawType": "int64",
         "type": "integer"
        },
        {
         "name": "PropertyGFAParking",
         "rawType": "int64",
         "type": "integer"
        },
        {
         "name": "PropertyGFABuilding(s)",
         "rawType": "int64",
         "type": "integer"
        },
        {
         "name": "ListOfAllPropertyUseTypes",
         "rawType": "object",
         "type": "string"
        },
        {
         "name": "LargestPropertyUseType",
         "rawType": "object",
         "type": "string"
        },
        {
         "name": "LargestPropertyUseTypeGFA",
         "rawType": "float64",
         "type": "float"
        },
        {
         "name": "SecondLargestPropertyUseType",
         "rawType": "object",
         "type": "unknown"
        },
        {
         "name": "SecondLargestPropertyUseTypeGFA",
         "rawType": "float64",
         "type": "float"
        },
        {
         "name": "ThirdLargestPropertyUseType",
         "rawType": "object",
         "type": "unknown"
        },
        {
         "name": "ThirdLargestPropertyUseTypeGFA",
         "rawType": "float64",
         "type": "float"
        },
        {
         "name": "YearsENERGYSTARCertified",
         "rawType": "object",
         "type": "unknown"
        },
        {
         "name": "ENERGYSTARScore",
         "rawType": "float64",
         "type": "float"
        },
        {
         "name": "SiteEUI(kBtu/sf)",
         "rawType": "float64",
         "type": "float"
        },
        {
         "name": "SiteEUIWN(kBtu/sf)",
         "rawType": "float64",
         "type": "float"
        },
        {
         "name": "SourceEUI(kBtu/sf)",
         "rawType": "float64",
         "type": "float"
        },
        {
         "name": "SourceEUIWN(kBtu/sf)",
         "rawType": "float64",
         "type": "float"
        },
        {
         "name": "SiteEnergyUse(kBtu)",
         "rawType": "float64",
         "type": "float"
        },
        {
         "name": "SiteEnergyUseWN(kBtu)",
         "rawType": "float64",
         "type": "float"
        },
        {
         "name": "SteamUse(kBtu)",
         "rawType": "float64",
         "type": "float"
        },
        {
         "name": "Electricity(kWh)",
         "rawType": "float64",
         "type": "float"
        },
        {
         "name": "Electricity(kBtu)",
         "rawType": "float64",
         "type": "float"
        },
        {
         "name": "NaturalGas(therms)",
         "rawType": "float64",
         "type": "float"
        },
        {
         "name": "NaturalGas(kBtu)",
         "rawType": "float64",
         "type": "float"
        },
        {
         "name": "DefaultData",
         "rawType": "bool",
         "type": "boolean"
        },
        {
         "name": "Comments",
         "rawType": "float64",
         "type": "float"
        },
        {
         "name": "ComplianceStatus",
         "rawType": "object",
         "type": "string"
        },
        {
         "name": "Outlier",
         "rawType": "object",
         "type": "string"
        },
        {
         "name": "TotalGHGEmissions",
         "rawType": "float64",
         "type": "float"
        },
        {
         "name": "GHGEmissionsIntensity",
         "rawType": "float64",
         "type": "float"
        }
       ],
       "ref": "2340762e-cc4f-4930-b6e7-c5a0404c1da7",
       "rows": [
        [
         "226",
         "2016",
         "NonResidential",
         "Large Office",
         "7",
         "DOWNTOWN",
         "47.60642",
         "-122.33581",
         "1958",
         "1.0",
         "6",
         "172842",
         "25920",
         "146922",
         "Data Center, Office, Parking",
         "Office",
         "99890.0",
         "Data Center",
         "39336.0",
         "Parking",
         "25000.0",
         null,
         null,
         "297.3999939",
         "299.2000122",
         "909.5999756",
         "911.5",
         "41399504.0",
         "41650404.0",
         "0.0",
         "11663150.0",
         "39794668.0",
         "16048.30957",
         "1604831.0",
         "False",
         null,
         "Non-Compliant",
         "High outlier",
         "362.66",
         "2.1"
        ],
        [
         "384",
         "2016",
         "NonResidential",
         "Retail Store",
         "4",
         "NORTHEAST",
         "47.66178",
         "-122.31812",
         "1987",
         "1.0",
         "2",
         "69492",
         "0",
         "69492",
         "Retail Store",
         "Retail Store",
         "69800.0",
         "Other",
         "0.0",
         null,
         null,
         null,
         "100.0",
         "4.599999905",
         "4.599999905",
         "14.30000019",
         "14.30000019",
         "318962.8125",
         "318962.8125",
         "0.0",
         "93482.60156",
         "318963.0",
         "0.0",
         "0.0",
         "False",
         null,
         "Non-Compliant",
         "Low outlier",
         "2.22",
         "0.03"
        ],
        [
         "448",
         "2016",
         "NonResidential",
         "Large Office",
         "2",
         "DOWNTOWN",
         "47.59878",
         "-122.33458",
         "1913",
         "5.0",
         "7",
         "154159",
         "0",
         "154159",
         "Office",
         "Office",
         "193154.0",
         null,
         null,
         null,
         null,
         null,
         "100.0",
         "58.0",
         "58.79999924",
         "28.0",
         "28.70000076",
         "11195917.0",
         "11348758.0",
         "0.0",
         "471503.0",
         "1608768.0",
         "3430.500488",
         "343050.0",
         "False",
         null,
         "Non-Compliant",
         "Low outlier",
         "29.43",
         "0.19"
        ],
        [
         "517",
         "2016",
         "NonResidential",
         "Large Office",
         "7",
         "MAGNOLIA / QUEEN ANNE",
         "47.62235",
         "-122.36378",
         "2000",
         "1.0",
         "4",
         "129551",
         "42500",
         "87051",
         "Data Center, Office, Parking",
         "Office",
         "82273.0",
         "Parking",
         "42500.0",
         "Data Center",
         "4778.0",
         null,
         "1.0",
         "311.7000122",
         "311.7000122",
         "978.9000244",
         "978.9000244",
         "27137190.0",
         "27137190.0",
         "0.0",
         "7953454.5",
         "27137187.0",
         "0.0",
         "0.0",
         "False",
         null,
         "Non-Compliant",
         "High outlier",
         "189.18",
         "1.46"
        ],
        [
         "720",
         "2016",
         "Multifamily HR (10+)",
         "High-Rise Multifamily",
         "7",
         "DOWNTOWN",
         "47.61706",
         "-122.35141",
         "1982",
         "1.0",
         "24",
         "167941",
         "0",
         "167941",
         "Multifamily Housing, Swimming Pool",
         "Multifamily Housing",
         "138787.0",
         "Parking",
         "99952.0",
         "Swimming Pool",
         "0.0",
         null,
         "100.0",
         "17.29999924",
         "18.70000076",
         "50.40000153",
         "54.0",
         "2407904.5",
         "2589125.5",
         "0.0",
         "626561.625",
         "2137828.0",
         "2700.76001",
         "270076.0",
         "False",
         null,
         "Non-Compliant",
         "Low outlier",
         "29.25",
         "0.17"
        ],
        [
         "834",
         "2016",
         "Multifamily LR (1-4)",
         "Low-Rise Multifamily",
         "3",
         "EAST",
         "47.62059",
         "-122.3244",
         "1989",
         "1.0",
         "4",
         "31702",
         "0",
         "31702",
         "Multifamily Housing, Parking",
         "Multifamily Housing",
         "26418.0",
         "Parking",
         "14280.0",
         null,
         null,
         null,
         null,
         "9.699999809",
         "10.39999962",
         "30.39999962",
         "32.70000076",
         "255971.2031",
         "275412.0",
         "0.0",
         "75020.89844",
         "255971.0",
         "0.0",
         "0.0",
         "False",
         null,
         "Non-Compliant",
         "Low outlier",
         "1.78",
         "0.06"
        ],
        [
         "839",
         "2016",
         "SPS-District K-12",
         "K-12 School",
         "7",
         "MAGNOLIA / QUEEN ANNE",
         "47.63203",
         "-122.35337",
         "2001",
         "1.0",
         "1",
         "35805",
         "0",
         "35805",
         "K-12 School",
         "K-12 School",
         "35805.0",
         null,
         null,
         null,
         null,
         null,
         "100.0",
         "12.10000038",
         "12.10000038",
         "27.0",
         "27.0",
         "431471.6875",
         "431471.6875",
         "0.0",
         "72282.39844",
         "246628.0",
         "1848.439575",
         "184844.0",
         "True",
         null,
         "Error - Correct Default Data",
         "Low outlier",
         "11.54",
         "0.32"
        ],
        [
         "962",
         "2016",
         "Multifamily LR (1-4)",
         "Low-Rise Multifamily",
         "1",
         "SOUTHWEST",
         "47.58143",
         "-122.3751",
         "1990",
         "1.0",
         "3",
         "70207",
         "0",
         "70207",
         "Multifamily Housing",
         "Multifamily Housing",
         "71273.0",
         null,
         null,
         null,
         null,
         null,
         "100.0",
         "9.899999619",
         "9.899999619",
         "30.89999962",
         "30.89999962",
         "702481.375",
         "702481.375",
         "0.0",
         "205885.5",
         "702481.0",
         "0.0",
         "0.0",
         "False",
         null,
         "Non-Compliant",
         "Low outlier",
         "4.9",
         "0.07"
        ],
        [
         "1045",
         "2016",
         "NonResidential",
         "Retail Store",
         "2",
         "GREATER DUWAMISH",
         "47.56535",
         "-122.34054",
         "1953",
         "1.0",
         "1",
         "39900",
         "0",
         "39900",
         "Non-Refrigerated Warehouse, Retail Store",
         "Retail Store",
         "25000.0",
         "Non-Refrigerated Warehouse",
         "15000.0",
         null,
         null,
         null,
         "100.0",
         "3.599999905",
         "3.599999905",
         "6.400000095",
         "6.400000095",
         "145468.7969",
         "145468.7969",
         "0.0",
         "14362.5",
         "49005.0",
         "964.6400146",
         "96464.0",
         "True",
         null,
         "Error - Correct Default Data",
         "Low outlier",
         "5.46",
         "0.14"
        ],
        [
         "1229",
         "2016",
         "NonResidential",
         "Small- and Mid-Sized Office",
         "7",
         "DOWNTOWN",
         "47.61119",
         "-122.33581",
         "1903",
         "1.0",
         "3",
         "57720",
         "0",
         "57720",
         "Office",
         "Office",
         "25000.0",
         null,
         null,
         null,
         null,
         null,
         null,
         "1.0",
         "1.0",
         "3.0",
         "3.0",
         "24105.5",
         "24105.5",
         "0.0",
         "7064.899902",
         "24105.0",
         "0.0",
         "0.0",
         "False",
         null,
         "Non-Compliant",
         "Low outlier",
         "0.17",
         "0.0"
        ],
        [
         "1295",
         "2016",
         "NonResidential",
         "Other",
         "7",
         "DOWNTOWN",
         "47.60711",
         "-122.33886",
         "1900",
         "1.0",
         "3",
         "49760",
         "0",
         "49760",
         "Other",
         "Other",
         "24019.0",
         null,
         null,
         null,
         null,
         null,
         null,
         "1.799999952",
         "1.799999952",
         "5.800000191",
         "5.800000191",
         "44293.5",
         "44293.5",
         "0.0",
         "12981.7002",
         "44294.0",
         "0.0",
         "0.0",
         "False",
         null,
         "Non-Compliant",
         "Low outlier",
         "0.31",
         "0.01"
        ],
        [
         "1341",
         "2016",
         "Multifamily LR (1-4)",
         "Low-Rise Multifamily",
         "1",
         "SOUTHWEST",
         "47.56336",
         "-122.38774",
         "1975",
         "1.0",
         "4",
         "33948",
         "0",
         "33948",
         "Multifamily Housing",
         "Multifamily Housing",
         "24242.0",
         null,
         null,
         null,
         null,
         null,
         "100.0",
         "7.900000095",
         "8.399999619",
         "24.79999924",
         "26.5",
         "191497.9063",
         "204302.5",
         "0.0",
         "56124.80078",
         "191498.0",
         "0.0",
         "0.0",
         "False",
         null,
         "Non-Compliant",
         "Low outlier",
         "1.34",
         "0.04"
        ],
        [
         "1611",
         "2016",
         "NonResidential",
         "Worship Facility",
         "1",
         "SOUTHWEST",
         "47.51709",
         "-122.37797",
         "1971",
         "1.0",
         "1",
         "23772",
         "0",
         "23772",
         "Worship Facility",
         "Worship Facility",
         "23772.0",
         null,
         null,
         null,
         null,
         null,
         "100.0",
         "4.199999809",
         "4.199999809",
         "13.30000019",
         "13.30000019",
         "100841.7031",
         "100841.7031",
         "0.0",
         "29555.0",
         "100842.0",
         "0.0",
         "0.0",
         "False",
         null,
         "Non-Compliant",
         "Low outlier",
         "0.7",
         "0.03"
        ],
        [
         "1707",
         "2016",
         "Multifamily LR (1-4)",
         "Mid-Rise Multifamily",
         "7",
         "MAGNOLIA / QUEEN ANNE",
         "47.63435",
         "-122.34671",
         "1969",
         "1.0",
         "5",
         "30569",
         "0",
         "30569",
         "Multifamily Housing",
         "Multifamily Housing",
         "30921.0",
         null,
         null,
         null,
         null,
         null,
         "1.0",
         "221.0",
         "231.8999939",
         "684.2999878",
         "717.2000122",
         "6834431.0",
         "7169577.0",
         "0.0",
         "1961077.75",
         "6691197.0",
         "1432.329956",
         "143233.0",
         "False",
         null,
         "Non-Compliant",
         "High outlier",
         "54.25",
         "1.77"
        ],
        [
         "1888",
         "2016",
         "Multifamily LR (1-4)",
         "Low-Rise Multifamily",
         "1",
         "SOUTHWEST",
         "47.58229",
         "-122.40147",
         "1957",
         "1.0",
         "3",
         "20184",
         "0",
         "20184",
         "Multifamily Housing",
         "Multifamily Housing",
         "20184.0",
         null,
         null,
         null,
         null,
         null,
         "100.0",
         "8.199999809",
         "8.699999809",
         "25.60000038",
         "27.20000076",
         "164817.9063",
         "175114.5",
         "0.0",
         "48305.39844",
         "164818.0",
         "0.0",
         "0.0",
         "False",
         null,
         "Non-Compliant",
         "Low outlier",
         "1.15",
         "0.06"
        ],
        [
         "1945",
         "2016",
         "NonResidential",
         "Small- and Mid-Sized Office",
         "3",
         "CENTRAL",
         "47.59973",
         "-122.31331",
         "1947",
         "1.0",
         "1",
         "45068",
         "0",
         "45068",
         "Office",
         "Office",
         "45068.0",
         null,
         null,
         null,
         null,
         null,
         "100.0",
         "6.300000191",
         "6.900000095",
         "13.19999981",
         "13.80000019",
         "284857.3125",
         "309214.0",
         "0.0",
         "41554.60156",
         "141784.0",
         "1430.729858",
         "143073.0",
         "False",
         null,
         "Non-Compliant",
         "Low outlier",
         "8.59",
         "0.19"
        ],
        [
         "2129",
         "2016",
         "NonResidential",
         "K-12 School",
         "3",
         "CENTRAL",
         "47.60885",
         "-122.2999",
         "1929",
         "1.0",
         "2",
         "24152",
         "0",
         "24152",
         "K-12 School",
         "K-12 School",
         "24152.0",
         null,
         null,
         null,
         null,
         null,
         "100.0",
         "6.699999809",
         "6.699999809",
         "21.0",
         "21.0",
         "161363.4063",
         "161363.4063",
         "0.0",
         "47292.89844",
         "161363.0",
         "0.0",
         "0.0",
         "False",
         null,
         "Non-Compliant",
         "Low outlier",
         "1.12",
         "0.05"
        ],
        [
         "2189",
         "2016",
         "NonResidential",
         "Other",
         "2",
         "GREATER DUWAMISH",
         "47.58788",
         "-122.33458",
         "1910",
         "1.0",
         "3",
         "27690",
         "0",
         "27690",
         "Other, Parking",
         "Other",
         "24717.0",
         "Parking",
         "0.0",
         null,
         null,
         null,
         null,
         "0.699999988",
         "0.699999988",
         "2.099999905",
         "2.200000048",
         "16808.90039",
         "17260.0",
         "0.0",
         "4926.399902",
         "16809.0",
         "0.0",
         "0.0",
         "False",
         null,
         "Non-Compliant",
         "Low outlier",
         "0.12",
         "0.0"
        ],
        [
         "2216",
         "2016",
         "NonResidential",
         "Small- and Mid-Sized Office",
         "2",
         "GREATER DUWAMISH",
         "47.58292",
         "-122.33468",
         "1910",
         "1.0",
         "2",
         "20970",
         "0",
         "20970",
         "Office, Parking",
         "Office",
         "20970.0",
         "Parking",
         "0.0",
         null,
         null,
         null,
         "100.0",
         "9.800000191",
         "11.10000038",
         "22.0",
         "23.39999962",
         "204499.0938",
         "233531.9063",
         "0.0",
         "34489.89844",
         "117680.0",
         "868.1939087",
         "86819.0",
         "False",
         null,
         "Non-Compliant",
         "Low outlier",
         "5.43",
         "0.26"
        ],
        [
         "2353",
         "2016",
         "Multifamily LR (1-4)",
         "Low-Rise Multifamily",
         "1",
         "SOUTHWEST",
         "47.55728",
         "-122.38646",
         "1984",
         "1.0",
         "4",
         "26261",
         "0",
         "26261",
         "Multifamily Housing",
         "Multifamily Housing",
         "26261.0",
         null,
         null,
         null,
         null,
         null,
         "100.0",
         "7.599999905",
         "8.300000191",
         "23.89999962",
         "25.89999962",
         "200056.5938",
         "216815.7031",
         "0.0",
         "58633.19922",
         "200056.0",
         "0.0",
         "0.0",
         "False",
         null,
         "Non-Compliant",
         "Low outlier",
         "1.39",
         "0.05"
        ],
        [
         "2410",
         "2016",
         "NonResidential",
         "Hotel",
         "7",
         "DOWNTOWN",
         "47.60035",
         "-122.33379",
         "1900",
         "1.0",
         "3",
         "25450",
         "0",
         "25450",
         "Hotel",
         "Hotel",
         "25450.0",
         null,
         null,
         null,
         null,
         null,
         "99.0",
         "19.79999924",
         "19.39999962",
         "62.20000076",
         "60.79999924",
         "503744.6875",
         "492844.5938",
         "0.0",
         "147639.0938",
         "503745.0",
         "0.0",
         "0.0",
         "False",
         null,
         "Non-Compliant",
         "Low outlier",
         "3.51",
         "0.14"
        ],
        [
         "2450",
         "2016",
         "NonResidential",
         "Low-Rise Multifamily",
         "3",
         "EAST",
         "47.61427",
         "-122.31977",
         "1910",
         "1.0",
         "3",
         "32100",
         "0",
         "32100",
         "Bar/Nightclub, Multifamily Housing",
         "Multifamily Housing",
         "21400.0",
         "Bar/Nightclub",
         "10700.0",
         null,
         null,
         null,
         null,
         "3.400000095",
         "4.5",
         "4.300000191",
         "5.400000095",
         "108200.3984",
         "142892.5",
         "0.0",
         "3332.5",
         "11370.0",
         "968.3001709",
         "96830.0",
         "False",
         null,
         "Non-Compliant",
         "Low outlier",
         "5.22",
         "0.16"
        ],
        [
         "2476",
         "2016",
         "Multifamily LR (1-4)",
         "Low-Rise Multifamily",
         "1",
         "SOUTHWEST",
         "47.5519",
         "-122.38753",
         "1978",
         "1.0",
         "4",
         "22000",
         "0",
         "22000",
         "Multifamily Housing, Parking",
         "Multifamily Housing",
         "22000.0",
         "Parking",
         "10000.0",
         null,
         null,
         null,
         "100.0",
         "7.0",
         "7.599999905",
         "22.10000038",
         "23.79999924",
         "154798.0938",
         "167046.7969",
         "0.0",
         "45368.69922",
         "154798.0",
         "0.0",
         "0.0",
         "False",
         null,
         "Non-Compliant",
         "Low outlier",
         "1.08",
         "0.05"
        ],
        [
         "2763",
         "2016",
         "Multifamily LR (1-4)",
         "Low-Rise Multifamily",
         "2",
         "DOWNTOWN",
         "47.59858",
         "-122.3247",
         "1920",
         "1.0",
         "4",
         "46560",
         "0",
         "46560",
         "Multifamily Housing, Restaurant, Retail Store",
         "Multifamily Housing",
         "46560.0",
         "Retail Store",
         "3000.0",
         "Restaurant",
         "2000.0",
         null,
         null,
         "133.5",
         "134.1000061",
         "211.3000031",
         "213.5",
         "6881405.5",
         "6916663.0",
         "0.0",
         "514840.6875",
         "1756636.0",
         "51247.6875",
         "5124769.0",
         "False",
         null,
         "Non-Compliant",
         "High outlier",
         "284.42",
         "6.11"
        ],
        [
         "2801",
         "2016",
         "NonResidential",
         "Worship Facility",
         "4",
         "NORTHEAST",
         "47.66146",
         "-122.2788",
         "1954",
         "1.0",
         "2",
         "20039",
         "0",
         "20039",
         "Worship Facility",
         "Worship Facility",
         "20039.0",
         null,
         null,
         null,
         null,
         null,
         "100.0",
         "5.199999809",
         "5.199999809",
         "16.39999962",
         "16.39999962",
         "104722.2969",
         "104722.2969",
         "0.0",
         "30692.30078",
         "104722.0",
         "0.0",
         "0.0",
         "False",
         null,
         "Non-Compliant",
         "Low outlier",
         "0.73",
         "0.04"
        ],
        [
         "2863",
         "2016",
         "Multifamily LR (1-4)",
         "Low-Rise Multifamily",
         "3",
         "EAST",
         "47.6139",
         "-122.32241",
         "1910",
         "1.0",
         "3",
         "24682",
         "0",
         "24682",
         "Multifamily Housing, Retail Store",
         "Multifamily Housing",
         "17822.0",
         "Retail Store",
         "6085.0",
         null,
         null,
         null,
         "74.0",
         "112.1999969",
         "113.4000015",
         "205.3999939",
         "206.6999969",
         "2681771.0",
         "2710595.0",
         "0.0",
         "293781.3125",
         "1002382.0",
         "16793.89063",
         "1679389.0",
         "False",
         null,
         "Non-Compliant",
         "High outlier",
         "96.18",
         "3.9"
        ],
        [
         "2922",
         "2016",
         "Multifamily LR (1-4)",
         "Low-Rise Multifamily",
         "7",
         "MAGNOLIA / QUEEN ANNE",
         "47.6267",
         "-122.35506",
         "1959",
         "2.0",
         "4",
         "43346",
         "0",
         "43346",
         "Multifamily Housing, Parking, Swimming Pool",
         "Multifamily Housing",
         "43346.0",
         "Parking",
         "12600.0",
         "Swimming Pool",
         "0.0",
         null,
         "5.0",
         "104.3000031",
         "111.9000015",
         "205.6000061",
         "216.1000061",
         "4519115.0",
         "4850560.0",
         "0.0",
         "584334.6875",
         "1993750.0",
         "25253.65039",
         "2525365.0",
         "False",
         null,
         "Non-Compliant",
         "High outlier",
         "148.02",
         "3.41"
        ],
        [
         "3082",
         "2016",
         "Multifamily LR (1-4)",
         "Low-Rise Multifamily",
         "5",
         "NORTH",
         "47.70188",
         "-122.32459",
         "2008",
         "1.0",
         "4",
         "46725",
         "0",
         "46725",
         "Multifamily Housing",
         "Multifamily Housing",
         "102522.0",
         null,
         null,
         null,
         null,
         null,
         "1.0",
         "131.3000031",
         "140.1000061",
         "218.6000061",
         "230.8999939",
         "13459221.0",
         "14360223.0",
         "0.0",
         "1161542.75",
         "3963184.0",
         "94960.35938",
         "9496036.0",
         "False",
         null,
         "Non-Compliant",
         "High outlier",
         "531.96",
         "11.38"
        ],
        [
         "3092",
         "2016",
         "Multifamily MR (5-9)",
         "Mid-Rise Multifamily",
         "4",
         "NORTHEAST",
         "47.6557",
         "-122.31244",
         "1925",
         "1.0",
         "8",
         "97923",
         "0",
         "97923",
         "Multifamily Housing",
         "Multifamily Housing",
         "70143.0",
         "Office",
         "220.0",
         null,
         null,
         null,
         "5.0",
         "147.5",
         "158.1999969",
         "220.6000061",
         "233.5",
         "10343027.0",
         "11096605.0",
         "8704596.0",
         "459770.0",
         "1568735.0",
         "696.960022",
         "69696.0",
         "False",
         null,
         "Non-Compliant",
         "High outlier",
         "686.53",
         "7.01"
        ],
        [
         "3152",
         "2016",
         "Nonresidential COS",
         "Other",
         "2",
         "GREATER DUWAMISH",
         "47.54277",
         "-122.31626",
         "1906",
         "1.0",
         "2",
         "39212",
         "0",
         "39212",
         "Other",
         "Other",
         "39212.0",
         null,
         null,
         null,
         null,
         null,
         null,
         "1.799999952",
         "1.799999952",
         "5.800000191",
         "5.800000191",
         "72370.39844",
         "72370.39844",
         "0.0",
         "21210.59961",
         "72371.0",
         "0.0",
         "0.0",
         "False",
         null,
         "Non-Compliant",
         "Low outlier",
         "0.5",
         "0.01"
        ],
        [
         "3265",
         "2016",
         "Multifamily LR (1-4)",
         "Low-Rise Multifamily",
         "7",
         "DOWNTOWN",
         "47.60994",
         "-122.34234",
         "1904",
         "1.0",
         "3",
         "49000",
         "0",
         "49000",
         "Food Sales, Multifamily Housing, Restaurant, Retail Store",
         "Multifamily Housing",
         "21600.0",
         "Food Sales",
         "5663.0",
         "Retail Store",
         "4027.0",
         null,
         null,
         "136.6999969",
         "139.3000031",
         "366.7999878",
         "372.3999939",
         "4602793.5",
         "4691944.5",
         "0.0",
         "1054888.875",
         "3599281.0",
         "10035.12012",
         "1003512.0",
         "False",
         null,
         "Non-Compliant",
         "High outlier",
         "78.39",
         "1.6"
        ],
        [
         "3341",
         "2016",
         "Multifamily MR (5-9)",
         "Mid-Rise Multifamily",
         "3",
         "EAST",
         "47.62107",
         "-122.32156",
         "2015",
         "1.0",
         "7",
         "41384",
         "15062",
         "26322",
         "Multifamily Housing, Other - Restaurant/Bar, Parking, Personal Services (Health/Beauty, Dry Cleaning, etc)",
         "Multifamily Housing",
         "34643.0",
         "Parking",
         "8266.0",
         "Personal Services (Health/Beauty, Dry Cleaning, etc)",
         "1714.0",
         null,
         "100.0",
         "0.400000006",
         "0.400000006",
         "1.100000024",
         "1.100000024",
         "13409.0",
         "13409.0",
         "0.0",
         "3930.0",
         "13409.0",
         "0.0",
         "0.0",
         "False",
         null,
         "Non-Compliant",
         "Low outlier",
         "0.09",
         "0.0"
        ]
       ],
       "shape": {
        "columns": 39,
        "rows": 32
       }
      },
      "text/html": [
       "<div>\n",
       "<style scoped>\n",
       "    .dataframe tbody tr th:only-of-type {\n",
       "        vertical-align: middle;\n",
       "    }\n",
       "\n",
       "    .dataframe tbody tr th {\n",
       "        vertical-align: top;\n",
       "    }\n",
       "\n",
       "    .dataframe thead th {\n",
       "        text-align: right;\n",
       "    }\n",
       "</style>\n",
       "<table border=\"1\" class=\"dataframe\">\n",
       "  <thead>\n",
       "    <tr style=\"text-align: right;\">\n",
       "      <th></th>\n",
       "      <th>DataYear</th>\n",
       "      <th>BuildingType</th>\n",
       "      <th>PrimaryPropertyType</th>\n",
       "      <th>CouncilDistrictCode</th>\n",
       "      <th>Neighborhood</th>\n",
       "      <th>Latitude</th>\n",
       "      <th>Longitude</th>\n",
       "      <th>YearBuilt</th>\n",
       "      <th>NumberofBuildings</th>\n",
       "      <th>NumberofFloors</th>\n",
       "      <th>...</th>\n",
       "      <th>Electricity(kWh)</th>\n",
       "      <th>Electricity(kBtu)</th>\n",
       "      <th>NaturalGas(therms)</th>\n",
       "      <th>NaturalGas(kBtu)</th>\n",
       "      <th>DefaultData</th>\n",
       "      <th>Comments</th>\n",
       "      <th>ComplianceStatus</th>\n",
       "      <th>Outlier</th>\n",
       "      <th>TotalGHGEmissions</th>\n",
       "      <th>GHGEmissionsIntensity</th>\n",
       "    </tr>\n",
       "  </thead>\n",
       "  <tbody>\n",
       "    <tr>\n",
       "      <th>226</th>\n",
       "      <td>2016</td>\n",
       "      <td>NonResidential</td>\n",
       "      <td>Large Office</td>\n",
       "      <td>7</td>\n",
       "      <td>DOWNTOWN</td>\n",
       "      <td>47.60642</td>\n",
       "      <td>-122.33581</td>\n",
       "      <td>1958</td>\n",
       "      <td>1.0</td>\n",
       "      <td>6</td>\n",
       "      <td>...</td>\n",
       "      <td>1.166315e+07</td>\n",
       "      <td>39794668.0</td>\n",
       "      <td>16048.309570</td>\n",
       "      <td>1604831.0</td>\n",
       "      <td>False</td>\n",
       "      <td>NaN</td>\n",
       "      <td>Non-Compliant</td>\n",
       "      <td>High outlier</td>\n",
       "      <td>362.66</td>\n",
       "      <td>2.10</td>\n",
       "    </tr>\n",
       "    <tr>\n",
       "      <th>384</th>\n",
       "      <td>2016</td>\n",
       "      <td>NonResidential</td>\n",
       "      <td>Retail Store</td>\n",
       "      <td>4</td>\n",
       "      <td>NORTHEAST</td>\n",
       "      <td>47.66178</td>\n",
       "      <td>-122.31812</td>\n",
       "      <td>1987</td>\n",
       "      <td>1.0</td>\n",
       "      <td>2</td>\n",
       "      <td>...</td>\n",
       "      <td>9.348260e+04</td>\n",
       "      <td>318963.0</td>\n",
       "      <td>0.000000</td>\n",
       "      <td>0.0</td>\n",
       "      <td>False</td>\n",
       "      <td>NaN</td>\n",
       "      <td>Non-Compliant</td>\n",
       "      <td>Low outlier</td>\n",
       "      <td>2.22</td>\n",
       "      <td>0.03</td>\n",
       "    </tr>\n",
       "    <tr>\n",
       "      <th>448</th>\n",
       "      <td>2016</td>\n",
       "      <td>NonResidential</td>\n",
       "      <td>Large Office</td>\n",
       "      <td>2</td>\n",
       "      <td>DOWNTOWN</td>\n",
       "      <td>47.59878</td>\n",
       "      <td>-122.33458</td>\n",
       "      <td>1913</td>\n",
       "      <td>5.0</td>\n",
       "      <td>7</td>\n",
       "      <td>...</td>\n",
       "      <td>4.715030e+05</td>\n",
       "      <td>1608768.0</td>\n",
       "      <td>3430.500488</td>\n",
       "      <td>343050.0</td>\n",
       "      <td>False</td>\n",
       "      <td>NaN</td>\n",
       "      <td>Non-Compliant</td>\n",
       "      <td>Low outlier</td>\n",
       "      <td>29.43</td>\n",
       "      <td>0.19</td>\n",
       "    </tr>\n",
       "    <tr>\n",
       "      <th>517</th>\n",
       "      <td>2016</td>\n",
       "      <td>NonResidential</td>\n",
       "      <td>Large Office</td>\n",
       "      <td>7</td>\n",
       "      <td>MAGNOLIA / QUEEN ANNE</td>\n",
       "      <td>47.62235</td>\n",
       "      <td>-122.36378</td>\n",
       "      <td>2000</td>\n",
       "      <td>1.0</td>\n",
       "      <td>4</td>\n",
       "      <td>...</td>\n",
       "      <td>7.953454e+06</td>\n",
       "      <td>27137187.0</td>\n",
       "      <td>0.000000</td>\n",
       "      <td>0.0</td>\n",
       "      <td>False</td>\n",
       "      <td>NaN</td>\n",
       "      <td>Non-Compliant</td>\n",
       "      <td>High outlier</td>\n",
       "      <td>189.18</td>\n",
       "      <td>1.46</td>\n",
       "    </tr>\n",
       "    <tr>\n",
       "      <th>720</th>\n",
       "      <td>2016</td>\n",
       "      <td>Multifamily HR (10+)</td>\n",
       "      <td>High-Rise Multifamily</td>\n",
       "      <td>7</td>\n",
       "      <td>DOWNTOWN</td>\n",
       "      <td>47.61706</td>\n",
       "      <td>-122.35141</td>\n",
       "      <td>1982</td>\n",
       "      <td>1.0</td>\n",
       "      <td>24</td>\n",
       "      <td>...</td>\n",
       "      <td>6.265616e+05</td>\n",
       "      <td>2137828.0</td>\n",
       "      <td>2700.760010</td>\n",
       "      <td>270076.0</td>\n",
       "      <td>False</td>\n",
       "      <td>NaN</td>\n",
       "      <td>Non-Compliant</td>\n",
       "      <td>Low outlier</td>\n",
       "      <td>29.25</td>\n",
       "      <td>0.17</td>\n",
       "    </tr>\n",
       "    <tr>\n",
       "      <th>834</th>\n",
       "      <td>2016</td>\n",
       "      <td>Multifamily LR (1-4)</td>\n",
       "      <td>Low-Rise Multifamily</td>\n",
       "      <td>3</td>\n",
       "      <td>EAST</td>\n",
       "      <td>47.62059</td>\n",
       "      <td>-122.32440</td>\n",
       "      <td>1989</td>\n",
       "      <td>1.0</td>\n",
       "      <td>4</td>\n",
       "      <td>...</td>\n",
       "      <td>7.502090e+04</td>\n",
       "      <td>255971.0</td>\n",
       "      <td>0.000000</td>\n",
       "      <td>0.0</td>\n",
       "      <td>False</td>\n",
       "      <td>NaN</td>\n",
       "      <td>Non-Compliant</td>\n",
       "      <td>Low outlier</td>\n",
       "      <td>1.78</td>\n",
       "      <td>0.06</td>\n",
       "    </tr>\n",
       "    <tr>\n",
       "      <th>839</th>\n",
       "      <td>2016</td>\n",
       "      <td>SPS-District K-12</td>\n",
       "      <td>K-12 School</td>\n",
       "      <td>7</td>\n",
       "      <td>MAGNOLIA / QUEEN ANNE</td>\n",
       "      <td>47.63203</td>\n",
       "      <td>-122.35337</td>\n",
       "      <td>2001</td>\n",
       "      <td>1.0</td>\n",
       "      <td>1</td>\n",
       "      <td>...</td>\n",
       "      <td>7.228240e+04</td>\n",
       "      <td>246628.0</td>\n",
       "      <td>1848.439575</td>\n",
       "      <td>184844.0</td>\n",
       "      <td>True</td>\n",
       "      <td>NaN</td>\n",
       "      <td>Error - Correct Default Data</td>\n",
       "      <td>Low outlier</td>\n",
       "      <td>11.54</td>\n",
       "      <td>0.32</td>\n",
       "    </tr>\n",
       "    <tr>\n",
       "      <th>962</th>\n",
       "      <td>2016</td>\n",
       "      <td>Multifamily LR (1-4)</td>\n",
       "      <td>Low-Rise Multifamily</td>\n",
       "      <td>1</td>\n",
       "      <td>SOUTHWEST</td>\n",
       "      <td>47.58143</td>\n",
       "      <td>-122.37510</td>\n",
       "      <td>1990</td>\n",
       "      <td>1.0</td>\n",
       "      <td>3</td>\n",
       "      <td>...</td>\n",
       "      <td>2.058855e+05</td>\n",
       "      <td>702481.0</td>\n",
       "      <td>0.000000</td>\n",
       "      <td>0.0</td>\n",
       "      <td>False</td>\n",
       "      <td>NaN</td>\n",
       "      <td>Non-Compliant</td>\n",
       "      <td>Low outlier</td>\n",
       "      <td>4.90</td>\n",
       "      <td>0.07</td>\n",
       "    </tr>\n",
       "    <tr>\n",
       "      <th>1045</th>\n",
       "      <td>2016</td>\n",
       "      <td>NonResidential</td>\n",
       "      <td>Retail Store</td>\n",
       "      <td>2</td>\n",
       "      <td>GREATER DUWAMISH</td>\n",
       "      <td>47.56535</td>\n",
       "      <td>-122.34054</td>\n",
       "      <td>1953</td>\n",
       "      <td>1.0</td>\n",
       "      <td>1</td>\n",
       "      <td>...</td>\n",
       "      <td>1.436250e+04</td>\n",
       "      <td>49005.0</td>\n",
       "      <td>964.640015</td>\n",
       "      <td>96464.0</td>\n",
       "      <td>True</td>\n",
       "      <td>NaN</td>\n",
       "      <td>Error - Correct Default Data</td>\n",
       "      <td>Low outlier</td>\n",
       "      <td>5.46</td>\n",
       "      <td>0.14</td>\n",
       "    </tr>\n",
       "    <tr>\n",
       "      <th>1229</th>\n",
       "      <td>2016</td>\n",
       "      <td>NonResidential</td>\n",
       "      <td>Small- and Mid-Sized Office</td>\n",
       "      <td>7</td>\n",
       "      <td>DOWNTOWN</td>\n",
       "      <td>47.61119</td>\n",
       "      <td>-122.33581</td>\n",
       "      <td>1903</td>\n",
       "      <td>1.0</td>\n",
       "      <td>3</td>\n",
       "      <td>...</td>\n",
       "      <td>7.064900e+03</td>\n",
       "      <td>24105.0</td>\n",
       "      <td>0.000000</td>\n",
       "      <td>0.0</td>\n",
       "      <td>False</td>\n",
       "      <td>NaN</td>\n",
       "      <td>Non-Compliant</td>\n",
       "      <td>Low outlier</td>\n",
       "      <td>0.17</td>\n",
       "      <td>0.00</td>\n",
       "    </tr>\n",
       "    <tr>\n",
       "      <th>1295</th>\n",
       "      <td>2016</td>\n",
       "      <td>NonResidential</td>\n",
       "      <td>Other</td>\n",
       "      <td>7</td>\n",
       "      <td>DOWNTOWN</td>\n",
       "      <td>47.60711</td>\n",
       "      <td>-122.33886</td>\n",
       "      <td>1900</td>\n",
       "      <td>1.0</td>\n",
       "      <td>3</td>\n",
       "      <td>...</td>\n",
       "      <td>1.298170e+04</td>\n",
       "      <td>44294.0</td>\n",
       "      <td>0.000000</td>\n",
       "      <td>0.0</td>\n",
       "      <td>False</td>\n",
       "      <td>NaN</td>\n",
       "      <td>Non-Compliant</td>\n",
       "      <td>Low outlier</td>\n",
       "      <td>0.31</td>\n",
       "      <td>0.01</td>\n",
       "    </tr>\n",
       "    <tr>\n",
       "      <th>1341</th>\n",
       "      <td>2016</td>\n",
       "      <td>Multifamily LR (1-4)</td>\n",
       "      <td>Low-Rise Multifamily</td>\n",
       "      <td>1</td>\n",
       "      <td>SOUTHWEST</td>\n",
       "      <td>47.56336</td>\n",
       "      <td>-122.38774</td>\n",
       "      <td>1975</td>\n",
       "      <td>1.0</td>\n",
       "      <td>4</td>\n",
       "      <td>...</td>\n",
       "      <td>5.612480e+04</td>\n",
       "      <td>191498.0</td>\n",
       "      <td>0.000000</td>\n",
       "      <td>0.0</td>\n",
       "      <td>False</td>\n",
       "      <td>NaN</td>\n",
       "      <td>Non-Compliant</td>\n",
       "      <td>Low outlier</td>\n",
       "      <td>1.34</td>\n",
       "      <td>0.04</td>\n",
       "    </tr>\n",
       "    <tr>\n",
       "      <th>1611</th>\n",
       "      <td>2016</td>\n",
       "      <td>NonResidential</td>\n",
       "      <td>Worship Facility</td>\n",
       "      <td>1</td>\n",
       "      <td>SOUTHWEST</td>\n",
       "      <td>47.51709</td>\n",
       "      <td>-122.37797</td>\n",
       "      <td>1971</td>\n",
       "      <td>1.0</td>\n",
       "      <td>1</td>\n",
       "      <td>...</td>\n",
       "      <td>2.955500e+04</td>\n",
       "      <td>100842.0</td>\n",
       "      <td>0.000000</td>\n",
       "      <td>0.0</td>\n",
       "      <td>False</td>\n",
       "      <td>NaN</td>\n",
       "      <td>Non-Compliant</td>\n",
       "      <td>Low outlier</td>\n",
       "      <td>0.70</td>\n",
       "      <td>0.03</td>\n",
       "    </tr>\n",
       "    <tr>\n",
       "      <th>1707</th>\n",
       "      <td>2016</td>\n",
       "      <td>Multifamily LR (1-4)</td>\n",
       "      <td>Mid-Rise Multifamily</td>\n",
       "      <td>7</td>\n",
       "      <td>MAGNOLIA / QUEEN ANNE</td>\n",
       "      <td>47.63435</td>\n",
       "      <td>-122.34671</td>\n",
       "      <td>1969</td>\n",
       "      <td>1.0</td>\n",
       "      <td>5</td>\n",
       "      <td>...</td>\n",
       "      <td>1.961078e+06</td>\n",
       "      <td>6691197.0</td>\n",
       "      <td>1432.329956</td>\n",
       "      <td>143233.0</td>\n",
       "      <td>False</td>\n",
       "      <td>NaN</td>\n",
       "      <td>Non-Compliant</td>\n",
       "      <td>High outlier</td>\n",
       "      <td>54.25</td>\n",
       "      <td>1.77</td>\n",
       "    </tr>\n",
       "    <tr>\n",
       "      <th>1888</th>\n",
       "      <td>2016</td>\n",
       "      <td>Multifamily LR (1-4)</td>\n",
       "      <td>Low-Rise Multifamily</td>\n",
       "      <td>1</td>\n",
       "      <td>SOUTHWEST</td>\n",
       "      <td>47.58229</td>\n",
       "      <td>-122.40147</td>\n",
       "      <td>1957</td>\n",
       "      <td>1.0</td>\n",
       "      <td>3</td>\n",
       "      <td>...</td>\n",
       "      <td>4.830540e+04</td>\n",
       "      <td>164818.0</td>\n",
       "      <td>0.000000</td>\n",
       "      <td>0.0</td>\n",
       "      <td>False</td>\n",
       "      <td>NaN</td>\n",
       "      <td>Non-Compliant</td>\n",
       "      <td>Low outlier</td>\n",
       "      <td>1.15</td>\n",
       "      <td>0.06</td>\n",
       "    </tr>\n",
       "    <tr>\n",
       "      <th>1945</th>\n",
       "      <td>2016</td>\n",
       "      <td>NonResidential</td>\n",
       "      <td>Small- and Mid-Sized Office</td>\n",
       "      <td>3</td>\n",
       "      <td>CENTRAL</td>\n",
       "      <td>47.59973</td>\n",
       "      <td>-122.31331</td>\n",
       "      <td>1947</td>\n",
       "      <td>1.0</td>\n",
       "      <td>1</td>\n",
       "      <td>...</td>\n",
       "      <td>4.155460e+04</td>\n",
       "      <td>141784.0</td>\n",
       "      <td>1430.729858</td>\n",
       "      <td>143073.0</td>\n",
       "      <td>False</td>\n",
       "      <td>NaN</td>\n",
       "      <td>Non-Compliant</td>\n",
       "      <td>Low outlier</td>\n",
       "      <td>8.59</td>\n",
       "      <td>0.19</td>\n",
       "    </tr>\n",
       "    <tr>\n",
       "      <th>2129</th>\n",
       "      <td>2016</td>\n",
       "      <td>NonResidential</td>\n",
       "      <td>K-12 School</td>\n",
       "      <td>3</td>\n",
       "      <td>CENTRAL</td>\n",
       "      <td>47.60885</td>\n",
       "      <td>-122.29990</td>\n",
       "      <td>1929</td>\n",
       "      <td>1.0</td>\n",
       "      <td>2</td>\n",
       "      <td>...</td>\n",
       "      <td>4.729290e+04</td>\n",
       "      <td>161363.0</td>\n",
       "      <td>0.000000</td>\n",
       "      <td>0.0</td>\n",
       "      <td>False</td>\n",
       "      <td>NaN</td>\n",
       "      <td>Non-Compliant</td>\n",
       "      <td>Low outlier</td>\n",
       "      <td>1.12</td>\n",
       "      <td>0.05</td>\n",
       "    </tr>\n",
       "    <tr>\n",
       "      <th>2189</th>\n",
       "      <td>2016</td>\n",
       "      <td>NonResidential</td>\n",
       "      <td>Other</td>\n",
       "      <td>2</td>\n",
       "      <td>GREATER DUWAMISH</td>\n",
       "      <td>47.58788</td>\n",
       "      <td>-122.33458</td>\n",
       "      <td>1910</td>\n",
       "      <td>1.0</td>\n",
       "      <td>3</td>\n",
       "      <td>...</td>\n",
       "      <td>4.926400e+03</td>\n",
       "      <td>16809.0</td>\n",
       "      <td>0.000000</td>\n",
       "      <td>0.0</td>\n",
       "      <td>False</td>\n",
       "      <td>NaN</td>\n",
       "      <td>Non-Compliant</td>\n",
       "      <td>Low outlier</td>\n",
       "      <td>0.12</td>\n",
       "      <td>0.00</td>\n",
       "    </tr>\n",
       "    <tr>\n",
       "      <th>2216</th>\n",
       "      <td>2016</td>\n",
       "      <td>NonResidential</td>\n",
       "      <td>Small- and Mid-Sized Office</td>\n",
       "      <td>2</td>\n",
       "      <td>GREATER DUWAMISH</td>\n",
       "      <td>47.58292</td>\n",
       "      <td>-122.33468</td>\n",
       "      <td>1910</td>\n",
       "      <td>1.0</td>\n",
       "      <td>2</td>\n",
       "      <td>...</td>\n",
       "      <td>3.448990e+04</td>\n",
       "      <td>117680.0</td>\n",
       "      <td>868.193909</td>\n",
       "      <td>86819.0</td>\n",
       "      <td>False</td>\n",
       "      <td>NaN</td>\n",
       "      <td>Non-Compliant</td>\n",
       "      <td>Low outlier</td>\n",
       "      <td>5.43</td>\n",
       "      <td>0.26</td>\n",
       "    </tr>\n",
       "    <tr>\n",
       "      <th>2353</th>\n",
       "      <td>2016</td>\n",
       "      <td>Multifamily LR (1-4)</td>\n",
       "      <td>Low-Rise Multifamily</td>\n",
       "      <td>1</td>\n",
       "      <td>SOUTHWEST</td>\n",
       "      <td>47.55728</td>\n",
       "      <td>-122.38646</td>\n",
       "      <td>1984</td>\n",
       "      <td>1.0</td>\n",
       "      <td>4</td>\n",
       "      <td>...</td>\n",
       "      <td>5.863320e+04</td>\n",
       "      <td>200056.0</td>\n",
       "      <td>0.000000</td>\n",
       "      <td>0.0</td>\n",
       "      <td>False</td>\n",
       "      <td>NaN</td>\n",
       "      <td>Non-Compliant</td>\n",
       "      <td>Low outlier</td>\n",
       "      <td>1.39</td>\n",
       "      <td>0.05</td>\n",
       "    </tr>\n",
       "    <tr>\n",
       "      <th>2410</th>\n",
       "      <td>2016</td>\n",
       "      <td>NonResidential</td>\n",
       "      <td>Hotel</td>\n",
       "      <td>7</td>\n",
       "      <td>DOWNTOWN</td>\n",
       "      <td>47.60035</td>\n",
       "      <td>-122.33379</td>\n",
       "      <td>1900</td>\n",
       "      <td>1.0</td>\n",
       "      <td>3</td>\n",
       "      <td>...</td>\n",
       "      <td>1.476391e+05</td>\n",
       "      <td>503745.0</td>\n",
       "      <td>0.000000</td>\n",
       "      <td>0.0</td>\n",
       "      <td>False</td>\n",
       "      <td>NaN</td>\n",
       "      <td>Non-Compliant</td>\n",
       "      <td>Low outlier</td>\n",
       "      <td>3.51</td>\n",
       "      <td>0.14</td>\n",
       "    </tr>\n",
       "    <tr>\n",
       "      <th>2450</th>\n",
       "      <td>2016</td>\n",
       "      <td>NonResidential</td>\n",
       "      <td>Low-Rise Multifamily</td>\n",
       "      <td>3</td>\n",
       "      <td>EAST</td>\n",
       "      <td>47.61427</td>\n",
       "      <td>-122.31977</td>\n",
       "      <td>1910</td>\n",
       "      <td>1.0</td>\n",
       "      <td>3</td>\n",
       "      <td>...</td>\n",
       "      <td>3.332500e+03</td>\n",
       "      <td>11370.0</td>\n",
       "      <td>968.300171</td>\n",
       "      <td>96830.0</td>\n",
       "      <td>False</td>\n",
       "      <td>NaN</td>\n",
       "      <td>Non-Compliant</td>\n",
       "      <td>Low outlier</td>\n",
       "      <td>5.22</td>\n",
       "      <td>0.16</td>\n",
       "    </tr>\n",
       "    <tr>\n",
       "      <th>2476</th>\n",
       "      <td>2016</td>\n",
       "      <td>Multifamily LR (1-4)</td>\n",
       "      <td>Low-Rise Multifamily</td>\n",
       "      <td>1</td>\n",
       "      <td>SOUTHWEST</td>\n",
       "      <td>47.55190</td>\n",
       "      <td>-122.38753</td>\n",
       "      <td>1978</td>\n",
       "      <td>1.0</td>\n",
       "      <td>4</td>\n",
       "      <td>...</td>\n",
       "      <td>4.536870e+04</td>\n",
       "      <td>154798.0</td>\n",
       "      <td>0.000000</td>\n",
       "      <td>0.0</td>\n",
       "      <td>False</td>\n",
       "      <td>NaN</td>\n",
       "      <td>Non-Compliant</td>\n",
       "      <td>Low outlier</td>\n",
       "      <td>1.08</td>\n",
       "      <td>0.05</td>\n",
       "    </tr>\n",
       "    <tr>\n",
       "      <th>2763</th>\n",
       "      <td>2016</td>\n",
       "      <td>Multifamily LR (1-4)</td>\n",
       "      <td>Low-Rise Multifamily</td>\n",
       "      <td>2</td>\n",
       "      <td>DOWNTOWN</td>\n",
       "      <td>47.59858</td>\n",
       "      <td>-122.32470</td>\n",
       "      <td>1920</td>\n",
       "      <td>1.0</td>\n",
       "      <td>4</td>\n",
       "      <td>...</td>\n",
       "      <td>5.148407e+05</td>\n",
       "      <td>1756636.0</td>\n",
       "      <td>51247.687500</td>\n",
       "      <td>5124769.0</td>\n",
       "      <td>False</td>\n",
       "      <td>NaN</td>\n",
       "      <td>Non-Compliant</td>\n",
       "      <td>High outlier</td>\n",
       "      <td>284.42</td>\n",
       "      <td>6.11</td>\n",
       "    </tr>\n",
       "    <tr>\n",
       "      <th>2801</th>\n",
       "      <td>2016</td>\n",
       "      <td>NonResidential</td>\n",
       "      <td>Worship Facility</td>\n",
       "      <td>4</td>\n",
       "      <td>NORTHEAST</td>\n",
       "      <td>47.66146</td>\n",
       "      <td>-122.27880</td>\n",
       "      <td>1954</td>\n",
       "      <td>1.0</td>\n",
       "      <td>2</td>\n",
       "      <td>...</td>\n",
       "      <td>3.069230e+04</td>\n",
       "      <td>104722.0</td>\n",
       "      <td>0.000000</td>\n",
       "      <td>0.0</td>\n",
       "      <td>False</td>\n",
       "      <td>NaN</td>\n",
       "      <td>Non-Compliant</td>\n",
       "      <td>Low outlier</td>\n",
       "      <td>0.73</td>\n",
       "      <td>0.04</td>\n",
       "    </tr>\n",
       "    <tr>\n",
       "      <th>2863</th>\n",
       "      <td>2016</td>\n",
       "      <td>Multifamily LR (1-4)</td>\n",
       "      <td>Low-Rise Multifamily</td>\n",
       "      <td>3</td>\n",
       "      <td>EAST</td>\n",
       "      <td>47.61390</td>\n",
       "      <td>-122.32241</td>\n",
       "      <td>1910</td>\n",
       "      <td>1.0</td>\n",
       "      <td>3</td>\n",
       "      <td>...</td>\n",
       "      <td>2.937813e+05</td>\n",
       "      <td>1002382.0</td>\n",
       "      <td>16793.890630</td>\n",
       "      <td>1679389.0</td>\n",
       "      <td>False</td>\n",
       "      <td>NaN</td>\n",
       "      <td>Non-Compliant</td>\n",
       "      <td>High outlier</td>\n",
       "      <td>96.18</td>\n",
       "      <td>3.90</td>\n",
       "    </tr>\n",
       "    <tr>\n",
       "      <th>2922</th>\n",
       "      <td>2016</td>\n",
       "      <td>Multifamily LR (1-4)</td>\n",
       "      <td>Low-Rise Multifamily</td>\n",
       "      <td>7</td>\n",
       "      <td>MAGNOLIA / QUEEN ANNE</td>\n",
       "      <td>47.62670</td>\n",
       "      <td>-122.35506</td>\n",
       "      <td>1959</td>\n",
       "      <td>2.0</td>\n",
       "      <td>4</td>\n",
       "      <td>...</td>\n",
       "      <td>5.843347e+05</td>\n",
       "      <td>1993750.0</td>\n",
       "      <td>25253.650390</td>\n",
       "      <td>2525365.0</td>\n",
       "      <td>False</td>\n",
       "      <td>NaN</td>\n",
       "      <td>Non-Compliant</td>\n",
       "      <td>High outlier</td>\n",
       "      <td>148.02</td>\n",
       "      <td>3.41</td>\n",
       "    </tr>\n",
       "    <tr>\n",
       "      <th>3082</th>\n",
       "      <td>2016</td>\n",
       "      <td>Multifamily LR (1-4)</td>\n",
       "      <td>Low-Rise Multifamily</td>\n",
       "      <td>5</td>\n",
       "      <td>NORTH</td>\n",
       "      <td>47.70188</td>\n",
       "      <td>-122.32459</td>\n",
       "      <td>2008</td>\n",
       "      <td>1.0</td>\n",
       "      <td>4</td>\n",
       "      <td>...</td>\n",
       "      <td>1.161543e+06</td>\n",
       "      <td>3963184.0</td>\n",
       "      <td>94960.359380</td>\n",
       "      <td>9496036.0</td>\n",
       "      <td>False</td>\n",
       "      <td>NaN</td>\n",
       "      <td>Non-Compliant</td>\n",
       "      <td>High outlier</td>\n",
       "      <td>531.96</td>\n",
       "      <td>11.38</td>\n",
       "    </tr>\n",
       "    <tr>\n",
       "      <th>3092</th>\n",
       "      <td>2016</td>\n",
       "      <td>Multifamily MR (5-9)</td>\n",
       "      <td>Mid-Rise Multifamily</td>\n",
       "      <td>4</td>\n",
       "      <td>NORTHEAST</td>\n",
       "      <td>47.65570</td>\n",
       "      <td>-122.31244</td>\n",
       "      <td>1925</td>\n",
       "      <td>1.0</td>\n",
       "      <td>8</td>\n",
       "      <td>...</td>\n",
       "      <td>4.597700e+05</td>\n",
       "      <td>1568735.0</td>\n",
       "      <td>696.960022</td>\n",
       "      <td>69696.0</td>\n",
       "      <td>False</td>\n",
       "      <td>NaN</td>\n",
       "      <td>Non-Compliant</td>\n",
       "      <td>High outlier</td>\n",
       "      <td>686.53</td>\n",
       "      <td>7.01</td>\n",
       "    </tr>\n",
       "    <tr>\n",
       "      <th>3152</th>\n",
       "      <td>2016</td>\n",
       "      <td>Nonresidential COS</td>\n",
       "      <td>Other</td>\n",
       "      <td>2</td>\n",
       "      <td>GREATER DUWAMISH</td>\n",
       "      <td>47.54277</td>\n",
       "      <td>-122.31626</td>\n",
       "      <td>1906</td>\n",
       "      <td>1.0</td>\n",
       "      <td>2</td>\n",
       "      <td>...</td>\n",
       "      <td>2.121060e+04</td>\n",
       "      <td>72371.0</td>\n",
       "      <td>0.000000</td>\n",
       "      <td>0.0</td>\n",
       "      <td>False</td>\n",
       "      <td>NaN</td>\n",
       "      <td>Non-Compliant</td>\n",
       "      <td>Low outlier</td>\n",
       "      <td>0.50</td>\n",
       "      <td>0.01</td>\n",
       "    </tr>\n",
       "    <tr>\n",
       "      <th>3265</th>\n",
       "      <td>2016</td>\n",
       "      <td>Multifamily LR (1-4)</td>\n",
       "      <td>Low-Rise Multifamily</td>\n",
       "      <td>7</td>\n",
       "      <td>DOWNTOWN</td>\n",
       "      <td>47.60994</td>\n",
       "      <td>-122.34234</td>\n",
       "      <td>1904</td>\n",
       "      <td>1.0</td>\n",
       "      <td>3</td>\n",
       "      <td>...</td>\n",
       "      <td>1.054889e+06</td>\n",
       "      <td>3599281.0</td>\n",
       "      <td>10035.120120</td>\n",
       "      <td>1003512.0</td>\n",
       "      <td>False</td>\n",
       "      <td>NaN</td>\n",
       "      <td>Non-Compliant</td>\n",
       "      <td>High outlier</td>\n",
       "      <td>78.39</td>\n",
       "      <td>1.60</td>\n",
       "    </tr>\n",
       "    <tr>\n",
       "      <th>3341</th>\n",
       "      <td>2016</td>\n",
       "      <td>Multifamily MR (5-9)</td>\n",
       "      <td>Mid-Rise Multifamily</td>\n",
       "      <td>3</td>\n",
       "      <td>EAST</td>\n",
       "      <td>47.62107</td>\n",
       "      <td>-122.32156</td>\n",
       "      <td>2015</td>\n",
       "      <td>1.0</td>\n",
       "      <td>7</td>\n",
       "      <td>...</td>\n",
       "      <td>3.930000e+03</td>\n",
       "      <td>13409.0</td>\n",
       "      <td>0.000000</td>\n",
       "      <td>0.0</td>\n",
       "      <td>False</td>\n",
       "      <td>NaN</td>\n",
       "      <td>Non-Compliant</td>\n",
       "      <td>Low outlier</td>\n",
       "      <td>0.09</td>\n",
       "      <td>0.00</td>\n",
       "    </tr>\n",
       "  </tbody>\n",
       "</table>\n",
       "<p>32 rows × 39 columns</p>\n",
       "</div>"
      ],
      "text/plain": [
       "      DataYear          BuildingType          PrimaryPropertyType  \\\n",
       "226       2016        NonResidential                 Large Office   \n",
       "384       2016        NonResidential                 Retail Store   \n",
       "448       2016        NonResidential                 Large Office   \n",
       "517       2016        NonResidential                 Large Office   \n",
       "720       2016  Multifamily HR (10+)        High-Rise Multifamily   \n",
       "834       2016  Multifamily LR (1-4)         Low-Rise Multifamily   \n",
       "839       2016     SPS-District K-12                  K-12 School   \n",
       "962       2016  Multifamily LR (1-4)         Low-Rise Multifamily   \n",
       "1045      2016        NonResidential                 Retail Store   \n",
       "1229      2016        NonResidential  Small- and Mid-Sized Office   \n",
       "1295      2016        NonResidential                        Other   \n",
       "1341      2016  Multifamily LR (1-4)         Low-Rise Multifamily   \n",
       "1611      2016        NonResidential             Worship Facility   \n",
       "1707      2016  Multifamily LR (1-4)         Mid-Rise Multifamily   \n",
       "1888      2016  Multifamily LR (1-4)         Low-Rise Multifamily   \n",
       "1945      2016        NonResidential  Small- and Mid-Sized Office   \n",
       "2129      2016        NonResidential                  K-12 School   \n",
       "2189      2016        NonResidential                        Other   \n",
       "2216      2016        NonResidential  Small- and Mid-Sized Office   \n",
       "2353      2016  Multifamily LR (1-4)         Low-Rise Multifamily   \n",
       "2410      2016        NonResidential                        Hotel   \n",
       "2450      2016        NonResidential         Low-Rise Multifamily   \n",
       "2476      2016  Multifamily LR (1-4)         Low-Rise Multifamily   \n",
       "2763      2016  Multifamily LR (1-4)         Low-Rise Multifamily   \n",
       "2801      2016        NonResidential             Worship Facility   \n",
       "2863      2016  Multifamily LR (1-4)         Low-Rise Multifamily   \n",
       "2922      2016  Multifamily LR (1-4)         Low-Rise Multifamily   \n",
       "3082      2016  Multifamily LR (1-4)         Low-Rise Multifamily   \n",
       "3092      2016  Multifamily MR (5-9)         Mid-Rise Multifamily   \n",
       "3152      2016    Nonresidential COS                        Other   \n",
       "3265      2016  Multifamily LR (1-4)         Low-Rise Multifamily   \n",
       "3341      2016  Multifamily MR (5-9)         Mid-Rise Multifamily   \n",
       "\n",
       "      CouncilDistrictCode           Neighborhood  Latitude  Longitude  \\\n",
       "226                     7               DOWNTOWN  47.60642 -122.33581   \n",
       "384                     4              NORTHEAST  47.66178 -122.31812   \n",
       "448                     2               DOWNTOWN  47.59878 -122.33458   \n",
       "517                     7  MAGNOLIA / QUEEN ANNE  47.62235 -122.36378   \n",
       "720                     7               DOWNTOWN  47.61706 -122.35141   \n",
       "834                     3                   EAST  47.62059 -122.32440   \n",
       "839                     7  MAGNOLIA / QUEEN ANNE  47.63203 -122.35337   \n",
       "962                     1              SOUTHWEST  47.58143 -122.37510   \n",
       "1045                    2       GREATER DUWAMISH  47.56535 -122.34054   \n",
       "1229                    7               DOWNTOWN  47.61119 -122.33581   \n",
       "1295                    7               DOWNTOWN  47.60711 -122.33886   \n",
       "1341                    1              SOUTHWEST  47.56336 -122.38774   \n",
       "1611                    1              SOUTHWEST  47.51709 -122.37797   \n",
       "1707                    7  MAGNOLIA / QUEEN ANNE  47.63435 -122.34671   \n",
       "1888                    1              SOUTHWEST  47.58229 -122.40147   \n",
       "1945                    3                CENTRAL  47.59973 -122.31331   \n",
       "2129                    3                CENTRAL  47.60885 -122.29990   \n",
       "2189                    2       GREATER DUWAMISH  47.58788 -122.33458   \n",
       "2216                    2       GREATER DUWAMISH  47.58292 -122.33468   \n",
       "2353                    1              SOUTHWEST  47.55728 -122.38646   \n",
       "2410                    7               DOWNTOWN  47.60035 -122.33379   \n",
       "2450                    3                   EAST  47.61427 -122.31977   \n",
       "2476                    1              SOUTHWEST  47.55190 -122.38753   \n",
       "2763                    2               DOWNTOWN  47.59858 -122.32470   \n",
       "2801                    4              NORTHEAST  47.66146 -122.27880   \n",
       "2863                    3                   EAST  47.61390 -122.32241   \n",
       "2922                    7  MAGNOLIA / QUEEN ANNE  47.62670 -122.35506   \n",
       "3082                    5                  NORTH  47.70188 -122.32459   \n",
       "3092                    4              NORTHEAST  47.65570 -122.31244   \n",
       "3152                    2       GREATER DUWAMISH  47.54277 -122.31626   \n",
       "3265                    7               DOWNTOWN  47.60994 -122.34234   \n",
       "3341                    3                   EAST  47.62107 -122.32156   \n",
       "\n",
       "      YearBuilt  NumberofBuildings  NumberofFloors  ...  Electricity(kWh)  \\\n",
       "226        1958                1.0               6  ...      1.166315e+07   \n",
       "384        1987                1.0               2  ...      9.348260e+04   \n",
       "448        1913                5.0               7  ...      4.715030e+05   \n",
       "517        2000                1.0               4  ...      7.953454e+06   \n",
       "720        1982                1.0              24  ...      6.265616e+05   \n",
       "834        1989                1.0               4  ...      7.502090e+04   \n",
       "839        2001                1.0               1  ...      7.228240e+04   \n",
       "962        1990                1.0               3  ...      2.058855e+05   \n",
       "1045       1953                1.0               1  ...      1.436250e+04   \n",
       "1229       1903                1.0               3  ...      7.064900e+03   \n",
       "1295       1900                1.0               3  ...      1.298170e+04   \n",
       "1341       1975                1.0               4  ...      5.612480e+04   \n",
       "1611       1971                1.0               1  ...      2.955500e+04   \n",
       "1707       1969                1.0               5  ...      1.961078e+06   \n",
       "1888       1957                1.0               3  ...      4.830540e+04   \n",
       "1945       1947                1.0               1  ...      4.155460e+04   \n",
       "2129       1929                1.0               2  ...      4.729290e+04   \n",
       "2189       1910                1.0               3  ...      4.926400e+03   \n",
       "2216       1910                1.0               2  ...      3.448990e+04   \n",
       "2353       1984                1.0               4  ...      5.863320e+04   \n",
       "2410       1900                1.0               3  ...      1.476391e+05   \n",
       "2450       1910                1.0               3  ...      3.332500e+03   \n",
       "2476       1978                1.0               4  ...      4.536870e+04   \n",
       "2763       1920                1.0               4  ...      5.148407e+05   \n",
       "2801       1954                1.0               2  ...      3.069230e+04   \n",
       "2863       1910                1.0               3  ...      2.937813e+05   \n",
       "2922       1959                2.0               4  ...      5.843347e+05   \n",
       "3082       2008                1.0               4  ...      1.161543e+06   \n",
       "3092       1925                1.0               8  ...      4.597700e+05   \n",
       "3152       1906                1.0               2  ...      2.121060e+04   \n",
       "3265       1904                1.0               3  ...      1.054889e+06   \n",
       "3341       2015                1.0               7  ...      3.930000e+03   \n",
       "\n",
       "      Electricity(kBtu)  NaturalGas(therms) NaturalGas(kBtu) DefaultData  \\\n",
       "226          39794668.0        16048.309570        1604831.0       False   \n",
       "384            318963.0            0.000000              0.0       False   \n",
       "448           1608768.0         3430.500488         343050.0       False   \n",
       "517          27137187.0            0.000000              0.0       False   \n",
       "720           2137828.0         2700.760010         270076.0       False   \n",
       "834            255971.0            0.000000              0.0       False   \n",
       "839            246628.0         1848.439575         184844.0        True   \n",
       "962            702481.0            0.000000              0.0       False   \n",
       "1045            49005.0          964.640015          96464.0        True   \n",
       "1229            24105.0            0.000000              0.0       False   \n",
       "1295            44294.0            0.000000              0.0       False   \n",
       "1341           191498.0            0.000000              0.0       False   \n",
       "1611           100842.0            0.000000              0.0       False   \n",
       "1707          6691197.0         1432.329956         143233.0       False   \n",
       "1888           164818.0            0.000000              0.0       False   \n",
       "1945           141784.0         1430.729858         143073.0       False   \n",
       "2129           161363.0            0.000000              0.0       False   \n",
       "2189            16809.0            0.000000              0.0       False   \n",
       "2216           117680.0          868.193909          86819.0       False   \n",
       "2353           200056.0            0.000000              0.0       False   \n",
       "2410           503745.0            0.000000              0.0       False   \n",
       "2450            11370.0          968.300171          96830.0       False   \n",
       "2476           154798.0            0.000000              0.0       False   \n",
       "2763          1756636.0        51247.687500        5124769.0       False   \n",
       "2801           104722.0            0.000000              0.0       False   \n",
       "2863          1002382.0        16793.890630        1679389.0       False   \n",
       "2922          1993750.0        25253.650390        2525365.0       False   \n",
       "3082          3963184.0        94960.359380        9496036.0       False   \n",
       "3092          1568735.0          696.960022          69696.0       False   \n",
       "3152            72371.0            0.000000              0.0       False   \n",
       "3265          3599281.0        10035.120120        1003512.0       False   \n",
       "3341            13409.0            0.000000              0.0       False   \n",
       "\n",
       "      Comments              ComplianceStatus       Outlier TotalGHGEmissions  \\\n",
       "226        NaN                 Non-Compliant  High outlier            362.66   \n",
       "384        NaN                 Non-Compliant   Low outlier              2.22   \n",
       "448        NaN                 Non-Compliant   Low outlier             29.43   \n",
       "517        NaN                 Non-Compliant  High outlier            189.18   \n",
       "720        NaN                 Non-Compliant   Low outlier             29.25   \n",
       "834        NaN                 Non-Compliant   Low outlier              1.78   \n",
       "839        NaN  Error - Correct Default Data   Low outlier             11.54   \n",
       "962        NaN                 Non-Compliant   Low outlier              4.90   \n",
       "1045       NaN  Error - Correct Default Data   Low outlier              5.46   \n",
       "1229       NaN                 Non-Compliant   Low outlier              0.17   \n",
       "1295       NaN                 Non-Compliant   Low outlier              0.31   \n",
       "1341       NaN                 Non-Compliant   Low outlier              1.34   \n",
       "1611       NaN                 Non-Compliant   Low outlier              0.70   \n",
       "1707       NaN                 Non-Compliant  High outlier             54.25   \n",
       "1888       NaN                 Non-Compliant   Low outlier              1.15   \n",
       "1945       NaN                 Non-Compliant   Low outlier              8.59   \n",
       "2129       NaN                 Non-Compliant   Low outlier              1.12   \n",
       "2189       NaN                 Non-Compliant   Low outlier              0.12   \n",
       "2216       NaN                 Non-Compliant   Low outlier              5.43   \n",
       "2353       NaN                 Non-Compliant   Low outlier              1.39   \n",
       "2410       NaN                 Non-Compliant   Low outlier              3.51   \n",
       "2450       NaN                 Non-Compliant   Low outlier              5.22   \n",
       "2476       NaN                 Non-Compliant   Low outlier              1.08   \n",
       "2763       NaN                 Non-Compliant  High outlier            284.42   \n",
       "2801       NaN                 Non-Compliant   Low outlier              0.73   \n",
       "2863       NaN                 Non-Compliant  High outlier             96.18   \n",
       "2922       NaN                 Non-Compliant  High outlier            148.02   \n",
       "3082       NaN                 Non-Compliant  High outlier            531.96   \n",
       "3092       NaN                 Non-Compliant  High outlier            686.53   \n",
       "3152       NaN                 Non-Compliant   Low outlier              0.50   \n",
       "3265       NaN                 Non-Compliant  High outlier             78.39   \n",
       "3341       NaN                 Non-Compliant   Low outlier              0.09   \n",
       "\n",
       "      GHGEmissionsIntensity  \n",
       "226                    2.10  \n",
       "384                    0.03  \n",
       "448                    0.19  \n",
       "517                    1.46  \n",
       "720                    0.17  \n",
       "834                    0.06  \n",
       "839                    0.32  \n",
       "962                    0.07  \n",
       "1045                   0.14  \n",
       "1229                   0.00  \n",
       "1295                   0.01  \n",
       "1341                   0.04  \n",
       "1611                   0.03  \n",
       "1707                   1.77  \n",
       "1888                   0.06  \n",
       "1945                   0.19  \n",
       "2129                   0.05  \n",
       "2189                   0.00  \n",
       "2216                   0.26  \n",
       "2353                   0.05  \n",
       "2410                   0.14  \n",
       "2450                   0.16  \n",
       "2476                   0.05  \n",
       "2763                   6.11  \n",
       "2801                   0.04  \n",
       "2863                   3.90  \n",
       "2922                   3.41  \n",
       "3082                  11.38  \n",
       "3092                   7.01  \n",
       "3152                   0.01  \n",
       "3265                   1.60  \n",
       "3341                   0.00  \n",
       "\n",
       "[32 rows x 39 columns]"
      ]
     },
     "execution_count": 5,
     "metadata": {},
     "output_type": "execute_result"
    }
   ],
   "source": [
    "mask = bc_csv['Outlier'].notna()\n",
    "bc_csv[mask]"
   ]
  },
  {
   "cell_type": "code",
   "execution_count": 6,
   "metadata": {},
   "outputs": [
    {
     "name": "stdout",
     "output_type": "stream",
     "text": [
      "Après filtrage des outliers déclarés : 3376 → 3344 bâtiments\n"
     ]
    }
   ],
   "source": [
    "# Tous sont non-compliant concernant la conformité aux normes de relevés énergétiques - Nous les éliminons\n",
    "bc_without_known_outliers = bc_csv[~mask].copy()\n",
    "print(f\"Après filtrage des outliers déclarés : {len(bc_csv)} → {len(bc_without_known_outliers)} bâtiments\")"
   ]
  },
  {
   "cell_type": "markdown",
   "metadata": {},
   "source": [
    "## Traitement des usages\n",
    "### Affichage des usages utilisés"
   ]
  },
  {
   "cell_type": "code",
   "execution_count": 7,
   "metadata": {},
   "outputs": [
    {
     "name": "stdout",
     "output_type": "stream",
     "text": [
      "Hotel\n",
      "Parking\n",
      "Restaurant\n",
      "Swimming Pool\n",
      "Police Station\n",
      "Other - Entertainment/Public Assembly\n",
      "Multifamily Housing\n",
      "Data Center\n",
      "Library\n",
      "Fitness Center/Health Club/Gym\n",
      "Office\n",
      "Other\n",
      "Other - Lodging/Residential\n",
      "Social/Meeting Hall\n",
      "Courthouse\n",
      "K-12 School\n",
      "College/University\n",
      "Automobile Dealership\n",
      "Retail Store\n",
      "Self-Storage Facility\n",
      "Energy/Power Station\n",
      "Laboratory\n",
      "Manufacturing/Industrial Plant\n",
      "Non-Refrigerated Warehouse\n",
      "Refrigerated Warehouse\n",
      "Other - Education\n",
      "Vocational School\n",
      "Other - Mall\n",
      "Personal Services (Health/Beauty\n",
      "Dry Cleaning\n",
      "etc)\n",
      "Senior Care Community\n",
      "Medical Office\n",
      "Distribution Center\n",
      "Hospital (General Medical & Surgical)\n",
      "Museum\n",
      "Repair Services (Vehicle\n",
      "Shoe\n",
      "Locksmith\n",
      "Food Service\n",
      "Residence Hall/Dormitory\n",
      "Other - Services\n",
      "Other/Specialty Hospital\n",
      "Financial Office\n",
      "Other - Utility\n",
      "Fast Food Restaurant\n",
      "Movie Theater\n",
      "Supermarket/Grocery Store\n",
      "Worship Facility\n",
      "Lifestyle Center\n",
      "Other - Recreation\n",
      "Convenience Store without Gas Station\n",
      "Pre-school/Daycare\n",
      "Food Sales\n",
      "Other - Restaurant/Bar\n",
      "Single Family Home\n",
      "Performing Arts\n",
      "Bank Branch\n",
      "Convention Center\n",
      "Urgent Care/Clinic/Other Outpatient\n",
      "Adult Education\n",
      "Outpatient Rehabilitation/Physical Therapy\n",
      "Vocat\n",
      "Strip Mall\n",
      "Wholesale Club/Supercenter\n",
      "Enclosed Mall\n",
      "Other - Public Services\n",
      "Bar/Nightclub\n",
      "Other - Technology/Science\n",
      "Fire Station\n",
      "Residential Care Facility\n",
      "Prison/Incarceration\n",
      "72 éléments\n"
     ]
    }
   ],
   "source": [
    "use_types = []\n",
    "for i,row in bc_without_known_outliers.iterrows():\n",
    "    if not pd.isna(row['ListOfAllPropertyUseTypes']):\n",
    "        for use in row['ListOfAllPropertyUseTypes'].split(','):\n",
    "            use =  use.strip()\n",
    "            if use not in use_types:\n",
    "                use_types.append(use)\n",
    "                print(use)\n",
    "print(f\"{len(use_types)} éléments\") "
   ]
  },
  {
   "cell_type": "markdown",
   "metadata": {},
   "source": [
    "### Vérification de l'usage principal d'habitation"
   ]
  },
  {
   "cell_type": "code",
   "execution_count": 8,
   "metadata": {},
   "outputs": [
    {
     "data": {
      "application/vnd.microsoft.datawrangler.viewer.v0+json": {
       "columns": [
        {
         "name": "index",
         "rawType": "int64",
         "type": "integer"
        },
        {
         "name": "ListOfAllPropertyUseTypes",
         "rawType": "object",
         "type": "unknown"
        },
        {
         "name": "BuildingType",
         "rawType": "object",
         "type": "string"
        },
        {
         "name": "PrimaryPropertyType",
         "rawType": "object",
         "type": "string"
        },
        {
         "name": "LargestPropertyUseType",
         "rawType": "object",
         "type": "unknown"
        }
       ],
       "ref": "dedaa97e-915e-419e-a69b-8b76bee3e509",
       "rows": [
        [
         "353",
         "Fitness Center/Health Club/Gym, Office, Other - Education, Other - Recreation, Other - Restaurant/Bar, Outpatient Rehabilitation/Physical Therapy, Personal Services (Health/Beauty, Dry Cleaning, etc), Restaurant, Retail Store, Self-Storage Facility, Vocat",
         "NonResidential",
         "Self-Storage Facility",
         null
        ],
        [
         "578",
         null,
         "NonResidential",
         "Small- and Mid-Sized Office",
         null
        ],
        [
         "758",
         null,
         "Multifamily LR (1-4)",
         "Low-Rise Multifamily",
         null
        ],
        [
         "1077",
         "Multifamily Housing",
         "Multifamily HR (10+)",
         "High-Rise Multifamily",
         null
        ],
        [
         "1147",
         "Hotel",
         "NonResidential",
         "Hotel",
         null
        ],
        [
         "1483",
         "Multifamily Housing",
         "Multifamily MR (5-9)",
         "Mid-Rise Multifamily",
         null
        ],
        [
         "1756",
         "Multifamily Housing",
         "Multifamily HR (10+)",
         "High-Rise Multifamily",
         null
        ],
        [
         "1768",
         null,
         "Multifamily LR (1-4)",
         "Low-Rise Multifamily",
         null
        ],
        [
         "1792",
         null,
         "Multifamily LR (1-4)",
         "Low-Rise Multifamily",
         null
        ],
        [
         "2321",
         null,
         "Multifamily LR (1-4)",
         "Low-Rise Multifamily",
         null
        ],
        [
         "2336",
         "Multifamily Housing",
         "Multifamily LR (1-4)",
         "Low-Rise Multifamily",
         null
        ],
        [
         "2414",
         "Office",
         "NonResidential",
         "Small- and Mid-Sized Office",
         null
        ],
        [
         "2459",
         "Restaurant",
         "NonResidential",
         "Restaurant",
         null
        ],
        [
         "2474",
         null,
         "Multifamily LR (1-4)",
         "Low-Rise Multifamily",
         null
        ],
        [
         "2480",
         null,
         "Multifamily LR (1-4)",
         "Low-Rise Multifamily",
         null
        ],
        [
         "2545",
         "Multifamily Housing",
         "Multifamily LR (1-4)",
         "Low-Rise Multifamily",
         null
        ],
        [
         "2670",
         null,
         "NonResidential",
         "Mixed Use Property",
         null
        ],
        [
         "2886",
         "Multifamily Housing",
         "Multifamily LR (1-4)",
         "Low-Rise Multifamily",
         null
        ],
        [
         "3040",
         "Multifamily Housing, Office",
         "Multifamily LR (1-4)",
         "Low-Rise Multifamily",
         null
        ],
        [
         "3348",
         null,
         "Multifamily LR (1-4)",
         "Low-Rise Multifamily",
         null
        ]
       ],
       "shape": {
        "columns": 4,
        "rows": 20
       }
      },
      "text/html": [
       "<div>\n",
       "<style scoped>\n",
       "    .dataframe tbody tr th:only-of-type {\n",
       "        vertical-align: middle;\n",
       "    }\n",
       "\n",
       "    .dataframe tbody tr th {\n",
       "        vertical-align: top;\n",
       "    }\n",
       "\n",
       "    .dataframe thead th {\n",
       "        text-align: right;\n",
       "    }\n",
       "</style>\n",
       "<table border=\"1\" class=\"dataframe\">\n",
       "  <thead>\n",
       "    <tr style=\"text-align: right;\">\n",
       "      <th></th>\n",
       "      <th>ListOfAllPropertyUseTypes</th>\n",
       "      <th>BuildingType</th>\n",
       "      <th>PrimaryPropertyType</th>\n",
       "      <th>LargestPropertyUseType</th>\n",
       "    </tr>\n",
       "  </thead>\n",
       "  <tbody>\n",
       "    <tr>\n",
       "      <th>353</th>\n",
       "      <td>Fitness Center/Health Club/Gym, Office, Other ...</td>\n",
       "      <td>NonResidential</td>\n",
       "      <td>Self-Storage Facility</td>\n",
       "      <td>NaN</td>\n",
       "    </tr>\n",
       "    <tr>\n",
       "      <th>578</th>\n",
       "      <td>NaN</td>\n",
       "      <td>NonResidential</td>\n",
       "      <td>Small- and Mid-Sized Office</td>\n",
       "      <td>NaN</td>\n",
       "    </tr>\n",
       "    <tr>\n",
       "      <th>758</th>\n",
       "      <td>NaN</td>\n",
       "      <td>Multifamily LR (1-4)</td>\n",
       "      <td>Low-Rise Multifamily</td>\n",
       "      <td>NaN</td>\n",
       "    </tr>\n",
       "    <tr>\n",
       "      <th>1077</th>\n",
       "      <td>Multifamily Housing</td>\n",
       "      <td>Multifamily HR (10+)</td>\n",
       "      <td>High-Rise Multifamily</td>\n",
       "      <td>NaN</td>\n",
       "    </tr>\n",
       "    <tr>\n",
       "      <th>1147</th>\n",
       "      <td>Hotel</td>\n",
       "      <td>NonResidential</td>\n",
       "      <td>Hotel</td>\n",
       "      <td>NaN</td>\n",
       "    </tr>\n",
       "    <tr>\n",
       "      <th>1483</th>\n",
       "      <td>Multifamily Housing</td>\n",
       "      <td>Multifamily MR (5-9)</td>\n",
       "      <td>Mid-Rise Multifamily</td>\n",
       "      <td>NaN</td>\n",
       "    </tr>\n",
       "    <tr>\n",
       "      <th>1756</th>\n",
       "      <td>Multifamily Housing</td>\n",
       "      <td>Multifamily HR (10+)</td>\n",
       "      <td>High-Rise Multifamily</td>\n",
       "      <td>NaN</td>\n",
       "    </tr>\n",
       "    <tr>\n",
       "      <th>1768</th>\n",
       "      <td>NaN</td>\n",
       "      <td>Multifamily LR (1-4)</td>\n",
       "      <td>Low-Rise Multifamily</td>\n",
       "      <td>NaN</td>\n",
       "    </tr>\n",
       "    <tr>\n",
       "      <th>1792</th>\n",
       "      <td>NaN</td>\n",
       "      <td>Multifamily LR (1-4)</td>\n",
       "      <td>Low-Rise Multifamily</td>\n",
       "      <td>NaN</td>\n",
       "    </tr>\n",
       "    <tr>\n",
       "      <th>2321</th>\n",
       "      <td>NaN</td>\n",
       "      <td>Multifamily LR (1-4)</td>\n",
       "      <td>Low-Rise Multifamily</td>\n",
       "      <td>NaN</td>\n",
       "    </tr>\n",
       "    <tr>\n",
       "      <th>2336</th>\n",
       "      <td>Multifamily Housing</td>\n",
       "      <td>Multifamily LR (1-4)</td>\n",
       "      <td>Low-Rise Multifamily</td>\n",
       "      <td>NaN</td>\n",
       "    </tr>\n",
       "    <tr>\n",
       "      <th>2414</th>\n",
       "      <td>Office</td>\n",
       "      <td>NonResidential</td>\n",
       "      <td>Small- and Mid-Sized Office</td>\n",
       "      <td>NaN</td>\n",
       "    </tr>\n",
       "    <tr>\n",
       "      <th>2459</th>\n",
       "      <td>Restaurant</td>\n",
       "      <td>NonResidential</td>\n",
       "      <td>Restaurant</td>\n",
       "      <td>NaN</td>\n",
       "    </tr>\n",
       "    <tr>\n",
       "      <th>2474</th>\n",
       "      <td>NaN</td>\n",
       "      <td>Multifamily LR (1-4)</td>\n",
       "      <td>Low-Rise Multifamily</td>\n",
       "      <td>NaN</td>\n",
       "    </tr>\n",
       "    <tr>\n",
       "      <th>2480</th>\n",
       "      <td>NaN</td>\n",
       "      <td>Multifamily LR (1-4)</td>\n",
       "      <td>Low-Rise Multifamily</td>\n",
       "      <td>NaN</td>\n",
       "    </tr>\n",
       "    <tr>\n",
       "      <th>2545</th>\n",
       "      <td>Multifamily Housing</td>\n",
       "      <td>Multifamily LR (1-4)</td>\n",
       "      <td>Low-Rise Multifamily</td>\n",
       "      <td>NaN</td>\n",
       "    </tr>\n",
       "    <tr>\n",
       "      <th>2670</th>\n",
       "      <td>NaN</td>\n",
       "      <td>NonResidential</td>\n",
       "      <td>Mixed Use Property</td>\n",
       "      <td>NaN</td>\n",
       "    </tr>\n",
       "    <tr>\n",
       "      <th>2886</th>\n",
       "      <td>Multifamily Housing</td>\n",
       "      <td>Multifamily LR (1-4)</td>\n",
       "      <td>Low-Rise Multifamily</td>\n",
       "      <td>NaN</td>\n",
       "    </tr>\n",
       "    <tr>\n",
       "      <th>3040</th>\n",
       "      <td>Multifamily Housing, Office</td>\n",
       "      <td>Multifamily LR (1-4)</td>\n",
       "      <td>Low-Rise Multifamily</td>\n",
       "      <td>NaN</td>\n",
       "    </tr>\n",
       "    <tr>\n",
       "      <th>3348</th>\n",
       "      <td>NaN</td>\n",
       "      <td>Multifamily LR (1-4)</td>\n",
       "      <td>Low-Rise Multifamily</td>\n",
       "      <td>NaN</td>\n",
       "    </tr>\n",
       "  </tbody>\n",
       "</table>\n",
       "</div>"
      ],
      "text/plain": [
       "                              ListOfAllPropertyUseTypes          BuildingType  \\\n",
       "353   Fitness Center/Health Club/Gym, Office, Other ...        NonResidential   \n",
       "578                                                 NaN        NonResidential   \n",
       "758                                                 NaN  Multifamily LR (1-4)   \n",
       "1077                                Multifamily Housing  Multifamily HR (10+)   \n",
       "1147                                              Hotel        NonResidential   \n",
       "1483                                Multifamily Housing  Multifamily MR (5-9)   \n",
       "1756                                Multifamily Housing  Multifamily HR (10+)   \n",
       "1768                                                NaN  Multifamily LR (1-4)   \n",
       "1792                                                NaN  Multifamily LR (1-4)   \n",
       "2321                                                NaN  Multifamily LR (1-4)   \n",
       "2336                                Multifamily Housing  Multifamily LR (1-4)   \n",
       "2414                                             Office        NonResidential   \n",
       "2459                                         Restaurant        NonResidential   \n",
       "2474                                                NaN  Multifamily LR (1-4)   \n",
       "2480                                                NaN  Multifamily LR (1-4)   \n",
       "2545                                Multifamily Housing  Multifamily LR (1-4)   \n",
       "2670                                                NaN        NonResidential   \n",
       "2886                                Multifamily Housing  Multifamily LR (1-4)   \n",
       "3040                        Multifamily Housing, Office  Multifamily LR (1-4)   \n",
       "3348                                                NaN  Multifamily LR (1-4)   \n",
       "\n",
       "              PrimaryPropertyType LargestPropertyUseType  \n",
       "353         Self-Storage Facility                    NaN  \n",
       "578   Small- and Mid-Sized Office                    NaN  \n",
       "758          Low-Rise Multifamily                    NaN  \n",
       "1077        High-Rise Multifamily                    NaN  \n",
       "1147                        Hotel                    NaN  \n",
       "1483         Mid-Rise Multifamily                    NaN  \n",
       "1756        High-Rise Multifamily                    NaN  \n",
       "1768         Low-Rise Multifamily                    NaN  \n",
       "1792         Low-Rise Multifamily                    NaN  \n",
       "2321         Low-Rise Multifamily                    NaN  \n",
       "2336         Low-Rise Multifamily                    NaN  \n",
       "2414  Small- and Mid-Sized Office                    NaN  \n",
       "2459                   Restaurant                    NaN  \n",
       "2474         Low-Rise Multifamily                    NaN  \n",
       "2480         Low-Rise Multifamily                    NaN  \n",
       "2545         Low-Rise Multifamily                    NaN  \n",
       "2670           Mixed Use Property                    NaN  \n",
       "2886         Low-Rise Multifamily                    NaN  \n",
       "3040         Low-Rise Multifamily                    NaN  \n",
       "3348         Low-Rise Multifamily                    NaN  "
      ]
     },
     "execution_count": 8,
     "metadata": {},
     "output_type": "execute_result"
    }
   ],
   "source": [
    "# Let's check property without largest use type\n",
    "mask = bc_without_known_outliers['LargestPropertyUseType'].isna()\n",
    "bc_without_known_outliers[mask][['ListOfAllPropertyUseTypes','BuildingType','PrimaryPropertyType','LargestPropertyUseType']]"
   ]
  },
  {
   "cell_type": "markdown",
   "metadata": {},
   "source": [
    "### Correction manuelle des valeurs manquantes"
   ]
  },
  {
   "cell_type": "code",
   "execution_count": 9,
   "metadata": {},
   "outputs": [],
   "source": [
    "mask = bc_without_known_outliers['LargestPropertyUseType'].isna() & bc_without_known_outliers['PrimaryPropertyType'].str.contains('Multifamily')\n",
    "bc_without_known_outliers.loc[mask,'LargestPropertyUseType']= \"Multifamily Housing\"\n",
    "mask = bc_without_known_outliers['LargestPropertyUseType'].isna() \n",
    "bc_without_known_outliers[mask][['ListOfAllPropertyUseTypes','BuildingType','PrimaryPropertyType','LargestPropertyUseType']]\n",
    "bc_without_known_outliers.loc[mask,'LargestPropertyUseType']= bc_without_known_outliers.loc[mask,'PrimaryPropertyType']\n",
    "mask = bc_without_known_outliers['ListOfAllPropertyUseTypes'].isna() \n",
    "bc_without_known_outliers.loc[mask,'ListOfAllPropertyUseTypes']= bc_without_known_outliers.loc[mask,'LargestPropertyUseType']\n",
    "\n"
   ]
  },
  {
   "cell_type": "markdown",
   "metadata": {},
   "source": [
    "### Exclusion des propriétés à usage principal d'habitation (non temporaire)"
   ]
  },
  {
   "cell_type": "code",
   "execution_count": 10,
   "metadata": {},
   "outputs": [
    {
     "name": "stdout",
     "output_type": "stream",
     "text": [
      "Après filtrage des types de propriétés : 3344 → 1649 bâtiments\n"
     ]
    }
   ],
   "source": [
    "exclude_first_use = [\"Multifamily Housing\", \"Single Family Home\",\"Residence Hall/Dormitory\",\"Other - Lodging/Residential\"]\n",
    "mask = bc_without_known_outliers[\"LargestPropertyUseType\"].isin( exclude_first_use)\n",
    "bc_only_non_residential = bc_without_known_outliers[~mask].copy()\n",
    "print(f\"Après filtrage des types de propriétés : {len(bc_without_known_outliers)} → {len(bc_only_non_residential)} bâtiments\")\n"
   ]
  },
  {
   "cell_type": "code",
   "execution_count": 11,
   "metadata": {},
   "outputs": [
    {
     "data": {
      "application/vnd.microsoft.datawrangler.viewer.v0+json": {
       "columns": [
        {
         "name": "PrimaryPropertyType",
         "rawType": "object",
         "type": "string"
        },
        {
         "name": "count",
         "rawType": "int64",
         "type": "integer"
        }
       ],
       "ref": "57ef2a07-bbd3-40b5-b067-09daf27caca8",
       "rows": [
        [
         "Small- and Mid-Sized Office",
         "290"
        ],
        [
         "Other",
         "247"
        ],
        [
         "Warehouse",
         "187"
        ],
        [
         "Large Office",
         "170"
        ],
        [
         "K-12 School",
         "137"
        ],
        [
         "Mixed Use Property",
         "107"
        ],
        [
         "Retail Store",
         "89"
        ],
        [
         "Hotel",
         "76"
        ],
        [
         "Worship Facility",
         "69"
        ],
        [
         "Distribution Center",
         "53"
        ],
        [
         "Senior Care Community",
         "45"
        ],
        [
         "Supermarket / Grocery Store",
         "40"
        ],
        [
         "Medical Office",
         "39"
        ],
        [
         "Self-Storage Facility",
         "28"
        ],
        [
         "University",
         "25"
        ],
        [
         "Refrigerated Warehouse",
         "12"
        ],
        [
         "Restaurant",
         "12"
        ],
        [
         "Hospital",
         "10"
        ],
        [
         "Laboratory",
         "10"
        ],
        [
         "Office",
         "3"
        ]
       ],
       "shape": {
        "columns": 1,
        "rows": 20
       }
      },
      "text/plain": [
       "PrimaryPropertyType\n",
       "Small- and Mid-Sized Office    290\n",
       "Other                          247\n",
       "Warehouse                      187\n",
       "Large Office                   170\n",
       "K-12 School                    137\n",
       "Mixed Use Property             107\n",
       "Retail Store                    89\n",
       "Hotel                           76\n",
       "Worship Facility                69\n",
       "Distribution Center             53\n",
       "Senior Care Community           45\n",
       "Supermarket / Grocery Store     40\n",
       "Medical Office                  39\n",
       "Self-Storage Facility           28\n",
       "University                      25\n",
       "Refrigerated Warehouse          12\n",
       "Restaurant                      12\n",
       "Hospital                        10\n",
       "Laboratory                      10\n",
       "Office                           3\n",
       "Name: count, dtype: int64"
      ]
     },
     "execution_count": 11,
     "metadata": {},
     "output_type": "execute_result"
    }
   ],
   "source": [
    "bc_only_non_residential['PrimaryPropertyType'].value_counts()"
   ]
  },
  {
   "cell_type": "code",
   "execution_count": 12,
   "metadata": {},
   "outputs": [
    {
     "data": {
      "application/vnd.microsoft.datawrangler.viewer.v0+json": {
       "columns": [
        {
         "name": "LargestPropertyUseType",
         "rawType": "object",
         "type": "string"
        },
        {
         "name": "count",
         "rawType": "int64",
         "type": "integer"
        }
       ],
       "ref": "0580a7db-a387-4282-8146-d199be96ac8b",
       "rows": [
        [
         "Office",
         "492"
        ],
        [
         "Non-Refrigerated Warehouse",
         "199"
        ],
        [
         "K-12 School",
         "137"
        ],
        [
         "Other",
         "99"
        ],
        [
         "Retail Store",
         "97"
        ],
        [
         "Hotel",
         "77"
        ],
        [
         "Worship Facility",
         "69"
        ],
        [
         "Distribution Center",
         "54"
        ],
        [
         "Senior Care Community",
         "46"
        ],
        [
         "Medical Office",
         "41"
        ],
        [
         "Supermarket/Grocery Store",
         "41"
        ],
        [
         "Parking",
         "32"
        ],
        [
         "Other - Recreation",
         "31"
        ],
        [
         "Self-Storage Facility",
         "29"
        ],
        [
         "College/University",
         "25"
        ],
        [
         "Other - Entertainment/Public Assembly",
         "21"
        ],
        [
         "Restaurant",
         "13"
        ],
        [
         "Laboratory",
         "13"
        ],
        [
         "Refrigerated Warehouse",
         "12"
        ],
        [
         "Social/Meeting Hall",
         "10"
        ],
        [
         "Hospital (General Medical & Surgical)",
         "10"
        ],
        [
         "Manufacturing/Industrial Plant",
         "8"
        ],
        [
         "Repair Services (Vehicle, Shoe, Locksmith, etc)",
         "6"
        ],
        [
         "Strip Mall",
         "6"
        ],
        [
         "Fitness Center/Health Club/Gym",
         "5"
        ],
        [
         "Other - Services",
         "5"
        ],
        [
         "Museum",
         "5"
        ],
        [
         "Automobile Dealership",
         "5"
        ],
        [
         "Library",
         "4"
        ],
        [
         "Other - Mall",
         "4"
        ],
        [
         "Other/Specialty Hospital",
         "4"
        ],
        [
         "Bank Branch",
         "4"
        ],
        [
         "Other - Education",
         "4"
        ],
        [
         "Financial Office",
         "4"
        ],
        [
         "Urgent Care/Clinic/Other Outpatient",
         "4"
        ],
        [
         "Prison/Incarceration",
         "3"
        ],
        [
         "Performing Arts",
         "3"
        ],
        [
         "Data Center",
         "3"
        ],
        [
         "Pre-school/Daycare",
         "2"
        ],
        [
         "Other - Restaurant/Bar",
         "2"
        ],
        [
         "Small- and Mid-Sized Office",
         "2"
        ],
        [
         "Lifestyle Center",
         "2"
        ],
        [
         "Other - Utility",
         "2"
        ],
        [
         "Adult Education",
         "2"
        ],
        [
         "Other - Public Services",
         "2"
        ],
        [
         "Police Station",
         "1"
        ],
        [
         "Courthouse",
         "1"
        ],
        [
         "Wholesale Club/Supercenter",
         "1"
        ],
        [
         "Convention Center",
         "1"
        ],
        [
         "Residential Care Facility",
         "1"
        ]
       ],
       "shape": {
        "columns": 1,
        "rows": 55
       }
      },
      "text/plain": [
       "LargestPropertyUseType\n",
       "Office                                                  492\n",
       "Non-Refrigerated Warehouse                              199\n",
       "K-12 School                                             137\n",
       "Other                                                    99\n",
       "Retail Store                                             97\n",
       "Hotel                                                    77\n",
       "Worship Facility                                         69\n",
       "Distribution Center                                      54\n",
       "Senior Care Community                                    46\n",
       "Medical Office                                           41\n",
       "Supermarket/Grocery Store                                41\n",
       "Parking                                                  32\n",
       "Other - Recreation                                       31\n",
       "Self-Storage Facility                                    29\n",
       "College/University                                       25\n",
       "Other - Entertainment/Public Assembly                    21\n",
       "Restaurant                                               13\n",
       "Laboratory                                               13\n",
       "Refrigerated Warehouse                                   12\n",
       "Social/Meeting Hall                                      10\n",
       "Hospital (General Medical & Surgical)                    10\n",
       "Manufacturing/Industrial Plant                            8\n",
       "Repair Services (Vehicle, Shoe, Locksmith, etc)           6\n",
       "Strip Mall                                                6\n",
       "Fitness Center/Health Club/Gym                            5\n",
       "Other - Services                                          5\n",
       "Museum                                                    5\n",
       "Automobile Dealership                                     5\n",
       "Library                                                   4\n",
       "Other - Mall                                              4\n",
       "Other/Specialty Hospital                                  4\n",
       "Bank Branch                                               4\n",
       "Other - Education                                         4\n",
       "Financial Office                                          4\n",
       "Urgent Care/Clinic/Other Outpatient                       4\n",
       "Prison/Incarceration                                      3\n",
       "Performing Arts                                           3\n",
       "Data Center                                               3\n",
       "Pre-school/Daycare                                        2\n",
       "Other - Restaurant/Bar                                    2\n",
       "Small- and Mid-Sized Office                               2\n",
       "Lifestyle Center                                          2\n",
       "Other - Utility                                           2\n",
       "Adult Education                                           2\n",
       "Other - Public Services                                   2\n",
       "Police Station                                            1\n",
       "Courthouse                                                1\n",
       "Wholesale Club/Supercenter                                1\n",
       "Convention Center                                         1\n",
       "Residential Care Facility                                 1\n",
       "Fire Station                                              1\n",
       "Movie Theater                                             1\n",
       "Food Service                                              1\n",
       "Mixed Use Property                                        1\n",
       "Personal Services (Health/Beauty, Dry Cleaning, etc)      1\n",
       "Name: count, dtype: int64"
      ]
     },
     "execution_count": 12,
     "metadata": {},
     "output_type": "execute_result"
    }
   ],
   "source": [
    "bc_only_non_residential['LargestPropertyUseType'].value_counts()"
   ]
  },
  {
   "cell_type": "code",
   "execution_count": 13,
   "metadata": {},
   "outputs": [
    {
     "data": {
      "application/vnd.microsoft.datawrangler.viewer.v0+json": {
       "columns": [
        {
         "name": "SecondLargestPropertyUseType",
         "rawType": "object",
         "type": "string"
        },
        {
         "name": "count",
         "rawType": "int64",
         "type": "integer"
        }
       ],
       "ref": "3c899025-c84b-4547-88e4-d135c9543988",
       "rows": [
        [
         "Parking",
         "341"
        ],
        [
         "Office",
         "162"
        ],
        [
         "Retail Store",
         "84"
        ],
        [
         "Other",
         "44"
        ],
        [
         "Restaurant",
         "30"
        ],
        [
         "Non-Refrigerated Warehouse",
         "29"
        ],
        [
         "Multifamily Housing",
         "17"
        ],
        [
         "Fitness Center/Health Club/Gym",
         "16"
        ],
        [
         "Data Center",
         "12"
        ],
        [
         "Other - Services",
         "11"
        ],
        [
         "Medical Office",
         "8"
        ],
        [
         "Laboratory",
         "8"
        ],
        [
         "Distribution Center",
         "7"
        ],
        [
         "Bank Branch",
         "7"
        ],
        [
         "Supermarket/Grocery Store",
         "7"
        ],
        [
         "Other - Entertainment/Public Assembly",
         "6"
        ],
        [
         "K-12 School",
         "5"
        ],
        [
         "Swimming Pool",
         "4"
        ],
        [
         "Repair Services (Vehicle, Shoe, Locksmith, etc)",
         "4"
        ],
        [
         "Other - Recreation",
         "4"
        ],
        [
         "Self-Storage Facility",
         "3"
        ],
        [
         "Worship Facility",
         "3"
        ],
        [
         "Movie Theater",
         "3"
        ],
        [
         "Other - Public Services",
         "3"
        ],
        [
         "Automobile Dealership",
         "2"
        ],
        [
         "Manufacturing/Industrial Plant",
         "2"
        ],
        [
         "Food Sales",
         "2"
        ],
        [
         "Other - Education",
         "2"
        ],
        [
         "Refrigerated Warehouse",
         "2"
        ],
        [
         "Bar/Nightclub",
         "2"
        ],
        [
         "Other - Restaurant/Bar",
         "2"
        ],
        [
         "Adult Education",
         "2"
        ],
        [
         "Performing Arts",
         "2"
        ],
        [
         "Hotel",
         "2"
        ],
        [
         "Vocational School",
         "1"
        ],
        [
         "Personal Services (Health/Beauty, Dry Cleaning, etc)",
         "1"
        ],
        [
         "Courthouse",
         "1"
        ],
        [
         "College/University",
         "1"
        ],
        [
         "Residence Hall/Dormitory",
         "1"
        ],
        [
         "Convenience Store without Gas Station",
         "1"
        ],
        [
         "Enclosed Mall",
         "1"
        ],
        [
         "Other - Lodging/Residential",
         "1"
        ],
        [
         "Financial Office",
         "1"
        ],
        [
         "Food Service",
         "1"
        ],
        [
         "Pre-school/Daycare",
         "1"
        ],
        [
         "Social/Meeting Hall",
         "1"
        ],
        [
         "Senior Care Community",
         "1"
        ],
        [
         "Hospital (General Medical & Surgical)",
         "1"
        ]
       ],
       "shape": {
        "columns": 1,
        "rows": 48
       }
      },
      "text/plain": [
       "SecondLargestPropertyUseType\n",
       "Parking                                                 341\n",
       "Office                                                  162\n",
       "Retail Store                                             84\n",
       "Other                                                    44\n",
       "Restaurant                                               30\n",
       "Non-Refrigerated Warehouse                               29\n",
       "Multifamily Housing                                      17\n",
       "Fitness Center/Health Club/Gym                           16\n",
       "Data Center                                              12\n",
       "Other - Services                                         11\n",
       "Medical Office                                            8\n",
       "Laboratory                                                8\n",
       "Distribution Center                                       7\n",
       "Bank Branch                                               7\n",
       "Supermarket/Grocery Store                                 7\n",
       "Other - Entertainment/Public Assembly                     6\n",
       "K-12 School                                               5\n",
       "Swimming Pool                                             4\n",
       "Repair Services (Vehicle, Shoe, Locksmith, etc)           4\n",
       "Other - Recreation                                        4\n",
       "Self-Storage Facility                                     3\n",
       "Worship Facility                                          3\n",
       "Movie Theater                                             3\n",
       "Other - Public Services                                   3\n",
       "Automobile Dealership                                     2\n",
       "Manufacturing/Industrial Plant                            2\n",
       "Food Sales                                                2\n",
       "Other - Education                                         2\n",
       "Refrigerated Warehouse                                    2\n",
       "Bar/Nightclub                                             2\n",
       "Other - Restaurant/Bar                                    2\n",
       "Adult Education                                           2\n",
       "Performing Arts                                           2\n",
       "Hotel                                                     2\n",
       "Vocational School                                         1\n",
       "Personal Services (Health/Beauty, Dry Cleaning, etc)      1\n",
       "Courthouse                                                1\n",
       "College/University                                        1\n",
       "Residence Hall/Dormitory                                  1\n",
       "Convenience Store without Gas Station                     1\n",
       "Enclosed Mall                                             1\n",
       "Other - Lodging/Residential                               1\n",
       "Financial Office                                          1\n",
       "Food Service                                              1\n",
       "Pre-school/Daycare                                        1\n",
       "Social/Meeting Hall                                       1\n",
       "Senior Care Community                                     1\n",
       "Hospital (General Medical & Surgical)                     1\n",
       "Name: count, dtype: int64"
      ]
     },
     "execution_count": 13,
     "metadata": {},
     "output_type": "execute_result"
    }
   ],
   "source": [
    "bc_only_non_residential['SecondLargestPropertyUseType'].value_counts()"
   ]
  },
  {
   "cell_type": "code",
   "execution_count": 14,
   "metadata": {},
   "outputs": [
    {
     "data": {
      "application/vnd.microsoft.datawrangler.viewer.v0+json": {
       "columns": [
        {
         "name": "ThirdLargestPropertyUseType",
         "rawType": "object",
         "type": "string"
        },
        {
         "name": "count",
         "rawType": "int64",
         "type": "integer"
        }
       ],
       "ref": "66f94382-47d4-4fd5-9691-3a53a6424959",
       "rows": [
        [
         "Office",
         "51"
        ],
        [
         "Retail Store",
         "47"
        ],
        [
         "Parking",
         "43"
        ],
        [
         "Other",
         "38"
        ],
        [
         "Restaurant",
         "31"
        ],
        [
         "Non-Refrigerated Warehouse",
         "15"
        ],
        [
         "Data Center",
         "13"
        ],
        [
         "Multifamily Housing",
         "12"
        ],
        [
         "Swimming Pool",
         "10"
        ],
        [
         "Medical Office",
         "9"
        ],
        [
         "Pre-school/Daycare",
         "8"
        ],
        [
         "Food Service",
         "7"
        ],
        [
         "Social/Meeting Hall",
         "6"
        ],
        [
         "Bank Branch",
         "5"
        ],
        [
         "Other - Restaurant/Bar",
         "5"
        ],
        [
         "Other - Entertainment/Public Assembly",
         "4"
        ],
        [
         "Fitness Center/Health Club/Gym",
         "4"
        ],
        [
         "Distribution Center",
         "3"
        ],
        [
         "Financial Office",
         "3"
        ],
        [
         "Convenience Store without Gas Station",
         "2"
        ],
        [
         "K-12 School",
         "2"
        ],
        [
         "Other - Education",
         "2"
        ],
        [
         "Other - Services",
         "2"
        ],
        [
         "Other - Technology/Science",
         "2"
        ],
        [
         "Laboratory",
         "2"
        ],
        [
         "Personal Services (Health/Beauty, Dry Cleaning, etc)",
         "2"
        ],
        [
         "Other - Recreation",
         "2"
        ],
        [
         "Refrigerated Warehouse",
         "2"
        ],
        [
         "Self-Storage Facility",
         "2"
        ],
        [
         "Other - Utility",
         "1"
        ],
        [
         "Hotel",
         "1"
        ],
        [
         "Bar/Nightclub",
         "1"
        ],
        [
         "Manufacturing/Industrial Plant",
         "1"
        ],
        [
         "Other/Specialty Hospital",
         "1"
        ],
        [
         "Fast Food Restaurant",
         "1"
        ],
        [
         "Worship Facility",
         "1"
        ],
        [
         "Supermarket/Grocery Store",
         "1"
        ],
        [
         "Strip Mall",
         "1"
        ],
        [
         "Vocational School",
         "1"
        ]
       ],
       "shape": {
        "columns": 1,
        "rows": 39
       }
      },
      "text/plain": [
       "ThirdLargestPropertyUseType\n",
       "Office                                                  51\n",
       "Retail Store                                            47\n",
       "Parking                                                 43\n",
       "Other                                                   38\n",
       "Restaurant                                              31\n",
       "Non-Refrigerated Warehouse                              15\n",
       "Data Center                                             13\n",
       "Multifamily Housing                                     12\n",
       "Swimming Pool                                           10\n",
       "Medical Office                                           9\n",
       "Pre-school/Daycare                                       8\n",
       "Food Service                                             7\n",
       "Social/Meeting Hall                                      6\n",
       "Bank Branch                                              5\n",
       "Other - Restaurant/Bar                                   5\n",
       "Other - Entertainment/Public Assembly                    4\n",
       "Fitness Center/Health Club/Gym                           4\n",
       "Distribution Center                                      3\n",
       "Financial Office                                         3\n",
       "Convenience Store without Gas Station                    2\n",
       "K-12 School                                              2\n",
       "Other - Education                                        2\n",
       "Other - Services                                         2\n",
       "Other - Technology/Science                               2\n",
       "Laboratory                                               2\n",
       "Personal Services (Health/Beauty, Dry Cleaning, etc)     2\n",
       "Other - Recreation                                       2\n",
       "Refrigerated Warehouse                                   2\n",
       "Self-Storage Facility                                    2\n",
       "Other - Utility                                          1\n",
       "Hotel                                                    1\n",
       "Bar/Nightclub                                            1\n",
       "Manufacturing/Industrial Plant                           1\n",
       "Other/Specialty Hospital                                 1\n",
       "Fast Food Restaurant                                     1\n",
       "Worship Facility                                         1\n",
       "Supermarket/Grocery Store                                1\n",
       "Strip Mall                                               1\n",
       "Vocational School                                        1\n",
       "Name: count, dtype: int64"
      ]
     },
     "execution_count": 14,
     "metadata": {},
     "output_type": "execute_result"
    }
   ],
   "source": [
    "bc_only_non_residential['ThirdLargestPropertyUseType'].value_counts()"
   ]
  },
  {
   "cell_type": "code",
   "execution_count": 15,
   "metadata": {},
   "outputs": [
    {
     "name": "stdout",
     "output_type": "stream",
     "text": [
      "<class 'pandas.core.frame.DataFrame'>\n",
      "Index: 1649 entries, 0 to 3375\n",
      "Data columns (total 6 columns):\n",
      " #   Column                        Non-Null Count  Dtype \n",
      "---  ------                        --------------  ----- \n",
      " 0   BuildingType                  1649 non-null   object\n",
      " 1   PrimaryPropertyType           1649 non-null   object\n",
      " 2   ListOfAllPropertyUseTypes     1649 non-null   object\n",
      " 3   LargestPropertyUseType        1649 non-null   object\n",
      " 4   SecondLargestPropertyUseType  852 non-null    object\n",
      " 5   ThirdLargestPropertyUseType   344 non-null    object\n",
      "dtypes: object(6)\n",
      "memory usage: 90.2+ KB\n"
     ]
    }
   ],
   "source": [
    "bc_only_non_residential[['BuildingType', 'PrimaryPropertyType', 'ListOfAllPropertyUseTypes', 'LargestPropertyUseType', 'SecondLargestPropertyUseType', 'ThirdLargestPropertyUseType']].info()"
   ]
  },
  {
   "cell_type": "code",
   "execution_count": 16,
   "metadata": {},
   "outputs": [],
   "source": [
    "mask = (bc_only_non_residential['PrimaryPropertyType'].str.contains('Other')) &  (~ bc_only_non_residential['LargestPropertyUseType'].str.contains('Other'))\n",
    "bc_only_non_residential['FirstUseType'] = bc_only_non_residential['PrimaryPropertyType']\n",
    "bc_only_non_residential.loc[mask,'FirstUseType'] = bc_only_non_residential.loc[mask,'LargestPropertyUseType']"
   ]
  },
  {
   "cell_type": "code",
   "execution_count": 17,
   "metadata": {},
   "outputs": [
    {
     "data": {
      "application/vnd.microsoft.datawrangler.viewer.v0+json": {
       "columns": [
        {
         "name": "FirstUseType",
         "rawType": "object",
         "type": "string"
        },
        {
         "name": "count",
         "rawType": "int64",
         "type": "integer"
        }
       ],
       "ref": "5a3c85d2-4bf0-4c76-9574-a281f62d9e32",
       "rows": [
        [
         "Small- and Mid-Sized Office",
         "290"
        ],
        [
         "Warehouse",
         "187"
        ],
        [
         "Large Office",
         "170"
        ],
        [
         "Other",
         "156"
        ],
        [
         "K-12 School",
         "137"
        ],
        [
         "Mixed Use Property",
         "107"
        ],
        [
         "Retail Store",
         "89"
        ],
        [
         "Hotel",
         "76"
        ],
        [
         "Worship Facility",
         "69"
        ],
        [
         "Distribution Center",
         "53"
        ],
        [
         "Senior Care Community",
         "45"
        ],
        [
         "Supermarket / Grocery Store",
         "40"
        ],
        [
         "Medical Office",
         "39"
        ],
        [
         "Self-Storage Facility",
         "28"
        ],
        [
         "University",
         "25"
        ],
        [
         "Parking",
         "17"
        ],
        [
         "Restaurant",
         "12"
        ],
        [
         "Refrigerated Warehouse",
         "12"
        ],
        [
         "Laboratory",
         "10"
        ],
        [
         "Hospital",
         "10"
        ],
        [
         "Social/Meeting Hall",
         "8"
        ],
        [
         "Manufacturing/Industrial Plant",
         "8"
        ],
        [
         "Repair Services (Vehicle, Shoe, Locksmith, etc)",
         "6"
        ],
        [
         "Strip Mall",
         "5"
        ],
        [
         "Museum",
         "5"
        ],
        [
         "Automobile Dealership",
         "5"
        ],
        [
         "Financial Office",
         "4"
        ],
        [
         "Library",
         "4"
        ],
        [
         "Fitness Center/Health Club/Gym",
         "3"
        ],
        [
         "Office",
         "3"
        ],
        [
         "Prison/Incarceration",
         "3"
        ],
        [
         "Performing Arts",
         "3"
        ],
        [
         "Data Center",
         "3"
        ],
        [
         "Bank Branch",
         "3"
        ],
        [
         "Adult Education",
         "2"
        ],
        [
         "Lifestyle Center",
         "2"
        ],
        [
         "Pre-school/Daycare",
         "2"
        ],
        [
         "Courthouse",
         "1"
        ],
        [
         "Police Station",
         "1"
        ],
        [
         "Convention Center",
         "1"
        ],
        [
         "Fire Station",
         "1"
        ],
        [
         "Residential Care Facility",
         "1"
        ],
        [
         "Food Service",
         "1"
        ],
        [
         "Movie Theater",
         "1"
        ],
        [
         "Personal Services (Health/Beauty, Dry Cleaning, etc)",
         "1"
        ]
       ],
       "shape": {
        "columns": 1,
        "rows": 45
       }
      },
      "text/plain": [
       "FirstUseType\n",
       "Small- and Mid-Sized Office                             290\n",
       "Warehouse                                               187\n",
       "Large Office                                            170\n",
       "Other                                                   156\n",
       "K-12 School                                             137\n",
       "Mixed Use Property                                      107\n",
       "Retail Store                                             89\n",
       "Hotel                                                    76\n",
       "Worship Facility                                         69\n",
       "Distribution Center                                      53\n",
       "Senior Care Community                                    45\n",
       "Supermarket / Grocery Store                              40\n",
       "Medical Office                                           39\n",
       "Self-Storage Facility                                    28\n",
       "University                                               25\n",
       "Parking                                                  17\n",
       "Restaurant                                               12\n",
       "Refrigerated Warehouse                                   12\n",
       "Laboratory                                               10\n",
       "Hospital                                                 10\n",
       "Social/Meeting Hall                                       8\n",
       "Manufacturing/Industrial Plant                            8\n",
       "Repair Services (Vehicle, Shoe, Locksmith, etc)           6\n",
       "Strip Mall                                                5\n",
       "Museum                                                    5\n",
       "Automobile Dealership                                     5\n",
       "Financial Office                                          4\n",
       "Library                                                   4\n",
       "Fitness Center/Health Club/Gym                            3\n",
       "Office                                                    3\n",
       "Prison/Incarceration                                      3\n",
       "Performing Arts                                           3\n",
       "Data Center                                               3\n",
       "Bank Branch                                               3\n",
       "Adult Education                                           2\n",
       "Lifestyle Center                                          2\n",
       "Pre-school/Daycare                                        2\n",
       "Courthouse                                                1\n",
       "Police Station                                            1\n",
       "Convention Center                                         1\n",
       "Fire Station                                              1\n",
       "Residential Care Facility                                 1\n",
       "Food Service                                              1\n",
       "Movie Theater                                             1\n",
       "Personal Services (Health/Beauty, Dry Cleaning, etc)      1\n",
       "Name: count, dtype: int64"
      ]
     },
     "execution_count": 17,
     "metadata": {},
     "output_type": "execute_result"
    }
   ],
   "source": [
    "mask = bc_only_non_residential['FirstUseType'].isna()\n",
    "bc_only_non_residential['FirstUseType'].value_counts()"
   ]
  },
  {
   "cell_type": "code",
   "execution_count": 18,
   "metadata": {},
   "outputs": [
    {
     "data": {
      "application/vnd.microsoft.datawrangler.viewer.v0+json": {
       "columns": [
        {
         "name": "SecondLargestPropertyUseType",
         "rawType": "object",
         "type": "string"
        },
        {
         "name": "count",
         "rawType": "int64",
         "type": "integer"
        }
       ],
       "ref": "44bb436e-0a47-4d1d-a1dd-e21a7e79d979",
       "rows": [
        [
         "Parking",
         "341"
        ],
        [
         "Office",
         "162"
        ],
        [
         "Retail Store",
         "84"
        ],
        [
         "Other",
         "44"
        ],
        [
         "Restaurant",
         "30"
        ],
        [
         "Non-Refrigerated Warehouse",
         "29"
        ],
        [
         "Multifamily Housing",
         "17"
        ],
        [
         "Fitness Center/Health Club/Gym",
         "16"
        ],
        [
         "Data Center",
         "12"
        ],
        [
         "Other - Services",
         "11"
        ],
        [
         "Medical Office",
         "8"
        ],
        [
         "Laboratory",
         "8"
        ],
        [
         "Distribution Center",
         "7"
        ],
        [
         "Bank Branch",
         "7"
        ],
        [
         "Supermarket/Grocery Store",
         "7"
        ],
        [
         "Other - Entertainment/Public Assembly",
         "6"
        ],
        [
         "K-12 School",
         "5"
        ],
        [
         "Swimming Pool",
         "4"
        ],
        [
         "Repair Services (Vehicle, Shoe, Locksmith, etc)",
         "4"
        ],
        [
         "Other - Recreation",
         "4"
        ],
        [
         "Self-Storage Facility",
         "3"
        ],
        [
         "Worship Facility",
         "3"
        ],
        [
         "Movie Theater",
         "3"
        ],
        [
         "Other - Public Services",
         "3"
        ],
        [
         "Automobile Dealership",
         "2"
        ],
        [
         "Manufacturing/Industrial Plant",
         "2"
        ],
        [
         "Food Sales",
         "2"
        ],
        [
         "Other - Education",
         "2"
        ],
        [
         "Refrigerated Warehouse",
         "2"
        ],
        [
         "Bar/Nightclub",
         "2"
        ],
        [
         "Other - Restaurant/Bar",
         "2"
        ],
        [
         "Adult Education",
         "2"
        ],
        [
         "Performing Arts",
         "2"
        ],
        [
         "Hotel",
         "2"
        ],
        [
         "Vocational School",
         "1"
        ],
        [
         "Personal Services (Health/Beauty, Dry Cleaning, etc)",
         "1"
        ],
        [
         "Courthouse",
         "1"
        ],
        [
         "College/University",
         "1"
        ],
        [
         "Residence Hall/Dormitory",
         "1"
        ],
        [
         "Convenience Store without Gas Station",
         "1"
        ],
        [
         "Enclosed Mall",
         "1"
        ],
        [
         "Other - Lodging/Residential",
         "1"
        ],
        [
         "Financial Office",
         "1"
        ],
        [
         "Food Service",
         "1"
        ],
        [
         "Pre-school/Daycare",
         "1"
        ],
        [
         "Social/Meeting Hall",
         "1"
        ],
        [
         "Senior Care Community",
         "1"
        ],
        [
         "Hospital (General Medical & Surgical)",
         "1"
        ]
       ],
       "shape": {
        "columns": 1,
        "rows": 48
       }
      },
      "text/plain": [
       "SecondLargestPropertyUseType\n",
       "Parking                                                 341\n",
       "Office                                                  162\n",
       "Retail Store                                             84\n",
       "Other                                                    44\n",
       "Restaurant                                               30\n",
       "Non-Refrigerated Warehouse                               29\n",
       "Multifamily Housing                                      17\n",
       "Fitness Center/Health Club/Gym                           16\n",
       "Data Center                                              12\n",
       "Other - Services                                         11\n",
       "Medical Office                                            8\n",
       "Laboratory                                                8\n",
       "Distribution Center                                       7\n",
       "Bank Branch                                               7\n",
       "Supermarket/Grocery Store                                 7\n",
       "Other - Entertainment/Public Assembly                     6\n",
       "K-12 School                                               5\n",
       "Swimming Pool                                             4\n",
       "Repair Services (Vehicle, Shoe, Locksmith, etc)           4\n",
       "Other - Recreation                                        4\n",
       "Self-Storage Facility                                     3\n",
       "Worship Facility                                          3\n",
       "Movie Theater                                             3\n",
       "Other - Public Services                                   3\n",
       "Automobile Dealership                                     2\n",
       "Manufacturing/Industrial Plant                            2\n",
       "Food Sales                                                2\n",
       "Other - Education                                         2\n",
       "Refrigerated Warehouse                                    2\n",
       "Bar/Nightclub                                             2\n",
       "Other - Restaurant/Bar                                    2\n",
       "Adult Education                                           2\n",
       "Performing Arts                                           2\n",
       "Hotel                                                     2\n",
       "Vocational School                                         1\n",
       "Personal Services (Health/Beauty, Dry Cleaning, etc)      1\n",
       "Courthouse                                                1\n",
       "College/University                                        1\n",
       "Residence Hall/Dormitory                                  1\n",
       "Convenience Store without Gas Station                     1\n",
       "Enclosed Mall                                             1\n",
       "Other - Lodging/Residential                               1\n",
       "Financial Office                                          1\n",
       "Food Service                                              1\n",
       "Pre-school/Daycare                                        1\n",
       "Social/Meeting Hall                                       1\n",
       "Senior Care Community                                     1\n",
       "Hospital (General Medical & Surgical)                     1\n",
       "Name: count, dtype: int64"
      ]
     },
     "execution_count": 18,
     "metadata": {},
     "output_type": "execute_result"
    }
   ],
   "source": [
    "mask =  (bc_only_non_residential['SecondLargestPropertyUseType'].notna())\n",
    "bc_only_non_residential['SecondLargestPropertyUseType'].value_counts()"
   ]
  },
  {
   "cell_type": "markdown",
   "metadata": {},
   "source": [
    "## Traitement des valeurs candidates de consommations"
   ]
  },
  {
   "cell_type": "code",
   "execution_count": 19,
   "metadata": {},
   "outputs": [
    {
     "name": "stdout",
     "output_type": "stream",
     "text": [
      "Après filtrage targets vides: 1649 → 1641 bâtiments\n",
      "<class 'pandas.core.frame.DataFrame'>\n",
      "Index: 1641 entries, 0 to 3375\n",
      "Data columns (total 6 columns):\n",
      " #   Column                 Non-Null Count  Dtype  \n",
      "---  ------                 --------------  -----  \n",
      " 0   Electricity(kBtu)      1641 non-null   float64\n",
      " 1   NaturalGas(kBtu)       1641 non-null   float64\n",
      " 2   SteamUse(kBtu)         1641 non-null   float64\n",
      " 3   SiteEnergyUse(kBtu)    1630 non-null   float64\n",
      " 4   SiteEnergyUseWN(kBtu)  1620 non-null   float64\n",
      " 5   CalcUse(kBtu)          1641 non-null   float64\n",
      "dtypes: float64(6)\n",
      "memory usage: 89.7 KB\n"
     ]
    }
   ],
   "source": [
    "# examen des valeurs de consommations\n",
    "target_cols = ['Electricity(kBtu)',  'NaturalGas(kBtu)', 'SteamUse(kBtu)','SiteEnergyUse(kBtu)', 'SiteEnergyUseWN(kBtu)']\n",
    "bc_only_non_residential[target_cols] = bc_only_non_residential[target_cols].replace(0,np.nan)\n",
    "bc_with_candidates = bc_only_non_residential.dropna(subset=target_cols, how='all').copy()\n",
    "print(f\"Après filtrage targets vides: {len(bc_only_non_residential)} → {len(bc_with_candidates)} bâtiments\")\n",
    "conso_details= ['Electricity(kBtu)',  'NaturalGas(kBtu)', 'SteamUse(kBtu)']\n",
    "bc_with_candidates[conso_details] = bc_with_candidates[conso_details].fillna(0)\n",
    "bc_with_candidates['CalcUse(kBtu)']= bc_with_candidates[conso_details].sum(axis=1)\n",
    "target_cols.append('CalcUse(kBtu)')\n",
    "bc_with_candidates[target_cols].info()"
   ]
  },
  {
   "cell_type": "code",
   "execution_count": 20,
   "metadata": {},
   "outputs": [],
   "source": [
    "mask = ((bc_with_candidates['SiteEnergyUse(kBtu)'] == 0) | (bc_with_candidates['SiteEnergyUse(kBtu)'].isna())) & (bc_with_candidates['SiteEnergyUse(kBtu)']!=0)\n",
    "bc_with_candidates.loc[mask, 'SiteEnergyUse(kBtu)'] = bc_with_candidates.loc[mask,'CalcUse(kBtu)']"
   ]
  },
  {
   "cell_type": "code",
   "execution_count": 21,
   "metadata": {},
   "outputs": [
    {
     "name": "stdout",
     "output_type": "stream",
     "text": [
      "<class 'pandas.core.frame.DataFrame'>\n",
      "Index: 1641 entries, 0 to 3375\n",
      "Data columns (total 6 columns):\n",
      " #   Column                 Non-Null Count  Dtype  \n",
      "---  ------                 --------------  -----  \n",
      " 0   Electricity(kBtu)      1641 non-null   float64\n",
      " 1   NaturalGas(kBtu)       1641 non-null   float64\n",
      " 2   SteamUse(kBtu)         1641 non-null   float64\n",
      " 3   SiteEnergyUse(kBtu)    1641 non-null   float64\n",
      " 4   SiteEnergyUseWN(kBtu)  1620 non-null   float64\n",
      " 5   CalcUse(kBtu)          1641 non-null   float64\n",
      "dtypes: float64(6)\n",
      "memory usage: 89.7 KB\n"
     ]
    }
   ],
   "source": [
    "bc_with_candidates[target_cols].info()"
   ]
  },
  {
   "cell_type": "code",
   "execution_count": 22,
   "metadata": {},
   "outputs": [],
   "source": [
    "bc_with_target = bc_with_candidates.drop(columns=['CalcUse(kBtu)', 'SiteEnergyUseWN(kBtu)']).copy()"
   ]
  },
  {
   "cell_type": "markdown",
   "metadata": {},
   "source": [
    "Valeur Candidate retenue : SiteEnergyUse(kBtu)\n"
   ]
  },
  {
   "cell_type": "markdown",
   "metadata": {},
   "source": [
    "## Traitement des caractéristiques physiques\n",
    "### Traitement des surfaces"
   ]
  },
  {
   "cell_type": "code",
   "execution_count": 23,
   "metadata": {},
   "outputs": [
    {
     "name": "stdout",
     "output_type": "stream",
     "text": [
      "<class 'pandas.core.frame.DataFrame'>\n",
      "Index: 1641 entries, 0 to 3375\n",
      "Data columns (total 6 columns):\n",
      " #   Column                           Non-Null Count  Dtype  \n",
      "---  ------                           --------------  -----  \n",
      " 0   PropertyGFATotal                 1641 non-null   int64  \n",
      " 1   PropertyGFABuilding(s)           1641 non-null   int64  \n",
      " 2   PropertyGFAParking               1641 non-null   int64  \n",
      " 3   LargestPropertyUseTypeGFA        1637 non-null   float64\n",
      " 4   SecondLargestPropertyUseTypeGFA  850 non-null    float64\n",
      " 5   ThirdLargestPropertyUseTypeGFA   344 non-null    float64\n",
      "dtypes: float64(3), int64(3)\n",
      "memory usage: 89.7 KB\n"
     ]
    }
   ],
   "source": [
    "phy_cols = ['PropertyGFATotal', 'PropertyGFABuilding(s)','PropertyGFAParking', 'LargestPropertyUseTypeGFA', 'SecondLargestPropertyUseTypeGFA', 'ThirdLargestPropertyUseTypeGFA']\n",
    "bc_with_target[phy_cols].info()"
   ]
  },
  {
   "cell_type": "code",
   "execution_count": 24,
   "metadata": {},
   "outputs": [
    {
     "data": {
      "application/vnd.microsoft.datawrangler.viewer.v0+json": {
       "columns": [
        {
         "name": "index",
         "rawType": "object",
         "type": "string"
        },
        {
         "name": "SiteEnergyUse(kBtu)",
         "rawType": "float64",
         "type": "float"
        },
        {
         "name": "SiteEnergyUse(kBtu)",
         "rawType": "float64",
         "type": "float"
        },
        {
         "name": "PropertyGFATotal",
         "rawType": "float64",
         "type": "float"
        },
        {
         "name": "PropertyGFABuilding(s)",
         "rawType": "float64",
         "type": "float"
        },
        {
         "name": "PropertyGFAParking",
         "rawType": "float64",
         "type": "float"
        },
        {
         "name": "LargestPropertyUseTypeGFA",
         "rawType": "float64",
         "type": "float"
        },
        {
         "name": "3LargestGFA",
         "rawType": "float64",
         "type": "float"
        }
       ],
       "ref": "87da3505-eb36-4b3e-98f5-c3a844949e55",
       "rows": [
        [
         "SiteEnergyUse(kBtu)",
         "1.0",
         "1.0",
         "0.8098444140096827",
         "0.8264764635744175",
         "0.14410619702735133",
         "0.8452504339835758",
         "0.8575039719241094"
        ],
        [
         "SiteEnergyUse(kBtu)",
         "1.0",
         "1.0",
         "0.8098444140096827",
         "0.8264764635744175",
         "0.14410619702735133",
         "0.8452504339835758",
         "0.8575039719241094"
        ],
        [
         "PropertyGFATotal",
         "0.8098444140096827",
         "0.8098444140096827",
         "1.0",
         "0.9902168933435656",
         "0.3790237495430343",
         "0.978485454267321",
         "0.9826236947274661"
        ],
        [
         "PropertyGFABuilding(s)",
         "0.8264764635744175",
         "0.8264764635744175",
         "0.9902168933435656",
         "1.0",
         "0.2461902345676193",
         "0.9831477891462668",
         "0.9773598079907792"
        ],
        [
         "PropertyGFAParking",
         "0.14410619702735133",
         "0.14410619702735133",
         "0.3790237495430343",
         "0.2461902345676193",
         "1.0",
         "0.27638497810129",
         "0.34359429990095175"
        ],
        [
         "LargestPropertyUseTypeGFA",
         "0.8452504339835758",
         "0.8452504339835758",
         "0.978485454267321",
         "0.9831477891462668",
         "0.27638497810129",
         "1.0",
         "0.9816082251281821"
        ],
        [
         "3LargestGFA",
         "0.8575039719241094",
         "0.8575039719241094",
         "0.9826236947274661",
         "0.9773598079907792",
         "0.34359429990095175",
         "0.9816082251281821",
         "1.0"
        ]
       ],
       "shape": {
        "columns": 7,
        "rows": 7
       }
      },
      "text/html": [
       "<div>\n",
       "<style scoped>\n",
       "    .dataframe tbody tr th:only-of-type {\n",
       "        vertical-align: middle;\n",
       "    }\n",
       "\n",
       "    .dataframe tbody tr th {\n",
       "        vertical-align: top;\n",
       "    }\n",
       "\n",
       "    .dataframe thead th {\n",
       "        text-align: right;\n",
       "    }\n",
       "</style>\n",
       "<table border=\"1\" class=\"dataframe\">\n",
       "  <thead>\n",
       "    <tr style=\"text-align: right;\">\n",
       "      <th></th>\n",
       "      <th>SiteEnergyUse(kBtu)</th>\n",
       "      <th>SiteEnergyUse(kBtu)</th>\n",
       "      <th>PropertyGFATotal</th>\n",
       "      <th>PropertyGFABuilding(s)</th>\n",
       "      <th>PropertyGFAParking</th>\n",
       "      <th>LargestPropertyUseTypeGFA</th>\n",
       "      <th>3LargestGFA</th>\n",
       "    </tr>\n",
       "  </thead>\n",
       "  <tbody>\n",
       "    <tr>\n",
       "      <th>SiteEnergyUse(kBtu)</th>\n",
       "      <td>1.000000</td>\n",
       "      <td>1.000000</td>\n",
       "      <td>0.809844</td>\n",
       "      <td>0.826476</td>\n",
       "      <td>0.144106</td>\n",
       "      <td>0.845250</td>\n",
       "      <td>0.857504</td>\n",
       "    </tr>\n",
       "    <tr>\n",
       "      <th>SiteEnergyUse(kBtu)</th>\n",
       "      <td>1.000000</td>\n",
       "      <td>1.000000</td>\n",
       "      <td>0.809844</td>\n",
       "      <td>0.826476</td>\n",
       "      <td>0.144106</td>\n",
       "      <td>0.845250</td>\n",
       "      <td>0.857504</td>\n",
       "    </tr>\n",
       "    <tr>\n",
       "      <th>PropertyGFATotal</th>\n",
       "      <td>0.809844</td>\n",
       "      <td>0.809844</td>\n",
       "      <td>1.000000</td>\n",
       "      <td>0.990217</td>\n",
       "      <td>0.379024</td>\n",
       "      <td>0.978485</td>\n",
       "      <td>0.982624</td>\n",
       "    </tr>\n",
       "    <tr>\n",
       "      <th>PropertyGFABuilding(s)</th>\n",
       "      <td>0.826476</td>\n",
       "      <td>0.826476</td>\n",
       "      <td>0.990217</td>\n",
       "      <td>1.000000</td>\n",
       "      <td>0.246190</td>\n",
       "      <td>0.983148</td>\n",
       "      <td>0.977360</td>\n",
       "    </tr>\n",
       "    <tr>\n",
       "      <th>PropertyGFAParking</th>\n",
       "      <td>0.144106</td>\n",
       "      <td>0.144106</td>\n",
       "      <td>0.379024</td>\n",
       "      <td>0.246190</td>\n",
       "      <td>1.000000</td>\n",
       "      <td>0.276385</td>\n",
       "      <td>0.343594</td>\n",
       "    </tr>\n",
       "    <tr>\n",
       "      <th>LargestPropertyUseTypeGFA</th>\n",
       "      <td>0.845250</td>\n",
       "      <td>0.845250</td>\n",
       "      <td>0.978485</td>\n",
       "      <td>0.983148</td>\n",
       "      <td>0.276385</td>\n",
       "      <td>1.000000</td>\n",
       "      <td>0.981608</td>\n",
       "    </tr>\n",
       "    <tr>\n",
       "      <th>3LargestGFA</th>\n",
       "      <td>0.857504</td>\n",
       "      <td>0.857504</td>\n",
       "      <td>0.982624</td>\n",
       "      <td>0.977360</td>\n",
       "      <td>0.343594</td>\n",
       "      <td>0.981608</td>\n",
       "      <td>1.000000</td>\n",
       "    </tr>\n",
       "  </tbody>\n",
       "</table>\n",
       "</div>"
      ],
      "text/plain": [
       "                           SiteEnergyUse(kBtu)  SiteEnergyUse(kBtu)  \\\n",
       "SiteEnergyUse(kBtu)                   1.000000             1.000000   \n",
       "SiteEnergyUse(kBtu)                   1.000000             1.000000   \n",
       "PropertyGFATotal                      0.809844             0.809844   \n",
       "PropertyGFABuilding(s)                0.826476             0.826476   \n",
       "PropertyGFAParking                    0.144106             0.144106   \n",
       "LargestPropertyUseTypeGFA             0.845250             0.845250   \n",
       "3LargestGFA                           0.857504             0.857504   \n",
       "\n",
       "                           PropertyGFATotal  PropertyGFABuilding(s)  \\\n",
       "SiteEnergyUse(kBtu)                0.809844                0.826476   \n",
       "SiteEnergyUse(kBtu)                0.809844                0.826476   \n",
       "PropertyGFATotal                   1.000000                0.990217   \n",
       "PropertyGFABuilding(s)             0.990217                1.000000   \n",
       "PropertyGFAParking                 0.379024                0.246190   \n",
       "LargestPropertyUseTypeGFA          0.978485                0.983148   \n",
       "3LargestGFA                        0.982624                0.977360   \n",
       "\n",
       "                           PropertyGFAParking  LargestPropertyUseTypeGFA  \\\n",
       "SiteEnergyUse(kBtu)                  0.144106                   0.845250   \n",
       "SiteEnergyUse(kBtu)                  0.144106                   0.845250   \n",
       "PropertyGFATotal                     0.379024                   0.978485   \n",
       "PropertyGFABuilding(s)               0.246190                   0.983148   \n",
       "PropertyGFAParking                   1.000000                   0.276385   \n",
       "LargestPropertyUseTypeGFA            0.276385                   1.000000   \n",
       "3LargestGFA                          0.343594                   0.981608   \n",
       "\n",
       "                           3LargestGFA  \n",
       "SiteEnergyUse(kBtu)           0.857504  \n",
       "SiteEnergyUse(kBtu)           0.857504  \n",
       "PropertyGFATotal              0.982624  \n",
       "PropertyGFABuilding(s)        0.977360  \n",
       "PropertyGFAParking            0.343594  \n",
       "LargestPropertyUseTypeGFA     0.981608  \n",
       "3LargestGFA                   1.000000  "
      ]
     },
     "execution_count": 24,
     "metadata": {},
     "output_type": "execute_result"
    }
   ],
   "source": [
    "# 'YearBuilt', 'NumberofFloors', 'NumberofBuildings'\n",
    "bc_with_target[phy_cols].fillna(0)\n",
    "bc_with_target['3LargestGFA']= bc_with_target[['LargestPropertyUseTypeGFA', 'SecondLargestPropertyUseTypeGFA', 'ThirdLargestPropertyUseTypeGFA']].sum(axis=1)\n",
    "mask = bc_with_target['3LargestGFA']==0\n",
    "bc_with_target.loc[mask, '3LargestGFA']= bc_with_target.loc[mask, 'PropertyGFATotal']\n",
    "corr_values = ['SiteEnergyUse(kBtu)','SiteEnergyUse(kBtu)', 'PropertyGFATotal', 'PropertyGFABuilding(s)','PropertyGFAParking', 'LargestPropertyUseTypeGFA','3LargestGFA']\n",
    "bc_with_target[corr_values].corr()"
   ]
  },
  {
   "cell_type": "code",
   "execution_count": 25,
   "metadata": {},
   "outputs": [
    {
     "data": {
      "application/vnd.microsoft.datawrangler.viewer.v0+json": {
       "columns": [
        {
         "name": "index",
         "rawType": "object",
         "type": "string"
        },
        {
         "name": "3LargestGFA",
         "rawType": "float64",
         "type": "float"
        }
       ],
       "ref": "38b65ee1-00c4-411a-afaf-16b855d283d7",
       "rows": [
        [
         "count",
         "1641.0"
        ],
        [
         "mean",
         "121962.74326359782"
        ],
        [
         "std",
         "305904.54420288006"
        ],
        [
         "min",
         "8223.0"
        ],
        [
         "25%",
         "30172.0"
        ],
        [
         "50%",
         "50759.0"
        ],
        [
         "75%",
         "105563.0"
        ],
        [
         "max",
         "9320156.0"
        ]
       ],
       "shape": {
        "columns": 1,
        "rows": 8
       }
      },
      "text/plain": [
       "count    1.641000e+03\n",
       "mean     1.219627e+05\n",
       "std      3.059045e+05\n",
       "min      8.223000e+03\n",
       "25%      3.017200e+04\n",
       "50%      5.075900e+04\n",
       "75%      1.055630e+05\n",
       "max      9.320156e+06\n",
       "Name: 3LargestGFA, dtype: float64"
      ]
     },
     "execution_count": 25,
     "metadata": {},
     "output_type": "execute_result"
    }
   ],
   "source": [
    "bc_with_target['3LargestGFA'].describe()"
   ]
  },
  {
   "cell_type": "code",
   "execution_count": 26,
   "metadata": {},
   "outputs": [
    {
     "data": {
      "image/png": "[encoded data removed]",
      "text/plain": [
       "<Figure size 1500x500 with 3 Axes>"
      ]
     },
     "metadata": {},
     "output_type": "display_data"
    },
    {
     "data": {
      "image/png": "[encoded data removed]",
      "text/plain": [
       "<Figure size 1250x1250 with 30 Axes>"
      ]
     },
     "metadata": {},
     "output_type": "display_data"
    },
    {
     "data": {
      "image/png": "[encoded data removed]",
      "text/plain": [
       "<Figure size 1500x1000 with 2 Axes>"
      ]
     },
     "metadata": {},
     "output_type": "display_data"
    },
    {
     "data": {
      "image/png": "[encoded data removed]",
      "text/plain": [
       "<Figure size 1500x500 with 2 Axes>"
      ]
     },
     "metadata": {},
     "output_type": "display_data"
    }
   ],
   "source": [
    "# Choix de 3LargestGFA comme predicteur surface pour l'efficacité\n",
    "### Analyses supplémentaires EDA\n",
    "bc_with_target['CalcSEUI(kBtu/sf)'] = bc_with_target['SiteEnergyUse(kBtu)'] / bc_with_target['3LargestGFA']\n",
    "efficiency_target = 'CalcSEUI(kBtu/sf)'\n",
    "# 1. Distribution de la target\n",
    "plt.figure(figsize=(15, 5))\n",
    "\n",
    "plt.subplot(1, 3, 1)\n",
    "sns.histplot(bc_with_target[efficiency_target], bins=50)\n",
    "plt.title('Distribution de la Target')\n",
    "plt.yscale('log')  # échelle log car distribution très étalée\n",
    "\n",
    "plt.subplot(1, 3, 2)\n",
    "sns.histplot(np.log(bc_with_target[efficiency_target]), bins=50)\n",
    "plt.title('Distribution de log(Target)')\n",
    "\n",
    "plt.subplot(1, 3, 3)\n",
    "sns.boxplot(y=bc_with_target[efficiency_target])\n",
    "plt.title('Boxplot Target')\n",
    "plt.tight_layout()\n",
    "plt.show()\n",
    "\n",
    "# 2. Pairplot pour variables numériques continues\n",
    "continuous_vars = [efficiency_target, '3LargestGFA', 'YearBuilt', \n",
    "                   'NumberofFloors', 'NumberofBuildings']\n",
    "sns.pairplot(bc_with_target[continuous_vars].sample(500))  # échantillon pour performance\n",
    "plt.show()\n",
    "\n",
    "# 3. Relations target vs features catégorielles importantes\n",
    "fig, axes = plt.subplots(1, 2, figsize=(15, 10))\n",
    "axes = axes.ravel()\n",
    "\n",
    "# BoxPlots pour relations catégorielles/target\n",
    "sns.boxplot(data=bc_with_target, y='FirstUseType', \n",
    "            x=efficiency_target, ax=axes[0])\n",
    "axes[0].tick_params(axis='x', rotation=45)\n",
    "axes[0].set_title('Efficacité énergétique par Type de Propriété Principale')\n",
    "\n",
    "sns.boxplot(data=bc_with_target, y='Neighborhood', \n",
    "            x=efficiency_target, ax=axes[1])\n",
    "axes[1].tick_params(axis='x', rotation=45)\n",
    "axes[1].set_title('Efficacité énergétique par Quartier')\n",
    "\n",
    "fig, axes = plt.subplots(1, 2, figsize=(15, 5))\n",
    "axes = axes.ravel()\n",
    "\n",
    "# Relations numériques/target\n",
    "sns.scatterplot(data=bc_with_target, x='YearBuilt', \n",
    "                y=efficiency_target, ax=axes[0])\n",
    "axes[0].set_title('Efficacité énergétique vs Année Construction')\n",
    "\n",
    "sns.scatterplot(data=bc_with_target, x='NumberofFloors', \n",
    "                y=efficiency_target, ax=axes[1])\n",
    "axes[1].set_title('Efficacité énergétique vs Nombre Étages')\n",
    "\n",
    "plt.tight_layout()\n",
    "plt.show()\n"
   ]
  },
  {
   "cell_type": "markdown",
   "metadata": {},
   "source": [
    "### Traitement des outliers de performances"
   ]
  },
  {
   "cell_type": "code",
   "execution_count": 27,
   "metadata": {},
   "outputs": [
    {
     "data": {
      "application/vnd.microsoft.datawrangler.viewer.v0+json": {
       "columns": [
        {
         "name": "index",
         "rawType": "int64",
         "type": "integer"
        },
        {
         "name": "CalcSEUI(kBtu/sf)",
         "rawType": "float64",
         "type": "float"
        },
        {
         "name": "PrimaryPropertyType",
         "rawType": "object",
         "type": "string"
        },
        {
         "name": "FirstUseType",
         "rawType": "object",
         "type": "string"
        },
        {
         "name": "YearBuilt",
         "rawType": "int64",
         "type": "integer"
        },
        {
         "name": "Neighborhood",
         "rawType": "object",
         "type": "string"
        },
        {
         "name": "PropertyGFATotal",
         "rawType": "int64",
         "type": "integer"
        },
        {
         "name": "SecondLargestPropertyUseTypeGFA",
         "rawType": "float64",
         "type": "float"
        },
        {
         "name": "3LargestGFA",
         "rawType": "float64",
         "type": "float"
        },
        {
         "name": "ComplianceStatus",
         "rawType": "object",
         "type": "string"
        }
       ],
       "ref": "0440022c-51dc-404e-9efa-c749d8944762",
       "rows": [
        [
         "1817",
         "456.58951858025296",
         "Restaurant",
         "Restaurant",
         "1902",
         "SOUTHWEST",
         "20398",
         "1166.0",
         "20398.0",
         "Compliant"
        ],
        [
         "601",
         "465.51662046463707",
         "Small- and Mid-Sized Office",
         "Small- and Mid-Sized Office",
         "1929",
         "Delridge",
         "85126",
         null,
         "81526.0",
         "Compliant"
        ],
        [
         "809",
         "696.7352195857505",
         "Laboratory",
         "Laboratory",
         "1926",
         "DOWNTOWN",
         "49249",
         "7165.0",
         "47749.0",
         "Compliant"
        ]
       ],
       "shape": {
        "columns": 9,
        "rows": 3
       }
      },
      "text/html": [
       "<div>\n",
       "<style scoped>\n",
       "    .dataframe tbody tr th:only-of-type {\n",
       "        vertical-align: middle;\n",
       "    }\n",
       "\n",
       "    .dataframe tbody tr th {\n",
       "        vertical-align: top;\n",
       "    }\n",
       "\n",
       "    .dataframe thead th {\n",
       "        text-align: right;\n",
       "    }\n",
       "</style>\n",
       "<table border=\"1\" class=\"dataframe\">\n",
       "  <thead>\n",
       "    <tr style=\"text-align: right;\">\n",
       "      <th></th>\n",
       "      <th>CalcSEUI(kBtu/sf)</th>\n",
       "      <th>PrimaryPropertyType</th>\n",
       "      <th>FirstUseType</th>\n",
       "      <th>YearBuilt</th>\n",
       "      <th>Neighborhood</th>\n",
       "      <th>PropertyGFATotal</th>\n",
       "      <th>SecondLargestPropertyUseTypeGFA</th>\n",
       "      <th>3LargestGFA</th>\n",
       "      <th>ComplianceStatus</th>\n",
       "    </tr>\n",
       "  </thead>\n",
       "  <tbody>\n",
       "    <tr>\n",
       "      <th>1817</th>\n",
       "      <td>456.589519</td>\n",
       "      <td>Restaurant</td>\n",
       "      <td>Restaurant</td>\n",
       "      <td>1902</td>\n",
       "      <td>SOUTHWEST</td>\n",
       "      <td>20398</td>\n",
       "      <td>1166.0</td>\n",
       "      <td>20398.0</td>\n",
       "      <td>Compliant</td>\n",
       "    </tr>\n",
       "    <tr>\n",
       "      <th>601</th>\n",
       "      <td>465.516620</td>\n",
       "      <td>Small- and Mid-Sized Office</td>\n",
       "      <td>Small- and Mid-Sized Office</td>\n",
       "      <td>1929</td>\n",
       "      <td>Delridge</td>\n",
       "      <td>85126</td>\n",
       "      <td>NaN</td>\n",
       "      <td>81526.0</td>\n",
       "      <td>Compliant</td>\n",
       "    </tr>\n",
       "    <tr>\n",
       "      <th>809</th>\n",
       "      <td>696.735220</td>\n",
       "      <td>Laboratory</td>\n",
       "      <td>Laboratory</td>\n",
       "      <td>1926</td>\n",
       "      <td>DOWNTOWN</td>\n",
       "      <td>49249</td>\n",
       "      <td>7165.0</td>\n",
       "      <td>47749.0</td>\n",
       "      <td>Compliant</td>\n",
       "    </tr>\n",
       "  </tbody>\n",
       "</table>\n",
       "</div>"
      ],
      "text/plain": [
       "      CalcSEUI(kBtu/sf)          PrimaryPropertyType  \\\n",
       "1817         456.589519                   Restaurant   \n",
       "601          465.516620  Small- and Mid-Sized Office   \n",
       "809          696.735220                   Laboratory   \n",
       "\n",
       "                     FirstUseType  YearBuilt Neighborhood  PropertyGFATotal  \\\n",
       "1817                   Restaurant       1902    SOUTHWEST             20398   \n",
       "601   Small- and Mid-Sized Office       1929     Delridge             85126   \n",
       "809                    Laboratory       1926     DOWNTOWN             49249   \n",
       "\n",
       "      SecondLargestPropertyUseTypeGFA  3LargestGFA ComplianceStatus  \n",
       "1817                           1166.0      20398.0        Compliant  \n",
       "601                               NaN      81526.0        Compliant  \n",
       "809                            7165.0      47749.0        Compliant  "
      ]
     },
     "execution_count": 27,
     "metadata": {},
     "output_type": "execute_result"
    }
   ],
   "source": [
    "mask = ((bc_with_target['CalcSEUI(kBtu/sf)'] < 0) | (bc_with_target['CalcSEUI(kBtu/sf)']>400)) & (bc_with_target['YearBuilt']<1960)\n",
    "bc_with_target[mask][['CalcSEUI(kBtu/sf)', 'PrimaryPropertyType', 'FirstUseType', 'YearBuilt','Neighborhood', 'PropertyGFATotal','SecondLargestPropertyUseTypeGFA','3LargestGFA','ComplianceStatus']].sort_values('CalcSEUI(kBtu/sf)')"
   ]
  },
  {
   "cell_type": "code",
   "execution_count": 39,
   "metadata": {},
   "outputs": [
    {
     "name": "stdout",
     "output_type": "stream",
     "text": [
      "Après filtrage des types de propriétés : 1641 → 1641 bâtiments\n"
     ]
    }
   ],
   "source": [
    "do_cleaning = False\n",
    "if do_cleaning :\n",
    "    bc_without_perf_outliers = bc_with_target[~mask].copy()\n",
    "else:\n",
    "    bc_without_perf_outliers = bc_with_target.copy()\n",
    "print(f\"Après filtrage des types de propriétés : {len(bc_with_target)} → {len(bc_without_perf_outliers)} bâtiments\")\n"
   ]
  },
  {
   "cell_type": "code",
   "execution_count": 29,
   "metadata": {},
   "outputs": [
    {
     "data": {
      "image/png": "[encoded data removed]",
      "text/plain": [
       "<Figure size 640x480 with 1 Axes>"
      ]
     },
     "metadata": {},
     "output_type": "display_data"
    }
   ],
   "source": [
    "sns.histplot(bc_without_perf_outliers['SiteEnergyUse(kBtu)'], bins=[0,100000,500000,1000000,5000000,10000000,25000000,50000000,75000000,100000000])\n",
    "plt.title('Distribution de la Target')\n",
    "plt.xscale('log')\n",
    "\n"
   ]
  },
  {
   "cell_type": "markdown",
   "metadata": {},
   "source": [
    "#### Traitement de l'année de construction"
   ]
  },
  {
   "cell_type": "code",
   "execution_count": 30,
   "metadata": {},
   "outputs": [
    {
     "name": "stdout",
     "output_type": "stream",
     "text": [
      "<class 'pandas.core.frame.DataFrame'>\n",
      "Index: 1641 entries, 0 to 3375\n",
      "Data columns (total 3 columns):\n",
      " #   Column             Non-Null Count  Dtype  \n",
      "---  ------             --------------  -----  \n",
      " 0   YearBuilt          1641 non-null   int64  \n",
      " 1   NumberofFloors     1641 non-null   int64  \n",
      " 2   NumberofBuildings  1641 non-null   float64\n",
      "dtypes: float64(1), int64(2)\n",
      "memory usage: 51.3 KB\n"
     ]
    }
   ],
   "source": [
    "# On regarde le nombre de valeurs manquantes par colonne ainsi que leur type \n",
    "phy_cols = ['YearBuilt', 'NumberofFloors', 'NumberofBuildings']\n",
    "bc_without_perf_outliers[phy_cols].info()"
   ]
  },
  {
   "cell_type": "code",
   "execution_count": 31,
   "metadata": {},
   "outputs": [
    {
     "data": {
      "application/vnd.microsoft.datawrangler.viewer.v0+json": {
       "columns": [
        {
         "name": "index",
         "rawType": "object",
         "type": "string"
        },
        {
         "name": "YearBuilt",
         "rawType": "float64",
         "type": "float"
        }
       ],
       "ref": "d67814a2-680b-4b65-891d-ded1df3a68d8",
       "rows": [
        [
         "count",
         "1641.0"
        ],
        [
         "mean",
         "1962.5636806825107"
        ],
        [
         "std",
         "32.50635580786826"
        ],
        [
         "min",
         "1900.0"
        ],
        [
         "25%",
         "1931.0"
        ],
        [
         "50%",
         "1966.0"
        ],
        [
         "75%",
         "1989.0"
        ],
        [
         "max",
         "2015.0"
        ]
       ],
       "shape": {
        "columns": 1,
        "rows": 8
       }
      },
      "text/plain": [
       "count    1641.000000\n",
       "mean     1962.563681\n",
       "std        32.506356\n",
       "min      1900.000000\n",
       "25%      1931.000000\n",
       "50%      1966.000000\n",
       "75%      1989.000000\n",
       "max      2015.000000\n",
       "Name: YearBuilt, dtype: float64"
      ]
     },
     "execution_count": 31,
     "metadata": {},
     "output_type": "execute_result"
    }
   ],
   "source": [
    "bc_without_perf_outliers['YearBuilt'].describe()"
   ]
  },
  {
   "cell_type": "code",
   "execution_count": 32,
   "metadata": {},
   "outputs": [
    {
     "data": {
      "application/vnd.microsoft.datawrangler.viewer.v0+json": {
       "columns": [
        {
         "name": "index",
         "rawType": "int64",
         "type": "integer"
        },
        {
         "name": "YearBuilt",
         "rawType": "int64",
         "type": "integer"
        },
        {
         "name": "NumberofFloors",
         "rawType": "int64",
         "type": "integer"
        },
        {
         "name": "NumberofBuildings",
         "rawType": "float64",
         "type": "float"
        }
       ],
       "ref": "d286c013-98ac-410e-af9e-483b5891d443",
       "rows": [
        [
         "63",
         "1965",
         "3",
         "0.0"
        ],
        [
         "76",
         "1986",
         "2",
         "0.0"
        ],
        [
         "160",
         "1916",
         "4",
         "0.0"
        ],
        [
         "201",
         "1968",
         "3",
         "0.0"
        ],
        [
         "241",
         "1961",
         "5",
         "0.0"
        ],
        [
         "264",
         "1970",
         "1",
         "0.0"
        ],
        [
         "278",
         "1926",
         "10",
         "0.0"
        ],
        [
         "280",
         "1973",
         "19",
         "0.0"
        ],
        [
         "291",
         "1996",
         "4",
         "0.0"
        ],
        [
         "358",
         "1955",
         "1",
         "0.0"
        ],
        [
         "365",
         "1984",
         "1",
         "0.0"
        ],
        [
         "417",
         "1969",
         "2",
         "0.0"
        ],
        [
         "429",
         "2002",
         "5",
         "0.0"
        ],
        [
         "433",
         "1973",
         "1",
         "0.0"
        ],
        [
         "477",
         "1912",
         "6",
         "0.0"
        ],
        [
         "481",
         "1930",
         "4",
         "0.0"
        ],
        [
         "488",
         "2006",
         "0",
         "0.0"
        ],
        [
         "494",
         "2005",
         "1",
         "0.0"
        ],
        [
         "544",
         "1974",
         "3",
         "0.0"
        ],
        [
         "608",
         "1917",
         "1",
         "0.0"
        ],
        [
         "809",
         "1926",
         "4",
         "0.0"
        ],
        [
         "985",
         "1926",
         "2",
         "0.0"
        ],
        [
         "1002",
         "1949",
         "1",
         "0.0"
        ],
        [
         "1025",
         "1977",
         "1",
         "0.0"
        ],
        [
         "1177",
         "1996",
         "3",
         "0.0"
        ],
        [
         "1244",
         "1912",
         "3",
         "0.0"
        ],
        [
         "1256",
         "1963",
         "3",
         "0.0"
        ],
        [
         "1317",
         "1930",
         "2",
         "0.0"
        ],
        [
         "1606",
         "1996",
         "2",
         "0.0"
        ],
        [
         "2054",
         "1951",
         "2",
         "0.0"
        ],
        [
         "2115",
         "1986",
         "1",
         "0.0"
        ],
        [
         "2166",
         "1975",
         "2",
         "0.0"
        ],
        [
         "2188",
         "1937",
         "2",
         "0.0"
        ],
        [
         "2214",
         "1910",
         "3",
         "0.0"
        ],
        [
         "2382",
         "1962",
         "2",
         "0.0"
        ],
        [
         "2441",
         "1909",
         "3",
         "0.0"
        ],
        [
         "2482",
         "1961",
         "3",
         "0.0"
        ],
        [
         "2564",
         "1910",
         "2",
         "0.0"
        ],
        [
         "2631",
         "1997",
         "3",
         "0.0"
        ],
        [
         "2708",
         "1900",
         "3",
         "0.0"
        ],
        [
         "2715",
         "1905",
         "2",
         "0.0"
        ],
        [
         "2747",
         "1993",
         "3",
         "0.0"
        ],
        [
         "2782",
         "2005",
         "2",
         "0.0"
        ],
        [
         "2963",
         "2006",
         "10",
         "0.0"
        ],
        [
         "3108",
         "1982",
         "24",
         "0.0"
        ],
        [
         "3121",
         "1996",
         "3",
         "0.0"
        ],
        [
         "3155",
         "1968",
         "1",
         "0.0"
        ],
        [
         "3205",
         "2013",
         "8",
         "0.0"
        ],
        [
         "3232",
         "1962",
         "1",
         "0.0"
        ],
        [
         "3259",
         "1912",
         "2",
         "0.0"
        ]
       ],
       "shape": {
        "columns": 3,
        "rows": 50
       }
      },
      "text/html": [
       "<div>\n",
       "<style scoped>\n",
       "    .dataframe tbody tr th:only-of-type {\n",
       "        vertical-align: middle;\n",
       "    }\n",
       "\n",
       "    .dataframe tbody tr th {\n",
       "        vertical-align: top;\n",
       "    }\n",
       "\n",
       "    .dataframe thead th {\n",
       "        text-align: right;\n",
       "    }\n",
       "</style>\n",
       "<table border=\"1\" class=\"dataframe\">\n",
       "  <thead>\n",
       "    <tr style=\"text-align: right;\">\n",
       "      <th></th>\n",
       "      <th>YearBuilt</th>\n",
       "      <th>NumberofFloors</th>\n",
       "      <th>NumberofBuildings</th>\n",
       "    </tr>\n",
       "  </thead>\n",
       "  <tbody>\n",
       "    <tr>\n",
       "      <th>63</th>\n",
       "      <td>1965</td>\n",
       "      <td>3</td>\n",
       "      <td>0.0</td>\n",
       "    </tr>\n",
       "    <tr>\n",
       "      <th>76</th>\n",
       "      <td>1986</td>\n",
       "      <td>2</td>\n",
       "      <td>0.0</td>\n",
       "    </tr>\n",
       "    <tr>\n",
       "      <th>160</th>\n",
       "      <td>1916</td>\n",
       "      <td>4</td>\n",
       "      <td>0.0</td>\n",
       "    </tr>\n",
       "    <tr>\n",
       "      <th>201</th>\n",
       "      <td>1968</td>\n",
       "      <td>3</td>\n",
       "      <td>0.0</td>\n",
       "    </tr>\n",
       "    <tr>\n",
       "      <th>241</th>\n",
       "      <td>1961</td>\n",
       "      <td>5</td>\n",
       "      <td>0.0</td>\n",
       "    </tr>\n",
       "    <tr>\n",
       "      <th>264</th>\n",
       "      <td>1970</td>\n",
       "      <td>1</td>\n",
       "      <td>0.0</td>\n",
       "    </tr>\n",
       "    <tr>\n",
       "      <th>278</th>\n",
       "      <td>1926</td>\n",
       "      <td>10</td>\n",
       "      <td>0.0</td>\n",
       "    </tr>\n",
       "    <tr>\n",
       "      <th>280</th>\n",
       "      <td>1973</td>\n",
       "      <td>19</td>\n",
       "      <td>0.0</td>\n",
       "    </tr>\n",
       "    <tr>\n",
       "      <th>291</th>\n",
       "      <td>1996</td>\n",
       "      <td>4</td>\n",
       "      <td>0.0</td>\n",
       "    </tr>\n",
       "    <tr>\n",
       "      <th>358</th>\n",
       "      <td>1955</td>\n",
       "      <td>1</td>\n",
       "      <td>0.0</td>\n",
       "    </tr>\n",
       "    <tr>\n",
       "      <th>365</th>\n",
       "      <td>1984</td>\n",
       "      <td>1</td>\n",
       "      <td>0.0</td>\n",
       "    </tr>\n",
       "    <tr>\n",
       "      <th>417</th>\n",
       "      <td>1969</td>\n",
       "      <td>2</td>\n",
       "      <td>0.0</td>\n",
       "    </tr>\n",
       "    <tr>\n",
       "      <th>429</th>\n",
       "      <td>2002</td>\n",
       "      <td>5</td>\n",
       "      <td>0.0</td>\n",
       "    </tr>\n",
       "    <tr>\n",
       "      <th>433</th>\n",
       "      <td>1973</td>\n",
       "      <td>1</td>\n",
       "      <td>0.0</td>\n",
       "    </tr>\n",
       "    <tr>\n",
       "      <th>477</th>\n",
       "      <td>1912</td>\n",
       "      <td>6</td>\n",
       "      <td>0.0</td>\n",
       "    </tr>\n",
       "    <tr>\n",
       "      <th>481</th>\n",
       "      <td>1930</td>\n",
       "      <td>4</td>\n",
       "      <td>0.0</td>\n",
       "    </tr>\n",
       "    <tr>\n",
       "      <th>488</th>\n",
       "      <td>2006</td>\n",
       "      <td>0</td>\n",
       "      <td>0.0</td>\n",
       "    </tr>\n",
       "    <tr>\n",
       "      <th>494</th>\n",
       "      <td>2005</td>\n",
       "      <td>1</td>\n",
       "      <td>0.0</td>\n",
       "    </tr>\n",
       "    <tr>\n",
       "      <th>544</th>\n",
       "      <td>1974</td>\n",
       "      <td>3</td>\n",
       "      <td>0.0</td>\n",
       "    </tr>\n",
       "    <tr>\n",
       "      <th>608</th>\n",
       "      <td>1917</td>\n",
       "      <td>1</td>\n",
       "      <td>0.0</td>\n",
       "    </tr>\n",
       "    <tr>\n",
       "      <th>809</th>\n",
       "      <td>1926</td>\n",
       "      <td>4</td>\n",
       "      <td>0.0</td>\n",
       "    </tr>\n",
       "    <tr>\n",
       "      <th>985</th>\n",
       "      <td>1926</td>\n",
       "      <td>2</td>\n",
       "      <td>0.0</td>\n",
       "    </tr>\n",
       "    <tr>\n",
       "      <th>1002</th>\n",
       "      <td>1949</td>\n",
       "      <td>1</td>\n",
       "      <td>0.0</td>\n",
       "    </tr>\n",
       "    <tr>\n",
       "      <th>1025</th>\n",
       "      <td>1977</td>\n",
       "      <td>1</td>\n",
       "      <td>0.0</td>\n",
       "    </tr>\n",
       "    <tr>\n",
       "      <th>1177</th>\n",
       "      <td>1996</td>\n",
       "      <td>3</td>\n",
       "      <td>0.0</td>\n",
       "    </tr>\n",
       "    <tr>\n",
       "      <th>1244</th>\n",
       "      <td>1912</td>\n",
       "      <td>3</td>\n",
       "      <td>0.0</td>\n",
       "    </tr>\n",
       "    <tr>\n",
       "      <th>1256</th>\n",
       "      <td>1963</td>\n",
       "      <td>3</td>\n",
       "      <td>0.0</td>\n",
       "    </tr>\n",
       "    <tr>\n",
       "      <th>1317</th>\n",
       "      <td>1930</td>\n",
       "      <td>2</td>\n",
       "      <td>0.0</td>\n",
       "    </tr>\n",
       "    <tr>\n",
       "      <th>1606</th>\n",
       "      <td>1996</td>\n",
       "      <td>2</td>\n",
       "      <td>0.0</td>\n",
       "    </tr>\n",
       "    <tr>\n",
       "      <th>2054</th>\n",
       "      <td>1951</td>\n",
       "      <td>2</td>\n",
       "      <td>0.0</td>\n",
       "    </tr>\n",
       "    <tr>\n",
       "      <th>2115</th>\n",
       "      <td>1986</td>\n",
       "      <td>1</td>\n",
       "      <td>0.0</td>\n",
       "    </tr>\n",
       "    <tr>\n",
       "      <th>2166</th>\n",
       "      <td>1975</td>\n",
       "      <td>2</td>\n",
       "      <td>0.0</td>\n",
       "    </tr>\n",
       "    <tr>\n",
       "      <th>2188</th>\n",
       "      <td>1937</td>\n",
       "      <td>2</td>\n",
       "      <td>0.0</td>\n",
       "    </tr>\n",
       "    <tr>\n",
       "      <th>2214</th>\n",
       "      <td>1910</td>\n",
       "      <td>3</td>\n",
       "      <td>0.0</td>\n",
       "    </tr>\n",
       "    <tr>\n",
       "      <th>2382</th>\n",
       "      <td>1962</td>\n",
       "      <td>2</td>\n",
       "      <td>0.0</td>\n",
       "    </tr>\n",
       "    <tr>\n",
       "      <th>2441</th>\n",
       "      <td>1909</td>\n",
       "      <td>3</td>\n",
       "      <td>0.0</td>\n",
       "    </tr>\n",
       "    <tr>\n",
       "      <th>2482</th>\n",
       "      <td>1961</td>\n",
       "      <td>3</td>\n",
       "      <td>0.0</td>\n",
       "    </tr>\n",
       "    <tr>\n",
       "      <th>2564</th>\n",
       "      <td>1910</td>\n",
       "      <td>2</td>\n",
       "      <td>0.0</td>\n",
       "    </tr>\n",
       "    <tr>\n",
       "      <th>2631</th>\n",
       "      <td>1997</td>\n",
       "      <td>3</td>\n",
       "      <td>0.0</td>\n",
       "    </tr>\n",
       "    <tr>\n",
       "      <th>2708</th>\n",
       "      <td>1900</td>\n",
       "      <td>3</td>\n",
       "      <td>0.0</td>\n",
       "    </tr>\n",
       "    <tr>\n",
       "      <th>2715</th>\n",
       "      <td>1905</td>\n",
       "      <td>2</td>\n",
       "      <td>0.0</td>\n",
       "    </tr>\n",
       "    <tr>\n",
       "      <th>2747</th>\n",
       "      <td>1993</td>\n",
       "      <td>3</td>\n",
       "      <td>0.0</td>\n",
       "    </tr>\n",
       "    <tr>\n",
       "      <th>2782</th>\n",
       "      <td>2005</td>\n",
       "      <td>2</td>\n",
       "      <td>0.0</td>\n",
       "    </tr>\n",
       "    <tr>\n",
       "      <th>2963</th>\n",
       "      <td>2006</td>\n",
       "      <td>10</td>\n",
       "      <td>0.0</td>\n",
       "    </tr>\n",
       "    <tr>\n",
       "      <th>3108</th>\n",
       "      <td>1982</td>\n",
       "      <td>24</td>\n",
       "      <td>0.0</td>\n",
       "    </tr>\n",
       "    <tr>\n",
       "      <th>3121</th>\n",
       "      <td>1996</td>\n",
       "      <td>3</td>\n",
       "      <td>0.0</td>\n",
       "    </tr>\n",
       "    <tr>\n",
       "      <th>3155</th>\n",
       "      <td>1968</td>\n",
       "      <td>1</td>\n",
       "      <td>0.0</td>\n",
       "    </tr>\n",
       "    <tr>\n",
       "      <th>3205</th>\n",
       "      <td>2013</td>\n",
       "      <td>8</td>\n",
       "      <td>0.0</td>\n",
       "    </tr>\n",
       "    <tr>\n",
       "      <th>3232</th>\n",
       "      <td>1962</td>\n",
       "      <td>1</td>\n",
       "      <td>0.0</td>\n",
       "    </tr>\n",
       "    <tr>\n",
       "      <th>3259</th>\n",
       "      <td>1912</td>\n",
       "      <td>2</td>\n",
       "      <td>0.0</td>\n",
       "    </tr>\n",
       "  </tbody>\n",
       "</table>\n",
       "</div>"
      ],
      "text/plain": [
       "      YearBuilt  NumberofFloors  NumberofBuildings\n",
       "63         1965               3                0.0\n",
       "76         1986               2                0.0\n",
       "160        1916               4                0.0\n",
       "201        1968               3                0.0\n",
       "241        1961               5                0.0\n",
       "264        1970               1                0.0\n",
       "278        1926              10                0.0\n",
       "280        1973              19                0.0\n",
       "291        1996               4                0.0\n",
       "358        1955               1                0.0\n",
       "365        1984               1                0.0\n",
       "417        1969               2                0.0\n",
       "429        2002               5                0.0\n",
       "433        1973               1                0.0\n",
       "477        1912               6                0.0\n",
       "481        1930               4                0.0\n",
       "488        2006               0                0.0\n",
       "494        2005               1                0.0\n",
       "544        1974               3                0.0\n",
       "608        1917               1                0.0\n",
       "809        1926               4                0.0\n",
       "985        1926               2                0.0\n",
       "1002       1949               1                0.0\n",
       "1025       1977               1                0.0\n",
       "1177       1996               3                0.0\n",
       "1244       1912               3                0.0\n",
       "1256       1963               3                0.0\n",
       "1317       1930               2                0.0\n",
       "1606       1996               2                0.0\n",
       "2054       1951               2                0.0\n",
       "2115       1986               1                0.0\n",
       "2166       1975               2                0.0\n",
       "2188       1937               2                0.0\n",
       "2214       1910               3                0.0\n",
       "2382       1962               2                0.0\n",
       "2441       1909               3                0.0\n",
       "2482       1961               3                0.0\n",
       "2564       1910               2                0.0\n",
       "2631       1997               3                0.0\n",
       "2708       1900               3                0.0\n",
       "2715       1905               2                0.0\n",
       "2747       1993               3                0.0\n",
       "2782       2005               2                0.0\n",
       "2963       2006              10                0.0\n",
       "3108       1982              24                0.0\n",
       "3121       1996               3                0.0\n",
       "3155       1968               1                0.0\n",
       "3205       2013               8                0.0\n",
       "3232       1962               1                0.0\n",
       "3259       1912               2                0.0"
      ]
     },
     "execution_count": 32,
     "metadata": {},
     "output_type": "execute_result"
    }
   ],
   "source": [
    "mask = (bc_without_perf_outliers['NumberofBuildings'] < 1) \n",
    "bc_without_perf_outliers[mask][phy_cols]"
   ]
  },
  {
   "cell_type": "code",
   "execution_count": 33,
   "metadata": {},
   "outputs": [
    {
     "data": {
      "application/vnd.microsoft.datawrangler.viewer.v0+json": {
       "columns": [
        {
         "name": "index",
         "rawType": "int64",
         "type": "integer"
        },
        {
         "name": "YearBuilt",
         "rawType": "int64",
         "type": "integer"
        },
        {
         "name": "NumberofFloors",
         "rawType": "int64",
         "type": "integer"
        },
        {
         "name": "NumberofBuildings",
         "rawType": "float64",
         "type": "float"
        }
       ],
       "ref": "69b716c8-4aa3-41c1-8fca-8cc190c53248",
       "rows": [
        [
         "166",
         "1999",
         "0",
         "1.0"
        ],
        [
         "487",
         "2004",
         "0",
         "1.0"
        ],
        [
         "488",
         "2006",
         "0",
         "1.0"
        ],
        [
         "564",
         "1999",
         "0",
         "1.0"
        ],
        [
         "1754",
         "1945",
         "0",
         "1.0"
        ],
        [
         "1993",
         "1991",
         "0",
         "10.0"
        ],
        [
         "3130",
         "1940",
         "0",
         "1.0"
        ],
        [
         "3131",
         "1960",
         "0",
         "1.0"
        ],
        [
         "3132",
         "1960",
         "0",
         "1.0"
        ],
        [
         "3168",
         "1929",
         "0",
         "8.0"
        ],
        [
         "3273",
         "2009",
         "0",
         "1.0"
        ],
        [
         "3274",
         "1900",
         "0",
         "111.0"
        ]
       ],
       "shape": {
        "columns": 3,
        "rows": 12
       }
      },
      "text/html": [
       "<div>\n",
       "<style scoped>\n",
       "    .dataframe tbody tr th:only-of-type {\n",
       "        vertical-align: middle;\n",
       "    }\n",
       "\n",
       "    .dataframe tbody tr th {\n",
       "        vertical-align: top;\n",
       "    }\n",
       "\n",
       "    .dataframe thead th {\n",
       "        text-align: right;\n",
       "    }\n",
       "</style>\n",
       "<table border=\"1\" class=\"dataframe\">\n",
       "  <thead>\n",
       "    <tr style=\"text-align: right;\">\n",
       "      <th></th>\n",
       "      <th>YearBuilt</th>\n",
       "      <th>NumberofFloors</th>\n",
       "      <th>NumberofBuildings</th>\n",
       "    </tr>\n",
       "  </thead>\n",
       "  <tbody>\n",
       "    <tr>\n",
       "      <th>166</th>\n",
       "      <td>1999</td>\n",
       "      <td>0</td>\n",
       "      <td>1.0</td>\n",
       "    </tr>\n",
       "    <tr>\n",
       "      <th>487</th>\n",
       "      <td>2004</td>\n",
       "      <td>0</td>\n",
       "      <td>1.0</td>\n",
       "    </tr>\n",
       "    <tr>\n",
       "      <th>488</th>\n",
       "      <td>2006</td>\n",
       "      <td>0</td>\n",
       "      <td>1.0</td>\n",
       "    </tr>\n",
       "    <tr>\n",
       "      <th>564</th>\n",
       "      <td>1999</td>\n",
       "      <td>0</td>\n",
       "      <td>1.0</td>\n",
       "    </tr>\n",
       "    <tr>\n",
       "      <th>1754</th>\n",
       "      <td>1945</td>\n",
       "      <td>0</td>\n",
       "      <td>1.0</td>\n",
       "    </tr>\n",
       "    <tr>\n",
       "      <th>1993</th>\n",
       "      <td>1991</td>\n",
       "      <td>0</td>\n",
       "      <td>10.0</td>\n",
       "    </tr>\n",
       "    <tr>\n",
       "      <th>3130</th>\n",
       "      <td>1940</td>\n",
       "      <td>0</td>\n",
       "      <td>1.0</td>\n",
       "    </tr>\n",
       "    <tr>\n",
       "      <th>3131</th>\n",
       "      <td>1960</td>\n",
       "      <td>0</td>\n",
       "      <td>1.0</td>\n",
       "    </tr>\n",
       "    <tr>\n",
       "      <th>3132</th>\n",
       "      <td>1960</td>\n",
       "      <td>0</td>\n",
       "      <td>1.0</td>\n",
       "    </tr>\n",
       "    <tr>\n",
       "      <th>3168</th>\n",
       "      <td>1929</td>\n",
       "      <td>0</td>\n",
       "      <td>8.0</td>\n",
       "    </tr>\n",
       "    <tr>\n",
       "      <th>3273</th>\n",
       "      <td>2009</td>\n",
       "      <td>0</td>\n",
       "      <td>1.0</td>\n",
       "    </tr>\n",
       "    <tr>\n",
       "      <th>3274</th>\n",
       "      <td>1900</td>\n",
       "      <td>0</td>\n",
       "      <td>111.0</td>\n",
       "    </tr>\n",
       "  </tbody>\n",
       "</table>\n",
       "</div>"
      ],
      "text/plain": [
       "      YearBuilt  NumberofFloors  NumberofBuildings\n",
       "166        1999               0                1.0\n",
       "487        2004               0                1.0\n",
       "488        2006               0                1.0\n",
       "564        1999               0                1.0\n",
       "1754       1945               0                1.0\n",
       "1993       1991               0               10.0\n",
       "3130       1940               0                1.0\n",
       "3131       1960               0                1.0\n",
       "3132       1960               0                1.0\n",
       "3168       1929               0                8.0\n",
       "3273       2009               0                1.0\n",
       "3274       1900               0              111.0"
      ]
     },
     "execution_count": 33,
     "metadata": {},
     "output_type": "execute_result"
    }
   ],
   "source": [
    "bc_without_perf_outliers.loc[mask,'NumberofBuildings']=1\n",
    "mask = (bc_without_perf_outliers['NumberofFloors'] < 1) \n",
    "bc_without_perf_outliers[mask][phy_cols]"
   ]
  },
  {
   "cell_type": "markdown",
   "metadata": {},
   "source": [
    "## Traitement des variables de Géolocalisation :   \n",
    "    Latitude, Longitude, Neighborhood, CouncilDistrictCode "
   ]
  },
  {
   "cell_type": "code",
   "execution_count": 34,
   "metadata": {},
   "outputs": [
    {
     "name": "stdout",
     "output_type": "stream",
     "text": [
      "<class 'pandas.core.frame.DataFrame'>\n",
      "Index: 1641 entries, 0 to 3375\n",
      "Data columns (total 4 columns):\n",
      " #   Column               Non-Null Count  Dtype  \n",
      "---  ------               --------------  -----  \n",
      " 0   Latitude             1641 non-null   float64\n",
      " 1   Longitude            1641 non-null   float64\n",
      " 2   Neighborhood         1641 non-null   object \n",
      " 3   CouncilDistrictCode  1641 non-null   int64  \n",
      "dtypes: float64(2), int64(1), object(1)\n",
      "memory usage: 64.1+ KB\n"
     ]
    }
   ],
   "source": [
    "geo_col = ['Latitude', 'Longitude', 'Neighborhood', 'CouncilDistrictCode'] \n",
    "bc_without_perf_outliers[geo_col].info()"
   ]
  },
  {
   "cell_type": "code",
   "execution_count": 35,
   "metadata": {},
   "outputs": [
    {
     "data": {
      "text/plain": [
       "<Axes: ylabel='Longitude'>"
      ]
     },
     "execution_count": 35,
     "metadata": {},
     "output_type": "execute_result"
    },
    {
     "data": {
      "image/png": "[encoded data removed]",
      "text/plain": [
       "<Figure size 1500x800 with 2 Axes>"
      ]
     },
     "metadata": {},
     "output_type": "display_data"
    }
   ],
   "source": [
    "fig,ax = plt.subplots(1,2,figsize=(15,8))\n",
    "sns.boxplot(bc_without_perf_outliers['Latitude'], ax=ax[0])\n",
    "sns.boxplot(bc_without_perf_outliers['Longitude'], ax=ax[1])\n"
   ]
  },
  {
   "cell_type": "code",
   "execution_count": 36,
   "metadata": {},
   "outputs": [
    {
     "data": {
      "application/vnd.microsoft.datawrangler.viewer.v0+json": {
       "columns": [
        {
         "name": "Neighborhood",
         "rawType": "object",
         "type": "string"
        },
        {
         "name": "count",
         "rawType": "int64",
         "type": "integer"
        }
       ],
       "ref": "4974056f-7e83-4542-b670-f75fb499f242",
       "rows": [
        [
         "DOWNTOWN",
         "351"
        ],
        [
         "GREATER DUWAMISH",
         "342"
        ],
        [
         "MAGNOLIA / QUEEN ANNE",
         "150"
        ],
        [
         "LAKE UNION",
         "145"
        ],
        [
         "EAST",
         "118"
        ],
        [
         "NORTHEAST",
         "112"
        ],
        [
         "NORTHWEST",
         "90"
        ],
        [
         "NORTH",
         "73"
        ],
        [
         "BALLARD",
         "70"
        ],
        [
         "CENTRAL",
         "54"
        ],
        [
         "SOUTHEAST",
         "47"
        ],
        [
         "DELRIDGE",
         "47"
        ],
        [
         "SOUTHWEST",
         "41"
        ],
        [
         "DELRIDGE NEIGHBORHOODS",
         "1"
        ]
       ],
       "shape": {
        "columns": 1,
        "rows": 14
       }
      },
      "text/plain": [
       "Neighborhood\n",
       "DOWNTOWN                  351\n",
       "GREATER DUWAMISH          342\n",
       "MAGNOLIA / QUEEN ANNE     150\n",
       "LAKE UNION                145\n",
       "EAST                      118\n",
       "NORTHEAST                 112\n",
       "NORTHWEST                  90\n",
       "NORTH                      73\n",
       "BALLARD                    70\n",
       "CENTRAL                    54\n",
       "SOUTHEAST                  47\n",
       "DELRIDGE                   47\n",
       "SOUTHWEST                  41\n",
       "DELRIDGE NEIGHBORHOODS      1\n",
       "Name: count, dtype: int64"
      ]
     },
     "execution_count": 36,
     "metadata": {},
     "output_type": "execute_result"
    }
   ],
   "source": [
    "bc_without_perf_outliers['Neighborhood'] = bc_without_perf_outliers['Neighborhood'].str.upper()\n",
    "bc_without_perf_outliers['Neighborhood'].value_counts()"
   ]
  },
  {
   "cell_type": "code",
   "execution_count": 37,
   "metadata": {},
   "outputs": [
    {
     "data": {
      "application/vnd.microsoft.datawrangler.viewer.v0+json": {
       "columns": [
        {
         "name": "CouncilDistrictCode",
         "rawType": "int64",
         "type": "integer"
        },
        {
         "name": "count",
         "rawType": "int64",
         "type": "integer"
        }
       ],
       "ref": "34ac2505-47c7-4e7a-b13c-6a342a9ac628",
       "rows": [
        [
         "7",
         "519"
        ],
        [
         "2",
         "394"
        ],
        [
         "3",
         "197"
        ],
        [
         "4",
         "155"
        ],
        [
         "5",
         "138"
        ],
        [
         "1",
         "120"
        ],
        [
         "6",
         "118"
        ]
       ],
       "shape": {
        "columns": 1,
        "rows": 7
       }
      },
      "text/plain": [
       "CouncilDistrictCode\n",
       "7    519\n",
       "2    394\n",
       "3    197\n",
       "4    155\n",
       "5    138\n",
       "1    120\n",
       "6    118\n",
       "Name: count, dtype: int64"
      ]
     },
     "execution_count": 37,
     "metadata": {},
     "output_type": "execute_result"
    }
   ],
   "source": [
    "bc_without_perf_outliers['CouncilDistrictCode'].value_counts()"
   ]
  },
  {
   "cell_type": "code",
   "execution_count": 38,
   "metadata": {},
   "outputs": [],
   "source": [
    "select_columns = ['3LargestGFA', 'ListOfAllPropertyUseTypes', 'FirstUseType', 'SecondLargestPropertyUseType', 'YearBuilt', 'NumberofFloors', 'NumberofBuildings','Latitude', 'Longitude', 'Neighborhood',\n",
    "                                     'SiteEnergyUse(kBtu)', 'Electricity(kBtu)', 'NaturalGas(kBtu)', 'SteamUse(kBtu)','SiteEUI(kBtu/sf)']\n",
    "bc_after_eda = bc_without_perf_outliers[select_columns]\n",
    "bc_after_eda.to_csv(\"data/bc_after_eda.csv\")"
   ]
  }
 ],
 "metadata": {
  "kernelspec": {
   "display_name": "ocde-p6-qTWNOnCB-py3.13",
   "language": "python",
   "name": "python3"
  },
  "language_info": {
   "codemirror_mode": {
    "name": "ipython",
    "version": 3
   },
   "file_extension": ".py",
   "mimetype": "text/x-python",
   "name": "python",
   "nbconvert_exporter": "python",
   "pygments_lexer": "ipython3",
   "version": "3.13.5"
  }
 },
 "nbformat": 4,
 "nbformat_minor": 2
}
