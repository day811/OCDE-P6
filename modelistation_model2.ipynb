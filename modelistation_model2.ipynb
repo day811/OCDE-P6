{
 "cells": [
  {
   "cell_type": "markdown",
   "metadata": {},
   "source": [
    "A réaliser : \n",
    "- Une analyse descriptive des données, y compris une explication du sens des colonnes gardées, des arguments derrière la suppression de lignes ou de colonnes, des statistiques descriptives et des visualisations pertinentes."
   ]
  },
  {
   "cell_type": "markdown",
   "metadata": {},
   "source": [
    "## Import des modules"
   ]
  },
  {
   "cell_type": "code",
   "execution_count": 380,
   "metadata": {},
   "outputs": [],
   "source": [
    "import pandas as pd\n",
    "import numpy as np\n",
    "import matplotlib.pyplot as plt\n",
    "import seaborn as sns \n",
    "import warnings\n",
    "warnings.filterwarnings(\"ignore\", category=UserWarning)\n",
    "#Selection\n",
    "from sklearn.model_selection import (\n",
    "    train_test_split,\n",
    "    GridSearchCV, \n",
    "    cross_validate,\n",
    ")\n",
    "from sklearn.metrics import r2_score, mean_absolute_error , root_mean_squared_error, mean_absolute_percentage_error\n",
    "from sklearn.inspection import permutation_importance\n",
    "from sklearn.pipeline import Pipeline\n",
    "\n",
    "#Preprocess\n",
    "from sklearn.compose import ColumnTransformer\n",
    "from sklearn.preprocessing import LabelEncoder, OneHotEncoder, StandardScaler,FunctionTransformer\n",
    "\n",
    "#Modèles\n",
    "from sklearn.dummy import DummyRegressor\n",
    "from sklearn.linear_model import LinearRegression\n",
    "from sklearn.svm import SVR\n",
    "from sklearn.ensemble import RandomForestRegressor, GradientBoostingRegressor"
   ]
  },
  {
   "cell_type": "code",
   "execution_count": 381,
   "metadata": {},
   "outputs": [
    {
     "name": "stdout",
     "output_type": "stream",
     "text": [
      "<class 'pandas.core.frame.DataFrame'>\n",
      "Index: 1630 entries, 0 to 3375\n",
      "Data columns (total 41 columns):\n",
      " #   Column                           Non-Null Count  Dtype  \n",
      "---  ------                           --------------  -----  \n",
      " 0   DataYear                         1630 non-null   int64  \n",
      " 1   BuildingType                     1630 non-null   object \n",
      " 2   PrimaryPropertyType              1630 non-null   object \n",
      " 3   CouncilDistrictCode              1630 non-null   int64  \n",
      " 4   Neighborhood                     1630 non-null   object \n",
      " 5   Latitude                         1630 non-null   float64\n",
      " 6   Longitude                        1630 non-null   float64\n",
      " 7   YearBuilt                        1630 non-null   int64  \n",
      " 8   NumberofBuildings                1630 non-null   float64\n",
      " 9   NumberofFloors                   1630 non-null   float64\n",
      " 10  PropertyGFATotal                 1630 non-null   int64  \n",
      " 11  PropertyGFAParking               1630 non-null   int64  \n",
      " 12  PropertyGFABuilding(s)           1630 non-null   int64  \n",
      " 13  ListOfAllPropertyUseTypes        1630 non-null   object \n",
      " 14  LargestPropertyUseType           1630 non-null   object \n",
      " 15  LargestPropertyUseTypeGFA        1630 non-null   float64\n",
      " 16  SecondLargestPropertyUseType     847 non-null    object \n",
      " 17  SecondLargestPropertyUseTypeGFA  1630 non-null   float64\n",
      " 18  ThirdLargestPropertyUseType      343 non-null    object \n",
      " 19  ThirdLargestPropertyUseTypeGFA   1630 non-null   float64\n",
      " 20  YearsENERGYSTARCertified         98 non-null     object \n",
      " 21  ENERGYSTARScore                  1083 non-null   float64\n",
      " 22  SiteEUI(kBtu/sf)                 1630 non-null   float64\n",
      " 23  SiteEUIWN(kBtu/sf)               1629 non-null   float64\n",
      " 24  SourceEUI(kBtu/sf)               1630 non-null   float64\n",
      " 25  SourceEUIWN(kBtu/sf)             1630 non-null   float64\n",
      " 26  SiteEnergyUse(kBtu)              1630 non-null   float64\n",
      " 27  SteamUse(kBtu)                   1630 non-null   float64\n",
      " 28  Electricity(kWh)                 1630 non-null   float64\n",
      " 29  Electricity(kBtu)                1630 non-null   float64\n",
      " 30  NaturalGas(therms)               1630 non-null   float64\n",
      " 31  NaturalGas(kBtu)                 1630 non-null   float64\n",
      " 32  DefaultData                      1630 non-null   bool   \n",
      " 33  Comments                         0 non-null      float64\n",
      " 34  ComplianceStatus                 1630 non-null   object \n",
      " 35  Outlier                          0 non-null      float64\n",
      " 36  TotalGHGEmissions                1630 non-null   float64\n",
      " 37  GHGEmissionsIntensity            1630 non-null   float64\n",
      " 38  FirstUseType                     1630 non-null   object \n",
      " 39  3LargestGFA                      1630 non-null   float64\n",
      " 40  CalcSEUI(kBtu/sf)                1630 non-null   float64\n",
      "dtypes: bool(1), float64(24), int64(6), object(10)\n",
      "memory usage: 523.7+ KB\n"
     ]
    }
   ],
   "source": [
    "\n",
    "bc_after_eda = pd.read_csv(\"data/bc_after_eda.csv\", index_col='Unnamed: 0',dtype={'NumberofFloors':float})\n",
    "bc_after_eda.info()\n"
   ]
  },
  {
   "cell_type": "code",
   "execution_count": 382,
   "metadata": {},
   "outputs": [
    {
     "data": {
      "application/vnd.microsoft.datawrangler.viewer.v0+json": {
       "columns": [
        {
         "name": "index",
         "rawType": "int64",
         "type": "integer"
        },
        {
         "name": "LargestPropertyUseTypeGFA",
         "rawType": "float64",
         "type": "float"
        },
        {
         "name": "SecondLargestPropertyUseTypeGFA",
         "rawType": "float64",
         "type": "float"
        },
        {
         "name": "ListOfAllPropertyUseTypes",
         "rawType": "object",
         "type": "string"
        },
        {
         "name": "FirstUseType",
         "rawType": "object",
         "type": "string"
        },
        {
         "name": "SecondLargestPropertyUseType",
         "rawType": "object",
         "type": "unknown"
        },
        {
         "name": "YearBuilt",
         "rawType": "int64",
         "type": "integer"
        },
        {
         "name": "NumberofFloors",
         "rawType": "float64",
         "type": "float"
        },
        {
         "name": "NumberofBuildings",
         "rawType": "float64",
         "type": "float"
        },
        {
         "name": "Latitude",
         "rawType": "float64",
         "type": "float"
        },
        {
         "name": "Longitude",
         "rawType": "float64",
         "type": "float"
        },
        {
         "name": "Neighborhood",
         "rawType": "object",
         "type": "string"
        },
        {
         "name": "SiteEnergyUse(kBtu)",
         "rawType": "float64",
         "type": "float"
        },
        {
         "name": "Electricity(kBtu)",
         "rawType": "float64",
         "type": "float"
        },
        {
         "name": "NaturalGas(kBtu)",
         "rawType": "float64",
         "type": "float"
        },
        {
         "name": "SteamUse(kBtu)",
         "rawType": "float64",
         "type": "float"
        },
        {
         "name": "CalcSEUI(kBtu/sf)",
         "rawType": "float64",
         "type": "float"
        }
       ],
       "ref": "42d71d5a-45b4-4d6f-bcba-f22a2db848f1",
       "rows": [
        [
         "0",
         "88434.0",
         "0.0",
         "Hotel",
         "Hotel",
         null,
         "1927",
         "12.0",
         "1.0",
         "47.6122",
         "-122.33799",
         "DOWNTOWN",
         "7226362.5",
         "3946027.0",
         "1276453.0",
         "2003882.0",
         "81.7147533753986"
        ],
        [
         "1",
         "83880.0",
         "15064.0",
         "Hotel, Parking, Restaurant",
         "Hotel",
         "Parking",
         "1996",
         "11.0",
         "1.0",
         "47.61317",
         "-122.33393",
         "DOWNTOWN",
         "8387933.0",
         "3242851.0",
         "5145082.0",
         "0.0",
         "80.99118436552537"
        ],
        [
         "2",
         "756493.0",
         "0.0",
         "Hotel",
         "Hotel",
         null,
         "1969",
         "41.0",
         "1.0",
         "47.61393",
         "-122.3381",
         "DOWNTOWN",
         "72587024.0",
         "49526664.0",
         "1493800.0",
         "21566554.0",
         "95.95201013095958"
        ],
        [
         "3",
         "61320.0",
         "0.0",
         "Hotel",
         "Hotel",
         null,
         "1926",
         "10.0",
         "1.0",
         "47.61412",
         "-122.33664",
         "DOWNTOWN",
         "6794584.0",
         "2768924.0",
         "1811213.0",
         "2214446.25",
         "110.80534898891064"
        ],
        [
         "4",
         "123445.0",
         "68009.0",
         "Hotel, Parking, Swimming Pool",
         "Hotel",
         "Parking",
         "1980",
         "18.0",
         "1.0",
         "47.61375",
         "-122.34047",
         "DOWNTOWN",
         "14172606.0",
         "5368607.0",
         "8803998.0",
         "0.0",
         "74.02616816572127"
        ],
        [
         "5",
         "88830.0",
         "0.0",
         "Police Station",
         "Police Station",
         null,
         "1999",
         "2.0",
         "1.0",
         "47.61623",
         "-122.33657",
         "DOWNTOWN",
         "12086616.0",
         "7371434.0",
         "4715182.0",
         "0.0",
         "136.0645727794664"
        ],
        [
         "6",
         "81352.0",
         "0.0",
         "Hotel",
         "Hotel",
         null,
         "1926",
         "11.0",
         "1.0",
         "47.6139",
         "-122.33283",
         "DOWNTOWN",
         "5758795.0",
         "2811215.0",
         "2947580.0",
         "0.0",
         "70.78860999114957"
        ],
        [
         "7",
         "102761.0",
         "0.0",
         "Other - Entertainment/Public Assembly",
         "Other",
         null,
         "1926",
         "8.0",
         "1.0",
         "47.61327",
         "-122.33136",
         "DOWNTOWN",
         "6298131.5",
         "3636655.0",
         "385189.0",
         "2276286.5",
         "61.28912233240237"
        ],
        [
         "8",
         "163984.0",
         "0.0",
         "Hotel",
         "Hotel",
         null,
         "1904",
         "15.0",
         "1.0",
         "47.60294",
         "-122.33263",
         "DOWNTOWN",
         "13723820.0",
         "7297919.0",
         "6425900.0",
         "0.0",
         "83.68999414577031"
        ],
        [
         "10",
         "133884.0",
         "0.0",
         "Hotel",
         "Hotel",
         null,
         "1969",
         "11.0",
         "1.0",
         "47.60695",
         "-122.33414",
         "DOWNTOWN",
         "16016644.0",
         "6187627.0",
         "4591850.0",
         "5237165.5",
         "119.63075498192464"
        ],
        [
         "11",
         "336640.0",
         "0.0",
         "Hotel",
         "Hotel",
         null,
         "1998",
         "25.0",
         "1.0",
         "47.60713",
         "-122.33323",
         "DOWNTOWN",
         "26941110.0",
         "18083049.0",
         "2858700.0",
         "5999360.5",
         "80.02943797528518"
        ],
        [
         "12",
         "65009.0",
         "0.0",
         "Hotel",
         "Hotel",
         null,
         "1928",
         "9.0",
         "1.0",
         "47.60699",
         "-122.33346",
         "DOWNTOWN",
         "6596057.5",
         "1343000.0",
         "3596705.0",
         "1656352.5",
         "101.46375886415728"
        ],
        [
         "13",
         "295511.0",
         "57600.0",
         "Hotel, Parking",
         "Hotel",
         "Parking",
         "1980",
         "33.0",
         "1.0",
         "47.60809",
         "-122.33212",
         "DOWNTOWN",
         "22325364.0",
         "13904183.0",
         "4083440.0",
         "4337738.5",
         "63.22477634511528"
        ],
        [
         "14",
         "67390.0",
         "25200.0",
         "Hotel, Parking",
         "Hotel",
         "Parking",
         "1922",
         "11.0",
         "1.0",
         "47.60755",
         "-122.33244",
         "DOWNTOWN",
         "10750010.0",
         "3832369.0",
         "2046793.0",
         "4870847.5",
         "116.10335889404904"
        ],
        [
         "15",
         "364913.0",
         "49000.0",
         "Data Center, Library, Parking",
         "Library",
         "Parking",
         "2004",
         "11.0",
         "1.0",
         "47.60649",
         "-122.33297",
         "DOWNTOWN",
         "18588860.0",
         "17851297.0",
         "0.0",
         "737559.5",
         "44.793836915373255"
        ],
        [
         "16",
         "90000.0",
         "40000.0",
         "Fitness Center/Health Club/Gym, Office, Swimming Pool",
         "Fitness Center/Health Club/Gym",
         "Office",
         "1930",
         "6.0",
         "1.0",
         "47.60546",
         "-122.33279",
         "DOWNTOWN",
         "9956396.0",
         "4453868.0",
         "910180.0",
         "4592347.5",
         "76.58766153846153"
        ],
        [
         "17",
         "348329.0",
         "85000.0",
         "Hotel, Parking",
         "Hotel",
         "Parking",
         "1983",
         "28.0",
         "1.0",
         "47.60681",
         "-122.33078",
         "DOWNTOWN",
         "33556756.0",
         "21225277.0",
         "12331475.0",
         "0.0",
         "77.43944208672856"
        ],
        [
         "18",
         "16442.0",
         "15505.0",
         "Office, Other, Other - Lodging/Residential, Restaurant, Social/Meeting Hall",
         "Mixed Use Property",
         "Restaurant",
         "1907",
         "5.0",
         "1.0",
         "47.60515",
         "-122.33159",
         "DOWNTOWN",
         "7606084.5",
         "3764791.0",
         "2065091.0",
         "1776201.875",
         "182.4526122625216"
        ],
        [
         "19",
         "104352.0",
         "0.0",
         "Hotel",
         "Hotel",
         null,
         "1916",
         "10.0",
         "1.0",
         "47.60376",
         "-122.33194",
         "DOWNTOWN",
         "10154608.0",
         "5908370.0",
         "815376.0",
         "3430862.0",
         "97.31110088929776"
        ],
        [
         "20",
         "537150.0",
         "0.0",
         "Courthouse",
         "Courthouse",
         null,
         "1916",
         "10.0",
         "1.0",
         "47.60265",
         "-122.33051",
         "DOWNTOWN",
         "44984468.0",
         "24357833.0",
         "20626631.0",
         "0.0",
         "83.74656613608862"
        ],
        [
         "21",
         "385274.0",
         "0.0",
         "Other",
         "Other",
         null,
         "1985",
         "19.0",
         "1.0",
         "47.60378",
         "-122.32842",
         "DOWNTOWN",
         "47859812.0",
         "18257661.0",
         "29602150.0",
         "0.0",
         "124.22279209082367"
        ],
        [
         "22",
         "58916.0",
         "0.0",
         "K-12 School",
         "K-12 School",
         null,
         "1961",
         "2.0",
         "1.0",
         "47.54576",
         "-122.26853",
         "SOUTHEAST",
         "1539478.5",
         "936955.0",
         "602523.0",
         "0.0",
         "26.13005804874737"
        ],
        [
         "23",
         "58006.0",
         "30586.0",
         "Hotel, Parking",
         "Hotel",
         "Parking",
         "2001",
         "6.0",
         "1.0",
         "47.65959",
         "-122.31755",
         "NORTHEAST",
         "3663534.5",
         "2266231.0",
         "1397303.0",
         "0.0",
         "41.35288175004515"
        ],
        [
         "24",
         "125000.0",
         "0.0",
         "College/University",
         "University",
         null,
         "1928",
         "7.0",
         "1.0",
         "47.61816",
         "-122.33629",
         "DOWNTOWN",
         "11343686.0",
         "4647474.0",
         "6696211.0",
         "0.0",
         "90.749488"
        ],
        [
         "25",
         "67224.0",
         "0.0",
         "Automobile Dealership",
         "Automobile Dealership",
         null,
         "1930",
         "2.0",
         "1.0",
         "47.615",
         "-122.33081",
         "DOWNTOWN",
         "1310236.625",
         "1310236.0",
         "0.0",
         "0.0",
         "19.4906078930144"
        ],
        [
         "26",
         "112676.0",
         "42000.0",
         "Hotel, Parking, Retail Store, Swimming Pool",
         "Hotel",
         "Parking",
         "1991",
         "8.0",
         "1.0",
         "47.61301",
         "-122.32929",
         "EAST",
         "5328051.5",
         "572307.0",
         "4755745.0",
         "0.0",
         "33.47270631250942"
        ],
        [
         "27",
         "128909.0",
         "0.0",
         "Hotel",
         "Hotel",
         null,
         "2001",
         "10.0",
         "1.0",
         "47.61784",
         "-122.32966",
         "DOWNTOWN",
         "11061916.0",
         "5610706.0",
         "5451210.0",
         "0.0",
         "85.81182074176357"
        ],
        [
         "29",
         "47994.0",
         "0.0",
         "Hotel",
         "Hotel",
         null,
         "1978",
         "5.0",
         "1.0",
         "47.61558",
         "-122.34186",
         "DOWNTOWN",
         "4456714.5",
         "2346349.0",
         "2110365.0",
         "0.0",
         "92.85982622827854"
        ],
        [
         "30",
         "164229.0",
         "0.0",
         "K-12 School",
         "K-12 School",
         null,
         "1949",
         "2.0",
         "1.0",
         "47.70994",
         "-122.29301",
         "NORTH",
         "6779173.0",
         "1947601.0",
         "4831572.0",
         "0.0",
         "41.27878145759884"
        ],
        [
         "31",
         "55166.0",
         "0.0",
         "K-12 School",
         "K-12 School",
         null,
         "1989",
         "2.0",
         "1.0",
         "47.6329",
         "-122.35172",
         "MAGNOLIA / QUEEN ANNE",
         "1496816.0",
         "1496816.0",
         "0.0",
         "0.0",
         "27.132944204763803"
        ],
        [
         "32",
         "40943.0",
         "18153.0",
         "K-12 School, Multifamily Housing, Office, Other - Entertainment/Public Assembly",
         "Small- and Mid-Sized Office",
         "K-12 School",
         "1906",
         "3.0",
         "1.0",
         "47.6641",
         "-122.33118",
         "LAKE UNION",
         "4145920.5",
         "1352843.0",
         "2793077.0",
         "0.0",
         "65.38997366055234"
        ],
        [
         "33",
         "81871.0",
         "0.0",
         "Hotel",
         "Hotel",
         null,
         "1994",
         "4.0",
         "1.0",
         "47.66583",
         "-122.29965",
         "NORTHEAST",
         "6668568.5",
         "3016399.0",
         "3652169.0",
         "0.0",
         "81.45214422689352"
        ],
        [
         "34",
         "26225.0",
         "0.0",
         "Self-Storage Facility",
         "Self-Storage Facility",
         null,
         "1955",
         "2.0",
         "1.0",
         "47.66172",
         "-122.29598",
         "NORTHEAST",
         "318364.8125",
         "281265.0",
         "37100.0",
         "0.0",
         "12.139744995233556"
        ],
        [
         "35",
         "757027.0",
         "639931.0",
         "Energy/Power Station, Laboratory, Manufacturing/Industrial Plant, Non-Refrigerated Warehouse, Office",
         "Mixed Use Property",
         "Laboratory",
         "1992",
         "3.0",
         "1.0",
         "47.53493",
         "-122.31788",
         "GREATER DUWAMISH",
         "448385312.0",
         "150476283.0",
         "297909000.0",
         "0.0",
         "241.49505198992196"
        ],
        [
         "36",
         "616000.0",
         "276000.0",
         "Non-Refrigerated Warehouse, Office, Refrigerated Warehouse",
         "Warehouse",
         "Refrigerated Warehouse",
         "1961",
         "2.0",
         "3.0",
         "47.51138",
         "-122.28875",
         "GREATER DUWAMISH",
         "44731160.0",
         "44731153.0",
         "0.0",
         "0.0",
         "46.44980269989616"
        ],
        [
         "37",
         "54986.0",
         "0.0",
         "K-12 School",
         "K-12 School",
         null,
         "1990",
         "2.0",
         "1.0",
         "47.65671",
         "-122.39047",
         "MAGNOLIA / QUEEN ANNE",
         "1650279.25",
         "1217589.0",
         "432690.0",
         "0.0",
         "30.01271687338595"
        ],
        [
         "38",
         "182861.0",
         "0.0",
         "K-12 School",
         "K-12 School",
         null,
         "1950",
         "2.0",
         "1.0",
         "47.68252",
         "-122.29498",
         "NORTHEAST",
         "6399127.5",
         "1599684.0",
         "4799443.0",
         "0.0",
         "34.99449035059417"
        ],
        [
         "39",
         "55586.0",
         "39314.0",
         "Non-Refrigerated Warehouse, Office",
         "Small- and Mid-Sized Office",
         "Non-Refrigerated Warehouse",
         "1961",
         "2.0",
         "1.0",
         "47.66587",
         "-122.38476",
         "BALLARD",
         "6186461.5",
         "4291585.0",
         "1894876.0",
         "0.0",
         "65.18926765015806"
        ],
        [
         "40",
         "51029.0",
         "7849.0",
         "Office, Other - Education",
         "Small- and Mid-Sized Office",
         "Other - Education",
         "1900",
         "2.0",
         "1.0",
         "47.58034",
         "-122.31132",
         "GREATER DUWAMISH",
         "2951331.25",
         "1579749.0",
         "1371582.0",
         "0.0",
         "50.126214375488296"
        ],
        [
         "41",
         "175015.0",
         "0.0",
         "K-12 School",
         "K-12 School",
         null,
         "1954",
         "3.0",
         "1.0",
         "47.68891",
         "-122.33553",
         "NORTHWEST",
         "6994740.5",
         "2679739.0",
         "4315001.0",
         "0.0",
         "39.96652001257035"
        ],
        [
         "42",
         "38439.0",
         "28197.0",
         "Office, Self-Storage Facility, Vocational School",
         "Self-Storage Facility",
         "Vocational School",
         "1911",
         "3.0",
         "1.0",
         "47.61351",
         "-122.35129",
         "DOWNTOWN",
         "2158629.0",
         "1500229.0",
         "658400.0",
         "0.0",
         "30.621022767572168"
        ],
        [
         "43",
         "348630.0",
         "0.0",
         "Hotel",
         "Hotel",
         null,
         "1969",
         "24.0",
         "1.0",
         "47.60946",
         "-122.33337",
         "DOWNTOWN",
         "16163194.0",
         "12204406.0",
         "3958787.0",
         "0.0",
         "46.36202851160256"
        ],
        [
         "44",
         "103362.0",
         "65676.0",
         "Data Center, Office, Retail Store",
         "Large Office",
         "Retail Store",
         "1973",
         "5.0",
         "1.0",
         "47.6113",
         "-122.33659",
         "DOWNTOWN",
         "9536161.0",
         "9536160.0",
         "0.0",
         "0.0",
         "56.25024921695737"
        ],
        [
         "45",
         "51747.0",
         "5681.0",
         "Other - Mall, Personal Services (Health/Beauty, Dry Cleaning, etc)",
         "Other",
         "Personal Services (Health/Beauty, Dry Cleaning, etc)",
         "1920",
         "2.0",
         "1.0",
         "47.61076",
         "-122.33765",
         "DOWNTOWN",
         "1247362.0",
         "714939.0",
         "532423.0",
         "0.0",
         "21.72044995472592"
        ],
        [
         "46",
         "34947.0",
         "4993.0",
         "Office, Retail Store",
         "Small- and Mid-Sized Office",
         "Retail Store",
         "1910",
         "8.0",
         "1.0",
         "47.61048",
         "-122.33794",
         "DOWNTOWN",
         "5071974.0",
         "5071973.0",
         "0.0",
         "0.0",
         "126.9898347521282"
        ],
        [
         "47",
         "23500.0",
         "23500.0",
         "Office, Other - Entertainment/Public Assembly, Restaurant",
         "Mixed Use Property",
         "Restaurant",
         "1926",
         "2.0",
         "1.0",
         "47.60886",
         "-122.33744",
         "DOWNTOWN",
         "15026196.0",
         "4632459.0",
         "10393737.0",
         "0.0",
         "286.4369507615471"
        ],
        [
         "48",
         "83591.0",
         "10043.0",
         "Hotel, Parking, Restaurant",
         "Hotel",
         "Parking",
         "1930",
         "20.0",
         "1.0",
         "47.61233",
         "-122.33432",
         "DOWNTOWN",
         "4841347.5",
         "4290059.0",
         "551288.0",
         "0.0",
         "49.08396191982481"
        ],
        [
         "49",
         "994212.0",
         "117668.0",
         "Hotel, Parking, Swimming Pool",
         "Hotel",
         "Parking",
         "1982",
         "34.0",
         "1.0",
         "47.61087",
         "-122.33339",
         "DOWNTOWN",
         "80469216.0",
         "45545529.0",
         "23324992.0",
         "11598686.0",
         "72.37221282872252"
        ],
        [
         "50",
         "41340.0",
         "13730.0",
         "Hotel, Parking, Restaurant, Retail Store",
         "Hotel",
         "Parking",
         "1985",
         "7.0",
         "1.0",
         "47.60997",
         "-122.34138",
         "DOWNTOWN",
         "5348309.0",
         "3243900.0",
         "2104408.0",
         "0.0",
         "82.6964313325293"
        ],
        [
         "51",
         "88360.0",
         "26450.0",
         "Hotel, Other - Entertainment/Public Assembly, Retail Store",
         "Hotel",
         "Other - Entertainment/Public Assembly",
         "1908",
         "7.0",
         "1.0",
         "47.61155",
         "-122.34114",
         "DOWNTOWN",
         "5401277.5",
         "1293561.0",
         "4107716.0",
         "0.0",
         "43.980762967185086"
        ]
       ],
       "shape": {
        "columns": 16,
        "rows": 1630
       }
      },
      "text/html": [
       "<div>\n",
       "<style scoped>\n",
       "    .dataframe tbody tr th:only-of-type {\n",
       "        vertical-align: middle;\n",
       "    }\n",
       "\n",
       "    .dataframe tbody tr th {\n",
       "        vertical-align: top;\n",
       "    }\n",
       "\n",
       "    .dataframe thead th {\n",
       "        text-align: right;\n",
       "    }\n",
       "</style>\n",
       "<table border=\"1\" class=\"dataframe\">\n",
       "  <thead>\n",
       "    <tr style=\"text-align: right;\">\n",
       "      <th></th>\n",
       "      <th>LargestPropertyUseTypeGFA</th>\n",
       "      <th>SecondLargestPropertyUseTypeGFA</th>\n",
       "      <th>ListOfAllPropertyUseTypes</th>\n",
       "      <th>FirstUseType</th>\n",
       "      <th>SecondLargestPropertyUseType</th>\n",
       "      <th>YearBuilt</th>\n",
       "      <th>NumberofFloors</th>\n",
       "      <th>NumberofBuildings</th>\n",
       "      <th>Latitude</th>\n",
       "      <th>Longitude</th>\n",
       "      <th>Neighborhood</th>\n",
       "      <th>SiteEnergyUse(kBtu)</th>\n",
       "      <th>Electricity(kBtu)</th>\n",
       "      <th>NaturalGas(kBtu)</th>\n",
       "      <th>SteamUse(kBtu)</th>\n",
       "      <th>CalcSEUI(kBtu/sf)</th>\n",
       "    </tr>\n",
       "  </thead>\n",
       "  <tbody>\n",
       "    <tr>\n",
       "      <th>0</th>\n",
       "      <td>88434.0</td>\n",
       "      <td>0.0</td>\n",
       "      <td>Hotel</td>\n",
       "      <td>Hotel</td>\n",
       "      <td>NaN</td>\n",
       "      <td>1927</td>\n",
       "      <td>12.0</td>\n",
       "      <td>1.0</td>\n",
       "      <td>47.61220</td>\n",
       "      <td>-122.33799</td>\n",
       "      <td>DOWNTOWN</td>\n",
       "      <td>7.226362e+06</td>\n",
       "      <td>3.946027e+06</td>\n",
       "      <td>1.276453e+06</td>\n",
       "      <td>2003882.00</td>\n",
       "      <td>81.714753</td>\n",
       "    </tr>\n",
       "    <tr>\n",
       "      <th>1</th>\n",
       "      <td>83880.0</td>\n",
       "      <td>15064.0</td>\n",
       "      <td>Hotel, Parking, Restaurant</td>\n",
       "      <td>Hotel</td>\n",
       "      <td>Parking</td>\n",
       "      <td>1996</td>\n",
       "      <td>11.0</td>\n",
       "      <td>1.0</td>\n",
       "      <td>47.61317</td>\n",
       "      <td>-122.33393</td>\n",
       "      <td>DOWNTOWN</td>\n",
       "      <td>8.387933e+06</td>\n",
       "      <td>3.242851e+06</td>\n",
       "      <td>5.145082e+06</td>\n",
       "      <td>0.00</td>\n",
       "      <td>80.991184</td>\n",
       "    </tr>\n",
       "    <tr>\n",
       "      <th>2</th>\n",
       "      <td>756493.0</td>\n",
       "      <td>0.0</td>\n",
       "      <td>Hotel</td>\n",
       "      <td>Hotel</td>\n",
       "      <td>NaN</td>\n",
       "      <td>1969</td>\n",
       "      <td>41.0</td>\n",
       "      <td>1.0</td>\n",
       "      <td>47.61393</td>\n",
       "      <td>-122.33810</td>\n",
       "      <td>DOWNTOWN</td>\n",
       "      <td>7.258702e+07</td>\n",
       "      <td>4.952666e+07</td>\n",
       "      <td>1.493800e+06</td>\n",
       "      <td>21566554.00</td>\n",
       "      <td>95.952010</td>\n",
       "    </tr>\n",
       "    <tr>\n",
       "      <th>3</th>\n",
       "      <td>61320.0</td>\n",
       "      <td>0.0</td>\n",
       "      <td>Hotel</td>\n",
       "      <td>Hotel</td>\n",
       "      <td>NaN</td>\n",
       "      <td>1926</td>\n",
       "      <td>10.0</td>\n",
       "      <td>1.0</td>\n",
       "      <td>47.61412</td>\n",
       "      <td>-122.33664</td>\n",
       "      <td>DOWNTOWN</td>\n",
       "      <td>6.794584e+06</td>\n",
       "      <td>2.768924e+06</td>\n",
       "      <td>1.811213e+06</td>\n",
       "      <td>2214446.25</td>\n",
       "      <td>110.805349</td>\n",
       "    </tr>\n",
       "    <tr>\n",
       "      <th>4</th>\n",
       "      <td>123445.0</td>\n",
       "      <td>68009.0</td>\n",
       "      <td>Hotel, Parking, Swimming Pool</td>\n",
       "      <td>Hotel</td>\n",
       "      <td>Parking</td>\n",
       "      <td>1980</td>\n",
       "      <td>18.0</td>\n",
       "      <td>1.0</td>\n",
       "      <td>47.61375</td>\n",
       "      <td>-122.34047</td>\n",
       "      <td>DOWNTOWN</td>\n",
       "      <td>1.417261e+07</td>\n",
       "      <td>5.368607e+06</td>\n",
       "      <td>8.803998e+06</td>\n",
       "      <td>0.00</td>\n",
       "      <td>74.026168</td>\n",
       "    </tr>\n",
       "    <tr>\n",
       "      <th>...</th>\n",
       "      <td>...</td>\n",
       "      <td>...</td>\n",
       "      <td>...</td>\n",
       "      <td>...</td>\n",
       "      <td>...</td>\n",
       "      <td>...</td>\n",
       "      <td>...</td>\n",
       "      <td>...</td>\n",
       "      <td>...</td>\n",
       "      <td>...</td>\n",
       "      <td>...</td>\n",
       "      <td>...</td>\n",
       "      <td>...</td>\n",
       "      <td>...</td>\n",
       "      <td>...</td>\n",
       "      <td>...</td>\n",
       "    </tr>\n",
       "    <tr>\n",
       "      <th>3371</th>\n",
       "      <td>12294.0</td>\n",
       "      <td>0.0</td>\n",
       "      <td>Office</td>\n",
       "      <td>Office</td>\n",
       "      <td>NaN</td>\n",
       "      <td>1990</td>\n",
       "      <td>1.0</td>\n",
       "      <td>1.0</td>\n",
       "      <td>47.56722</td>\n",
       "      <td>-122.31154</td>\n",
       "      <td>GREATER DUWAMISH</td>\n",
       "      <td>8.497457e+05</td>\n",
       "      <td>5.242709e+05</td>\n",
       "      <td>3.254750e+05</td>\n",
       "      <td>0.00</td>\n",
       "      <td>69.118732</td>\n",
       "    </tr>\n",
       "    <tr>\n",
       "      <th>3372</th>\n",
       "      <td>16000.0</td>\n",
       "      <td>0.0</td>\n",
       "      <td>Other - Recreation</td>\n",
       "      <td>Other</td>\n",
       "      <td>NaN</td>\n",
       "      <td>2004</td>\n",
       "      <td>1.0</td>\n",
       "      <td>1.0</td>\n",
       "      <td>47.59625</td>\n",
       "      <td>-122.32283</td>\n",
       "      <td>DOWNTOWN</td>\n",
       "      <td>9.502762e+05</td>\n",
       "      <td>3.965461e+05</td>\n",
       "      <td>5.537300e+05</td>\n",
       "      <td>0.00</td>\n",
       "      <td>59.392262</td>\n",
       "    </tr>\n",
       "    <tr>\n",
       "      <th>3373</th>\n",
       "      <td>7583.0</td>\n",
       "      <td>5574.0</td>\n",
       "      <td>Fitness Center/Health Club/Gym, Other - Recrea...</td>\n",
       "      <td>Other</td>\n",
       "      <td>Fitness Center/Health Club/Gym</td>\n",
       "      <td>1974</td>\n",
       "      <td>1.0</td>\n",
       "      <td>1.0</td>\n",
       "      <td>47.63644</td>\n",
       "      <td>-122.35784</td>\n",
       "      <td>MAGNOLIA / QUEEN ANNE</td>\n",
       "      <td>5.765898e+06</td>\n",
       "      <td>1.792159e+06</td>\n",
       "      <td>3.973739e+06</td>\n",
       "      <td>0.00</td>\n",
       "      <td>438.238048</td>\n",
       "    </tr>\n",
       "    <tr>\n",
       "      <th>3374</th>\n",
       "      <td>6601.0</td>\n",
       "      <td>6501.0</td>\n",
       "      <td>Fitness Center/Health Club/Gym, Food Service, ...</td>\n",
       "      <td>Mixed Use Property</td>\n",
       "      <td>Fitness Center/Health Club/Gym</td>\n",
       "      <td>1989</td>\n",
       "      <td>1.0</td>\n",
       "      <td>1.0</td>\n",
       "      <td>47.52832</td>\n",
       "      <td>-122.32431</td>\n",
       "      <td>GREATER DUWAMISH</td>\n",
       "      <td>7.194712e+05</td>\n",
       "      <td>3.488702e+05</td>\n",
       "      <td>3.706010e+05</td>\n",
       "      <td>0.00</td>\n",
       "      <td>52.956808</td>\n",
       "    </tr>\n",
       "    <tr>\n",
       "      <th>3375</th>\n",
       "      <td>8271.0</td>\n",
       "      <td>8000.0</td>\n",
       "      <td>Fitness Center/Health Club/Gym, Food Service, ...</td>\n",
       "      <td>Mixed Use Property</td>\n",
       "      <td>Fitness Center/Health Club/Gym</td>\n",
       "      <td>1938</td>\n",
       "      <td>1.0</td>\n",
       "      <td>1.0</td>\n",
       "      <td>47.53939</td>\n",
       "      <td>-122.29536</td>\n",
       "      <td>GREATER DUWAMISH</td>\n",
       "      <td>1.152896e+06</td>\n",
       "      <td>4.325542e+05</td>\n",
       "      <td>7.203420e+05</td>\n",
       "      <td>0.00</td>\n",
       "      <td>66.338469</td>\n",
       "    </tr>\n",
       "  </tbody>\n",
       "</table>\n",
       "<p>1630 rows × 16 columns</p>\n",
       "</div>"
      ],
      "text/plain": [
       "      LargestPropertyUseTypeGFA  SecondLargestPropertyUseTypeGFA  \\\n",
       "0                       88434.0                              0.0   \n",
       "1                       83880.0                          15064.0   \n",
       "2                      756493.0                              0.0   \n",
       "3                       61320.0                              0.0   \n",
       "4                      123445.0                          68009.0   \n",
       "...                         ...                              ...   \n",
       "3371                    12294.0                              0.0   \n",
       "3372                    16000.0                              0.0   \n",
       "3373                     7583.0                           5574.0   \n",
       "3374                     6601.0                           6501.0   \n",
       "3375                     8271.0                           8000.0   \n",
       "\n",
       "                              ListOfAllPropertyUseTypes        FirstUseType  \\\n",
       "0                                                 Hotel               Hotel   \n",
       "1                            Hotel, Parking, Restaurant               Hotel   \n",
       "2                                                 Hotel               Hotel   \n",
       "3                                                 Hotel               Hotel   \n",
       "4                         Hotel, Parking, Swimming Pool               Hotel   \n",
       "...                                                 ...                 ...   \n",
       "3371                                             Office              Office   \n",
       "3372                                 Other - Recreation               Other   \n",
       "3373  Fitness Center/Health Club/Gym, Other - Recrea...               Other   \n",
       "3374  Fitness Center/Health Club/Gym, Food Service, ...  Mixed Use Property   \n",
       "3375  Fitness Center/Health Club/Gym, Food Service, ...  Mixed Use Property   \n",
       "\n",
       "        SecondLargestPropertyUseType  YearBuilt  NumberofFloors  \\\n",
       "0                                NaN       1927            12.0   \n",
       "1                            Parking       1996            11.0   \n",
       "2                                NaN       1969            41.0   \n",
       "3                                NaN       1926            10.0   \n",
       "4                            Parking       1980            18.0   \n",
       "...                              ...        ...             ...   \n",
       "3371                             NaN       1990             1.0   \n",
       "3372                             NaN       2004             1.0   \n",
       "3373  Fitness Center/Health Club/Gym       1974             1.0   \n",
       "3374  Fitness Center/Health Club/Gym       1989             1.0   \n",
       "3375  Fitness Center/Health Club/Gym       1938             1.0   \n",
       "\n",
       "      NumberofBuildings  Latitude  Longitude           Neighborhood  \\\n",
       "0                   1.0  47.61220 -122.33799               DOWNTOWN   \n",
       "1                   1.0  47.61317 -122.33393               DOWNTOWN   \n",
       "2                   1.0  47.61393 -122.33810               DOWNTOWN   \n",
       "3                   1.0  47.61412 -122.33664               DOWNTOWN   \n",
       "4                   1.0  47.61375 -122.34047               DOWNTOWN   \n",
       "...                 ...       ...        ...                    ...   \n",
       "3371                1.0  47.56722 -122.31154       GREATER DUWAMISH   \n",
       "3372                1.0  47.59625 -122.32283               DOWNTOWN   \n",
       "3373                1.0  47.63644 -122.35784  MAGNOLIA / QUEEN ANNE   \n",
       "3374                1.0  47.52832 -122.32431       GREATER DUWAMISH   \n",
       "3375                1.0  47.53939 -122.29536       GREATER DUWAMISH   \n",
       "\n",
       "      SiteEnergyUse(kBtu)  Electricity(kBtu)  NaturalGas(kBtu)  \\\n",
       "0            7.226362e+06       3.946027e+06      1.276453e+06   \n",
       "1            8.387933e+06       3.242851e+06      5.145082e+06   \n",
       "2            7.258702e+07       4.952666e+07      1.493800e+06   \n",
       "3            6.794584e+06       2.768924e+06      1.811213e+06   \n",
       "4            1.417261e+07       5.368607e+06      8.803998e+06   \n",
       "...                   ...                ...               ...   \n",
       "3371         8.497457e+05       5.242709e+05      3.254750e+05   \n",
       "3372         9.502762e+05       3.965461e+05      5.537300e+05   \n",
       "3373         5.765898e+06       1.792159e+06      3.973739e+06   \n",
       "3374         7.194712e+05       3.488702e+05      3.706010e+05   \n",
       "3375         1.152896e+06       4.325542e+05      7.203420e+05   \n",
       "\n",
       "      SteamUse(kBtu)  CalcSEUI(kBtu/sf)  \n",
       "0         2003882.00          81.714753  \n",
       "1               0.00          80.991184  \n",
       "2        21566554.00          95.952010  \n",
       "3         2214446.25         110.805349  \n",
       "4               0.00          74.026168  \n",
       "...              ...                ...  \n",
       "3371            0.00          69.118732  \n",
       "3372            0.00          59.392262  \n",
       "3373            0.00         438.238048  \n",
       "3374            0.00          52.956808  \n",
       "3375            0.00          66.338469  \n",
       "\n",
       "[1630 rows x 16 columns]"
      ]
     },
     "execution_count": 382,
     "metadata": {},
     "output_type": "execute_result"
    }
   ],
   "source": [
    "select_columns = ['LargestPropertyUseTypeGFA', 'SecondLargestPropertyUseTypeGFA', 'ListOfAllPropertyUseTypes', 'FirstUseType', 'SecondLargestPropertyUseType', 'YearBuilt', 'NumberofFloors', 'NumberofBuildings'\n",
    "                  ,'Latitude', 'Longitude', 'Neighborhood', 'SiteEnergyUse(kBtu)', 'Electricity(kBtu)', 'NaturalGas(kBtu)', 'SteamUse(kBtu)','CalcSEUI(kBtu/sf)']\n",
    "bc_after_eda = bc_after_eda[select_columns]\n",
    "bc_after_eda"
   ]
  },
  {
   "cell_type": "markdown",
   "metadata": {},
   "source": [
    "## Feature Engineering"
   ]
  },
  {
   "cell_type": "markdown",
   "metadata": {},
   "source": [
    "A réaliser : Enrichir le jeu de données actuel avec de nouvelles features issues de celles existantes. "
   ]
  },
  {
   "cell_type": "markdown",
   "metadata": {},
   "source": [
    "### Préparation des features pour la modélisation"
   ]
  },
  {
   "cell_type": "markdown",
   "metadata": {},
   "source": [
    "A réaliser :\n",
    "* Si ce n'est pas déjà fait, supprimer toutes les colonnes peu pertinentes pour la modélisation.\n",
    "* Tracer la distribution de la cible pour vous familiariser avec l'ordre de grandeur. En cas d'outliers, mettez en place une démarche pour les supprimer.\n",
    "* Débarrassez-vous des features redondantes en utilisant une matrice de corrélation.\n",
    "* Réalisez différents graphiques pour comprendre le lien entre vos features et la target (boxplots, scatterplots, pairplot si votre nombre de features numériques n'est pas très élevé).\n",
    "*  Séparez votre jeu de données en un Pandas DataFrame X (ensemble de feautures) et Pandas Series y (votre target).\n",
    "* Si vous avez des features catégorielles, il faut les encoder pour que votre modèle fonctionne."
   ]
  },
  {
   "cell_type": "markdown",
   "metadata": {},
   "source": [
    "#### Modes énergétiques"
   ]
  },
  {
   "cell_type": "code",
   "execution_count": 383,
   "metadata": {},
   "outputs": [],
   "source": [
    "bc_after_eda['UseGas'] = (bc_after_eda['NaturalGas(kBtu)'].notna()) & (bc_after_eda['NaturalGas(kBtu)'] != 0)\n",
    "bc_after_eda['UseSteam'] = (bc_after_eda['SteamUse(kBtu)'].notna()) & (bc_after_eda['SteamUse(kBtu)'] != 0)\n",
    "bc_after_eda['UseElectricity'] = (bc_after_eda['Electricity(kBtu)'].notna()) & (bc_after_eda['Electricity(kBtu)'] != 0)\n"
   ]
  },
  {
   "cell_type": "markdown",
   "metadata": {},
   "source": [
    "#### distance du centre ville"
   ]
  },
  {
   "cell_type": "code",
   "execution_count": 384,
   "metadata": {},
   "outputs": [],
   "source": [
    "def haversine(lat1, lon1, lat2, lon2):\n",
    "    # Entrées: Series -> conversion séparée\n",
    "    lat1 = np.radians(lat1)\n",
    "    lon1 = np.radians(lon1)\n",
    "    lat2 = np.radians(lat2)\n",
    "    lon2 = np.radians(lon2)\n",
    "    R = 3958.8\n",
    "    dlat = lat2 - lat1\n",
    "    dlon = lon2 - lon1\n",
    "    a = np.sin(dlat / 2) ** 2 + np.cos(lat1) * np.cos(lat2) * np.sin(dlon / 2) ** 2\n",
    "    c = 2 * np.arcsin(np.sqrt(a))\n",
    "    return R * c\n"
   ]
  },
  {
   "cell_type": "code",
   "execution_count": 385,
   "metadata": {},
   "outputs": [
    {
     "data": {
      "application/vnd.microsoft.datawrangler.viewer.v0+json": {
       "columns": [
        {
         "name": "index",
         "rawType": "object",
         "type": "string"
        },
        {
         "name": "CityDistance",
         "rawType": "float64",
         "type": "float"
        }
       ],
       "ref": "cf1c4140-0bc6-4e7a-8585-0ce73bdf2f3f",
       "rows": [
        [
         "count",
         "1630.0"
        ],
        [
         "mean",
         "8.663564417177913"
        ],
        [
         "std",
         "1.4146645349015734"
        ],
        [
         "min",
         "4.96"
        ],
        [
         "25%",
         "7.8"
        ],
        [
         "50%",
         "8.36"
        ],
        [
         "75%",
         "9.43"
        ],
        [
         "max",
         "15.2"
        ]
       ],
       "shape": {
        "columns": 1,
        "rows": 8
       }
      },
      "text/plain": [
       "count    1630.000000\n",
       "mean        8.663564\n",
       "std         1.414665\n",
       "min         4.960000\n",
       "25%         7.800000\n",
       "50%         8.360000\n",
       "75%         9.430000\n",
       "max        15.200000\n",
       "Name: CityDistance, dtype: float64"
      ]
     },
     "execution_count": 385,
     "metadata": {},
     "output_type": "execute_result"
    }
   ],
   "source": [
    "seattle_lat, seattle_lon = 47.6085965, -122.5049456\n",
    "\n",
    "bc_after_eda['CityDistance'] = haversine(\n",
    "    bc_after_eda['Latitude'], bc_after_eda['Longitude'],\n",
    "    seattle_lat, seattle_lon\n",
    ").round(2)\n",
    "bc_after_eda['CityDistance'].describe()"
   ]
  },
  {
   "cell_type": "markdown",
   "metadata": {},
   "source": [
    "#### Utilisation multiple"
   ]
  },
  {
   "cell_type": "code",
   "execution_count": 386,
   "metadata": {},
   "outputs": [
    {
     "data": {
      "application/vnd.microsoft.datawrangler.viewer.v0+json": {
       "columns": [
        {
         "name": "MultipleUseType",
         "rawType": "int64",
         "type": "integer"
        },
        {
         "name": "count",
         "rawType": "int64",
         "type": "integer"
        }
       ],
       "ref": "41a03b12-a668-4758-bb68-90adb0fcbbf6",
       "rows": [
        [
         "1",
         "967"
        ],
        [
         "2",
         "530"
        ],
        [
         "3",
         "93"
        ],
        [
         "4",
         "32"
        ],
        [
         "6",
         "3"
        ],
        [
         "7",
         "2"
        ],
        [
         "5",
         "2"
        ],
        [
         "8",
         "1"
        ]
       ],
       "shape": {
        "columns": 1,
        "rows": 8
       }
      },
      "text/plain": [
       "MultipleUseType\n",
       "1    967\n",
       "2    530\n",
       "3     93\n",
       "4     32\n",
       "6      3\n",
       "7      2\n",
       "5      2\n",
       "8      1\n",
       "Name: count, dtype: int64"
      ]
     },
     "execution_count": 386,
     "metadata": {},
     "output_type": "execute_result"
    }
   ],
   "source": [
    "bc_after_eda['MultipleUseType'] = bc_after_eda['ListOfAllPropertyUseTypes'].str.count('s')+1\n",
    "bc_after_eda['MultipleUseType'].value_counts()"
   ]
  },
  {
   "cell_type": "code",
   "execution_count": 387,
   "metadata": {},
   "outputs": [
    {
     "data": {
      "text/plain": [
       "Index(['LargestPropertyUseTypeGFA', 'SecondLargestPropertyUseTypeGFA',\n",
       "       'ListOfAllPropertyUseTypes', 'FirstUseType',\n",
       "       'SecondLargestPropertyUseType', 'YearBuilt', 'NumberofFloors',\n",
       "       'NumberofBuildings', 'Latitude', 'Longitude', 'Neighborhood',\n",
       "       'SiteEnergyUse(kBtu)', 'Electricity(kBtu)', 'NaturalGas(kBtu)',\n",
       "       'SteamUse(kBtu)', 'CalcSEUI(kBtu/sf)', 'UseGas', 'UseSteam',\n",
       "       'UseElectricity', 'CityDistance', 'MultipleUseType'],\n",
       "      dtype='object')"
      ]
     },
     "execution_count": 387,
     "metadata": {},
     "output_type": "execute_result"
    }
   ],
   "source": [
    "bc_after_eda.columns"
   ]
  },
  {
   "cell_type": "code",
   "execution_count": 388,
   "metadata": {},
   "outputs": [
    {
     "name": "stdout",
     "output_type": "stream",
     "text": [
      "<class 'pandas.core.frame.DataFrame'>\n",
      "Index: 1630 entries, 0 to 3375\n",
      "Data columns (total 21 columns):\n",
      " #   Column                           Non-Null Count  Dtype  \n",
      "---  ------                           --------------  -----  \n",
      " 0   LargestPropertyUseTypeGFA        1630 non-null   float64\n",
      " 1   SecondLargestPropertyUseTypeGFA  1630 non-null   float64\n",
      " 2   ListOfAllPropertyUseTypes        1630 non-null   object \n",
      " 3   FirstUseType                     1630 non-null   object \n",
      " 4   SecondLargestPropertyUseType     847 non-null    object \n",
      " 5   YearBuilt                        1630 non-null   int64  \n",
      " 6   NumberofFloors                   1630 non-null   float64\n",
      " 7   NumberofBuildings                1630 non-null   float64\n",
      " 8   Latitude                         1630 non-null   float64\n",
      " 9   Longitude                        1630 non-null   float64\n",
      " 10  Neighborhood                     1630 non-null   object \n",
      " 11  SiteEnergyUse(kBtu)              1630 non-null   float64\n",
      " 12  Electricity(kBtu)                1630 non-null   float64\n",
      " 13  NaturalGas(kBtu)                 1630 non-null   float64\n",
      " 14  SteamUse(kBtu)                   1630 non-null   float64\n",
      " 15  CalcSEUI(kBtu/sf)                1630 non-null   float64\n",
      " 16  UseGas                           1630 non-null   bool   \n",
      " 17  UseSteam                         1630 non-null   bool   \n",
      " 18  UseElectricity                   1630 non-null   bool   \n",
      " 19  CityDistance                     1630 non-null   float64\n",
      " 20  MultipleUseType                  1630 non-null   int64  \n",
      "dtypes: bool(3), float64(12), int64(2), object(4)\n",
      "memory usage: 246.7+ KB\n"
     ]
    }
   ],
   "source": [
    "bc_after_eda.info()"
   ]
  },
  {
   "cell_type": "markdown",
   "metadata": {},
   "source": [
    "## Split train/test"
   ]
  },
  {
   "cell_type": "code",
   "execution_count": 389,
   "metadata": {},
   "outputs": [],
   "source": [
    "predict_values = ['LargestPropertyUseTypeGFA', 'SecondLargestPropertyUseTypeGFA', 'FirstUseType','SecondLargestPropertyUseType', 'MultipleUseType', 'UseSteam', 'UseElectricity', 'UseGas',\n",
    "       'NumberofFloors', 'NumberofBuildings', 'CityDistance', 'Neighborhood','YearBuilt']\n",
    "X = bc_after_eda[predict_values]\n",
    "target = 'CalcSEUI(kBtu/sf)'\n",
    "y = bc_after_eda[target]\n",
    "X_train, X_test, y_train, y_test = train_test_split(X, y, test_size=0.2, random_state=42)"
   ]
  },
  {
   "cell_type": "code",
   "execution_count": 390,
   "metadata": {},
   "outputs": [
    {
     "name": "stdout",
     "output_type": "stream",
     "text": [
      "Index X_train avant pipeline : True\n"
     ]
    }
   ],
   "source": [
    "print(\"Index X_train avant pipeline :\", X_train.index.equals(y_train.index))\n"
   ]
  },
  {
   "cell_type": "code",
   "execution_count": 391,
   "metadata": {},
   "outputs": [
    {
     "data": {
      "application/vnd.microsoft.datawrangler.viewer.v0+json": {
       "columns": [
        {
         "name": "index",
         "rawType": "int64",
         "type": "integer"
        },
        {
         "name": "CalcSEUI(kBtu/sf)",
         "rawType": "float64",
         "type": "float"
        }
       ],
       "ref": "48978653-d836-4632-80f0-fa69f822a086",
       "rows": [
        [
         "595",
         "2.115986180596224"
        ],
        [
         "2246",
         "2.3044594699527345"
        ],
        [
         "380",
         "3.3469212145830487"
        ],
        [
         "609",
         "3.5294962257958646"
        ],
        [
         "378",
         "3.5984614658444025"
        ],
        [
         "359",
         "4.2900408390284674"
        ],
        [
         "1263",
         "4.426273016134343"
        ],
        [
         "1049",
         "4.784178240240241"
        ],
        [
         "394",
         "5.034225177853387"
        ],
        [
         "1590",
         "5.074039078817424"
        ],
        [
         "3165",
         "5.257599410296656"
        ],
        [
         "1994",
         "6.296754250386399"
        ],
        [
         "1000",
         "6.486537984119661"
        ],
        [
         "316",
         "6.533391622379625"
        ],
        [
         "633",
         "6.80714567517865"
        ],
        [
         "2151",
         "7.080549322710992"
        ],
        [
         "3206",
         "7.116553371124815"
        ],
        [
         "1041",
         "7.165039665166093"
        ],
        [
         "314",
         "7.201483948264639"
        ],
        [
         "1950",
         "7.237353125"
        ],
        [
         "169",
         "7.283862421581761"
        ],
        [
         "1031",
         "7.602935779816514"
        ],
        [
         "2332",
         "7.899631120884979"
        ],
        [
         "74",
         "8.110586226851852"
        ],
        [
         "2145",
         "8.121246392471244"
        ],
        [
         "627",
         "8.158894397265637"
        ],
        [
         "146",
         "8.266417426788285"
        ],
        [
         "2411",
         "8.5020586981982"
        ],
        [
         "2182",
         "8.513200233333333"
        ],
        [
         "636",
         "8.536824135141861"
        ],
        [
         "608",
         "8.65673125"
        ],
        [
         "2105",
         "8.895451739040954"
        ],
        [
         "2636",
         "9.10038"
        ],
        [
         "2447",
         "9.11600991608013"
        ],
        [
         "62",
         "9.163204612005856"
        ],
        [
         "532",
         "9.17676371460601"
        ],
        [
         "244",
         "9.32331705103566"
        ],
        [
         "391",
         "9.3322458491921"
        ],
        [
         "2997",
         "9.392692934587814"
        ],
        [
         "2929",
         "9.454345999439829"
        ],
        [
         "2547",
         "9.597976618705037"
        ],
        [
         "3012",
         "9.630518745959922"
        ],
        [
         "431",
         "9.8140674803886"
        ],
        [
         "2086",
         "9.860056400236438"
        ],
        [
         "2100",
         "10.094566800776915"
        ],
        [
         "2918",
         "10.133411186523173"
        ],
        [
         "1691",
         "10.133623693379793"
        ],
        [
         "2038",
         "10.228545613636363"
        ],
        [
         "1132",
         "10.408682960815486"
        ],
        [
         "382",
         "10.593806234783528"
        ]
       ],
       "shape": {
        "columns": 1,
        "rows": 1630
       }
      },
      "text/plain": [
       "595       2.115986\n",
       "2246      2.304459\n",
       "380       3.346921\n",
       "609       3.529496\n",
       "378       3.598461\n",
       "           ...    \n",
       "601     465.516620\n",
       "3171    593.627028\n",
       "558     639.679483\n",
       "809     696.735220\n",
       "240     834.402500\n",
       "Name: CalcSEUI(kBtu/sf), Length: 1630, dtype: float64"
      ]
     },
     "execution_count": 391,
     "metadata": {},
     "output_type": "execute_result"
    }
   ],
   "source": [
    "y.sort_values()"
   ]
  },
  {
   "cell_type": "markdown",
   "metadata": {},
   "source": [
    "## Finalisation des features"
   ]
  },
  {
   "cell_type": "code",
   "execution_count": 392,
   "metadata": {},
   "outputs": [
    {
     "name": "stdout",
     "output_type": "stream",
     "text": [
      "✅ Pipeline terminé!\n",
      "Shape finale: Train (1304, 122), Test (326, 122)\n"
     ]
    }
   ],
   "source": [
    "# ========================\n",
    "# ÉTAPE 1: PREPROCESSING PERSONNALISÉ \n",
    "# ========================\n",
    "\n",
    "from ocde_p6.preprocessing.transformer import fix_floors_and_discretize\n",
    "\n",
    "# ========================\n",
    "# ÉTAPE 2: PIPELINE COMPLET\n",
    "# ========================\n",
    "\n",
    "# Colonnes après votre preprocessing\n",
    "categorical_features = ['FirstUseType', 'SecondLargestPropertyUseType', 'PropertySize',\n",
    "                       'Neighborhood','AgeCategory','EnergyEra','HeightCategory']  # Ajoutez vos autres catégories ici\n",
    "\n",
    "numerical_features = ['LargestPropertyUseTypeGFA', 'SecondLargestPropertyUseTypeGFA', \n",
    "                     'CityDistance', 'MultipleUseType', 'NumberofFloors','NumberofBuildings']\n",
    "\n",
    "# Pipeline complet\n",
    "full_pipeline = Pipeline([\n",
    "    # Étape 1: Preprocessing personnalisé\n",
    "    ('preprocessing', FunctionTransformer(fix_floors_and_discretize, validate=False)),\n",
    "    \n",
    "    # Étape 2: Encodage + Normalisation\n",
    "    ('encoder', ColumnTransformer([\n",
    "        ('cat', OneHotEncoder(drop='first', sparse_output=False, handle_unknown='ignore'), \n",
    "         categorical_features),\n",
    "        ('num', StandardScaler(), numerical_features)\n",
    "    ], remainder='passthrough'))\n",
    "])\n",
    "\n",
    "# ========================\n",
    "# ÉTAPE 3: APPLICATION \n",
    "# ========================\n",
    "\n",
    "# Fit sur train et transform train/test\n",
    "X_train_transformed = full_pipeline.fit_transform(X_train)\n",
    "X_test_transformed = full_pipeline.transform(X_test)\n",
    "\n",
    "# ========================\n",
    "# ÉTAPE 4: CRÉER VOS DataFrames _final\n",
    "# ========================\n",
    "\n",
    "# Récupérer les noms des colonnes\n",
    "onehot = full_pipeline.named_steps['encoder'].named_transformers_['cat']\n",
    "onehot_names = onehot.get_feature_names_out(categorical_features)\n",
    "num_names = [f\"scaled_{col}\" for col in numerical_features]\n",
    "\n",
    "# Colonnes restantes (passthrough)\n",
    "all_cols_after_preprocessing = fix_floors_and_discretize(X_train).columns\n",
    "remaining_cols = [col for col in all_cols_after_preprocessing \n",
    "                 if col not in categorical_features + numerical_features]\n",
    "\n",
    "# Noms finaux\n",
    "final_feature_names = list(onehot_names) + num_names + remaining_cols\n",
    "\n",
    "# Vos DataFrames finaux\n",
    "X_train_final = pd.DataFrame(X_train_transformed, columns=final_feature_names,index=X_train.index )\n",
    "X_test_final = pd.DataFrame(X_test_transformed, columns=final_feature_names,index=X_test.index)\n",
    "\n",
    "# Conversion en numérique\n",
    "for col in X_train_final.columns:\n",
    "    X_train_final[col] = pd.to_numeric(X_train_final[col], errors='coerce')\n",
    "    X_test_final[col] = pd.to_numeric(X_test_final[col], errors='coerce')\n",
    "\n",
    "X_train_final.drop(columns=['AgeProperty', 'YearBuilt', 'SumPropertyGFA'], inplace=True)\n",
    "X_test_final.drop(columns=['AgeProperty', 'YearBuilt', 'SumPropertyGFA'], inplace=True)\n",
    "\n",
    "print(f\"✅ Pipeline terminé!\")\n",
    "print(f\"Shape finale: Train {X_train_final.shape}, Test {X_test_final.shape}\")\n"
   ]
  },
  {
   "cell_type": "code",
   "execution_count": 393,
   "metadata": {},
   "outputs": [
    {
     "name": "stdout",
     "output_type": "stream",
     "text": [
      "['FirstUseType_Automobile Dealership', 'FirstUseType_Bank Branch', 'FirstUseType_Courthouse', 'FirstUseType_Data Center', 'FirstUseType_Distribution Center', 'FirstUseType_Financial Office', 'FirstUseType_Fire Station', 'FirstUseType_Fitness Center/Health Club/Gym', 'FirstUseType_Food Service', 'FirstUseType_Hospital', 'FirstUseType_Hotel', 'FirstUseType_K-12 School', 'FirstUseType_Laboratory', 'FirstUseType_Large Office', 'FirstUseType_Library', 'FirstUseType_Lifestyle Center', 'FirstUseType_Manufacturing/Industrial Plant', 'FirstUseType_Medical Office', 'FirstUseType_Mixed Use Property', 'FirstUseType_Movie Theater', 'FirstUseType_Museum', 'FirstUseType_Office', 'FirstUseType_Other', 'FirstUseType_Parking', 'FirstUseType_Performing Arts', 'FirstUseType_Personal Services (Health/Beauty, Dry Cleaning, etc)', 'FirstUseType_Police Station', 'FirstUseType_Pre-school/Daycare', 'FirstUseType_Prison/Incarceration', 'FirstUseType_Refrigerated Warehouse', 'FirstUseType_Repair Services (Vehicle, Shoe, Locksmith, etc)', 'FirstUseType_Residential Care Facility', 'FirstUseType_Restaurant', 'FirstUseType_Retail Store', 'FirstUseType_Self-Storage Facility', 'FirstUseType_Senior Care Community', 'FirstUseType_Small- and Mid-Sized Office', 'FirstUseType_Social/Meeting Hall', 'FirstUseType_Strip Mall', 'FirstUseType_Supermarket / Grocery Store', 'FirstUseType_University', 'FirstUseType_Warehouse', 'FirstUseType_Worship Facility', 'SecondLargestPropertyUseType_Automobile Dealership', 'SecondLargestPropertyUseType_Bank Branch', 'SecondLargestPropertyUseType_Bar/Nightclub', 'SecondLargestPropertyUseType_College/University', 'SecondLargestPropertyUseType_Convenience Store without Gas Station', 'SecondLargestPropertyUseType_Courthouse', 'SecondLargestPropertyUseType_Data Center', 'SecondLargestPropertyUseType_Distribution Center', 'SecondLargestPropertyUseType_Enclosed Mall', 'SecondLargestPropertyUseType_Fitness Center/Health Club/Gym', 'SecondLargestPropertyUseType_Food Sales', 'SecondLargestPropertyUseType_Food Service', 'SecondLargestPropertyUseType_Hospital (General Medical & Surgical)', 'SecondLargestPropertyUseType_Hotel', 'SecondLargestPropertyUseType_K-12 School', 'SecondLargestPropertyUseType_Laboratory', 'SecondLargestPropertyUseType_Manufacturing/Industrial Plant', 'SecondLargestPropertyUseType_Medical Office', 'SecondLargestPropertyUseType_Movie Theater', 'SecondLargestPropertyUseType_Multifamily Housing', 'SecondLargestPropertyUseType_Non-Refrigerated Warehouse', 'SecondLargestPropertyUseType_Office', 'SecondLargestPropertyUseType_Other', 'SecondLargestPropertyUseType_Other - Education', 'SecondLargestPropertyUseType_Other - Entertainment/Public Assembly', 'SecondLargestPropertyUseType_Other - Lodging/Residential', 'SecondLargestPropertyUseType_Other - Public Services', 'SecondLargestPropertyUseType_Other - Recreation', 'SecondLargestPropertyUseType_Other - Restaurant/Bar', 'SecondLargestPropertyUseType_Other - Services', 'SecondLargestPropertyUseType_Parking', 'SecondLargestPropertyUseType_Performing Arts', 'SecondLargestPropertyUseType_Pre-school/Daycare', 'SecondLargestPropertyUseType_Refrigerated Warehouse', 'SecondLargestPropertyUseType_Repair Services (Vehicle, Shoe, Locksmith, etc)', 'SecondLargestPropertyUseType_Residence Hall/Dormitory', 'SecondLargestPropertyUseType_Restaurant', 'SecondLargestPropertyUseType_Retail Store', 'SecondLargestPropertyUseType_Self-Storage Facility', 'SecondLargestPropertyUseType_Senior Care Community', 'SecondLargestPropertyUseType_Social/Meeting Hall', 'SecondLargestPropertyUseType_Supermarket/Grocery Store', 'SecondLargestPropertyUseType_Swimming Pool', 'SecondLargestPropertyUseType_Vocational School', 'SecondLargestPropertyUseType_Worship Facility', 'SecondLargestPropertyUseType_nan', 'PropertySize_Mid', 'PropertySize_Small', 'PropertySize_XLarge', 'Neighborhood_CENTRAL', 'Neighborhood_DELRIDGE', 'Neighborhood_DELRIDGE NEIGHBORHOODS', 'Neighborhood_DOWNTOWN', 'Neighborhood_EAST', 'Neighborhood_GREATER DUWAMISH', 'Neighborhood_LAKE UNION', 'Neighborhood_MAGNOLIA / QUEEN ANNE', 'Neighborhood_NORTH', 'Neighborhood_NORTHEAST', 'Neighborhood_NORTHWEST', 'Neighborhood_SOUTHEAST', 'Neighborhood_SOUTHWEST', 'AgeCategory_Historique', 'AgeCategory_Neuf', 'AgeCategory_Récent', 'EnergyEra_Modern', 'EnergyEra_Pre-Crisis', 'HeightCategory_Low', 'HeightCategory_Mid', 'HeightCategory_nan', 'scaled_LargestPropertyUseTypeGFA', 'scaled_SecondLargestPropertyUseTypeGFA', 'scaled_CityDistance', 'scaled_MultipleUseType', 'scaled_NumberofFloors', 'scaled_NumberofBuildings', 'UseSteam', 'UseElectricity', 'UseGas']\n"
     ]
    }
   ],
   "source": [
    "print(list(X_train_final.columns))"
   ]
  },
  {
   "cell_type": "code",
   "execution_count": 394,
   "metadata": {},
   "outputs": [],
   "source": [
    "#scaled = ['scaled_LargestPropertyUseTypeGFA', 'scaled_SecondLargestPropertyUseTypeGFA', 'scaled_CityDistance', 'scaled_MultipleUseType', 'scaled_NumberofFloors', 'scaled_NumberofBuildings']\n",
    "#X_train_final[scaled].corr()"
   ]
  },
  {
   "cell_type": "code",
   "execution_count": 395,
   "metadata": {},
   "outputs": [
    {
     "name": "stdout",
     "output_type": "stream",
     "text": [
      "Index X_train_final après pipeline : True\n"
     ]
    }
   ],
   "source": [
    "print(\"Index X_train_final après pipeline :\", X_train_final.index.equals(y_train.index))"
   ]
  },
  {
   "cell_type": "code",
   "execution_count": 396,
   "metadata": {},
   "outputs": [
    {
     "name": "stdout",
     "output_type": "stream",
     "text": [
      "<class 'pandas.core.frame.DataFrame'>\n",
      "Index: 1304 entries, 1161 to 1972\n",
      "Columns: 122 entries, FirstUseType_Automobile Dealership to UseGas\n",
      "dtypes: bool(3), float64(119)\n",
      "memory usage: 1.2 MB\n"
     ]
    }
   ],
   "source": [
    "X_train_final.info()"
   ]
  },
  {
   "cell_type": "code",
   "execution_count": 397,
   "metadata": {},
   "outputs": [
    {
     "name": "stdout",
     "output_type": "stream",
     "text": [
      "=== COMPARAISON MODÈLES AVEC PIPELINE COMPLET ===\n"
     ]
    },
    {
     "name": "stderr",
     "output_type": "stream",
     "text": [
      "/usr/lib/python3.13/multiprocessing/queues.py:120: UserWarning: pkg_resources is deprecated as an API. See https://setuptools.pypa.io/en/latest/pkg_resources.html. The pkg_resources package is slated for removal as early as 2025-11-30. Refrain from using this package or pin to Setuptools<81.\n",
      "  return _ForkingPickler.loads(res)\n",
      "/usr/lib/python3.13/multiprocessing/queues.py:120: UserWarning: pkg_resources is deprecated as an API. See https://setuptools.pypa.io/en/latest/pkg_resources.html. The pkg_resources package is slated for removal as early as 2025-11-30. Refrain from using this package or pin to Setuptools<81.\n",
      "  return _ForkingPickler.loads(res)\n",
      "/usr/lib/python3.13/multiprocessing/queues.py:120: UserWarning: pkg_resources is deprecated as an API. See https://setuptools.pypa.io/en/latest/pkg_resources.html. The pkg_resources package is slated for removal as early as 2025-11-30. Refrain from using this package or pin to Setuptools<81.\n",
      "  return _ForkingPickler.loads(res)\n",
      "/usr/lib/python3.13/multiprocessing/queues.py:120: UserWarning: pkg_resources is deprecated as an API. See https://setuptools.pypa.io/en/latest/pkg_resources.html. The pkg_resources package is slated for removal as early as 2025-11-30. Refrain from using this package or pin to Setuptools<81.\n",
      "  return _ForkingPickler.loads(res)\n",
      "/usr/lib/python3.13/multiprocessing/queues.py:120: UserWarning: pkg_resources is deprecated as an API. See https://setuptools.pypa.io/en/latest/pkg_resources.html. The pkg_resources package is slated for removal as early as 2025-11-30. Refrain from using this package or pin to Setuptools<81.\n",
      "  return _ForkingPickler.loads(res)\n"
     ]
    },
    {
     "name": "stdout",
     "output_type": "stream",
     "text": [
      "DummyRegressor → R²: -0.013, RMSE: 70.03, MAE: 43.43, MAPE: 1.154\n"
     ]
    },
    {
     "name": "stderr",
     "output_type": "stream",
     "text": [
      "/usr/lib/python3.13/multiprocessing/queues.py:120: UserWarning: pkg_resources is deprecated as an API. See https://setuptools.pypa.io/en/latest/pkg_resources.html. The pkg_resources package is slated for removal as early as 2025-11-30. Refrain from using this package or pin to Setuptools<81.\n",
      "  return _ForkingPickler.loads(res)\n"
     ]
    },
    {
     "name": "stdout",
     "output_type": "stream",
     "text": [
      "LinearRegression → R²: 0.394, RMSE: 53.80, MAE: 33.46, MAPE: 0.733\n",
      "SVR → R²: -0.098, RMSE: 73.06, MAE: 38.90, MAPE: 0.732\n",
      "GradientBoosting → R²: 0.392, RMSE: 54.07, MAE: 32.36, MAPE: 0.767\n",
      "RandomForest → R²: 0.325, RMSE: 55.90, MAE: 32.56, MAPE: 0.727\n"
     ]
    }
   ],
   "source": [
    "# CODE COMPARAISON DES MODELES\n",
    "import warnings\n",
    "warnings.filterwarnings(\"ignore\", category=UserWarning)\n",
    "models = {\n",
    "    'DummyRegressor': DummyRegressor(strategy='mean'),\n",
    "    'LinearRegression': LinearRegression(),\n",
    "    'SVR': SVR(),\n",
    "    'GradientBoosting': GradientBoostingRegressor(random_state=42),\n",
    "    'RandomForest': RandomForestRegressor(random_state=42, n_jobs=-1)\n",
    "}\n",
    "\n",
    "scoring = ['neg_root_mean_squared_error','r2','neg_mean_absolute_error','neg_mean_absolute_percentage_error']\n",
    "cv_results = {}\n",
    "\n",
    "print(\"=== COMPARAISON MODÈLES AVEC PIPELINE COMPLET ===\")\n",
    "for name, model in models.items():\n",
    "    # Pipeline complet + modèle final\n",
    "    full_estimator = Pipeline([\n",
    "        ('preprocess', full_pipeline.named_steps['preprocessing']),\n",
    "        ('encode_scale', full_pipeline.named_steps['encoder']),\n",
    "        ('model', model)\n",
    "    ])\n",
    "    scores = cross_validate(full_estimator, X_train, y_train, \n",
    "                            cv=5, scoring=scoring, n_jobs=-1)\n",
    "    cv_results[name] = {\n",
    "        'RMSE': -scores[f\"test_{scoring[0]}\"].mean(),\n",
    "        'R2': scores[f\"test_{scoring[1]}\"].mean(),\n",
    "        'MAE': -scores[f\"test_{scoring[2]}\"].mean(),\n",
    "        'MAPE': -scores[f\"test_{scoring[3]}\"].mean()\n",
    "    }\n",
    "    print(f\"{name} → R²: {cv_results[name]['R2']:.3f}, RMSE: {cv_results[name]['RMSE']:.2f}, MAE: {cv_results[name]['MAE']:.2f}, MAPE: {cv_results[name]['MAPE']:.3f}\")\n",
    "    \n",
    "    "
   ]
  },
  {
   "cell_type": "code",
   "execution_count": 398,
   "metadata": {},
   "outputs": [
    {
     "name": "stdout",
     "output_type": "stream",
     "text": [
      "\n",
      "🏆 Meilleur modèle selon MAPE: RandomForest\n"
     ]
    }
   ],
   "source": [
    "choice= \"MAPE\"\n",
    "if choice == \"R2\":\n",
    "    best_model_name = max(cv_results.keys(), key=lambda x: cv_results[x][choice])\n",
    "else:\n",
    "    best_model_name = min(cv_results.keys(), key=lambda x: cv_results[x][choice])\n",
    "print(f\"\\n🏆 Meilleur modèle selon {choice}: {best_model_name}\")"
   ]
  },
  {
   "cell_type": "markdown",
   "metadata": {},
   "source": [
    "### Optimisation et interprétation du modèle"
   ]
  },
  {
   "cell_type": "markdown",
   "metadata": {},
   "source": [
    "A réaliser :\n",
    "* Reprennez le meilleur algorithme que vous avez sécurisé via l'étape précédente, et réalisez une GridSearch de petite taille sur au moins 3 hyperparamètres.\n",
    "* Si le meilleur modèle fait partie de la famille des modèles à arbres (RandomForest, GradientBoosting) alors utilisez la fonctionnalité feature importance pour identifier les features les plus impactantes sur la performance du modèle. Sinon, utilisez la méthode Permutation Importance de sklearn. "
   ]
  },
  {
   "cell_type": "code",
   "execution_count": 372,
   "metadata": {},
   "outputs": [
    {
     "name": "stdout",
     "output_type": "stream",
     "text": [
      "=== OPTIMISATION de SVR ===\n",
      "Fitting 5 folds for each of 18 candidates, totalling 90 fits\n",
      "Meilleurs paramètres : {'C': 10, 'gamma': 'scale', 'kernel': 'linear'}\n",
      "Meilleur score CV (RMSE) : 63.968423565774174\n",
      "\n",
      "=== PERFORMANCE FINALE sur TEST ===\n",
      "RMSE: 51\n",
      "R²: 0.3508\n",
      "MAE: 30\n",
      "MAPE: 0.4840\n"
     ]
    }
   ],
   "source": [
    "# Supposons best_model_name défini précédemment\n",
    "#best_model_name = \"RandomForest\"\n",
    "print(f\"=== OPTIMISATION de {best_model_name} ===\")\n",
    "\n",
    "if best_model_name == 'RandomForest':\n",
    "    estimator = RandomForestRegressor(random_state=42, n_jobs=-1)\n",
    "    param_grid = {\n",
    "        'n_estimators': [100, 200, 300],\n",
    "        'max_depth': [10, 20, None],\n",
    "        'min_samples_split': [2, 5, 10],\n",
    "        'min_samples_leaf': [1, 2, 4]\n",
    "    }\n",
    "\n",
    "elif best_model_name == 'GradientBoosting':\n",
    "    estimator = GradientBoostingRegressor(random_state=42)\n",
    "    param_grid = {\n",
    "        'n_estimators': [100, 200],\n",
    "        'learning_rate': [0.1, 0.05, 0.01],\n",
    "        'max_depth': [3, 5, 7],\n",
    "        'subsample': [0.8, 1.0]\n",
    "    }\n",
    "\n",
    "elif best_model_name == 'LinearRegression':\n",
    "    estimator = LinearRegression()\n",
    "    param_grid = {\n",
    "        'fit_intercept': [True, False],\n",
    "        'positive': [False, True]\n",
    "    }\n",
    "\n",
    "elif best_model_name == 'SVR':\n",
    "    estimator = SVR()\n",
    "    param_grid = {\n",
    "        'kernel': ['rbf', 'linear', 'poly'],\n",
    "        'C': [0.1, 1, 10],\n",
    "        'gamma': ['scale', 'auto']\n",
    "    }\n",
    "\n",
    "else:\n",
    "    raise ValueError(f\"Modèle non supporté : {best_model_name}\")\n",
    "\n",
    "# Lancer GridSearchCV\n",
    "gs = GridSearchCV(\n",
    "    estimator=estimator,\n",
    "    param_grid=param_grid,\n",
    "    scoring='neg_root_mean_squared_error',\n",
    "    cv=5,\n",
    "    n_jobs=-1,\n",
    "    verbose=1\n",
    ")\n",
    "\n",
    "gs.fit(X_train_final, y_train)\n",
    "\n",
    "print(\"Meilleurs paramètres :\", gs.best_params_)\n",
    "print(\"Meilleur score CV (RMSE) :\", -gs.best_score_)\n",
    "\n",
    "# Évaluation finale\n",
    "final_model = gs.best_estimator_\n",
    "y_pred = final_model.predict(X_test_final)\n",
    "\n",
    "print(\"\\n=== PERFORMANCE FINALE sur TEST ===\")\n",
    "print(f\"RMSE: {root_mean_squared_error(y_test, y_pred):.0f}\")\n",
    "print(f\"R²: {r2_score(y_test, y_pred):.4f}\")\n",
    "print(f\"MAE: {mean_absolute_error(y_test, y_pred):.0f}\")\n",
    "print(f\"MAPE: {mean_absolute_percentage_error(y_test, y_pred):.4f}\")\n"
   ]
  },
  {
   "cell_type": "markdown",
   "metadata": {},
   "source": [
    "=== OPTIMISATION de SVR ===\n",
    "Fitting 5 folds for each of 18 candidates, totalling 90 fits\n",
    "Meilleurs paramètres : {'C': 10, 'gamma': 'scale', 'kernel': 'linear'}\n",
    "Meilleur score CV (RMSE) : 63.970048252105485\n",
    "\n",
    "=== PERFORMANCE FINALE sur TEST ===\n",
    "RMSE: 51\n",
    "R²: 0.3508\n",
    "MAE: 30\n",
    "MAPE: 0.4840"
   ]
  },
  {
   "cell_type": "code",
   "execution_count": 239,
   "metadata": {},
   "outputs": [],
   "source": [
    "if best_model_name in ['GradientBoosting','RandomForest']:\n",
    "    best_model = gs.best_estimator_\n",
    "\n",
    "    importances = best_model.feature_importances_\n",
    "    feature_names = X_train_final.columns\n",
    "\n",
    "    # Affichage du top 15 features les plus importantes\n",
    "    sorted_idx = importances.argsort()[::-1]\n",
    "    print(\"Top 30 features by importance:\")\n",
    "    for idx in sorted_idx[:30]:\n",
    "        print(f\"- {feature_names[idx]}: {importances[idx]:.4f}\")"
   ]
  },
  {
   "cell_type": "markdown",
   "metadata": {},
   "source": [
    "# Sauvegarde BentoML"
   ]
  },
  {
   "cell_type": "code",
   "execution_count": 238,
   "metadata": {},
   "outputs": [
    {
     "data": {
      "text/plain": [
       "Model(tag=\"building_energy_rf_pipeline:m43ov5fj4gmxqlhq\", path=\"/tmp/bentoml-model-building_energy_rf_pipeline-c_g3knuc\")"
      ]
     },
     "execution_count": 238,
     "metadata": {},
     "output_type": "execute_result"
    }
   ],
   "source": [
    "import bentoml\n",
    "bentoml.sklearn.save_model(\n",
    "    name=\"building_energy_rf_pipeline\",\n",
    "    model=full_pipeline,\n",
    "    signatures={\"predict\": {\"batchable\": True}},\n",
    "    metadata={\n",
    "        \"author\": \"day811\",\n",
    "        \"feature_names\": list(feature_names)\n",
    "    },\n",
    "    \n",
    ")"
   ]
  }
 ],
 "metadata": {
  "kernelspec": {
   "display_name": "ocde-p6-qTWNOnCB-py3.13",
   "language": "python",
   "name": "python3"
  },
  "language_info": {
   "codemirror_mode": {
    "name": "ipython",
    "version": 3
   },
   "file_extension": ".py",
   "mimetype": "text/x-python",
   "name": "python",
   "nbconvert_exporter": "python",
   "pygments_lexer": "ipython3",
   "version": "3.13.5"
  }
 },
 "nbformat": 4,
 "nbformat_minor": 2
}
