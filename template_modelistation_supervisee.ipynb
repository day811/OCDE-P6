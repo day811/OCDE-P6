{
 "cells": [
  {
   "cell_type": "markdown",
   "metadata": {},
   "source": [
    "# Analyse Exploratoire"
   ]
  },
  {
   "cell_type": "markdown",
   "metadata": {},
   "source": [
    "A réaliser : \n",
    "- Une analyse descriptive des données, y compris une explication du sens des colonnes gardées, des arguments derrière la suppression de lignes ou de colonnes, des statistiques descriptives et des visualisations pertinentes."
   ]
  },
  {
   "cell_type": "markdown",
   "metadata": {},
   "source": [
    "### Import des modules"
   ]
  },
  {
   "cell_type": "code",
   "execution_count": 4,
   "metadata": {},
   "outputs": [],
   "source": [
    "import pandas as pd\n",
    "import matplotlib.pyplot as plt\n",
    "import seaborn as sns "
   ]
  },
  {
   "cell_type": "code",
   "execution_count": 5,
   "metadata": {},
   "outputs": [
    {
     "name": "stdout",
     "output_type": "stream",
     "text": [
      "Dataset initial : 3376 bâtiments, 46 colonnes\n"
     ]
    }
   ],
   "source": [
    "bc_df = pd.read_csv(\"data/2016_Building_Energy_Benchmarking.csv\")\n",
    "print(f\"Dataset initial : {len(bc_df)} bâtiments, {bc_df.shape[1]} colonnes\")"
   ]
  },
  {
   "cell_type": "code",
   "execution_count": 6,
   "metadata": {},
   "outputs": [
    {
     "data": {
      "application/vnd.microsoft.datawrangler.viewer.v0+json": {
       "columns": [
        {
         "name": "index",
         "rawType": "int64",
         "type": "integer"
        },
        {
         "name": "OSEBuildingID",
         "rawType": "int64",
         "type": "integer"
        },
        {
         "name": "DataYear",
         "rawType": "int64",
         "type": "integer"
        },
        {
         "name": "BuildingType",
         "rawType": "object",
         "type": "string"
        },
        {
         "name": "PrimaryPropertyType",
         "rawType": "object",
         "type": "string"
        },
        {
         "name": "PropertyName",
         "rawType": "object",
         "type": "string"
        },
        {
         "name": "Address",
         "rawType": "object",
         "type": "string"
        },
        {
         "name": "City",
         "rawType": "object",
         "type": "string"
        },
        {
         "name": "State",
         "rawType": "object",
         "type": "string"
        },
        {
         "name": "ZipCode",
         "rawType": "float64",
         "type": "float"
        },
        {
         "name": "TaxParcelIdentificationNumber",
         "rawType": "object",
         "type": "string"
        },
        {
         "name": "CouncilDistrictCode",
         "rawType": "int64",
         "type": "integer"
        },
        {
         "name": "Neighborhood",
         "rawType": "object",
         "type": "string"
        },
        {
         "name": "Latitude",
         "rawType": "float64",
         "type": "float"
        },
        {
         "name": "Longitude",
         "rawType": "float64",
         "type": "float"
        },
        {
         "name": "YearBuilt",
         "rawType": "int64",
         "type": "integer"
        },
        {
         "name": "NumberofBuildings",
         "rawType": "float64",
         "type": "float"
        },
        {
         "name": "NumberofFloors",
         "rawType": "int64",
         "type": "integer"
        },
        {
         "name": "PropertyGFATotal",
         "rawType": "int64",
         "type": "integer"
        },
        {
         "name": "PropertyGFAParking",
         "rawType": "int64",
         "type": "integer"
        },
        {
         "name": "PropertyGFABuilding(s)",
         "rawType": "int64",
         "type": "integer"
        },
        {
         "name": "ListOfAllPropertyUseTypes",
         "rawType": "object",
         "type": "string"
        },
        {
         "name": "LargestPropertyUseType",
         "rawType": "object",
         "type": "string"
        },
        {
         "name": "LargestPropertyUseTypeGFA",
         "rawType": "float64",
         "type": "float"
        },
        {
         "name": "SecondLargestPropertyUseType",
         "rawType": "object",
         "type": "unknown"
        },
        {
         "name": "SecondLargestPropertyUseTypeGFA",
         "rawType": "float64",
         "type": "float"
        },
        {
         "name": "ThirdLargestPropertyUseType",
         "rawType": "object",
         "type": "unknown"
        },
        {
         "name": "ThirdLargestPropertyUseTypeGFA",
         "rawType": "float64",
         "type": "float"
        },
        {
         "name": "YearsENERGYSTARCertified",
         "rawType": "object",
         "type": "unknown"
        },
        {
         "name": "ENERGYSTARScore",
         "rawType": "float64",
         "type": "float"
        },
        {
         "name": "SiteEUI(kBtu/sf)",
         "rawType": "float64",
         "type": "float"
        },
        {
         "name": "SiteEUIWN(kBtu/sf)",
         "rawType": "float64",
         "type": "float"
        },
        {
         "name": "SourceEUI(kBtu/sf)",
         "rawType": "float64",
         "type": "float"
        },
        {
         "name": "SourceEUIWN(kBtu/sf)",
         "rawType": "float64",
         "type": "float"
        },
        {
         "name": "SiteEnergyUse(kBtu)",
         "rawType": "float64",
         "type": "float"
        },
        {
         "name": "SiteEnergyUseWN(kBtu)",
         "rawType": "float64",
         "type": "float"
        },
        {
         "name": "SteamUse(kBtu)",
         "rawType": "float64",
         "type": "float"
        },
        {
         "name": "Electricity(kWh)",
         "rawType": "float64",
         "type": "float"
        },
        {
         "name": "Electricity(kBtu)",
         "rawType": "float64",
         "type": "float"
        },
        {
         "name": "NaturalGas(therms)",
         "rawType": "float64",
         "type": "float"
        },
        {
         "name": "NaturalGas(kBtu)",
         "rawType": "float64",
         "type": "float"
        },
        {
         "name": "DefaultData",
         "rawType": "bool",
         "type": "boolean"
        },
        {
         "name": "Comments",
         "rawType": "float64",
         "type": "float"
        },
        {
         "name": "ComplianceStatus",
         "rawType": "object",
         "type": "string"
        },
        {
         "name": "Outlier",
         "rawType": "object",
         "type": "unknown"
        },
        {
         "name": "TotalGHGEmissions",
         "rawType": "float64",
         "type": "float"
        },
        {
         "name": "GHGEmissionsIntensity",
         "rawType": "float64",
         "type": "float"
        }
       ],
       "ref": "b8aef34d-0c20-4ee2-b24c-ad6b9498b0d3",
       "rows": [
        [
         "0",
         "1",
         "2016",
         "NonResidential",
         "Hotel",
         "Mayflower park hotel",
         "405 Olive way",
         "Seattle",
         "WA",
         "98101.0",
         "0659000030",
         "7",
         "DOWNTOWN",
         "47.6122",
         "-122.33799",
         "1927",
         "1.0",
         "12",
         "88434",
         "0",
         "88434",
         "Hotel",
         "Hotel",
         "88434.0",
         null,
         null,
         null,
         null,
         null,
         "60.0",
         "81.69999695",
         "84.30000305",
         "182.5",
         "189.0",
         "7226362.5",
         "7456910.0",
         "2003882.0",
         "1156514.25",
         "3946027.0",
         "12764.5293",
         "1276453.0",
         "False",
         null,
         "Compliant",
         null,
         "249.98",
         "2.83"
        ],
        [
         "1",
         "2",
         "2016",
         "NonResidential",
         "Hotel",
         "Paramount Hotel",
         "724 Pine street",
         "Seattle",
         "WA",
         "98101.0",
         "0659000220",
         "7",
         "DOWNTOWN",
         "47.61317",
         "-122.33393",
         "1996",
         "1.0",
         "11",
         "103566",
         "15064",
         "88502",
         "Hotel, Parking, Restaurant",
         "Hotel",
         "83880.0",
         "Parking",
         "15064.0",
         "Restaurant",
         "4622.0",
         null,
         "61.0",
         "94.80000305",
         "97.90000153",
         "176.1000061",
         "179.3999939",
         "8387933.0",
         "8664479.0",
         "0.0",
         "950425.1875",
         "3242851.0",
         "51450.81641",
         "5145082.0",
         "False",
         null,
         "Compliant",
         null,
         "295.86",
         "2.86"
        ],
        [
         "2",
         "3",
         "2016",
         "NonResidential",
         "Hotel",
         "5673-The Westin Seattle",
         "1900 5th Avenue",
         "Seattle",
         "WA",
         "98101.0",
         "0659000475",
         "7",
         "DOWNTOWN",
         "47.61393",
         "-122.3381",
         "1969",
         "1.0",
         "41",
         "956110",
         "196718",
         "759392",
         "Hotel",
         "Hotel",
         "756493.0",
         null,
         null,
         null,
         null,
         null,
         "43.0",
         "96.0",
         "97.69999695",
         "241.8999939",
         "244.1000061",
         "72587024.0",
         "73937112.0",
         "21566554.0",
         "14515435.0",
         "49526664.0",
         "14938.0",
         "1493800.0",
         "False",
         null,
         "Compliant",
         null,
         "2089.28",
         "2.19"
        ],
        [
         "3",
         "5",
         "2016",
         "NonResidential",
         "Hotel",
         "HOTEL MAX",
         "620 STEWART ST",
         "Seattle",
         "WA",
         "98101.0",
         "0659000640",
         "7",
         "DOWNTOWN",
         "47.61412",
         "-122.33664",
         "1926",
         "1.0",
         "10",
         "61320",
         "0",
         "61320",
         "Hotel",
         "Hotel",
         "61320.0",
         null,
         null,
         null,
         null,
         null,
         "56.0",
         "110.8000031",
         "113.3000031",
         "216.1999969",
         "224.0",
         "6794584.0",
         "6946800.5",
         "2214446.25",
         "811525.3125",
         "2768924.0",
         "18112.13086",
         "1811213.0",
         "False",
         null,
         "Compliant",
         null,
         "286.43",
         "4.67"
        ],
        [
         "4",
         "8",
         "2016",
         "NonResidential",
         "Hotel",
         "WARWICK SEATTLE HOTEL (ID8)",
         "401 LENORA ST",
         "Seattle",
         "WA",
         "98121.0",
         "0659000970",
         "7",
         "DOWNTOWN",
         "47.61375",
         "-122.34047",
         "1980",
         "1.0",
         "18",
         "175580",
         "62000",
         "113580",
         "Hotel, Parking, Swimming Pool",
         "Hotel",
         "123445.0",
         "Parking",
         "68009.0",
         "Swimming Pool",
         "0.0",
         null,
         "75.0",
         "114.8000031",
         "118.6999969",
         "211.3999939",
         "215.6000061",
         "14172606.0",
         "14656503.0",
         "0.0",
         "1573448.625",
         "5368607.0",
         "88039.98438",
         "8803998.0",
         "False",
         null,
         "Compliant",
         null,
         "505.01",
         "2.88"
        ]
       ],
       "shape": {
        "columns": 46,
        "rows": 5
       }
      },
      "text/html": [
       "<div>\n",
       "<style scoped>\n",
       "    .dataframe tbody tr th:only-of-type {\n",
       "        vertical-align: middle;\n",
       "    }\n",
       "\n",
       "    .dataframe tbody tr th {\n",
       "        vertical-align: top;\n",
       "    }\n",
       "\n",
       "    .dataframe thead th {\n",
       "        text-align: right;\n",
       "    }\n",
       "</style>\n",
       "<table border=\"1\" class=\"dataframe\">\n",
       "  <thead>\n",
       "    <tr style=\"text-align: right;\">\n",
       "      <th></th>\n",
       "      <th>OSEBuildingID</th>\n",
       "      <th>DataYear</th>\n",
       "      <th>BuildingType</th>\n",
       "      <th>PrimaryPropertyType</th>\n",
       "      <th>PropertyName</th>\n",
       "      <th>Address</th>\n",
       "      <th>City</th>\n",
       "      <th>State</th>\n",
       "      <th>ZipCode</th>\n",
       "      <th>TaxParcelIdentificationNumber</th>\n",
       "      <th>...</th>\n",
       "      <th>Electricity(kWh)</th>\n",
       "      <th>Electricity(kBtu)</th>\n",
       "      <th>NaturalGas(therms)</th>\n",
       "      <th>NaturalGas(kBtu)</th>\n",
       "      <th>DefaultData</th>\n",
       "      <th>Comments</th>\n",
       "      <th>ComplianceStatus</th>\n",
       "      <th>Outlier</th>\n",
       "      <th>TotalGHGEmissions</th>\n",
       "      <th>GHGEmissionsIntensity</th>\n",
       "    </tr>\n",
       "  </thead>\n",
       "  <tbody>\n",
       "    <tr>\n",
       "      <th>0</th>\n",
       "      <td>1</td>\n",
       "      <td>2016</td>\n",
       "      <td>NonResidential</td>\n",
       "      <td>Hotel</td>\n",
       "      <td>Mayflower park hotel</td>\n",
       "      <td>405 Olive way</td>\n",
       "      <td>Seattle</td>\n",
       "      <td>WA</td>\n",
       "      <td>98101.0</td>\n",
       "      <td>0659000030</td>\n",
       "      <td>...</td>\n",
       "      <td>1.156514e+06</td>\n",
       "      <td>3946027.0</td>\n",
       "      <td>12764.52930</td>\n",
       "      <td>1276453.0</td>\n",
       "      <td>False</td>\n",
       "      <td>NaN</td>\n",
       "      <td>Compliant</td>\n",
       "      <td>NaN</td>\n",
       "      <td>249.98</td>\n",
       "      <td>2.83</td>\n",
       "    </tr>\n",
       "    <tr>\n",
       "      <th>1</th>\n",
       "      <td>2</td>\n",
       "      <td>2016</td>\n",
       "      <td>NonResidential</td>\n",
       "      <td>Hotel</td>\n",
       "      <td>Paramount Hotel</td>\n",
       "      <td>724 Pine street</td>\n",
       "      <td>Seattle</td>\n",
       "      <td>WA</td>\n",
       "      <td>98101.0</td>\n",
       "      <td>0659000220</td>\n",
       "      <td>...</td>\n",
       "      <td>9.504252e+05</td>\n",
       "      <td>3242851.0</td>\n",
       "      <td>51450.81641</td>\n",
       "      <td>5145082.0</td>\n",
       "      <td>False</td>\n",
       "      <td>NaN</td>\n",
       "      <td>Compliant</td>\n",
       "      <td>NaN</td>\n",
       "      <td>295.86</td>\n",
       "      <td>2.86</td>\n",
       "    </tr>\n",
       "    <tr>\n",
       "      <th>2</th>\n",
       "      <td>3</td>\n",
       "      <td>2016</td>\n",
       "      <td>NonResidential</td>\n",
       "      <td>Hotel</td>\n",
       "      <td>5673-The Westin Seattle</td>\n",
       "      <td>1900 5th Avenue</td>\n",
       "      <td>Seattle</td>\n",
       "      <td>WA</td>\n",
       "      <td>98101.0</td>\n",
       "      <td>0659000475</td>\n",
       "      <td>...</td>\n",
       "      <td>1.451544e+07</td>\n",
       "      <td>49526664.0</td>\n",
       "      <td>14938.00000</td>\n",
       "      <td>1493800.0</td>\n",
       "      <td>False</td>\n",
       "      <td>NaN</td>\n",
       "      <td>Compliant</td>\n",
       "      <td>NaN</td>\n",
       "      <td>2089.28</td>\n",
       "      <td>2.19</td>\n",
       "    </tr>\n",
       "    <tr>\n",
       "      <th>3</th>\n",
       "      <td>5</td>\n",
       "      <td>2016</td>\n",
       "      <td>NonResidential</td>\n",
       "      <td>Hotel</td>\n",
       "      <td>HOTEL MAX</td>\n",
       "      <td>620 STEWART ST</td>\n",
       "      <td>Seattle</td>\n",
       "      <td>WA</td>\n",
       "      <td>98101.0</td>\n",
       "      <td>0659000640</td>\n",
       "      <td>...</td>\n",
       "      <td>8.115253e+05</td>\n",
       "      <td>2768924.0</td>\n",
       "      <td>18112.13086</td>\n",
       "      <td>1811213.0</td>\n",
       "      <td>False</td>\n",
       "      <td>NaN</td>\n",
       "      <td>Compliant</td>\n",
       "      <td>NaN</td>\n",
       "      <td>286.43</td>\n",
       "      <td>4.67</td>\n",
       "    </tr>\n",
       "    <tr>\n",
       "      <th>4</th>\n",
       "      <td>8</td>\n",
       "      <td>2016</td>\n",
       "      <td>NonResidential</td>\n",
       "      <td>Hotel</td>\n",
       "      <td>WARWICK SEATTLE HOTEL (ID8)</td>\n",
       "      <td>401 LENORA ST</td>\n",
       "      <td>Seattle</td>\n",
       "      <td>WA</td>\n",
       "      <td>98121.0</td>\n",
       "      <td>0659000970</td>\n",
       "      <td>...</td>\n",
       "      <td>1.573449e+06</td>\n",
       "      <td>5368607.0</td>\n",
       "      <td>88039.98438</td>\n",
       "      <td>8803998.0</td>\n",
       "      <td>False</td>\n",
       "      <td>NaN</td>\n",
       "      <td>Compliant</td>\n",
       "      <td>NaN</td>\n",
       "      <td>505.01</td>\n",
       "      <td>2.88</td>\n",
       "    </tr>\n",
       "  </tbody>\n",
       "</table>\n",
       "<p>5 rows × 46 columns</p>\n",
       "</div>"
      ],
      "text/plain": [
       "   OSEBuildingID  DataYear    BuildingType PrimaryPropertyType  \\\n",
       "0              1      2016  NonResidential               Hotel   \n",
       "1              2      2016  NonResidential               Hotel   \n",
       "2              3      2016  NonResidential               Hotel   \n",
       "3              5      2016  NonResidential               Hotel   \n",
       "4              8      2016  NonResidential               Hotel   \n",
       "\n",
       "                  PropertyName          Address     City State  ZipCode  \\\n",
       "0         Mayflower park hotel    405 Olive way  Seattle    WA  98101.0   \n",
       "1              Paramount Hotel  724 Pine street  Seattle    WA  98101.0   \n",
       "2      5673-The Westin Seattle  1900 5th Avenue  Seattle    WA  98101.0   \n",
       "3                    HOTEL MAX   620 STEWART ST  Seattle    WA  98101.0   \n",
       "4  WARWICK SEATTLE HOTEL (ID8)    401 LENORA ST  Seattle    WA  98121.0   \n",
       "\n",
       "  TaxParcelIdentificationNumber  ...  Electricity(kWh) Electricity(kBtu)  \\\n",
       "0                    0659000030  ...      1.156514e+06         3946027.0   \n",
       "1                    0659000220  ...      9.504252e+05         3242851.0   \n",
       "2                    0659000475  ...      1.451544e+07        49526664.0   \n",
       "3                    0659000640  ...      8.115253e+05         2768924.0   \n",
       "4                    0659000970  ...      1.573449e+06         5368607.0   \n",
       "\n",
       "   NaturalGas(therms)  NaturalGas(kBtu)  DefaultData  Comments  \\\n",
       "0         12764.52930         1276453.0        False       NaN   \n",
       "1         51450.81641         5145082.0        False       NaN   \n",
       "2         14938.00000         1493800.0        False       NaN   \n",
       "3         18112.13086         1811213.0        False       NaN   \n",
       "4         88039.98438         8803998.0        False       NaN   \n",
       "\n",
       "   ComplianceStatus  Outlier  TotalGHGEmissions  GHGEmissionsIntensity  \n",
       "0         Compliant      NaN             249.98                   2.83  \n",
       "1         Compliant      NaN             295.86                   2.86  \n",
       "2         Compliant      NaN            2089.28                   2.19  \n",
       "3         Compliant      NaN             286.43                   4.67  \n",
       "4         Compliant      NaN             505.01                   2.88  \n",
       "\n",
       "[5 rows x 46 columns]"
      ]
     },
     "execution_count": 6,
     "metadata": {},
     "output_type": "execute_result"
    }
   ],
   "source": [
    "# On regarde comment un batiment est défini dans ce jeu de données \n",
    "bc_df.head()"
   ]
  },
  {
   "cell_type": "markdown",
   "metadata": {},
   "source": [
    "Variables identifiées par catégories :  \n",
    "- Identification :  \n",
    "    OSEBuildingID, PropertyName, Address, City, State, ZipCode  \n",
    "- Géolocalisation :   \n",
    "    Latitude, Longitude, Neighborhood, CouncilDistrictCode  \n",
    "- Caractéristiques physiques :   \n",
    "    YearBuilt, NumberofFloors, PropertyGFATotal, PropertyGFABuilding(s)  \n",
    "- Usage :   \n",
    "    PrimaryPropertyType, ListOfAllPropertyUseTypes, LargestPropertyUseType  \n",
    "- Performance énergétique :   \n",
    "    YearsENERGYSTARCertified, ENERGYSTARScore, SiteEUI(kBtu/sf), SiteEUIWN(kBtu/sf), SourceEUI(kBtu/sf), SourceEUIWN(kBtu/sf)  \n",
    "- Consommation :   \n",
    "    **SiteEnergyUse**, DataYear, Electricity(kWh) , Electricity(kBtu), NaturalGas(therms), NaturalGas(kBtu)   \n",
    "- Émissions :   \n",
    "    **TotalGHGEmissions**, GHGEmissionsIntensity (variables cibles potentielles)  \n"
   ]
  },
  {
   "cell_type": "markdown",
   "metadata": {},
   "source": [
    "## Exclusion des lignes sans aucune valeur cible"
   ]
  },
  {
   "cell_type": "code",
   "execution_count": 7,
   "metadata": {},
   "outputs": [
    {
     "name": "stdout",
     "output_type": "stream",
     "text": [
      "Après filtrage targets : 3376 → 3371 bâtiments\n"
     ]
    }
   ],
   "source": [
    "target_cols = ['TotalGHGEmissions', 'SiteEnergyUse(kBtu)']\n",
    "bc_df0 = bc_df.dropna(subset=target_cols, how='all').copy()\n",
    "print(f\"Après filtrage targets : {len(bc_df)} → {len(bc_df0)} bâtiments\")"
   ]
  },
  {
   "cell_type": "markdown",
   "metadata": {},
   "source": [
    "### Traitement des types d'utilisation principale des biens."
   ]
  },
  {
   "cell_type": "code",
   "execution_count": 8,
   "metadata": {},
   "outputs": [
    {
     "name": "stdout",
     "output_type": "stream",
     "text": [
      "Hotel\n",
      "Parking\n",
      "Restaurant\n",
      "Swimming Pool\n",
      "Police Station\n",
      "Other - Entertainment/Public Assembly\n",
      "Multifamily Housing\n",
      "Data Center\n",
      "Library\n",
      "Fitness Center/Health Club/Gym\n",
      "Office\n",
      "Other\n",
      "Other - Lodging/Residential\n",
      "Social/Meeting Hall\n",
      "Courthouse\n",
      "K-12 School\n",
      "College/University\n",
      "Automobile Dealership\n",
      "Retail Store\n",
      "Self-Storage Facility\n",
      "Energy/Power Station\n",
      "Laboratory\n",
      "Manufacturing/Industrial Plant\n",
      "Non-Refrigerated Warehouse\n",
      "Refrigerated Warehouse\n",
      "Other - Education\n",
      "Vocational School\n",
      "Other - Mall\n",
      "Personal Services (Health/Beauty\n",
      "Dry Cleaning\n",
      "etc)\n",
      "Senior Care Community\n",
      "Medical Office\n",
      "Distribution Center\n",
      "Hospital (General Medical & Surgical)\n",
      "Museum\n",
      "Repair Services (Vehicle\n",
      "Shoe\n",
      "Locksmith\n",
      "Food Service\n",
      "Residence Hall/Dormitory\n",
      "Other - Services\n",
      "Other/Specialty Hospital\n",
      "Financial Office\n",
      "Other - Utility\n",
      "Fast Food Restaurant\n",
      "Movie Theater\n",
      "Supermarket/Grocery Store\n",
      "Worship Facility\n",
      "Lifestyle Center\n",
      "Other - Recreation\n",
      "Convenience Store without Gas Station\n",
      "Pre-school/Daycare\n",
      "Food Sales\n",
      "Other - Restaurant/Bar\n",
      "Single Family Home\n",
      "Performing Arts\n",
      "Bank Branch\n",
      "Convention Center\n",
      "Urgent Care/Clinic/Other Outpatient\n",
      "Adult Education\n",
      "Outpatient Rehabilitation/Physical Therapy\n",
      "Vocat\n",
      "Strip Mall\n",
      "Wholesale Club/Supercenter\n",
      "Enclosed Mall\n",
      "Other - Public Services\n",
      "Bar/Nightclub\n",
      "Other - Technology/Science\n",
      "Fire Station\n",
      "Residential Care Facility\n",
      "Prison/Incarceration\n"
     ]
    }
   ],
   "source": [
    "use_types = []\n",
    "for i,row in bc_df0.iterrows():\n",
    "    if not pd.isna(row['ListOfAllPropertyUseTypes']):\n",
    "        for use in row['ListOfAllPropertyUseTypes'].split(','):\n",
    "            use =  use.strip()\n",
    "            if use not in use_types:\n",
    "                use_types.append(use)\n",
    "                print(use)\n",
    "del use_types"
   ]
  },
  {
   "cell_type": "markdown",
   "metadata": {},
   "source": [
    "## Exclusion des outliers référencés"
   ]
  },
  {
   "cell_type": "code",
   "execution_count": 9,
   "metadata": {},
   "outputs": [
    {
     "name": "stdout",
     "output_type": "stream",
     "text": [
      "Après filtrage des types de propriétés : 3371 → 3339 bâtiments\n"
     ]
    }
   ],
   "source": [
    "mask = ~bc_df0['Outlier'].isna()\n",
    "bc_df1 = bc_df0[~mask].copy()\n",
    "print(f\"Après filtrage des types de propriétés : {len(bc_df0)} → {len(bc_df1)} bâtiments\")\n"
   ]
  },
  {
   "cell_type": "markdown",
   "metadata": {},
   "source": [
    "## Exclusion des propriétés à usage d'habitation(non temporaire)"
   ]
  },
  {
   "cell_type": "code",
   "execution_count": 10,
   "metadata": {},
   "outputs": [
    {
     "data": {
      "application/vnd.microsoft.datawrangler.viewer.v0+json": {
       "columns": [
        {
         "name": "index",
         "rawType": "int64",
         "type": "integer"
        },
        {
         "name": "ListOfAllPropertyUseTypes",
         "rawType": "object",
         "type": "unknown"
        },
        {
         "name": "BuildingType",
         "rawType": "object",
         "type": "string"
        },
        {
         "name": "PrimaryPropertyType",
         "rawType": "object",
         "type": "string"
        },
        {
         "name": "LargestPropertyUseType",
         "rawType": "object",
         "type": "unknown"
        }
       ],
       "ref": "de7e2e8a-9506-49b8-bd62-a23b924d86c6",
       "rows": [
        [
         "353",
         "Fitness Center/Health Club/Gym, Office, Other - Education, Other - Recreation, Other - Restaurant/Bar, Outpatient Rehabilitation/Physical Therapy, Personal Services (Health/Beauty, Dry Cleaning, etc), Restaurant, Retail Store, Self-Storage Facility, Vocat",
         "NonResidential",
         "Self-Storage Facility",
         null
        ],
        [
         "1077",
         "Multifamily Housing",
         "Multifamily HR (10+)",
         "High-Rise Multifamily",
         null
        ],
        [
         "1147",
         "Hotel",
         "NonResidential",
         "Hotel",
         null
        ],
        [
         "1483",
         "Multifamily Housing",
         "Multifamily MR (5-9)",
         "Mid-Rise Multifamily",
         null
        ],
        [
         "1756",
         "Multifamily Housing",
         "Multifamily HR (10+)",
         "High-Rise Multifamily",
         null
        ],
        [
         "1768",
         null,
         "Multifamily LR (1-4)",
         "Low-Rise Multifamily",
         null
        ],
        [
         "2321",
         null,
         "Multifamily LR (1-4)",
         "Low-Rise Multifamily",
         null
        ],
        [
         "2336",
         "Multifamily Housing",
         "Multifamily LR (1-4)",
         "Low-Rise Multifamily",
         null
        ],
        [
         "2414",
         "Office",
         "NonResidential",
         "Small- and Mid-Sized Office",
         null
        ],
        [
         "2459",
         "Restaurant",
         "NonResidential",
         "Restaurant",
         null
        ],
        [
         "2480",
         null,
         "Multifamily LR (1-4)",
         "Low-Rise Multifamily",
         null
        ],
        [
         "2545",
         "Multifamily Housing",
         "Multifamily LR (1-4)",
         "Low-Rise Multifamily",
         null
        ],
        [
         "2886",
         "Multifamily Housing",
         "Multifamily LR (1-4)",
         "Low-Rise Multifamily",
         null
        ],
        [
         "3040",
         "Multifamily Housing, Office",
         "Multifamily LR (1-4)",
         "Low-Rise Multifamily",
         null
        ],
        [
         "3348",
         null,
         "Multifamily LR (1-4)",
         "Low-Rise Multifamily",
         null
        ]
       ],
       "shape": {
        "columns": 4,
        "rows": 15
       }
      },
      "text/html": [
       "<div>\n",
       "<style scoped>\n",
       "    .dataframe tbody tr th:only-of-type {\n",
       "        vertical-align: middle;\n",
       "    }\n",
       "\n",
       "    .dataframe tbody tr th {\n",
       "        vertical-align: top;\n",
       "    }\n",
       "\n",
       "    .dataframe thead th {\n",
       "        text-align: right;\n",
       "    }\n",
       "</style>\n",
       "<table border=\"1\" class=\"dataframe\">\n",
       "  <thead>\n",
       "    <tr style=\"text-align: right;\">\n",
       "      <th></th>\n",
       "      <th>ListOfAllPropertyUseTypes</th>\n",
       "      <th>BuildingType</th>\n",
       "      <th>PrimaryPropertyType</th>\n",
       "      <th>LargestPropertyUseType</th>\n",
       "    </tr>\n",
       "  </thead>\n",
       "  <tbody>\n",
       "    <tr>\n",
       "      <th>353</th>\n",
       "      <td>Fitness Center/Health Club/Gym, Office, Other ...</td>\n",
       "      <td>NonResidential</td>\n",
       "      <td>Self-Storage Facility</td>\n",
       "      <td>NaN</td>\n",
       "    </tr>\n",
       "    <tr>\n",
       "      <th>1077</th>\n",
       "      <td>Multifamily Housing</td>\n",
       "      <td>Multifamily HR (10+)</td>\n",
       "      <td>High-Rise Multifamily</td>\n",
       "      <td>NaN</td>\n",
       "    </tr>\n",
       "    <tr>\n",
       "      <th>1147</th>\n",
       "      <td>Hotel</td>\n",
       "      <td>NonResidential</td>\n",
       "      <td>Hotel</td>\n",
       "      <td>NaN</td>\n",
       "    </tr>\n",
       "    <tr>\n",
       "      <th>1483</th>\n",
       "      <td>Multifamily Housing</td>\n",
       "      <td>Multifamily MR (5-9)</td>\n",
       "      <td>Mid-Rise Multifamily</td>\n",
       "      <td>NaN</td>\n",
       "    </tr>\n",
       "    <tr>\n",
       "      <th>1756</th>\n",
       "      <td>Multifamily Housing</td>\n",
       "      <td>Multifamily HR (10+)</td>\n",
       "      <td>High-Rise Multifamily</td>\n",
       "      <td>NaN</td>\n",
       "    </tr>\n",
       "    <tr>\n",
       "      <th>1768</th>\n",
       "      <td>NaN</td>\n",
       "      <td>Multifamily LR (1-4)</td>\n",
       "      <td>Low-Rise Multifamily</td>\n",
       "      <td>NaN</td>\n",
       "    </tr>\n",
       "    <tr>\n",
       "      <th>2321</th>\n",
       "      <td>NaN</td>\n",
       "      <td>Multifamily LR (1-4)</td>\n",
       "      <td>Low-Rise Multifamily</td>\n",
       "      <td>NaN</td>\n",
       "    </tr>\n",
       "    <tr>\n",
       "      <th>2336</th>\n",
       "      <td>Multifamily Housing</td>\n",
       "      <td>Multifamily LR (1-4)</td>\n",
       "      <td>Low-Rise Multifamily</td>\n",
       "      <td>NaN</td>\n",
       "    </tr>\n",
       "    <tr>\n",
       "      <th>2414</th>\n",
       "      <td>Office</td>\n",
       "      <td>NonResidential</td>\n",
       "      <td>Small- and Mid-Sized Office</td>\n",
       "      <td>NaN</td>\n",
       "    </tr>\n",
       "    <tr>\n",
       "      <th>2459</th>\n",
       "      <td>Restaurant</td>\n",
       "      <td>NonResidential</td>\n",
       "      <td>Restaurant</td>\n",
       "      <td>NaN</td>\n",
       "    </tr>\n",
       "    <tr>\n",
       "      <th>2480</th>\n",
       "      <td>NaN</td>\n",
       "      <td>Multifamily LR (1-4)</td>\n",
       "      <td>Low-Rise Multifamily</td>\n",
       "      <td>NaN</td>\n",
       "    </tr>\n",
       "    <tr>\n",
       "      <th>2545</th>\n",
       "      <td>Multifamily Housing</td>\n",
       "      <td>Multifamily LR (1-4)</td>\n",
       "      <td>Low-Rise Multifamily</td>\n",
       "      <td>NaN</td>\n",
       "    </tr>\n",
       "    <tr>\n",
       "      <th>2886</th>\n",
       "      <td>Multifamily Housing</td>\n",
       "      <td>Multifamily LR (1-4)</td>\n",
       "      <td>Low-Rise Multifamily</td>\n",
       "      <td>NaN</td>\n",
       "    </tr>\n",
       "    <tr>\n",
       "      <th>3040</th>\n",
       "      <td>Multifamily Housing, Office</td>\n",
       "      <td>Multifamily LR (1-4)</td>\n",
       "      <td>Low-Rise Multifamily</td>\n",
       "      <td>NaN</td>\n",
       "    </tr>\n",
       "    <tr>\n",
       "      <th>3348</th>\n",
       "      <td>NaN</td>\n",
       "      <td>Multifamily LR (1-4)</td>\n",
       "      <td>Low-Rise Multifamily</td>\n",
       "      <td>NaN</td>\n",
       "    </tr>\n",
       "  </tbody>\n",
       "</table>\n",
       "</div>"
      ],
      "text/plain": [
       "                              ListOfAllPropertyUseTypes          BuildingType  \\\n",
       "353   Fitness Center/Health Club/Gym, Office, Other ...        NonResidential   \n",
       "1077                                Multifamily Housing  Multifamily HR (10+)   \n",
       "1147                                              Hotel        NonResidential   \n",
       "1483                                Multifamily Housing  Multifamily MR (5-9)   \n",
       "1756                                Multifamily Housing  Multifamily HR (10+)   \n",
       "1768                                                NaN  Multifamily LR (1-4)   \n",
       "2321                                                NaN  Multifamily LR (1-4)   \n",
       "2336                                Multifamily Housing  Multifamily LR (1-4)   \n",
       "2414                                             Office        NonResidential   \n",
       "2459                                         Restaurant        NonResidential   \n",
       "2480                                                NaN  Multifamily LR (1-4)   \n",
       "2545                                Multifamily Housing  Multifamily LR (1-4)   \n",
       "2886                                Multifamily Housing  Multifamily LR (1-4)   \n",
       "3040                        Multifamily Housing, Office  Multifamily LR (1-4)   \n",
       "3348                                                NaN  Multifamily LR (1-4)   \n",
       "\n",
       "              PrimaryPropertyType LargestPropertyUseType  \n",
       "353         Self-Storage Facility                    NaN  \n",
       "1077        High-Rise Multifamily                    NaN  \n",
       "1147                        Hotel                    NaN  \n",
       "1483         Mid-Rise Multifamily                    NaN  \n",
       "1756        High-Rise Multifamily                    NaN  \n",
       "1768         Low-Rise Multifamily                    NaN  \n",
       "2321         Low-Rise Multifamily                    NaN  \n",
       "2336         Low-Rise Multifamily                    NaN  \n",
       "2414  Small- and Mid-Sized Office                    NaN  \n",
       "2459                   Restaurant                    NaN  \n",
       "2480         Low-Rise Multifamily                    NaN  \n",
       "2545         Low-Rise Multifamily                    NaN  \n",
       "2886         Low-Rise Multifamily                    NaN  \n",
       "3040         Low-Rise Multifamily                    NaN  \n",
       "3348         Low-Rise Multifamily                    NaN  "
      ]
     },
     "execution_count": 10,
     "metadata": {},
     "output_type": "execute_result"
    }
   ],
   "source": [
    "# Let's check property without largest use type\n",
    "mask = bc_df1['LargestPropertyUseType'].isna()\n",
    "bc_df1[mask][['ListOfAllPropertyUseTypes','BuildingType','PrimaryPropertyType','LargestPropertyUseType']].head(20)"
   ]
  },
  {
   "cell_type": "code",
   "execution_count": 11,
   "metadata": {},
   "outputs": [],
   "source": [
    "bc_df1.at[353,'LargestPropertyUseType']= \"Self-Storage Facility\"\n",
    "bc_df1.at[1077,'LargestPropertyUseType']= \"Multifamily Housing\"\n",
    "bc_df1.at[1147,'LargestPropertyUseType']= \"Hotel\"\n",
    "bc_df1.at[1483,'LargestPropertyUseType']= \"Multifamily Housing\"\n",
    "bc_df1.at[1756,'LargestPropertyUseType']= \"Multifamily Housing\"\n",
    "bc_df1.at[1768,'LargestPropertyUseType']= \"Multifamily Housing\"\n",
    "bc_df1.at[2321,'LargestPropertyUseType']= \"Multifamily Housing\"\n",
    "bc_df1.at[2336,'LargestPropertyUseType']= \"Multifamily Housing\"\n",
    "bc_df1.at[2414,'LargestPropertyUseType']= \"Office\"\n",
    "bc_df1.at[2459,'LargestPropertyUseType']= \"Restaurant\"\n",
    "bc_df1.at[2480,'LargestPropertyUseType']= \"Multifamily Housing\"\n",
    "bc_df1.at[2545,'LargestPropertyUseType']= \"Multifamily Housing\"\n",
    "bc_df1.at[2886,'LargestPropertyUseType']= \"Multifamily Housing\"\n",
    "bc_df1.at[3040,'LargestPropertyUseType']= \"Multifamily Housing\"\n",
    "bc_df1.at[3348,'LargestPropertyUseType']= \"Multifamily Housing\""
   ]
  },
  {
   "cell_type": "code",
   "execution_count": 12,
   "metadata": {},
   "outputs": [
    {
     "name": "stdout",
     "output_type": "stream",
     "text": [
      "Après filtrage des types de propriétés : 3339 → 1647 bâtiments\n"
     ]
    }
   ],
   "source": [
    "exclude_first_use = [\"Multifamily Housing\", \"Single Family Home\",\"Residence Hall/Dormitory\",\"Other - Lodging/Residential\"]\n",
    "mask = bc_df1[\"LargestPropertyUseType\"].isin( exclude_first_use)\n",
    "bc_df2 = bc_df1[~mask].copy()\n",
    "print(f\"Après filtrage des types de propriétés : {len(bc_df1)} → {len(bc_df2)} bâtiments\")\n"
   ]
  },
  {
   "cell_type": "code",
   "execution_count": 13,
   "metadata": {},
   "outputs": [
    {
     "name": "stdout",
     "output_type": "stream",
     "text": [
      "<class 'pandas.core.frame.DataFrame'>\n",
      "Index: 1647 entries, 0 to 3375\n",
      "Data columns (total 46 columns):\n",
      " #   Column                           Non-Null Count  Dtype  \n",
      "---  ------                           --------------  -----  \n",
      " 0   OSEBuildingID                    1647 non-null   int64  \n",
      " 1   DataYear                         1647 non-null   int64  \n",
      " 2   BuildingType                     1647 non-null   object \n",
      " 3   PrimaryPropertyType              1647 non-null   object \n",
      " 4   PropertyName                     1647 non-null   object \n",
      " 5   Address                          1647 non-null   object \n",
      " 6   City                             1647 non-null   object \n",
      " 7   State                            1647 non-null   object \n",
      " 8   ZipCode                          1631 non-null   float64\n",
      " 9   TaxParcelIdentificationNumber    1647 non-null   object \n",
      " 10  CouncilDistrictCode              1647 non-null   int64  \n",
      " 11  Neighborhood                     1647 non-null   object \n",
      " 12  Latitude                         1647 non-null   float64\n",
      " 13  Longitude                        1647 non-null   float64\n",
      " 14  YearBuilt                        1647 non-null   int64  \n",
      " 15  NumberofBuildings                1647 non-null   float64\n",
      " 16  NumberofFloors                   1647 non-null   int64  \n",
      " 17  PropertyGFATotal                 1647 non-null   int64  \n",
      " 18  PropertyGFAParking               1647 non-null   int64  \n",
      " 19  PropertyGFABuilding(s)           1647 non-null   int64  \n",
      " 20  ListOfAllPropertyUseTypes        1647 non-null   object \n",
      " 21  LargestPropertyUseType           1647 non-null   object \n",
      " 22  LargestPropertyUseTypeGFA        1643 non-null   float64\n",
      " 23  SecondLargestPropertyUseType     852 non-null    object \n",
      " 24  SecondLargestPropertyUseTypeGFA  852 non-null    float64\n",
      " 25  ThirdLargestPropertyUseType      344 non-null    object \n",
      " 26  ThirdLargestPropertyUseTypeGFA   344 non-null    float64\n",
      " 27  YearsENERGYSTARCertified         98 non-null     object \n",
      " 28  ENERGYSTARScore                  1087 non-null   float64\n",
      " 29  SiteEUI(kBtu/sf)                 1646 non-null   float64\n",
      " 30  SiteEUIWN(kBtu/sf)               1646 non-null   float64\n",
      " 31  SourceEUI(kBtu/sf)               1647 non-null   float64\n",
      " 32  SourceEUIWN(kBtu/sf)             1647 non-null   float64\n",
      " 33  SiteEnergyUse(kBtu)              1647 non-null   float64\n",
      " 34  SiteEnergyUseWN(kBtu)            1646 non-null   float64\n",
      " 35  SteamUse(kBtu)                   1647 non-null   float64\n",
      " 36  Electricity(kWh)                 1647 non-null   float64\n",
      " 37  Electricity(kBtu)                1647 non-null   float64\n",
      " 38  NaturalGas(therms)               1647 non-null   float64\n",
      " 39  NaturalGas(kBtu)                 1647 non-null   float64\n",
      " 40  DefaultData                      1647 non-null   bool   \n",
      " 41  Comments                         0 non-null      float64\n",
      " 42  ComplianceStatus                 1647 non-null   object \n",
      " 43  Outlier                          0 non-null      object \n",
      " 44  TotalGHGEmissions                1647 non-null   float64\n",
      " 45  GHGEmissionsIntensity            1647 non-null   float64\n",
      "dtypes: bool(1), float64(22), int64(8), object(15)\n",
      "memory usage: 593.5+ KB\n"
     ]
    }
   ],
   "source": [
    "# On regarde le nombre de valeurs manquantes par colonne ainsi que leur type \n",
    "bc_df2.info()"
   ]
  },
  {
   "cell_type": "code",
   "execution_count": 14,
   "metadata": {},
   "outputs": [
    {
     "data": {
      "application/vnd.microsoft.datawrangler.viewer.v0+json": {
       "columns": [
        {
         "name": "index",
         "rawType": "object",
         "type": "string"
        },
        {
         "name": "SiteEnergyUse(kBtu)",
         "rawType": "float64",
         "type": "float"
        },
        {
         "name": "TotalGHGEmissions",
         "rawType": "float64",
         "type": "float"
        }
       ],
       "ref": "5083d769-4ee3-438c-91fe-a93bb7e55846",
       "rows": [
        [
         "SiteEnergyUse(kBtu)",
         "1.0",
         "0.8600862802603619"
        ],
        [
         "TotalGHGEmissions",
         "0.8600862802603619",
         "1.0"
        ]
       ],
       "shape": {
        "columns": 2,
        "rows": 2
       }
      },
      "text/html": [
       "<div>\n",
       "<style scoped>\n",
       "    .dataframe tbody tr th:only-of-type {\n",
       "        vertical-align: middle;\n",
       "    }\n",
       "\n",
       "    .dataframe tbody tr th {\n",
       "        vertical-align: top;\n",
       "    }\n",
       "\n",
       "    .dataframe thead th {\n",
       "        text-align: right;\n",
       "    }\n",
       "</style>\n",
       "<table border=\"1\" class=\"dataframe\">\n",
       "  <thead>\n",
       "    <tr style=\"text-align: right;\">\n",
       "      <th></th>\n",
       "      <th>SiteEnergyUse(kBtu)</th>\n",
       "      <th>TotalGHGEmissions</th>\n",
       "    </tr>\n",
       "  </thead>\n",
       "  <tbody>\n",
       "    <tr>\n",
       "      <th>SiteEnergyUse(kBtu)</th>\n",
       "      <td>1.000000</td>\n",
       "      <td>0.860086</td>\n",
       "    </tr>\n",
       "    <tr>\n",
       "      <th>TotalGHGEmissions</th>\n",
       "      <td>0.860086</td>\n",
       "      <td>1.000000</td>\n",
       "    </tr>\n",
       "  </tbody>\n",
       "</table>\n",
       "</div>"
      ],
      "text/plain": [
       "                     SiteEnergyUse(kBtu)  TotalGHGEmissions\n",
       "SiteEnergyUse(kBtu)             1.000000           0.860086\n",
       "TotalGHGEmissions               0.860086           1.000000"
      ]
     },
     "execution_count": 14,
     "metadata": {},
     "output_type": "execute_result"
    }
   ],
   "source": [
    "bc_df2[['SiteEnergyUse(kBtu)','TotalGHGEmissions']].corr()"
   ]
  },
  {
   "cell_type": "code",
   "execution_count": 15,
   "metadata": {},
   "outputs": [],
   "source": [
    "useless_cols = ['BuildingType', 'PropertyName', 'Address','City','State','ZipCode','DataYear', 'ENERGYSTARScore',\"SiteEUIWN(kBtu/sf)\",'SiteEnergyUseWN(kBtu)', \n",
    "                \"SourceEUI(kBtu/sf)\", \"SourceEUIWN(kBtu/sf)\", \"Electricity(kWh)\" , \"NaturalGas(therms)\",\"Outlier\",\"TotalGHGEmissions\",'GHGEmissionsIntensity',\n",
    "                'YearsENERGYSTARCertified','DefaultData','Comments','ComplianceStatus','TaxParcelIdentificationNumber']\n",
    "bc_df2.drop(columns=useless_cols, inplace=True)"
   ]
  },
  {
   "cell_type": "code",
   "execution_count": 16,
   "metadata": {},
   "outputs": [
    {
     "data": {
      "text/plain": [
       "0"
      ]
     },
     "execution_count": 16,
     "metadata": {},
     "output_type": "execute_result"
    }
   ],
   "source": [
    "mask = bc_df2['SiteEnergyUse(kBtu)'].isna() \n",
    "len(bc_df2[mask])"
   ]
  },
  {
   "cell_type": "markdown",
   "metadata": {},
   "source": [
    "## Vérification des consommations"
   ]
  },
  {
   "cell_type": "markdown",
   "metadata": {},
   "source": [
    "### Vérification surfaces"
   ]
  },
  {
   "cell_type": "code",
   "execution_count": 17,
   "metadata": {},
   "outputs": [],
   "source": [
    "# remplis les qq propriétés sans valeurs de LargestPropertyUse\n",
    "bc_df2['LargestPropertyUseTypeGFA'] = bc_df2['LargestPropertyUseTypeGFA'].fillna(bc_df2['PropertyGFATotal'])"
   ]
  },
  {
   "cell_type": "code",
   "execution_count": null,
   "metadata": {},
   "outputs": [],
   "source": [
    "bc_df2['SecondLargestPropertyUseTypeGFA'] = bc_df2['SecondLargestPropertyUseTypeGFA'].fillna(0)\n",
    "bc_df2['ThirdLargestPropertyUseTypeGFA'] = bc_df2['ThirdLargestPropertyUseTypeGFA'].fillna(0)\n",
    "\n",
    "gfa1 = bc_df2['LargestPropertyUseTypeGFA']  .where(bc_df2['LargestPropertyUseType']      != 'Parking', 0)\n",
    "gfa2 = bc_df2['SecondLargestPropertyUseTypeGFA'].where(bc_df2['SecondLargestPropertyUseType'] != 'Parking', 0)\n",
    "gfa3 = bc_df2['ThirdLargestPropertyUseTypeGFA'] .where(bc_df2['ThirdLargestPropertyUseType']  != 'Parking', 0)\n",
    "bc_df2['ThreeLargestPropertyUseTypeGFA'] = gfa1 + gfa2 + gfa3\n",
    "\n",
    "bc_df2['ThreeSEUI(kBtu/sf)'] = bc_df2['SiteEnergyUse(kBtu)'] / bc_df2['ThreeLargestPropertyUseTypeGFA']\n",
    "bc_df2['CalcSUI(kBtu/sf)'] = bc_df2['SiteEnergyUse(kBtu)'] / bc_df2['PropertyGFABuilding(s)']\n"
   ]
  },
  {
   "cell_type": "code",
   "execution_count": 19,
   "metadata": {},
   "outputs": [
    {
     "data": {
      "text/plain": [
       "<Axes: xlabel='CalcSUI(kBtu/sf)'>"
      ]
     },
     "execution_count": 19,
     "metadata": {},
     "output_type": "execute_result"
    },
    {
     "data": {
      "image/png": "[encoded data removed]",
      "text/plain": [
       "<Figure size 1500x600 with 3 Axes>"
      ]
     },
     "metadata": {},
     "output_type": "display_data"
    }
   ],
   "source": [
    "fig,ax = plt.subplots(1,3,figsize=(15,6))\n",
    "sns.boxplot(data = bc_df2,x = 'SiteEUI(kBtu/sf)', ax=ax[0])\n",
    "sns.boxplot(data = bc_df2,x = 'ThreeSEUI(kBtu/sf)', ax=ax[1])\n",
    "sns.boxplot(data = bc_df2,x = 'CalcSUI(kBtu/sf)', ax=ax[2])"
   ]
  },
  {
   "cell_type": "code",
   "execution_count": 20,
   "metadata": {},
   "outputs": [
    {
     "name": "stdout",
     "output_type": "stream",
     "text": [
      "Après traitement outliers : 1647 → 1613 bâtiments\n"
     ]
    }
   ],
   "source": [
    "Q1 = bc_df2['CalcSUI(kBtu/sf)'].quantile(0.01)\n",
    "Q99 = bc_df2['CalcSUI(kBtu/sf)'].quantile(0.99)\n",
    "bc_df3 = bc_df2[(bc_df2['CalcSUI(kBtu/sf)'] >= Q1) & \n",
    "                   (bc_df2['CalcSUI(kBtu/sf)'] <= Q99)].copy()\n",
    "print(f\"Après traitement outliers : {len(bc_df2)} → {len(bc_df3)} bâtiments\")\n"
   ]
  },
  {
   "cell_type": "code",
   "execution_count": 21,
   "metadata": {},
   "outputs": [
    {
     "data": {
      "text/plain": [
       "<Axes: xlabel='CalcSUI(kBtu/sf)'>"
      ]
     },
     "execution_count": 21,
     "metadata": {},
     "output_type": "execute_result"
    },
    {
     "data": {
      "image/png": "[encoded data removed]",
      "text/plain": [
       "<Figure size 1500x600 with 3 Axes>"
      ]
     },
     "metadata": {},
     "output_type": "display_data"
    }
   ],
   "source": [
    "fig,ax = plt.subplots(1,3,figsize=(15,6))\n",
    "sns.boxplot(data = bc_df3,x = 'SiteEUI(kBtu/sf)', ax=ax[0])\n",
    "sns.boxplot(data = bc_df3,x = 'ThreeSEUI(kBtu/sf)', ax=ax[1])\n",
    "sns.boxplot(data = bc_df3,x = 'CalcSUI(kBtu/sf)', ax=ax[2])"
   ]
  },
  {
   "cell_type": "code",
   "execution_count": 22,
   "metadata": {},
   "outputs": [
    {
     "name": "stdout",
     "output_type": "stream",
     "text": [
      "<class 'pandas.core.frame.DataFrame'>\n",
      "Index: 1613 entries, 0 to 3375\n",
      "Data columns (total 27 columns):\n",
      " #   Column                           Non-Null Count  Dtype  \n",
      "---  ------                           --------------  -----  \n",
      " 0   OSEBuildingID                    1613 non-null   int64  \n",
      " 1   PrimaryPropertyType              1613 non-null   object \n",
      " 2   CouncilDistrictCode              1613 non-null   int64  \n",
      " 3   Neighborhood                     1613 non-null   object \n",
      " 4   Latitude                         1613 non-null   float64\n",
      " 5   Longitude                        1613 non-null   float64\n",
      " 6   YearBuilt                        1613 non-null   int64  \n",
      " 7   NumberofBuildings                1613 non-null   float64\n",
      " 8   NumberofFloors                   1613 non-null   int64  \n",
      " 9   PropertyGFATotal                 1613 non-null   int64  \n",
      " 10  PropertyGFAParking               1613 non-null   int64  \n",
      " 11  PropertyGFABuilding(s)           1613 non-null   int64  \n",
      " 12  ListOfAllPropertyUseTypes        1613 non-null   object \n",
      " 13  LargestPropertyUseType           1613 non-null   object \n",
      " 14  LargestPropertyUseTypeGFA        1613 non-null   float64\n",
      " 15  SecondLargestPropertyUseType     839 non-null    object \n",
      " 16  SecondLargestPropertyUseTypeGFA  1613 non-null   float64\n",
      " 17  ThirdLargestPropertyUseType      340 non-null    object \n",
      " 18  ThirdLargestPropertyUseTypeGFA   1613 non-null   float64\n",
      " 19  SiteEUI(kBtu/sf)                 1613 non-null   float64\n",
      " 20  SiteEnergyUse(kBtu)              1613 non-null   float64\n",
      " 21  SteamUse(kBtu)                   1613 non-null   float64\n",
      " 22  Electricity(kBtu)                1613 non-null   float64\n",
      " 23  NaturalGas(kBtu)                 1613 non-null   float64\n",
      " 24  ThreeLargestPropertyUseTypeGFA   1613 non-null   float64\n",
      " 25  ThreeSEUI(kBtu/sf)               1613 non-null   float64\n",
      " 26  CalcSUI(kBtu/sf)                 1613 non-null   float64\n",
      "dtypes: float64(14), int64(7), object(6)\n",
      "memory usage: 352.8+ KB\n"
     ]
    }
   ],
   "source": [
    "\n",
    "bc_df3.info()"
   ]
  },
  {
   "cell_type": "markdown",
   "metadata": {},
   "source": [
    "# Modélisation "
   ]
  },
  {
   "cell_type": "markdown",
   "metadata": {},
   "source": [
    "## Import des modules "
   ]
  },
  {
   "cell_type": "code",
   "execution_count": 72,
   "metadata": {},
   "outputs": [],
   "source": [
    "#Selection\n",
    "from sklearn.model_selection import (\n",
    "    train_test_split,\n",
    "    GridSearchCV, \n",
    "    cross_validate,\n",
    ")\n",
    "from sklearn.metrics import mean_squared_error, r2_score, mean_absolute_error \n",
    "from sklearn.inspection import permutation_importance\n",
    "\n",
    "#Preprocess\n",
    "from sklearn.compose import ColumnTransformer\n",
    "from sklearn.preprocessing import LabelEncoder, OneHotEncoder, StandardScaler\n",
    "\n",
    "#Modèles\n",
    "from sklearn.dummy import DummyRegressor\n",
    "from sklearn.linear_model import LinearRegression\n",
    "from sklearn.svm import SVR\n",
    "from sklearn.ensemble import RandomForestRegressor\n"
   ]
  },
  {
   "cell_type": "markdown",
   "metadata": {},
   "source": [
    "## Feature Engineering"
   ]
  },
  {
   "cell_type": "markdown",
   "metadata": {},
   "source": [
    "A réaliser : Enrichir le jeu de données actuel avec de nouvelles features issues de celles existantes. "
   ]
  },
  {
   "cell_type": "markdown",
   "metadata": {},
   "source": [
    "### Préparation des features pour la modélisation"
   ]
  },
  {
   "cell_type": "markdown",
   "metadata": {},
   "source": [
    "A réaliser :\n",
    "* Si ce n'est pas déjà fait, supprimer toutes les colonnes peu pertinentes pour la modélisation.\n",
    "* Tracer la distribution de la cible pour vous familiariser avec l'ordre de grandeur. En cas d'outliers, mettez en place une démarche pour les supprimer.\n",
    "* Débarrassez-vous des features redondantes en utilisant une matrice de corrélation.\n",
    "* Réalisez différents graphiques pour comprendre le lien entre vos features et la target (boxplots, scatterplots, pairplot si votre nombre de features numériques n'est pas très élevé).\n",
    "*  Séparez votre jeu de données en un Pandas DataFrame X (ensemble de feautures) et Pandas Series y (votre target).\n",
    "* Si vous avez des features catégorielles, il faut les encoder pour que votre modèle fonctionne."
   ]
  },
  {
   "cell_type": "code",
   "execution_count": null,
   "metadata": {},
   "outputs": [],
   "source": [
    "# CODE PREPARATION DES FEATURES"
   ]
  },
  {
   "cell_type": "code",
   "execution_count": null,
   "metadata": {},
   "outputs": [
    {
     "data": {
      "text/plain": [
       "<Axes: xlabel='AgeProperty', ylabel='CalcSUI(kBtu/sf)'>"
      ]
     },
     "metadata": {},
     "output_type": "display_data"
    },
    {
     "data": {
      "image/png": "[encoded data removed]",
      "text/plain": [
       "<Figure size 1500x600 with 2 Axes>"
      ]
     },
     "metadata": {},
     "output_type": "display_data"
    }
   ],
   "source": [
    "df_clean = bc_df3.copy()\n",
    "df_clean['AgeProperty']= 2016 - df_clean['YearBuilt']\n",
    "\n",
    "fig,ax = plt.subplots(1,2,figsize=(15,6))\n",
    "sns.boxplot(df_clean['AgeProperty'],ax=ax[0])\n",
    "sns.regplot(x=df_clean['AgeProperty'], y=df_clean['CalcSUI(kBtu/sf)'],ax=ax[1])"
   ]
  },
  {
   "cell_type": "code",
   "execution_count": null,
   "metadata": {},
   "outputs": [],
   "source": [
    "df_clean['UseElectricity']=df_clean['Electricity(kBtu)'].notna() & df_clean['Electricity(kBtu)']>0\n",
    "df_clean['UseSteam']=df_clean['SteamUse(kBtu)'].notna() & df_clean['SteamUse(kBtu)']>0\n",
    "df_clean['UseGas']=df_clean['NaturalGas(kBtu)'].notna() & df_clean['NaturalGas(kBtu)']>0\n"
   ]
  },
  {
   "cell_type": "code",
   "execution_count": null,
   "metadata": {},
   "outputs": [],
   "source": [
    "df_clean['AvgFloor'] = df_clean['NumberofFloors']/df_clean['NumberofBuildings']"
   ]
  },
  {
   "cell_type": "code",
   "execution_count": null,
   "metadata": {},
   "outputs": [
    {
     "name": "stdout",
     "output_type": "stream",
     "text": [
      "<class 'pandas.core.frame.DataFrame'>\n",
      "Index: 1613 entries, 0 to 3375\n",
      "Data columns (total 13 columns):\n",
      " #   Column                     Non-Null Count  Dtype  \n",
      "---  ------                     --------------  -----  \n",
      " 0   PrimaryPropertyType        1613 non-null   object \n",
      " 1   CouncilDistrictCode        1613 non-null   int64  \n",
      " 2   Neighborhood               1613 non-null   object \n",
      " 3   Latitude                   1613 non-null   float64\n",
      " 4   Longitude                  1613 non-null   float64\n",
      " 5   PropertyGFABuilding(s)     1613 non-null   int64  \n",
      " 6   ListOfAllPropertyUseTypes  1613 non-null   object \n",
      " 7   SiteEnergyUse(kBtu)        1613 non-null   float64\n",
      " 8   AgeProperty                1613 non-null   int64  \n",
      " 9   UseElectricity             1613 non-null   bool   \n",
      " 10  UseSteam                   1613 non-null   bool   \n",
      " 11  UseGas                     1613 non-null   bool   \n",
      " 12  AvgFloor                   1612 non-null   float64\n",
      "dtypes: bool(3), float64(4), int64(3), object(3)\n",
      "memory usage: 143.3+ KB\n"
     ]
    }
   ],
   "source": [
    "df_clean.drop(columns=['NumberofFloors','NumberofBuildings'],inplace=True)\n",
    "df_clean.drop(columns=['LargestPropertyUseType','LargestPropertyUseTypeGFA','SecondLargestPropertyUseType','SecondLargestPropertyUseTypeGFA','ThirdLargestPropertyUseType',\n",
    "                       'ThirdLargestPropertyUseTypeGFA','PropertyGFAParking','PropertyGFATotal','ThreeLargestPropertyUseTypeGFA','ThreeSEUI(kBtu/sf)'],inplace=True)\n",
    "df_clean.drop(columns=['OSEBuildingID', 'YearBuilt','Electricity(kBtu)','Electricity(kBtu)','NaturalGas(kBtu)','SiteEUI(kBtu/sf)','CalcSUI(kBtu/sf)','SteamUse(kBtu)'],inplace=True)\n"
   ]
  },
  {
   "cell_type": "code",
   "execution_count": null,
   "metadata": {},
   "outputs": [],
   "source": [
    "df_clean.info()"
   ]
  },
  {
   "cell_type": "code",
   "execution_count": null,
   "metadata": {},
   "outputs": [
    {
     "data": {
      "application/vnd.microsoft.datawrangler.viewer.v0+json": {
       "columns": [
        {
         "name": "PrimaryPropertyType",
         "rawType": "object",
         "type": "string"
        },
        {
         "name": "count",
         "rawType": "int64",
         "type": "integer"
        }
       ],
       "ref": "205594ae-aaae-4c82-9842-ba47b896952d",
       "rows": [
        [
         "Small- and Mid-Sized Office",
         "288"
        ],
        [
         "Other",
         "238"
        ],
        [
         "Warehouse",
         "187"
        ],
        [
         "Large Office",
         "170"
        ],
        [
         "K-12 School",
         "123"
        ],
        [
         "Mixed Use Property",
         "103"
        ],
        [
         "Retail Store",
         "89"
        ],
        [
         "Hotel",
         "76"
        ],
        [
         "Worship Facility",
         "69"
        ],
        [
         "Distribution Center",
         "53"
        ],
        [
         "Senior Care Community",
         "44"
        ],
        [
         "Medical Office",
         "39"
        ],
        [
         "Supermarket / Grocery Store",
         "38"
        ],
        [
         "Self-Storage Facility",
         "28"
        ],
        [
         "University",
         "25"
        ],
        [
         "Refrigerated Warehouse",
         "11"
        ],
        [
         "Restaurant",
         "11"
        ],
        [
         "Hospital",
         "9"
        ],
        [
         "Laboratory",
         "9"
        ],
        [
         "Office",
         "3"
        ]
       ],
       "shape": {
        "columns": 1,
        "rows": 20
       }
      },
      "text/plain": [
       "PrimaryPropertyType\n",
       "Small- and Mid-Sized Office    288\n",
       "Other                          238\n",
       "Warehouse                      187\n",
       "Large Office                   170\n",
       "K-12 School                    123\n",
       "Mixed Use Property             103\n",
       "Retail Store                    89\n",
       "Hotel                           76\n",
       "Worship Facility                69\n",
       "Distribution Center             53\n",
       "Senior Care Community           44\n",
       "Medical Office                  39\n",
       "Supermarket / Grocery Store     38\n",
       "Self-Storage Facility           28\n",
       "University                      25\n",
       "Refrigerated Warehouse          11\n",
       "Restaurant                      11\n",
       "Hospital                         9\n",
       "Laboratory                       9\n",
       "Office                           3\n",
       "Name: count, dtype: int64"
      ]
     },
     "metadata": {},
     "output_type": "display_data"
    }
   ],
   "source": [
    "df_clean['PrimaryPropertyType'].value_counts()"
   ]
  },
  {
   "cell_type": "code",
   "execution_count": null,
   "metadata": {},
   "outputs": [
    {
     "data": {
      "application/vnd.microsoft.datawrangler.viewer.v0+json": {
       "columns": [
        {
         "name": "Neighborhood",
         "rawType": "object",
         "type": "string"
        },
        {
         "name": "count",
         "rawType": "int64",
         "type": "integer"
        }
       ],
       "ref": "1c8b8976-683d-467f-b882-3bf2c05d133c",
       "rows": [
        [
         "DOWNTOWN",
         "348"
        ],
        [
         "GREATER DUWAMISH",
         "340"
        ],
        [
         "MAGNOLIA / QUEEN ANNE",
         "146"
        ],
        [
         "LAKE UNION",
         "142"
        ],
        [
         "EAST",
         "117"
        ],
        [
         "NORTHEAST",
         "110"
        ],
        [
         "NORTHWEST",
         "89"
        ],
        [
         "NORTH",
         "73"
        ],
        [
         "BALLARD",
         "67"
        ],
        [
         "CENTRAL",
         "51"
        ],
        [
         "SOUTHEAST",
         "46"
        ],
        [
         "DELRIDGE",
         "45"
        ],
        [
         "SOUTHWEST",
         "38"
        ],
        [
         "DELRIDGE NEIGHBORHOODS",
         "1"
        ]
       ],
       "shape": {
        "columns": 1,
        "rows": 14
       }
      },
      "text/plain": [
       "Neighborhood\n",
       "DOWNTOWN                  348\n",
       "GREATER DUWAMISH          340\n",
       "MAGNOLIA / QUEEN ANNE     146\n",
       "LAKE UNION                142\n",
       "EAST                      117\n",
       "NORTHEAST                 110\n",
       "NORTHWEST                  89\n",
       "NORTH                      73\n",
       "BALLARD                    67\n",
       "CENTRAL                    51\n",
       "SOUTHEAST                  46\n",
       "DELRIDGE                   45\n",
       "SOUTHWEST                  38\n",
       "DELRIDGE NEIGHBORHOODS      1\n",
       "Name: count, dtype: int64"
      ]
     },
     "metadata": {},
     "output_type": "display_data"
    }
   ],
   "source": [
    "df_clean['Neighborhood'] = df_clean['Neighborhood'].str.upper()\n",
    "df_clean['Neighborhood'].value_counts()"
   ]
  },
  {
   "cell_type": "code",
   "execution_count": 73,
   "metadata": {},
   "outputs": [],
   "source": [
    "# CODE FEATURE ENGINEERING"
   ]
  },
  {
   "cell_type": "markdown",
   "metadata": {},
   "source": [
    "### Comparaison de différents modèles supervisés"
   ]
  },
  {
   "cell_type": "markdown",
   "metadata": {},
   "source": [
    "A réaliser :\n",
    "* Pour chaque algorithme que vous allez tester, vous devez :\n",
    "    * Réaliser au préalable une séparation en jeu d'apprentissage et jeu de test via une validation croisée.\n",
    "    * Si les features quantitatives que vous souhaitez utiliser ont des ordres de grandeur très différents les uns des autres, et que vous utilisez un algorithme de regression qui est sensible à cette différence, alors il faut réaliser un scaling (normalisation) de la donnée au préalable.\n",
    "    * Entrainer le modèle sur le jeu de Train\n",
    "    * Prédire la cible sur la donnée de test (nous appelons cette étape, l'inférence).\n",
    "    * Calculer les métriques de performance R2, MAE et RMSE sur le jeu de train et de test.\n",
    "    * Interpréter les résultats pour juger de la fiabilité de l'algorithme.\n",
    "* Vous pouvez choisir par exemple de tester un modèle linéaire, un modèle à base d'arbres et un modèle de type SVM\n",
    "* Déterminer le modèle le plus performant parmi ceux testés."
   ]
  },
  {
   "cell_type": "code",
   "execution_count": null,
   "metadata": {},
   "outputs": [],
   "source": [
    "# CODE COMPARAISON DES MODELES"
   ]
  },
  {
   "cell_type": "markdown",
   "metadata": {},
   "source": [
    "### Optimisation et interprétation du modèle"
   ]
  },
  {
   "cell_type": "markdown",
   "metadata": {},
   "source": [
    "A réaliser :\n",
    "* Reprennez le meilleur algorithme que vous avez sécurisé via l'étape précédente, et réalisez une GridSearch de petite taille sur au moins 3 hyperparamètres.\n",
    "* Si le meilleur modèle fait partie de la famille des modèles à arbres (RandomForest, GradientBoosting) alors utilisez la fonctionnalité feature importance pour identifier les features les plus impactantes sur la performance du modèle. Sinon, utilisez la méthode Permutation Importance de sklearn. "
   ]
  },
  {
   "cell_type": "code",
   "execution_count": 76,
   "metadata": {},
   "outputs": [],
   "source": [
    "# CODE OPTIMISATION ET INTERPRETATION DU MODELE"
   ]
  }
 ],
 "metadata": {
  "kernelspec": {
   "display_name": "ocde-p6-qTWNOnCB-py3.13",
   "language": "python",
   "name": "python3"
  },
  "language_info": {
   "codemirror_mode": {
    "name": "ipython",
    "version": 3
   },
   "file_extension": ".py",
   "mimetype": "text/x-python",
   "name": "python",
   "nbconvert_exporter": "python",
   "pygments_lexer": "ipython3",
   "version": "3.13.5"
  }
 },
 "nbformat": 4,
 "nbformat_minor": 2
}
